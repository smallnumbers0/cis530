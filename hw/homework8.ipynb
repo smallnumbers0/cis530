{
  "nbformat": 4,
  "nbformat_minor": 0,
  "metadata": {
    "colab": {
      "provenance": [],
      "toc_visible": true
    },
    "kernelspec": {
      "name": "python3",
      "display_name": "Python 3"
    },
    "language_info": {
      "name": "python"
    },
    "widgets": {
      "application/vnd.jupyter.widget-state+json": {
        "b89e223c42924d67a3156ca4c1f62686": {
          "model_module": "@jupyter-widgets/controls",
          "model_name": "HBoxModel",
          "model_module_version": "1.5.0",
          "state": {
            "_dom_classes": [],
            "_model_module": "@jupyter-widgets/controls",
            "_model_module_version": "1.5.0",
            "_model_name": "HBoxModel",
            "_view_count": null,
            "_view_module": "@jupyter-widgets/controls",
            "_view_module_version": "1.5.0",
            "_view_name": "HBoxView",
            "box_style": "",
            "children": [
              "IPY_MODEL_70d111f320cc4dc0b2b8e3ad84499633",
              "IPY_MODEL_101d417799c64521b61b67699eb72b1c",
              "IPY_MODEL_c2969e5c5a80403d9aa4e4826c1df296"
            ],
            "layout": "IPY_MODEL_9b0b8264f5af4f049cf28eabeab4ab3d"
          }
        },
        "70d111f320cc4dc0b2b8e3ad84499633": {
          "model_module": "@jupyter-widgets/controls",
          "model_name": "HTMLModel",
          "model_module_version": "1.5.0",
          "state": {
            "_dom_classes": [],
            "_model_module": "@jupyter-widgets/controls",
            "_model_module_version": "1.5.0",
            "_model_name": "HTMLModel",
            "_view_count": null,
            "_view_module": "@jupyter-widgets/controls",
            "_view_module_version": "1.5.0",
            "_view_name": "HTMLView",
            "description": "",
            "description_tooltip": null,
            "layout": "IPY_MODEL_1f94a873ef8d45c798e23c3e78dff3fd",
            "placeholder": "​",
            "style": "IPY_MODEL_02a9e8113459449b8bbe7b43b3fbd733",
            "value": "README.md: 100%"
          }
        },
        "101d417799c64521b61b67699eb72b1c": {
          "model_module": "@jupyter-widgets/controls",
          "model_name": "FloatProgressModel",
          "model_module_version": "1.5.0",
          "state": {
            "_dom_classes": [],
            "_model_module": "@jupyter-widgets/controls",
            "_model_module_version": "1.5.0",
            "_model_name": "FloatProgressModel",
            "_view_count": null,
            "_view_module": "@jupyter-widgets/controls",
            "_view_module_version": "1.5.0",
            "_view_name": "ProgressView",
            "bar_style": "success",
            "description": "",
            "description_tooltip": null,
            "layout": "IPY_MODEL_ef188c6e3bce4ef88f3303b5d4a6b1ac",
            "max": 7809,
            "min": 0,
            "orientation": "horizontal",
            "style": "IPY_MODEL_e76ff64599b2426088c015bb74123fac",
            "value": 7809
          }
        },
        "c2969e5c5a80403d9aa4e4826c1df296": {
          "model_module": "@jupyter-widgets/controls",
          "model_name": "HTMLModel",
          "model_module_version": "1.5.0",
          "state": {
            "_dom_classes": [],
            "_model_module": "@jupyter-widgets/controls",
            "_model_module_version": "1.5.0",
            "_model_name": "HTMLModel",
            "_view_count": null,
            "_view_module": "@jupyter-widgets/controls",
            "_view_module_version": "1.5.0",
            "_view_name": "HTMLView",
            "description": "",
            "description_tooltip": null,
            "layout": "IPY_MODEL_a4495c3ad788479f924865eb3db8ae05",
            "placeholder": "​",
            "style": "IPY_MODEL_6265652d167e4183b98727d9a5764621",
            "value": " 7.81k/7.81k [00:00&lt;00:00, 366kB/s]"
          }
        },
        "9b0b8264f5af4f049cf28eabeab4ab3d": {
          "model_module": "@jupyter-widgets/base",
          "model_name": "LayoutModel",
          "model_module_version": "1.2.0",
          "state": {
            "_model_module": "@jupyter-widgets/base",
            "_model_module_version": "1.2.0",
            "_model_name": "LayoutModel",
            "_view_count": null,
            "_view_module": "@jupyter-widgets/base",
            "_view_module_version": "1.2.0",
            "_view_name": "LayoutView",
            "align_content": null,
            "align_items": null,
            "align_self": null,
            "border": null,
            "bottom": null,
            "display": null,
            "flex": null,
            "flex_flow": null,
            "grid_area": null,
            "grid_auto_columns": null,
            "grid_auto_flow": null,
            "grid_auto_rows": null,
            "grid_column": null,
            "grid_gap": null,
            "grid_row": null,
            "grid_template_areas": null,
            "grid_template_columns": null,
            "grid_template_rows": null,
            "height": null,
            "justify_content": null,
            "justify_items": null,
            "left": null,
            "margin": null,
            "max_height": null,
            "max_width": null,
            "min_height": null,
            "min_width": null,
            "object_fit": null,
            "object_position": null,
            "order": null,
            "overflow": null,
            "overflow_x": null,
            "overflow_y": null,
            "padding": null,
            "right": null,
            "top": null,
            "visibility": null,
            "width": null
          }
        },
        "1f94a873ef8d45c798e23c3e78dff3fd": {
          "model_module": "@jupyter-widgets/base",
          "model_name": "LayoutModel",
          "model_module_version": "1.2.0",
          "state": {
            "_model_module": "@jupyter-widgets/base",
            "_model_module_version": "1.2.0",
            "_model_name": "LayoutModel",
            "_view_count": null,
            "_view_module": "@jupyter-widgets/base",
            "_view_module_version": "1.2.0",
            "_view_name": "LayoutView",
            "align_content": null,
            "align_items": null,
            "align_self": null,
            "border": null,
            "bottom": null,
            "display": null,
            "flex": null,
            "flex_flow": null,
            "grid_area": null,
            "grid_auto_columns": null,
            "grid_auto_flow": null,
            "grid_auto_rows": null,
            "grid_column": null,
            "grid_gap": null,
            "grid_row": null,
            "grid_template_areas": null,
            "grid_template_columns": null,
            "grid_template_rows": null,
            "height": null,
            "justify_content": null,
            "justify_items": null,
            "left": null,
            "margin": null,
            "max_height": null,
            "max_width": null,
            "min_height": null,
            "min_width": null,
            "object_fit": null,
            "object_position": null,
            "order": null,
            "overflow": null,
            "overflow_x": null,
            "overflow_y": null,
            "padding": null,
            "right": null,
            "top": null,
            "visibility": null,
            "width": null
          }
        },
        "02a9e8113459449b8bbe7b43b3fbd733": {
          "model_module": "@jupyter-widgets/controls",
          "model_name": "DescriptionStyleModel",
          "model_module_version": "1.5.0",
          "state": {
            "_model_module": "@jupyter-widgets/controls",
            "_model_module_version": "1.5.0",
            "_model_name": "DescriptionStyleModel",
            "_view_count": null,
            "_view_module": "@jupyter-widgets/base",
            "_view_module_version": "1.2.0",
            "_view_name": "StyleView",
            "description_width": ""
          }
        },
        "ef188c6e3bce4ef88f3303b5d4a6b1ac": {
          "model_module": "@jupyter-widgets/base",
          "model_name": "LayoutModel",
          "model_module_version": "1.2.0",
          "state": {
            "_model_module": "@jupyter-widgets/base",
            "_model_module_version": "1.2.0",
            "_model_name": "LayoutModel",
            "_view_count": null,
            "_view_module": "@jupyter-widgets/base",
            "_view_module_version": "1.2.0",
            "_view_name": "LayoutView",
            "align_content": null,
            "align_items": null,
            "align_self": null,
            "border": null,
            "bottom": null,
            "display": null,
            "flex": null,
            "flex_flow": null,
            "grid_area": null,
            "grid_auto_columns": null,
            "grid_auto_flow": null,
            "grid_auto_rows": null,
            "grid_column": null,
            "grid_gap": null,
            "grid_row": null,
            "grid_template_areas": null,
            "grid_template_columns": null,
            "grid_template_rows": null,
            "height": null,
            "justify_content": null,
            "justify_items": null,
            "left": null,
            "margin": null,
            "max_height": null,
            "max_width": null,
            "min_height": null,
            "min_width": null,
            "object_fit": null,
            "object_position": null,
            "order": null,
            "overflow": null,
            "overflow_x": null,
            "overflow_y": null,
            "padding": null,
            "right": null,
            "top": null,
            "visibility": null,
            "width": null
          }
        },
        "e76ff64599b2426088c015bb74123fac": {
          "model_module": "@jupyter-widgets/controls",
          "model_name": "ProgressStyleModel",
          "model_module_version": "1.5.0",
          "state": {
            "_model_module": "@jupyter-widgets/controls",
            "_model_module_version": "1.5.0",
            "_model_name": "ProgressStyleModel",
            "_view_count": null,
            "_view_module": "@jupyter-widgets/base",
            "_view_module_version": "1.2.0",
            "_view_name": "StyleView",
            "bar_color": null,
            "description_width": ""
          }
        },
        "a4495c3ad788479f924865eb3db8ae05": {
          "model_module": "@jupyter-widgets/base",
          "model_name": "LayoutModel",
          "model_module_version": "1.2.0",
          "state": {
            "_model_module": "@jupyter-widgets/base",
            "_model_module_version": "1.2.0",
            "_model_name": "LayoutModel",
            "_view_count": null,
            "_view_module": "@jupyter-widgets/base",
            "_view_module_version": "1.2.0",
            "_view_name": "LayoutView",
            "align_content": null,
            "align_items": null,
            "align_self": null,
            "border": null,
            "bottom": null,
            "display": null,
            "flex": null,
            "flex_flow": null,
            "grid_area": null,
            "grid_auto_columns": null,
            "grid_auto_flow": null,
            "grid_auto_rows": null,
            "grid_column": null,
            "grid_gap": null,
            "grid_row": null,
            "grid_template_areas": null,
            "grid_template_columns": null,
            "grid_template_rows": null,
            "height": null,
            "justify_content": null,
            "justify_items": null,
            "left": null,
            "margin": null,
            "max_height": null,
            "max_width": null,
            "min_height": null,
            "min_width": null,
            "object_fit": null,
            "object_position": null,
            "order": null,
            "overflow": null,
            "overflow_x": null,
            "overflow_y": null,
            "padding": null,
            "right": null,
            "top": null,
            "visibility": null,
            "width": null
          }
        },
        "6265652d167e4183b98727d9a5764621": {
          "model_module": "@jupyter-widgets/controls",
          "model_name": "DescriptionStyleModel",
          "model_module_version": "1.5.0",
          "state": {
            "_model_module": "@jupyter-widgets/controls",
            "_model_module_version": "1.5.0",
            "_model_name": "DescriptionStyleModel",
            "_view_count": null,
            "_view_module": "@jupyter-widgets/base",
            "_view_module_version": "1.2.0",
            "_view_name": "StyleView",
            "description_width": ""
          }
        },
        "2dc294ee2e3e43589de93b654863a8bf": {
          "model_module": "@jupyter-widgets/controls",
          "model_name": "HBoxModel",
          "model_module_version": "1.5.0",
          "state": {
            "_dom_classes": [],
            "_model_module": "@jupyter-widgets/controls",
            "_model_module_version": "1.5.0",
            "_model_name": "HBoxModel",
            "_view_count": null,
            "_view_module": "@jupyter-widgets/controls",
            "_view_module_version": "1.5.0",
            "_view_name": "HBoxView",
            "box_style": "",
            "children": [
              "IPY_MODEL_1e0517c7c4c240b8ab685f8169036d7b",
              "IPY_MODEL_e209ff5f6e2c4f66a07344a9e2a096de",
              "IPY_MODEL_46131df796f94b37a01a46d1e403d858"
            ],
            "layout": "IPY_MODEL_cfc5c1a4148d4e6681388bda36b35166"
          }
        },
        "1e0517c7c4c240b8ab685f8169036d7b": {
          "model_module": "@jupyter-widgets/controls",
          "model_name": "HTMLModel",
          "model_module_version": "1.5.0",
          "state": {
            "_dom_classes": [],
            "_model_module": "@jupyter-widgets/controls",
            "_model_module_version": "1.5.0",
            "_model_name": "HTMLModel",
            "_view_count": null,
            "_view_module": "@jupyter-widgets/controls",
            "_view_module_version": "1.5.0",
            "_view_name": "HTMLView",
            "description": "",
            "description_tooltip": null,
            "layout": "IPY_MODEL_e2358b7adb2e4225b21fa436c8f91a1d",
            "placeholder": "​",
            "style": "IPY_MODEL_213c4677eb6840a3b6e9093fe396c058",
            "value": "train-00000-of-00001.parquet: 100%"
          }
        },
        "e209ff5f6e2c4f66a07344a9e2a096de": {
          "model_module": "@jupyter-widgets/controls",
          "model_name": "FloatProgressModel",
          "model_module_version": "1.5.0",
          "state": {
            "_dom_classes": [],
            "_model_module": "@jupyter-widgets/controls",
            "_model_module_version": "1.5.0",
            "_model_name": "FloatProgressModel",
            "_view_count": null,
            "_view_module": "@jupyter-widgets/controls",
            "_view_module_version": "1.5.0",
            "_view_name": "ProgressView",
            "bar_style": "success",
            "description": "",
            "description_tooltip": null,
            "layout": "IPY_MODEL_471fb7fb95ad48cab311f05675a2700e",
            "max": 20979968,
            "min": 0,
            "orientation": "horizontal",
            "style": "IPY_MODEL_5cb55b0ae25f44e79bc601e906bb8f94",
            "value": 20979968
          }
        },
        "46131df796f94b37a01a46d1e403d858": {
          "model_module": "@jupyter-widgets/controls",
          "model_name": "HTMLModel",
          "model_module_version": "1.5.0",
          "state": {
            "_dom_classes": [],
            "_model_module": "@jupyter-widgets/controls",
            "_model_module_version": "1.5.0",
            "_model_name": "HTMLModel",
            "_view_count": null,
            "_view_module": "@jupyter-widgets/controls",
            "_view_module_version": "1.5.0",
            "_view_name": "HTMLView",
            "description": "",
            "description_tooltip": null,
            "layout": "IPY_MODEL_39f216ad9ab248be879bee5592a298e6",
            "placeholder": "​",
            "style": "IPY_MODEL_1cc8612c77fa4d5091cfb393fd6a1e4d",
            "value": " 21.0M/21.0M [00:00&lt;00:00, 57.8MB/s]"
          }
        },
        "cfc5c1a4148d4e6681388bda36b35166": {
          "model_module": "@jupyter-widgets/base",
          "model_name": "LayoutModel",
          "model_module_version": "1.2.0",
          "state": {
            "_model_module": "@jupyter-widgets/base",
            "_model_module_version": "1.2.0",
            "_model_name": "LayoutModel",
            "_view_count": null,
            "_view_module": "@jupyter-widgets/base",
            "_view_module_version": "1.2.0",
            "_view_name": "LayoutView",
            "align_content": null,
            "align_items": null,
            "align_self": null,
            "border": null,
            "bottom": null,
            "display": null,
            "flex": null,
            "flex_flow": null,
            "grid_area": null,
            "grid_auto_columns": null,
            "grid_auto_flow": null,
            "grid_auto_rows": null,
            "grid_column": null,
            "grid_gap": null,
            "grid_row": null,
            "grid_template_areas": null,
            "grid_template_columns": null,
            "grid_template_rows": null,
            "height": null,
            "justify_content": null,
            "justify_items": null,
            "left": null,
            "margin": null,
            "max_height": null,
            "max_width": null,
            "min_height": null,
            "min_width": null,
            "object_fit": null,
            "object_position": null,
            "order": null,
            "overflow": null,
            "overflow_x": null,
            "overflow_y": null,
            "padding": null,
            "right": null,
            "top": null,
            "visibility": null,
            "width": null
          }
        },
        "e2358b7adb2e4225b21fa436c8f91a1d": {
          "model_module": "@jupyter-widgets/base",
          "model_name": "LayoutModel",
          "model_module_version": "1.2.0",
          "state": {
            "_model_module": "@jupyter-widgets/base",
            "_model_module_version": "1.2.0",
            "_model_name": "LayoutModel",
            "_view_count": null,
            "_view_module": "@jupyter-widgets/base",
            "_view_module_version": "1.2.0",
            "_view_name": "LayoutView",
            "align_content": null,
            "align_items": null,
            "align_self": null,
            "border": null,
            "bottom": null,
            "display": null,
            "flex": null,
            "flex_flow": null,
            "grid_area": null,
            "grid_auto_columns": null,
            "grid_auto_flow": null,
            "grid_auto_rows": null,
            "grid_column": null,
            "grid_gap": null,
            "grid_row": null,
            "grid_template_areas": null,
            "grid_template_columns": null,
            "grid_template_rows": null,
            "height": null,
            "justify_content": null,
            "justify_items": null,
            "left": null,
            "margin": null,
            "max_height": null,
            "max_width": null,
            "min_height": null,
            "min_width": null,
            "object_fit": null,
            "object_position": null,
            "order": null,
            "overflow": null,
            "overflow_x": null,
            "overflow_y": null,
            "padding": null,
            "right": null,
            "top": null,
            "visibility": null,
            "width": null
          }
        },
        "213c4677eb6840a3b6e9093fe396c058": {
          "model_module": "@jupyter-widgets/controls",
          "model_name": "DescriptionStyleModel",
          "model_module_version": "1.5.0",
          "state": {
            "_model_module": "@jupyter-widgets/controls",
            "_model_module_version": "1.5.0",
            "_model_name": "DescriptionStyleModel",
            "_view_count": null,
            "_view_module": "@jupyter-widgets/base",
            "_view_module_version": "1.2.0",
            "_view_name": "StyleView",
            "description_width": ""
          }
        },
        "471fb7fb95ad48cab311f05675a2700e": {
          "model_module": "@jupyter-widgets/base",
          "model_name": "LayoutModel",
          "model_module_version": "1.2.0",
          "state": {
            "_model_module": "@jupyter-widgets/base",
            "_model_module_version": "1.2.0",
            "_model_name": "LayoutModel",
            "_view_count": null,
            "_view_module": "@jupyter-widgets/base",
            "_view_module_version": "1.2.0",
            "_view_name": "LayoutView",
            "align_content": null,
            "align_items": null,
            "align_self": null,
            "border": null,
            "bottom": null,
            "display": null,
            "flex": null,
            "flex_flow": null,
            "grid_area": null,
            "grid_auto_columns": null,
            "grid_auto_flow": null,
            "grid_auto_rows": null,
            "grid_column": null,
            "grid_gap": null,
            "grid_row": null,
            "grid_template_areas": null,
            "grid_template_columns": null,
            "grid_template_rows": null,
            "height": null,
            "justify_content": null,
            "justify_items": null,
            "left": null,
            "margin": null,
            "max_height": null,
            "max_width": null,
            "min_height": null,
            "min_width": null,
            "object_fit": null,
            "object_position": null,
            "order": null,
            "overflow": null,
            "overflow_x": null,
            "overflow_y": null,
            "padding": null,
            "right": null,
            "top": null,
            "visibility": null,
            "width": null
          }
        },
        "5cb55b0ae25f44e79bc601e906bb8f94": {
          "model_module": "@jupyter-widgets/controls",
          "model_name": "ProgressStyleModel",
          "model_module_version": "1.5.0",
          "state": {
            "_model_module": "@jupyter-widgets/controls",
            "_model_module_version": "1.5.0",
            "_model_name": "ProgressStyleModel",
            "_view_count": null,
            "_view_module": "@jupyter-widgets/base",
            "_view_module_version": "1.2.0",
            "_view_name": "StyleView",
            "bar_color": null,
            "description_width": ""
          }
        },
        "39f216ad9ab248be879bee5592a298e6": {
          "model_module": "@jupyter-widgets/base",
          "model_name": "LayoutModel",
          "model_module_version": "1.2.0",
          "state": {
            "_model_module": "@jupyter-widgets/base",
            "_model_module_version": "1.2.0",
            "_model_name": "LayoutModel",
            "_view_count": null,
            "_view_module": "@jupyter-widgets/base",
            "_view_module_version": "1.2.0",
            "_view_name": "LayoutView",
            "align_content": null,
            "align_items": null,
            "align_self": null,
            "border": null,
            "bottom": null,
            "display": null,
            "flex": null,
            "flex_flow": null,
            "grid_area": null,
            "grid_auto_columns": null,
            "grid_auto_flow": null,
            "grid_auto_rows": null,
            "grid_column": null,
            "grid_gap": null,
            "grid_row": null,
            "grid_template_areas": null,
            "grid_template_columns": null,
            "grid_template_rows": null,
            "height": null,
            "justify_content": null,
            "justify_items": null,
            "left": null,
            "margin": null,
            "max_height": null,
            "max_width": null,
            "min_height": null,
            "min_width": null,
            "object_fit": null,
            "object_position": null,
            "order": null,
            "overflow": null,
            "overflow_x": null,
            "overflow_y": null,
            "padding": null,
            "right": null,
            "top": null,
            "visibility": null,
            "width": null
          }
        },
        "1cc8612c77fa4d5091cfb393fd6a1e4d": {
          "model_module": "@jupyter-widgets/controls",
          "model_name": "DescriptionStyleModel",
          "model_module_version": "1.5.0",
          "state": {
            "_model_module": "@jupyter-widgets/controls",
            "_model_module_version": "1.5.0",
            "_model_name": "DescriptionStyleModel",
            "_view_count": null,
            "_view_module": "@jupyter-widgets/base",
            "_view_module_version": "1.2.0",
            "_view_name": "StyleView",
            "description_width": ""
          }
        },
        "91208c3929bb4fbcb6ef630f77779bba": {
          "model_module": "@jupyter-widgets/controls",
          "model_name": "HBoxModel",
          "model_module_version": "1.5.0",
          "state": {
            "_dom_classes": [],
            "_model_module": "@jupyter-widgets/controls",
            "_model_module_version": "1.5.0",
            "_model_name": "HBoxModel",
            "_view_count": null,
            "_view_module": "@jupyter-widgets/controls",
            "_view_module_version": "1.5.0",
            "_view_name": "HBoxView",
            "box_style": "",
            "children": [
              "IPY_MODEL_8d6d91f289ab4fa799d362dfdd50976c",
              "IPY_MODEL_b20eb0156ae84ab7859d6ee51d61b305",
              "IPY_MODEL_e969c49db6b442cf8e00469a7d3d7cb8"
            ],
            "layout": "IPY_MODEL_747c28bf3b7c4dc7bd28c3cc0211cb5a"
          }
        },
        "8d6d91f289ab4fa799d362dfdd50976c": {
          "model_module": "@jupyter-widgets/controls",
          "model_name": "HTMLModel",
          "model_module_version": "1.5.0",
          "state": {
            "_dom_classes": [],
            "_model_module": "@jupyter-widgets/controls",
            "_model_module_version": "1.5.0",
            "_model_name": "HTMLModel",
            "_view_count": null,
            "_view_module": "@jupyter-widgets/controls",
            "_view_module_version": "1.5.0",
            "_view_name": "HTMLView",
            "description": "",
            "description_tooltip": null,
            "layout": "IPY_MODEL_05e7e4806ccc45178a64acd68c3cff4e",
            "placeholder": "​",
            "style": "IPY_MODEL_f587cc43a27c4d44824045d204172098",
            "value": "test-00000-of-00001.parquet: 100%"
          }
        },
        "b20eb0156ae84ab7859d6ee51d61b305": {
          "model_module": "@jupyter-widgets/controls",
          "model_name": "FloatProgressModel",
          "model_module_version": "1.5.0",
          "state": {
            "_dom_classes": [],
            "_model_module": "@jupyter-widgets/controls",
            "_model_module_version": "1.5.0",
            "_model_name": "FloatProgressModel",
            "_view_count": null,
            "_view_module": "@jupyter-widgets/controls",
            "_view_module_version": "1.5.0",
            "_view_name": "ProgressView",
            "bar_style": "success",
            "description": "",
            "description_tooltip": null,
            "layout": "IPY_MODEL_ca28ee48b05247b5af6be09671fe707c",
            "max": 20470363,
            "min": 0,
            "orientation": "horizontal",
            "style": "IPY_MODEL_4e2adcfa99e14c5eb60a1bdaf51dac4d",
            "value": 20470363
          }
        },
        "e969c49db6b442cf8e00469a7d3d7cb8": {
          "model_module": "@jupyter-widgets/controls",
          "model_name": "HTMLModel",
          "model_module_version": "1.5.0",
          "state": {
            "_dom_classes": [],
            "_model_module": "@jupyter-widgets/controls",
            "_model_module_version": "1.5.0",
            "_model_name": "HTMLModel",
            "_view_count": null,
            "_view_module": "@jupyter-widgets/controls",
            "_view_module_version": "1.5.0",
            "_view_name": "HTMLView",
            "description": "",
            "description_tooltip": null,
            "layout": "IPY_MODEL_1b062e8d5fe246f899387c0e8c8f7235",
            "placeholder": "​",
            "style": "IPY_MODEL_0f92fc3d69d349a796038278380bed3d",
            "value": " 20.5M/20.5M [00:00&lt;00:00, 202MB/s]"
          }
        },
        "747c28bf3b7c4dc7bd28c3cc0211cb5a": {
          "model_module": "@jupyter-widgets/base",
          "model_name": "LayoutModel",
          "model_module_version": "1.2.0",
          "state": {
            "_model_module": "@jupyter-widgets/base",
            "_model_module_version": "1.2.0",
            "_model_name": "LayoutModel",
            "_view_count": null,
            "_view_module": "@jupyter-widgets/base",
            "_view_module_version": "1.2.0",
            "_view_name": "LayoutView",
            "align_content": null,
            "align_items": null,
            "align_self": null,
            "border": null,
            "bottom": null,
            "display": null,
            "flex": null,
            "flex_flow": null,
            "grid_area": null,
            "grid_auto_columns": null,
            "grid_auto_flow": null,
            "grid_auto_rows": null,
            "grid_column": null,
            "grid_gap": null,
            "grid_row": null,
            "grid_template_areas": null,
            "grid_template_columns": null,
            "grid_template_rows": null,
            "height": null,
            "justify_content": null,
            "justify_items": null,
            "left": null,
            "margin": null,
            "max_height": null,
            "max_width": null,
            "min_height": null,
            "min_width": null,
            "object_fit": null,
            "object_position": null,
            "order": null,
            "overflow": null,
            "overflow_x": null,
            "overflow_y": null,
            "padding": null,
            "right": null,
            "top": null,
            "visibility": null,
            "width": null
          }
        },
        "05e7e4806ccc45178a64acd68c3cff4e": {
          "model_module": "@jupyter-widgets/base",
          "model_name": "LayoutModel",
          "model_module_version": "1.2.0",
          "state": {
            "_model_module": "@jupyter-widgets/base",
            "_model_module_version": "1.2.0",
            "_model_name": "LayoutModel",
            "_view_count": null,
            "_view_module": "@jupyter-widgets/base",
            "_view_module_version": "1.2.0",
            "_view_name": "LayoutView",
            "align_content": null,
            "align_items": null,
            "align_self": null,
            "border": null,
            "bottom": null,
            "display": null,
            "flex": null,
            "flex_flow": null,
            "grid_area": null,
            "grid_auto_columns": null,
            "grid_auto_flow": null,
            "grid_auto_rows": null,
            "grid_column": null,
            "grid_gap": null,
            "grid_row": null,
            "grid_template_areas": null,
            "grid_template_columns": null,
            "grid_template_rows": null,
            "height": null,
            "justify_content": null,
            "justify_items": null,
            "left": null,
            "margin": null,
            "max_height": null,
            "max_width": null,
            "min_height": null,
            "min_width": null,
            "object_fit": null,
            "object_position": null,
            "order": null,
            "overflow": null,
            "overflow_x": null,
            "overflow_y": null,
            "padding": null,
            "right": null,
            "top": null,
            "visibility": null,
            "width": null
          }
        },
        "f587cc43a27c4d44824045d204172098": {
          "model_module": "@jupyter-widgets/controls",
          "model_name": "DescriptionStyleModel",
          "model_module_version": "1.5.0",
          "state": {
            "_model_module": "@jupyter-widgets/controls",
            "_model_module_version": "1.5.0",
            "_model_name": "DescriptionStyleModel",
            "_view_count": null,
            "_view_module": "@jupyter-widgets/base",
            "_view_module_version": "1.2.0",
            "_view_name": "StyleView",
            "description_width": ""
          }
        },
        "ca28ee48b05247b5af6be09671fe707c": {
          "model_module": "@jupyter-widgets/base",
          "model_name": "LayoutModel",
          "model_module_version": "1.2.0",
          "state": {
            "_model_module": "@jupyter-widgets/base",
            "_model_module_version": "1.2.0",
            "_model_name": "LayoutModel",
            "_view_count": null,
            "_view_module": "@jupyter-widgets/base",
            "_view_module_version": "1.2.0",
            "_view_name": "LayoutView",
            "align_content": null,
            "align_items": null,
            "align_self": null,
            "border": null,
            "bottom": null,
            "display": null,
            "flex": null,
            "flex_flow": null,
            "grid_area": null,
            "grid_auto_columns": null,
            "grid_auto_flow": null,
            "grid_auto_rows": null,
            "grid_column": null,
            "grid_gap": null,
            "grid_row": null,
            "grid_template_areas": null,
            "grid_template_columns": null,
            "grid_template_rows": null,
            "height": null,
            "justify_content": null,
            "justify_items": null,
            "left": null,
            "margin": null,
            "max_height": null,
            "max_width": null,
            "min_height": null,
            "min_width": null,
            "object_fit": null,
            "object_position": null,
            "order": null,
            "overflow": null,
            "overflow_x": null,
            "overflow_y": null,
            "padding": null,
            "right": null,
            "top": null,
            "visibility": null,
            "width": null
          }
        },
        "4e2adcfa99e14c5eb60a1bdaf51dac4d": {
          "model_module": "@jupyter-widgets/controls",
          "model_name": "ProgressStyleModel",
          "model_module_version": "1.5.0",
          "state": {
            "_model_module": "@jupyter-widgets/controls",
            "_model_module_version": "1.5.0",
            "_model_name": "ProgressStyleModel",
            "_view_count": null,
            "_view_module": "@jupyter-widgets/base",
            "_view_module_version": "1.2.0",
            "_view_name": "StyleView",
            "bar_color": null,
            "description_width": ""
          }
        },
        "1b062e8d5fe246f899387c0e8c8f7235": {
          "model_module": "@jupyter-widgets/base",
          "model_name": "LayoutModel",
          "model_module_version": "1.2.0",
          "state": {
            "_model_module": "@jupyter-widgets/base",
            "_model_module_version": "1.2.0",
            "_model_name": "LayoutModel",
            "_view_count": null,
            "_view_module": "@jupyter-widgets/base",
            "_view_module_version": "1.2.0",
            "_view_name": "LayoutView",
            "align_content": null,
            "align_items": null,
            "align_self": null,
            "border": null,
            "bottom": null,
            "display": null,
            "flex": null,
            "flex_flow": null,
            "grid_area": null,
            "grid_auto_columns": null,
            "grid_auto_flow": null,
            "grid_auto_rows": null,
            "grid_column": null,
            "grid_gap": null,
            "grid_row": null,
            "grid_template_areas": null,
            "grid_template_columns": null,
            "grid_template_rows": null,
            "height": null,
            "justify_content": null,
            "justify_items": null,
            "left": null,
            "margin": null,
            "max_height": null,
            "max_width": null,
            "min_height": null,
            "min_width": null,
            "object_fit": null,
            "object_position": null,
            "order": null,
            "overflow": null,
            "overflow_x": null,
            "overflow_y": null,
            "padding": null,
            "right": null,
            "top": null,
            "visibility": null,
            "width": null
          }
        },
        "0f92fc3d69d349a796038278380bed3d": {
          "model_module": "@jupyter-widgets/controls",
          "model_name": "DescriptionStyleModel",
          "model_module_version": "1.5.0",
          "state": {
            "_model_module": "@jupyter-widgets/controls",
            "_model_module_version": "1.5.0",
            "_model_name": "DescriptionStyleModel",
            "_view_count": null,
            "_view_module": "@jupyter-widgets/base",
            "_view_module_version": "1.2.0",
            "_view_name": "StyleView",
            "description_width": ""
          }
        },
        "b6ad753c65b54d8381a6616bc06b713d": {
          "model_module": "@jupyter-widgets/controls",
          "model_name": "HBoxModel",
          "model_module_version": "1.5.0",
          "state": {
            "_dom_classes": [],
            "_model_module": "@jupyter-widgets/controls",
            "_model_module_version": "1.5.0",
            "_model_name": "HBoxModel",
            "_view_count": null,
            "_view_module": "@jupyter-widgets/controls",
            "_view_module_version": "1.5.0",
            "_view_name": "HBoxView",
            "box_style": "",
            "children": [
              "IPY_MODEL_644cf470d5ab44c79527d51fba3c0d5d",
              "IPY_MODEL_5565785a4c204d2c85f615ad5ffbc0b8",
              "IPY_MODEL_d1eaa26981984b0482e1154bafd0c82d"
            ],
            "layout": "IPY_MODEL_ab79eff54bc74fe89c687db634b8a6d0"
          }
        },
        "644cf470d5ab44c79527d51fba3c0d5d": {
          "model_module": "@jupyter-widgets/controls",
          "model_name": "HTMLModel",
          "model_module_version": "1.5.0",
          "state": {
            "_dom_classes": [],
            "_model_module": "@jupyter-widgets/controls",
            "_model_module_version": "1.5.0",
            "_model_name": "HTMLModel",
            "_view_count": null,
            "_view_module": "@jupyter-widgets/controls",
            "_view_module_version": "1.5.0",
            "_view_name": "HTMLView",
            "description": "",
            "description_tooltip": null,
            "layout": "IPY_MODEL_bf99bad38a6f4bec88ac3ecb50de614c",
            "placeholder": "​",
            "style": "IPY_MODEL_a797317099a043c2b255434e0e4108bf",
            "value": "unsupervised-00000-of-00001.parquet: 100%"
          }
        },
        "5565785a4c204d2c85f615ad5ffbc0b8": {
          "model_module": "@jupyter-widgets/controls",
          "model_name": "FloatProgressModel",
          "model_module_version": "1.5.0",
          "state": {
            "_dom_classes": [],
            "_model_module": "@jupyter-widgets/controls",
            "_model_module_version": "1.5.0",
            "_model_name": "FloatProgressModel",
            "_view_count": null,
            "_view_module": "@jupyter-widgets/controls",
            "_view_module_version": "1.5.0",
            "_view_name": "ProgressView",
            "bar_style": "success",
            "description": "",
            "description_tooltip": null,
            "layout": "IPY_MODEL_b22534e3938c4c0cb543451df91f1886",
            "max": 41996509,
            "min": 0,
            "orientation": "horizontal",
            "style": "IPY_MODEL_ec844874a8c047af8e3b452d7b2eb8d2",
            "value": 41996509
          }
        },
        "d1eaa26981984b0482e1154bafd0c82d": {
          "model_module": "@jupyter-widgets/controls",
          "model_name": "HTMLModel",
          "model_module_version": "1.5.0",
          "state": {
            "_dom_classes": [],
            "_model_module": "@jupyter-widgets/controls",
            "_model_module_version": "1.5.0",
            "_model_name": "HTMLModel",
            "_view_count": null,
            "_view_module": "@jupyter-widgets/controls",
            "_view_module_version": "1.5.0",
            "_view_name": "HTMLView",
            "description": "",
            "description_tooltip": null,
            "layout": "IPY_MODEL_f4c3613077734de3964acb4cc8a737e2",
            "placeholder": "​",
            "style": "IPY_MODEL_1960f6b833b245df8dacd6d62c2fa849",
            "value": " 42.0M/42.0M [00:00&lt;00:00, 198MB/s]"
          }
        },
        "ab79eff54bc74fe89c687db634b8a6d0": {
          "model_module": "@jupyter-widgets/base",
          "model_name": "LayoutModel",
          "model_module_version": "1.2.0",
          "state": {
            "_model_module": "@jupyter-widgets/base",
            "_model_module_version": "1.2.0",
            "_model_name": "LayoutModel",
            "_view_count": null,
            "_view_module": "@jupyter-widgets/base",
            "_view_module_version": "1.2.0",
            "_view_name": "LayoutView",
            "align_content": null,
            "align_items": null,
            "align_self": null,
            "border": null,
            "bottom": null,
            "display": null,
            "flex": null,
            "flex_flow": null,
            "grid_area": null,
            "grid_auto_columns": null,
            "grid_auto_flow": null,
            "grid_auto_rows": null,
            "grid_column": null,
            "grid_gap": null,
            "grid_row": null,
            "grid_template_areas": null,
            "grid_template_columns": null,
            "grid_template_rows": null,
            "height": null,
            "justify_content": null,
            "justify_items": null,
            "left": null,
            "margin": null,
            "max_height": null,
            "max_width": null,
            "min_height": null,
            "min_width": null,
            "object_fit": null,
            "object_position": null,
            "order": null,
            "overflow": null,
            "overflow_x": null,
            "overflow_y": null,
            "padding": null,
            "right": null,
            "top": null,
            "visibility": null,
            "width": null
          }
        },
        "bf99bad38a6f4bec88ac3ecb50de614c": {
          "model_module": "@jupyter-widgets/base",
          "model_name": "LayoutModel",
          "model_module_version": "1.2.0",
          "state": {
            "_model_module": "@jupyter-widgets/base",
            "_model_module_version": "1.2.0",
            "_model_name": "LayoutModel",
            "_view_count": null,
            "_view_module": "@jupyter-widgets/base",
            "_view_module_version": "1.2.0",
            "_view_name": "LayoutView",
            "align_content": null,
            "align_items": null,
            "align_self": null,
            "border": null,
            "bottom": null,
            "display": null,
            "flex": null,
            "flex_flow": null,
            "grid_area": null,
            "grid_auto_columns": null,
            "grid_auto_flow": null,
            "grid_auto_rows": null,
            "grid_column": null,
            "grid_gap": null,
            "grid_row": null,
            "grid_template_areas": null,
            "grid_template_columns": null,
            "grid_template_rows": null,
            "height": null,
            "justify_content": null,
            "justify_items": null,
            "left": null,
            "margin": null,
            "max_height": null,
            "max_width": null,
            "min_height": null,
            "min_width": null,
            "object_fit": null,
            "object_position": null,
            "order": null,
            "overflow": null,
            "overflow_x": null,
            "overflow_y": null,
            "padding": null,
            "right": null,
            "top": null,
            "visibility": null,
            "width": null
          }
        },
        "a797317099a043c2b255434e0e4108bf": {
          "model_module": "@jupyter-widgets/controls",
          "model_name": "DescriptionStyleModel",
          "model_module_version": "1.5.0",
          "state": {
            "_model_module": "@jupyter-widgets/controls",
            "_model_module_version": "1.5.0",
            "_model_name": "DescriptionStyleModel",
            "_view_count": null,
            "_view_module": "@jupyter-widgets/base",
            "_view_module_version": "1.2.0",
            "_view_name": "StyleView",
            "description_width": ""
          }
        },
        "b22534e3938c4c0cb543451df91f1886": {
          "model_module": "@jupyter-widgets/base",
          "model_name": "LayoutModel",
          "model_module_version": "1.2.0",
          "state": {
            "_model_module": "@jupyter-widgets/base",
            "_model_module_version": "1.2.0",
            "_model_name": "LayoutModel",
            "_view_count": null,
            "_view_module": "@jupyter-widgets/base",
            "_view_module_version": "1.2.0",
            "_view_name": "LayoutView",
            "align_content": null,
            "align_items": null,
            "align_self": null,
            "border": null,
            "bottom": null,
            "display": null,
            "flex": null,
            "flex_flow": null,
            "grid_area": null,
            "grid_auto_columns": null,
            "grid_auto_flow": null,
            "grid_auto_rows": null,
            "grid_column": null,
            "grid_gap": null,
            "grid_row": null,
            "grid_template_areas": null,
            "grid_template_columns": null,
            "grid_template_rows": null,
            "height": null,
            "justify_content": null,
            "justify_items": null,
            "left": null,
            "margin": null,
            "max_height": null,
            "max_width": null,
            "min_height": null,
            "min_width": null,
            "object_fit": null,
            "object_position": null,
            "order": null,
            "overflow": null,
            "overflow_x": null,
            "overflow_y": null,
            "padding": null,
            "right": null,
            "top": null,
            "visibility": null,
            "width": null
          }
        },
        "ec844874a8c047af8e3b452d7b2eb8d2": {
          "model_module": "@jupyter-widgets/controls",
          "model_name": "ProgressStyleModel",
          "model_module_version": "1.5.0",
          "state": {
            "_model_module": "@jupyter-widgets/controls",
            "_model_module_version": "1.5.0",
            "_model_name": "ProgressStyleModel",
            "_view_count": null,
            "_view_module": "@jupyter-widgets/base",
            "_view_module_version": "1.2.0",
            "_view_name": "StyleView",
            "bar_color": null,
            "description_width": ""
          }
        },
        "f4c3613077734de3964acb4cc8a737e2": {
          "model_module": "@jupyter-widgets/base",
          "model_name": "LayoutModel",
          "model_module_version": "1.2.0",
          "state": {
            "_model_module": "@jupyter-widgets/base",
            "_model_module_version": "1.2.0",
            "_model_name": "LayoutModel",
            "_view_count": null,
            "_view_module": "@jupyter-widgets/base",
            "_view_module_version": "1.2.0",
            "_view_name": "LayoutView",
            "align_content": null,
            "align_items": null,
            "align_self": null,
            "border": null,
            "bottom": null,
            "display": null,
            "flex": null,
            "flex_flow": null,
            "grid_area": null,
            "grid_auto_columns": null,
            "grid_auto_flow": null,
            "grid_auto_rows": null,
            "grid_column": null,
            "grid_gap": null,
            "grid_row": null,
            "grid_template_areas": null,
            "grid_template_columns": null,
            "grid_template_rows": null,
            "height": null,
            "justify_content": null,
            "justify_items": null,
            "left": null,
            "margin": null,
            "max_height": null,
            "max_width": null,
            "min_height": null,
            "min_width": null,
            "object_fit": null,
            "object_position": null,
            "order": null,
            "overflow": null,
            "overflow_x": null,
            "overflow_y": null,
            "padding": null,
            "right": null,
            "top": null,
            "visibility": null,
            "width": null
          }
        },
        "1960f6b833b245df8dacd6d62c2fa849": {
          "model_module": "@jupyter-widgets/controls",
          "model_name": "DescriptionStyleModel",
          "model_module_version": "1.5.0",
          "state": {
            "_model_module": "@jupyter-widgets/controls",
            "_model_module_version": "1.5.0",
            "_model_name": "DescriptionStyleModel",
            "_view_count": null,
            "_view_module": "@jupyter-widgets/base",
            "_view_module_version": "1.2.0",
            "_view_name": "StyleView",
            "description_width": ""
          }
        },
        "92c7c007fa5d4577aa624f05af24b2d8": {
          "model_module": "@jupyter-widgets/controls",
          "model_name": "HBoxModel",
          "model_module_version": "1.5.0",
          "state": {
            "_dom_classes": [],
            "_model_module": "@jupyter-widgets/controls",
            "_model_module_version": "1.5.0",
            "_model_name": "HBoxModel",
            "_view_count": null,
            "_view_module": "@jupyter-widgets/controls",
            "_view_module_version": "1.5.0",
            "_view_name": "HBoxView",
            "box_style": "",
            "children": [
              "IPY_MODEL_dcbc06e61b674e73984cad10d10289f7",
              "IPY_MODEL_0d54a4e80a7b4edab891a330c9caee33",
              "IPY_MODEL_cf16c5731b504bc0ad45ea81184a4839"
            ],
            "layout": "IPY_MODEL_5bec4c5276e44f758b936776c8dece2d"
          }
        },
        "dcbc06e61b674e73984cad10d10289f7": {
          "model_module": "@jupyter-widgets/controls",
          "model_name": "HTMLModel",
          "model_module_version": "1.5.0",
          "state": {
            "_dom_classes": [],
            "_model_module": "@jupyter-widgets/controls",
            "_model_module_version": "1.5.0",
            "_model_name": "HTMLModel",
            "_view_count": null,
            "_view_module": "@jupyter-widgets/controls",
            "_view_module_version": "1.5.0",
            "_view_name": "HTMLView",
            "description": "",
            "description_tooltip": null,
            "layout": "IPY_MODEL_805e51a068de44cb98120a07984df5ad",
            "placeholder": "​",
            "style": "IPY_MODEL_db24378143bb4001bedd3d99d25baa1c",
            "value": "Generating train split: 100%"
          }
        },
        "0d54a4e80a7b4edab891a330c9caee33": {
          "model_module": "@jupyter-widgets/controls",
          "model_name": "FloatProgressModel",
          "model_module_version": "1.5.0",
          "state": {
            "_dom_classes": [],
            "_model_module": "@jupyter-widgets/controls",
            "_model_module_version": "1.5.0",
            "_model_name": "FloatProgressModel",
            "_view_count": null,
            "_view_module": "@jupyter-widgets/controls",
            "_view_module_version": "1.5.0",
            "_view_name": "ProgressView",
            "bar_style": "success",
            "description": "",
            "description_tooltip": null,
            "layout": "IPY_MODEL_61540012e37a4d51ab2c7758c9d6e3c9",
            "max": 25000,
            "min": 0,
            "orientation": "horizontal",
            "style": "IPY_MODEL_e26246e2d94f429998c5285103225849",
            "value": 25000
          }
        },
        "cf16c5731b504bc0ad45ea81184a4839": {
          "model_module": "@jupyter-widgets/controls",
          "model_name": "HTMLModel",
          "model_module_version": "1.5.0",
          "state": {
            "_dom_classes": [],
            "_model_module": "@jupyter-widgets/controls",
            "_model_module_version": "1.5.0",
            "_model_name": "HTMLModel",
            "_view_count": null,
            "_view_module": "@jupyter-widgets/controls",
            "_view_module_version": "1.5.0",
            "_view_name": "HTMLView",
            "description": "",
            "description_tooltip": null,
            "layout": "IPY_MODEL_bc96863ce00844d2bb239180c5ce1521",
            "placeholder": "​",
            "style": "IPY_MODEL_a4894dbdf9fd4d569c04ddca2eb9d9cf",
            "value": " 25000/25000 [00:00&lt;00:00, 60914.03 examples/s]"
          }
        },
        "5bec4c5276e44f758b936776c8dece2d": {
          "model_module": "@jupyter-widgets/base",
          "model_name": "LayoutModel",
          "model_module_version": "1.2.0",
          "state": {
            "_model_module": "@jupyter-widgets/base",
            "_model_module_version": "1.2.0",
            "_model_name": "LayoutModel",
            "_view_count": null,
            "_view_module": "@jupyter-widgets/base",
            "_view_module_version": "1.2.0",
            "_view_name": "LayoutView",
            "align_content": null,
            "align_items": null,
            "align_self": null,
            "border": null,
            "bottom": null,
            "display": null,
            "flex": null,
            "flex_flow": null,
            "grid_area": null,
            "grid_auto_columns": null,
            "grid_auto_flow": null,
            "grid_auto_rows": null,
            "grid_column": null,
            "grid_gap": null,
            "grid_row": null,
            "grid_template_areas": null,
            "grid_template_columns": null,
            "grid_template_rows": null,
            "height": null,
            "justify_content": null,
            "justify_items": null,
            "left": null,
            "margin": null,
            "max_height": null,
            "max_width": null,
            "min_height": null,
            "min_width": null,
            "object_fit": null,
            "object_position": null,
            "order": null,
            "overflow": null,
            "overflow_x": null,
            "overflow_y": null,
            "padding": null,
            "right": null,
            "top": null,
            "visibility": null,
            "width": null
          }
        },
        "805e51a068de44cb98120a07984df5ad": {
          "model_module": "@jupyter-widgets/base",
          "model_name": "LayoutModel",
          "model_module_version": "1.2.0",
          "state": {
            "_model_module": "@jupyter-widgets/base",
            "_model_module_version": "1.2.0",
            "_model_name": "LayoutModel",
            "_view_count": null,
            "_view_module": "@jupyter-widgets/base",
            "_view_module_version": "1.2.0",
            "_view_name": "LayoutView",
            "align_content": null,
            "align_items": null,
            "align_self": null,
            "border": null,
            "bottom": null,
            "display": null,
            "flex": null,
            "flex_flow": null,
            "grid_area": null,
            "grid_auto_columns": null,
            "grid_auto_flow": null,
            "grid_auto_rows": null,
            "grid_column": null,
            "grid_gap": null,
            "grid_row": null,
            "grid_template_areas": null,
            "grid_template_columns": null,
            "grid_template_rows": null,
            "height": null,
            "justify_content": null,
            "justify_items": null,
            "left": null,
            "margin": null,
            "max_height": null,
            "max_width": null,
            "min_height": null,
            "min_width": null,
            "object_fit": null,
            "object_position": null,
            "order": null,
            "overflow": null,
            "overflow_x": null,
            "overflow_y": null,
            "padding": null,
            "right": null,
            "top": null,
            "visibility": null,
            "width": null
          }
        },
        "db24378143bb4001bedd3d99d25baa1c": {
          "model_module": "@jupyter-widgets/controls",
          "model_name": "DescriptionStyleModel",
          "model_module_version": "1.5.0",
          "state": {
            "_model_module": "@jupyter-widgets/controls",
            "_model_module_version": "1.5.0",
            "_model_name": "DescriptionStyleModel",
            "_view_count": null,
            "_view_module": "@jupyter-widgets/base",
            "_view_module_version": "1.2.0",
            "_view_name": "StyleView",
            "description_width": ""
          }
        },
        "61540012e37a4d51ab2c7758c9d6e3c9": {
          "model_module": "@jupyter-widgets/base",
          "model_name": "LayoutModel",
          "model_module_version": "1.2.0",
          "state": {
            "_model_module": "@jupyter-widgets/base",
            "_model_module_version": "1.2.0",
            "_model_name": "LayoutModel",
            "_view_count": null,
            "_view_module": "@jupyter-widgets/base",
            "_view_module_version": "1.2.0",
            "_view_name": "LayoutView",
            "align_content": null,
            "align_items": null,
            "align_self": null,
            "border": null,
            "bottom": null,
            "display": null,
            "flex": null,
            "flex_flow": null,
            "grid_area": null,
            "grid_auto_columns": null,
            "grid_auto_flow": null,
            "grid_auto_rows": null,
            "grid_column": null,
            "grid_gap": null,
            "grid_row": null,
            "grid_template_areas": null,
            "grid_template_columns": null,
            "grid_template_rows": null,
            "height": null,
            "justify_content": null,
            "justify_items": null,
            "left": null,
            "margin": null,
            "max_height": null,
            "max_width": null,
            "min_height": null,
            "min_width": null,
            "object_fit": null,
            "object_position": null,
            "order": null,
            "overflow": null,
            "overflow_x": null,
            "overflow_y": null,
            "padding": null,
            "right": null,
            "top": null,
            "visibility": null,
            "width": null
          }
        },
        "e26246e2d94f429998c5285103225849": {
          "model_module": "@jupyter-widgets/controls",
          "model_name": "ProgressStyleModel",
          "model_module_version": "1.5.0",
          "state": {
            "_model_module": "@jupyter-widgets/controls",
            "_model_module_version": "1.5.0",
            "_model_name": "ProgressStyleModel",
            "_view_count": null,
            "_view_module": "@jupyter-widgets/base",
            "_view_module_version": "1.2.0",
            "_view_name": "StyleView",
            "bar_color": null,
            "description_width": ""
          }
        },
        "bc96863ce00844d2bb239180c5ce1521": {
          "model_module": "@jupyter-widgets/base",
          "model_name": "LayoutModel",
          "model_module_version": "1.2.0",
          "state": {
            "_model_module": "@jupyter-widgets/base",
            "_model_module_version": "1.2.0",
            "_model_name": "LayoutModel",
            "_view_count": null,
            "_view_module": "@jupyter-widgets/base",
            "_view_module_version": "1.2.0",
            "_view_name": "LayoutView",
            "align_content": null,
            "align_items": null,
            "align_self": null,
            "border": null,
            "bottom": null,
            "display": null,
            "flex": null,
            "flex_flow": null,
            "grid_area": null,
            "grid_auto_columns": null,
            "grid_auto_flow": null,
            "grid_auto_rows": null,
            "grid_column": null,
            "grid_gap": null,
            "grid_row": null,
            "grid_template_areas": null,
            "grid_template_columns": null,
            "grid_template_rows": null,
            "height": null,
            "justify_content": null,
            "justify_items": null,
            "left": null,
            "margin": null,
            "max_height": null,
            "max_width": null,
            "min_height": null,
            "min_width": null,
            "object_fit": null,
            "object_position": null,
            "order": null,
            "overflow": null,
            "overflow_x": null,
            "overflow_y": null,
            "padding": null,
            "right": null,
            "top": null,
            "visibility": null,
            "width": null
          }
        },
        "a4894dbdf9fd4d569c04ddca2eb9d9cf": {
          "model_module": "@jupyter-widgets/controls",
          "model_name": "DescriptionStyleModel",
          "model_module_version": "1.5.0",
          "state": {
            "_model_module": "@jupyter-widgets/controls",
            "_model_module_version": "1.5.0",
            "_model_name": "DescriptionStyleModel",
            "_view_count": null,
            "_view_module": "@jupyter-widgets/base",
            "_view_module_version": "1.2.0",
            "_view_name": "StyleView",
            "description_width": ""
          }
        },
        "a069dadbde5946dd8b6fd2889ad9db01": {
          "model_module": "@jupyter-widgets/controls",
          "model_name": "HBoxModel",
          "model_module_version": "1.5.0",
          "state": {
            "_dom_classes": [],
            "_model_module": "@jupyter-widgets/controls",
            "_model_module_version": "1.5.0",
            "_model_name": "HBoxModel",
            "_view_count": null,
            "_view_module": "@jupyter-widgets/controls",
            "_view_module_version": "1.5.0",
            "_view_name": "HBoxView",
            "box_style": "",
            "children": [
              "IPY_MODEL_848ac1b623b24dafb932bac494171dbd",
              "IPY_MODEL_eb0e97977e584745b90f65fcea3163e9",
              "IPY_MODEL_f3edebf313594a659a82595753afecaa"
            ],
            "layout": "IPY_MODEL_df4dda3e9fc5480d8854becf2de2a739"
          }
        },
        "848ac1b623b24dafb932bac494171dbd": {
          "model_module": "@jupyter-widgets/controls",
          "model_name": "HTMLModel",
          "model_module_version": "1.5.0",
          "state": {
            "_dom_classes": [],
            "_model_module": "@jupyter-widgets/controls",
            "_model_module_version": "1.5.0",
            "_model_name": "HTMLModel",
            "_view_count": null,
            "_view_module": "@jupyter-widgets/controls",
            "_view_module_version": "1.5.0",
            "_view_name": "HTMLView",
            "description": "",
            "description_tooltip": null,
            "layout": "IPY_MODEL_4ca195f35ae24b92b830cd28cecd349d",
            "placeholder": "​",
            "style": "IPY_MODEL_4597d3e1acdb4db59b6d4c768dea2af0",
            "value": "Generating test split: 100%"
          }
        },
        "eb0e97977e584745b90f65fcea3163e9": {
          "model_module": "@jupyter-widgets/controls",
          "model_name": "FloatProgressModel",
          "model_module_version": "1.5.0",
          "state": {
            "_dom_classes": [],
            "_model_module": "@jupyter-widgets/controls",
            "_model_module_version": "1.5.0",
            "_model_name": "FloatProgressModel",
            "_view_count": null,
            "_view_module": "@jupyter-widgets/controls",
            "_view_module_version": "1.5.0",
            "_view_name": "ProgressView",
            "bar_style": "success",
            "description": "",
            "description_tooltip": null,
            "layout": "IPY_MODEL_d37eac6acd7f4010b369bbe424b7d61c",
            "max": 25000,
            "min": 0,
            "orientation": "horizontal",
            "style": "IPY_MODEL_67316f3fd88849dfae35bb8f3f9d3805",
            "value": 25000
          }
        },
        "f3edebf313594a659a82595753afecaa": {
          "model_module": "@jupyter-widgets/controls",
          "model_name": "HTMLModel",
          "model_module_version": "1.5.0",
          "state": {
            "_dom_classes": [],
            "_model_module": "@jupyter-widgets/controls",
            "_model_module_version": "1.5.0",
            "_model_name": "HTMLModel",
            "_view_count": null,
            "_view_module": "@jupyter-widgets/controls",
            "_view_module_version": "1.5.0",
            "_view_name": "HTMLView",
            "description": "",
            "description_tooltip": null,
            "layout": "IPY_MODEL_6d686bb6abde4c3ebc486ae527e77ba4",
            "placeholder": "​",
            "style": "IPY_MODEL_bc3995319a6048b1a4f9946c090b875a",
            "value": " 25000/25000 [00:00&lt;00:00, 106521.22 examples/s]"
          }
        },
        "df4dda3e9fc5480d8854becf2de2a739": {
          "model_module": "@jupyter-widgets/base",
          "model_name": "LayoutModel",
          "model_module_version": "1.2.0",
          "state": {
            "_model_module": "@jupyter-widgets/base",
            "_model_module_version": "1.2.0",
            "_model_name": "LayoutModel",
            "_view_count": null,
            "_view_module": "@jupyter-widgets/base",
            "_view_module_version": "1.2.0",
            "_view_name": "LayoutView",
            "align_content": null,
            "align_items": null,
            "align_self": null,
            "border": null,
            "bottom": null,
            "display": null,
            "flex": null,
            "flex_flow": null,
            "grid_area": null,
            "grid_auto_columns": null,
            "grid_auto_flow": null,
            "grid_auto_rows": null,
            "grid_column": null,
            "grid_gap": null,
            "grid_row": null,
            "grid_template_areas": null,
            "grid_template_columns": null,
            "grid_template_rows": null,
            "height": null,
            "justify_content": null,
            "justify_items": null,
            "left": null,
            "margin": null,
            "max_height": null,
            "max_width": null,
            "min_height": null,
            "min_width": null,
            "object_fit": null,
            "object_position": null,
            "order": null,
            "overflow": null,
            "overflow_x": null,
            "overflow_y": null,
            "padding": null,
            "right": null,
            "top": null,
            "visibility": null,
            "width": null
          }
        },
        "4ca195f35ae24b92b830cd28cecd349d": {
          "model_module": "@jupyter-widgets/base",
          "model_name": "LayoutModel",
          "model_module_version": "1.2.0",
          "state": {
            "_model_module": "@jupyter-widgets/base",
            "_model_module_version": "1.2.0",
            "_model_name": "LayoutModel",
            "_view_count": null,
            "_view_module": "@jupyter-widgets/base",
            "_view_module_version": "1.2.0",
            "_view_name": "LayoutView",
            "align_content": null,
            "align_items": null,
            "align_self": null,
            "border": null,
            "bottom": null,
            "display": null,
            "flex": null,
            "flex_flow": null,
            "grid_area": null,
            "grid_auto_columns": null,
            "grid_auto_flow": null,
            "grid_auto_rows": null,
            "grid_column": null,
            "grid_gap": null,
            "grid_row": null,
            "grid_template_areas": null,
            "grid_template_columns": null,
            "grid_template_rows": null,
            "height": null,
            "justify_content": null,
            "justify_items": null,
            "left": null,
            "margin": null,
            "max_height": null,
            "max_width": null,
            "min_height": null,
            "min_width": null,
            "object_fit": null,
            "object_position": null,
            "order": null,
            "overflow": null,
            "overflow_x": null,
            "overflow_y": null,
            "padding": null,
            "right": null,
            "top": null,
            "visibility": null,
            "width": null
          }
        },
        "4597d3e1acdb4db59b6d4c768dea2af0": {
          "model_module": "@jupyter-widgets/controls",
          "model_name": "DescriptionStyleModel",
          "model_module_version": "1.5.0",
          "state": {
            "_model_module": "@jupyter-widgets/controls",
            "_model_module_version": "1.5.0",
            "_model_name": "DescriptionStyleModel",
            "_view_count": null,
            "_view_module": "@jupyter-widgets/base",
            "_view_module_version": "1.2.0",
            "_view_name": "StyleView",
            "description_width": ""
          }
        },
        "d37eac6acd7f4010b369bbe424b7d61c": {
          "model_module": "@jupyter-widgets/base",
          "model_name": "LayoutModel",
          "model_module_version": "1.2.0",
          "state": {
            "_model_module": "@jupyter-widgets/base",
            "_model_module_version": "1.2.0",
            "_model_name": "LayoutModel",
            "_view_count": null,
            "_view_module": "@jupyter-widgets/base",
            "_view_module_version": "1.2.0",
            "_view_name": "LayoutView",
            "align_content": null,
            "align_items": null,
            "align_self": null,
            "border": null,
            "bottom": null,
            "display": null,
            "flex": null,
            "flex_flow": null,
            "grid_area": null,
            "grid_auto_columns": null,
            "grid_auto_flow": null,
            "grid_auto_rows": null,
            "grid_column": null,
            "grid_gap": null,
            "grid_row": null,
            "grid_template_areas": null,
            "grid_template_columns": null,
            "grid_template_rows": null,
            "height": null,
            "justify_content": null,
            "justify_items": null,
            "left": null,
            "margin": null,
            "max_height": null,
            "max_width": null,
            "min_height": null,
            "min_width": null,
            "object_fit": null,
            "object_position": null,
            "order": null,
            "overflow": null,
            "overflow_x": null,
            "overflow_y": null,
            "padding": null,
            "right": null,
            "top": null,
            "visibility": null,
            "width": null
          }
        },
        "67316f3fd88849dfae35bb8f3f9d3805": {
          "model_module": "@jupyter-widgets/controls",
          "model_name": "ProgressStyleModel",
          "model_module_version": "1.5.0",
          "state": {
            "_model_module": "@jupyter-widgets/controls",
            "_model_module_version": "1.5.0",
            "_model_name": "ProgressStyleModel",
            "_view_count": null,
            "_view_module": "@jupyter-widgets/base",
            "_view_module_version": "1.2.0",
            "_view_name": "StyleView",
            "bar_color": null,
            "description_width": ""
          }
        },
        "6d686bb6abde4c3ebc486ae527e77ba4": {
          "model_module": "@jupyter-widgets/base",
          "model_name": "LayoutModel",
          "model_module_version": "1.2.0",
          "state": {
            "_model_module": "@jupyter-widgets/base",
            "_model_module_version": "1.2.0",
            "_model_name": "LayoutModel",
            "_view_count": null,
            "_view_module": "@jupyter-widgets/base",
            "_view_module_version": "1.2.0",
            "_view_name": "LayoutView",
            "align_content": null,
            "align_items": null,
            "align_self": null,
            "border": null,
            "bottom": null,
            "display": null,
            "flex": null,
            "flex_flow": null,
            "grid_area": null,
            "grid_auto_columns": null,
            "grid_auto_flow": null,
            "grid_auto_rows": null,
            "grid_column": null,
            "grid_gap": null,
            "grid_row": null,
            "grid_template_areas": null,
            "grid_template_columns": null,
            "grid_template_rows": null,
            "height": null,
            "justify_content": null,
            "justify_items": null,
            "left": null,
            "margin": null,
            "max_height": null,
            "max_width": null,
            "min_height": null,
            "min_width": null,
            "object_fit": null,
            "object_position": null,
            "order": null,
            "overflow": null,
            "overflow_x": null,
            "overflow_y": null,
            "padding": null,
            "right": null,
            "top": null,
            "visibility": null,
            "width": null
          }
        },
        "bc3995319a6048b1a4f9946c090b875a": {
          "model_module": "@jupyter-widgets/controls",
          "model_name": "DescriptionStyleModel",
          "model_module_version": "1.5.0",
          "state": {
            "_model_module": "@jupyter-widgets/controls",
            "_model_module_version": "1.5.0",
            "_model_name": "DescriptionStyleModel",
            "_view_count": null,
            "_view_module": "@jupyter-widgets/base",
            "_view_module_version": "1.2.0",
            "_view_name": "StyleView",
            "description_width": ""
          }
        },
        "12c46bdfab04400f91f8f27fc65ec75b": {
          "model_module": "@jupyter-widgets/controls",
          "model_name": "HBoxModel",
          "model_module_version": "1.5.0",
          "state": {
            "_dom_classes": [],
            "_model_module": "@jupyter-widgets/controls",
            "_model_module_version": "1.5.0",
            "_model_name": "HBoxModel",
            "_view_count": null,
            "_view_module": "@jupyter-widgets/controls",
            "_view_module_version": "1.5.0",
            "_view_name": "HBoxView",
            "box_style": "",
            "children": [
              "IPY_MODEL_09277bd1946644428c56b6c5d5d58a86",
              "IPY_MODEL_1d927b0d58d54ca7a5130a89a86fe2a4",
              "IPY_MODEL_eb3cca4c4de749d8b60ec28b06136205"
            ],
            "layout": "IPY_MODEL_58441b6cf4294cf0a3533a9fca481fed"
          }
        },
        "09277bd1946644428c56b6c5d5d58a86": {
          "model_module": "@jupyter-widgets/controls",
          "model_name": "HTMLModel",
          "model_module_version": "1.5.0",
          "state": {
            "_dom_classes": [],
            "_model_module": "@jupyter-widgets/controls",
            "_model_module_version": "1.5.0",
            "_model_name": "HTMLModel",
            "_view_count": null,
            "_view_module": "@jupyter-widgets/controls",
            "_view_module_version": "1.5.0",
            "_view_name": "HTMLView",
            "description": "",
            "description_tooltip": null,
            "layout": "IPY_MODEL_9fff9fd6bd3a438fb7a7c971866eb09c",
            "placeholder": "​",
            "style": "IPY_MODEL_72d1e76b3df4430e9bccccd09cca07f7",
            "value": "Generating unsupervised split: 100%"
          }
        },
        "1d927b0d58d54ca7a5130a89a86fe2a4": {
          "model_module": "@jupyter-widgets/controls",
          "model_name": "FloatProgressModel",
          "model_module_version": "1.5.0",
          "state": {
            "_dom_classes": [],
            "_model_module": "@jupyter-widgets/controls",
            "_model_module_version": "1.5.0",
            "_model_name": "FloatProgressModel",
            "_view_count": null,
            "_view_module": "@jupyter-widgets/controls",
            "_view_module_version": "1.5.0",
            "_view_name": "ProgressView",
            "bar_style": "success",
            "description": "",
            "description_tooltip": null,
            "layout": "IPY_MODEL_14a0ea518df14537900188750ce23cfa",
            "max": 50000,
            "min": 0,
            "orientation": "horizontal",
            "style": "IPY_MODEL_1c5036de98334fd5b2c520cd992e8915",
            "value": 50000
          }
        },
        "eb3cca4c4de749d8b60ec28b06136205": {
          "model_module": "@jupyter-widgets/controls",
          "model_name": "HTMLModel",
          "model_module_version": "1.5.0",
          "state": {
            "_dom_classes": [],
            "_model_module": "@jupyter-widgets/controls",
            "_model_module_version": "1.5.0",
            "_model_name": "HTMLModel",
            "_view_count": null,
            "_view_module": "@jupyter-widgets/controls",
            "_view_module_version": "1.5.0",
            "_view_name": "HTMLView",
            "description": "",
            "description_tooltip": null,
            "layout": "IPY_MODEL_6f621e6e408c4e52b479e71bc54d3761",
            "placeholder": "​",
            "style": "IPY_MODEL_e7f5d403136241948fad4c05e433495e",
            "value": " 50000/50000 [00:00&lt;00:00, 104126.44 examples/s]"
          }
        },
        "58441b6cf4294cf0a3533a9fca481fed": {
          "model_module": "@jupyter-widgets/base",
          "model_name": "LayoutModel",
          "model_module_version": "1.2.0",
          "state": {
            "_model_module": "@jupyter-widgets/base",
            "_model_module_version": "1.2.0",
            "_model_name": "LayoutModel",
            "_view_count": null,
            "_view_module": "@jupyter-widgets/base",
            "_view_module_version": "1.2.0",
            "_view_name": "LayoutView",
            "align_content": null,
            "align_items": null,
            "align_self": null,
            "border": null,
            "bottom": null,
            "display": null,
            "flex": null,
            "flex_flow": null,
            "grid_area": null,
            "grid_auto_columns": null,
            "grid_auto_flow": null,
            "grid_auto_rows": null,
            "grid_column": null,
            "grid_gap": null,
            "grid_row": null,
            "grid_template_areas": null,
            "grid_template_columns": null,
            "grid_template_rows": null,
            "height": null,
            "justify_content": null,
            "justify_items": null,
            "left": null,
            "margin": null,
            "max_height": null,
            "max_width": null,
            "min_height": null,
            "min_width": null,
            "object_fit": null,
            "object_position": null,
            "order": null,
            "overflow": null,
            "overflow_x": null,
            "overflow_y": null,
            "padding": null,
            "right": null,
            "top": null,
            "visibility": null,
            "width": null
          }
        },
        "9fff9fd6bd3a438fb7a7c971866eb09c": {
          "model_module": "@jupyter-widgets/base",
          "model_name": "LayoutModel",
          "model_module_version": "1.2.0",
          "state": {
            "_model_module": "@jupyter-widgets/base",
            "_model_module_version": "1.2.0",
            "_model_name": "LayoutModel",
            "_view_count": null,
            "_view_module": "@jupyter-widgets/base",
            "_view_module_version": "1.2.0",
            "_view_name": "LayoutView",
            "align_content": null,
            "align_items": null,
            "align_self": null,
            "border": null,
            "bottom": null,
            "display": null,
            "flex": null,
            "flex_flow": null,
            "grid_area": null,
            "grid_auto_columns": null,
            "grid_auto_flow": null,
            "grid_auto_rows": null,
            "grid_column": null,
            "grid_gap": null,
            "grid_row": null,
            "grid_template_areas": null,
            "grid_template_columns": null,
            "grid_template_rows": null,
            "height": null,
            "justify_content": null,
            "justify_items": null,
            "left": null,
            "margin": null,
            "max_height": null,
            "max_width": null,
            "min_height": null,
            "min_width": null,
            "object_fit": null,
            "object_position": null,
            "order": null,
            "overflow": null,
            "overflow_x": null,
            "overflow_y": null,
            "padding": null,
            "right": null,
            "top": null,
            "visibility": null,
            "width": null
          }
        },
        "72d1e76b3df4430e9bccccd09cca07f7": {
          "model_module": "@jupyter-widgets/controls",
          "model_name": "DescriptionStyleModel",
          "model_module_version": "1.5.0",
          "state": {
            "_model_module": "@jupyter-widgets/controls",
            "_model_module_version": "1.5.0",
            "_model_name": "DescriptionStyleModel",
            "_view_count": null,
            "_view_module": "@jupyter-widgets/base",
            "_view_module_version": "1.2.0",
            "_view_name": "StyleView",
            "description_width": ""
          }
        },
        "14a0ea518df14537900188750ce23cfa": {
          "model_module": "@jupyter-widgets/base",
          "model_name": "LayoutModel",
          "model_module_version": "1.2.0",
          "state": {
            "_model_module": "@jupyter-widgets/base",
            "_model_module_version": "1.2.0",
            "_model_name": "LayoutModel",
            "_view_count": null,
            "_view_module": "@jupyter-widgets/base",
            "_view_module_version": "1.2.0",
            "_view_name": "LayoutView",
            "align_content": null,
            "align_items": null,
            "align_self": null,
            "border": null,
            "bottom": null,
            "display": null,
            "flex": null,
            "flex_flow": null,
            "grid_area": null,
            "grid_auto_columns": null,
            "grid_auto_flow": null,
            "grid_auto_rows": null,
            "grid_column": null,
            "grid_gap": null,
            "grid_row": null,
            "grid_template_areas": null,
            "grid_template_columns": null,
            "grid_template_rows": null,
            "height": null,
            "justify_content": null,
            "justify_items": null,
            "left": null,
            "margin": null,
            "max_height": null,
            "max_width": null,
            "min_height": null,
            "min_width": null,
            "object_fit": null,
            "object_position": null,
            "order": null,
            "overflow": null,
            "overflow_x": null,
            "overflow_y": null,
            "padding": null,
            "right": null,
            "top": null,
            "visibility": null,
            "width": null
          }
        },
        "1c5036de98334fd5b2c520cd992e8915": {
          "model_module": "@jupyter-widgets/controls",
          "model_name": "ProgressStyleModel",
          "model_module_version": "1.5.0",
          "state": {
            "_model_module": "@jupyter-widgets/controls",
            "_model_module_version": "1.5.0",
            "_model_name": "ProgressStyleModel",
            "_view_count": null,
            "_view_module": "@jupyter-widgets/base",
            "_view_module_version": "1.2.0",
            "_view_name": "StyleView",
            "bar_color": null,
            "description_width": ""
          }
        },
        "6f621e6e408c4e52b479e71bc54d3761": {
          "model_module": "@jupyter-widgets/base",
          "model_name": "LayoutModel",
          "model_module_version": "1.2.0",
          "state": {
            "_model_module": "@jupyter-widgets/base",
            "_model_module_version": "1.2.0",
            "_model_name": "LayoutModel",
            "_view_count": null,
            "_view_module": "@jupyter-widgets/base",
            "_view_module_version": "1.2.0",
            "_view_name": "LayoutView",
            "align_content": null,
            "align_items": null,
            "align_self": null,
            "border": null,
            "bottom": null,
            "display": null,
            "flex": null,
            "flex_flow": null,
            "grid_area": null,
            "grid_auto_columns": null,
            "grid_auto_flow": null,
            "grid_auto_rows": null,
            "grid_column": null,
            "grid_gap": null,
            "grid_row": null,
            "grid_template_areas": null,
            "grid_template_columns": null,
            "grid_template_rows": null,
            "height": null,
            "justify_content": null,
            "justify_items": null,
            "left": null,
            "margin": null,
            "max_height": null,
            "max_width": null,
            "min_height": null,
            "min_width": null,
            "object_fit": null,
            "object_position": null,
            "order": null,
            "overflow": null,
            "overflow_x": null,
            "overflow_y": null,
            "padding": null,
            "right": null,
            "top": null,
            "visibility": null,
            "width": null
          }
        },
        "e7f5d403136241948fad4c05e433495e": {
          "model_module": "@jupyter-widgets/controls",
          "model_name": "DescriptionStyleModel",
          "model_module_version": "1.5.0",
          "state": {
            "_model_module": "@jupyter-widgets/controls",
            "_model_module_version": "1.5.0",
            "_model_name": "DescriptionStyleModel",
            "_view_count": null,
            "_view_module": "@jupyter-widgets/base",
            "_view_module_version": "1.2.0",
            "_view_name": "StyleView",
            "description_width": ""
          }
        }
      }
    }
  },
  "cells": [
    {
      "cell_type": "markdown",
      "source": [
        "# Homework 8: Large Language Models & Prompting\n",
        "\n",
        "\n",
        "## Total Points: 104 points\n",
        "- *Warning*: Start this assignment early as it is dependent on the OpenAI API!\n",
        "- **Overview**: In this assignment, we will examine some of the latest language models you may be familiar with like GPT-3. We'll cover:\n",
        "\n",
        "  - Zero-shot prompting\n",
        "  - Prompt engineering\n",
        "  - Few-shot prompting\n",
        "  - Prompting instruction-tuned models\n",
        "  - Chain-of-Thought Reasoning prompting\n",
        "\n",
        "- **OpenAI Account Setup**: You will need an OpenAI account and API key, you can [sign up here](https://platform.openai.com/signup?launch) and learn [how to make an API key here](https://help.openai.com/en/articles/4936850-where-do-i-find-my-secret-api-key). The OpenAI API is paid, however, we this homework will stay well under the free $5 credit given to each account. Be careful not to exhaust your free OpenAI credits while testing, you can check [on this page here](https://platform.openai.com/account/usage). To avoid exhausting your credits quickly, avoid running cells over and over again after you've completed an exercise.\n",
        "\n",
        "- **Deliverables:** This assignment has several deliverables:\n",
        "  - Code (this notebook) *(Automatic Graded)*\n",
        "    - Section 1: answers to questions\n",
        "    - Section 3: answers to questions\n",
        "    - Section 4: answers to question\n",
        "    - Section 5: answers to question\n",
        "  - Write Up (Report.pdf) *(Manually Graded)*\n",
        "    - Section 2: answers to questions\n",
        "    - Section 3: answers to question\n",
        "    - Section 4: answers to question\n",
        "    - Section 5: answers to question\n",
        "\n",
        "- **Inputs/Outputs:**\n",
        "  - Section 1: Problems 1.1-1.5\n",
        "    - Write a good quality prompt\n",
        "    - Input: a string that expresses a high-quality prompt\n",
        "    - Output: a string that expresses an answer to a prompt\n",
        "  - Section 2: Problem 2.1\n",
        "    - Manually graded answer to a question\n",
        "  - Section 2: Problem 2.2\n",
        "    - Write a good quality prompt and asseble the list of positive & negative\n",
        "verbalizers\n",
        "    - Inputs:\n",
        "        - a string that expresses a high-quality prompt\n",
        "        - a list of positive verbalizers\n",
        "        - a list of negative verbalizers\n",
        "    - Outputs:\n",
        "        - a list of predicted and true labels\n",
        "        - a number of correctly predicted labels\n",
        "  - Section 3: Problems 3.1-3.2\n",
        "    - Write a good quality few-short prompt\n",
        "    - Input: a string that expresses a high-quality prompt\n",
        "    - Output: a string that expresses an answer to a prompt\n",
        "  - Section 3: Problem 3.3\n",
        "    - Come up with three examples where the given model struggles with a\n",
        "zero-shot task, but performs well with a few-short prompting approach\n",
        "  - Section 4: Problem 4.1\n",
        "    - Write a good quality few-short prompt\n",
        "    - Input: a string that expresses a high-quality prompt\n",
        "    - Output: a string that expresses an answer to a prompt\n",
        "  - Section 4: Problem 4.2\n",
        "    - Come up with three examples where the non-instruction-tuned model\n",
        "performs poorly and an instruction-tuned model is required to improve\n",
        "the performance\n",
        "  - Section 5: Problem 5.1\n",
        "    - Run the given experiments, report on the results in a table/plot, and\n",
        "write about your observations and conclusions.\n",
        "\n",
        "\n",
        "---\n",
        "- **Grading**: We will use the auto-grading system called `PennGrader`. To complete the homework assignment, you should implement anything marked with `#TODO` and run the cell with `#PennGrader` note.\n",
        "\n",
        "\n",
        "## Recommended Readings\n",
        "- [Language Models are Few-Shot Learners](https://arxiv.org/pdf/2005.14165.pdf). Tom B. Brown, Benjamin Mann, Nick Ryder, Melanie Subbiah, Jared Kaplan, ...others. ArXiV 2020.\n",
        "- [Pre-train, Prompt, and Predict: A Systematic Survey of Prompting Methods in Natural Language Processing](https://arxiv.org/pdf/2107.13586.pdf). Pengfei Liu, Weizhe Yuan, Jinlan Fu, Zhengbao Jiang, Hiroaki Hayashi, Graham Neubig. ACM Computing Surveys 2021.\n",
        "- [Best practices for prompt engineering with OpenAI API](https://help.openai.com/en/articles/6654000-best-practices-for-prompt-engineering-with-openai-api). Jessica Shieh. OpenAI 2023.\n",
        "- [Training language models to follow instructions with human feedback](https://arxiv.org/pdf/2203.02155.pdf). Long Ouyang, Jeff Wu, Xu Jiang, Diogo Almeida, Carroll L. Wainwright, ...others. ArXiV 2020.\n",
        "- [Chain-of-Thought Prompting Elicits Reasoning in Large Language Models](https://arxiv.org/pdf/2201.11903.pdf). Jason Wei, Xuezhi Wang, Dale Schuurmans, Maarten Bosma, brian ichter, Fei Xia, Ed H. Chi, Quoc V Le, Denny Zhou. NeurIPS 2022.\n",
        "\n",
        "## To get started, **make a copy** of this colab notebook into your google drive!"
      ],
      "metadata": {
        "id": "mb4Yr8KhRhbe"
      }
    },
    {
      "cell_type": "markdown",
      "metadata": {
        "id": "IDv9qN5c9357"
      },
      "source": [
        "## Setup 1: PennGrader Setup"
      ]
    },
    {
      "cell_type": "code",
      "source": [
        "## DO NOT CHANGE ANYTHING, JUST RUN\n",
        "%%capture\n",
        "!pip install penngrader-client"
      ],
      "metadata": {
        "id": "jpSjR2N19kk4"
      },
      "execution_count": 1,
      "outputs": []
    },
    {
      "cell_type": "code",
      "source": [
        "%%writefile notebook-config.yaml\n",
        "\n",
        "grader_api_url: 'https://23whrwph9h.execute-api.us-east-1.amazonaws.com/default/Grader23'\n",
        "grader_api_key: 'flfkE736fA6Z8GxMDJe2q8Kfk8UDqjsG3GVqOFOa'"
      ],
      "metadata": {
        "id": "FvPA8Z2D9ki_",
        "colab": {
          "base_uri": "https://localhost:8080/"
        },
        "outputId": "3c77f173-20e6-47f3-cfb1-aa601364f947"
      },
      "execution_count": 2,
      "outputs": [
        {
          "output_type": "stream",
          "name": "stdout",
          "text": [
            "Writing notebook-config.yaml\n"
          ]
        }
      ]
    },
    {
      "cell_type": "code",
      "source": [
        "!cat notebook-config.yaml"
      ],
      "metadata": {
        "id": "xbeXT4Oj9kg_",
        "colab": {
          "base_uri": "https://localhost:8080/"
        },
        "outputId": "e72163e4-babb-405e-ee9e-0242c727e865"
      },
      "execution_count": 3,
      "outputs": [
        {
          "output_type": "stream",
          "name": "stdout",
          "text": [
            "\n",
            "grader_api_url: 'https://23whrwph9h.execute-api.us-east-1.amazonaws.com/default/Grader23'\n",
            "grader_api_key: 'flfkE736fA6Z8GxMDJe2q8Kfk8UDqjsG3GVqOFOa'\n"
          ]
        }
      ]
    },
    {
      "cell_type": "code",
      "source": [
        "from penngrader.grader import *\n",
        "\n",
        "## TODO - Start\n",
        "STUDENT_ID = 56803282 # YOUR PENN-ID GOES HERE AS AN INTEGER#\n",
        "## TODO - End\n",
        "\n",
        "SECRET = STUDENT_ID\n",
        "grader = PennGrader('notebook-config.yaml', 'CIS5300_OL_23Su_HW8', STUDENT_ID, SECRET)"
      ],
      "metadata": {
        "id": "OceP0Hr-9kfC",
        "colab": {
          "base_uri": "https://localhost:8080/"
        },
        "outputId": "ae6662bd-a5e7-42b1-afa7-3db413894953"
      },
      "execution_count": 4,
      "outputs": [
        {
          "output_type": "stream",
          "name": "stdout",
          "text": [
            "PennGrader initialized with Student ID: 56803282\n",
            "\n",
            "Make sure this correct or we will not be able to store your grade\n"
          ]
        }
      ]
    },
    {
      "cell_type": "code",
      "source": [
        "# check if the PennGrader is set up correctly\n",
        "# do not chance this cell, see if you get 4/4!\n",
        "name_str = 'Jacky Choi'\n",
        "grader.grade(test_case_id = 'name_test', answer = name_str)"
      ],
      "metadata": {
        "id": "k5lAgKaYa-uN",
        "colab": {
          "base_uri": "https://localhost:8080/"
        },
        "outputId": "15fc94ab-27c4-4e59-e5ae-401de26bbab0"
      },
      "execution_count": 5,
      "outputs": [
        {
          "output_type": "stream",
          "name": "stdout",
          "text": [
            "Correct! You earned 4/4 points. You are a star!\n",
            "\n",
            "Your submission has been successfully recorded in the gradebook.\n"
          ]
        }
      ]
    },
    {
      "cell_type": "markdown",
      "source": [
        "## Setup 2: Dataset / Packages\n",
        "- **Run the following cells and enter your OpenAI API Key!**"
      ],
      "metadata": {
        "id": "CHrdyiQdBt2K"
      }
    },
    {
      "cell_type": "code",
      "source": [
        "%%capture\n",
        "!pip install openai datasets"
      ],
      "metadata": {
        "id": "ClLc_xNJ8Oa7"
      },
      "execution_count": 6,
      "outputs": []
    },
    {
      "cell_type": "code",
      "source": [
        "from openai import OpenAI\n",
        "from time import sleep\n",
        "from datasets import load_dataset\n",
        "\n",
        "IMDB_DATASET = load_dataset(\"imdb\", split='train').shuffle(42)[0:200]\n",
        "IMDB_DATASET_X = IMDB_DATASET['text']\n",
        "IMDB_DATASET_Y = IMDB_DATASET['label']\n",
        "del IMDB_DATASET"
      ],
      "metadata": {
        "id": "3ixA0MThE9kO",
        "colab": {
          "base_uri": "https://localhost:8080/",
          "height": 368,
          "referenced_widgets": [
            "b89e223c42924d67a3156ca4c1f62686",
            "70d111f320cc4dc0b2b8e3ad84499633",
            "101d417799c64521b61b67699eb72b1c",
            "c2969e5c5a80403d9aa4e4826c1df296",
            "9b0b8264f5af4f049cf28eabeab4ab3d",
            "1f94a873ef8d45c798e23c3e78dff3fd",
            "02a9e8113459449b8bbe7b43b3fbd733",
            "ef188c6e3bce4ef88f3303b5d4a6b1ac",
            "e76ff64599b2426088c015bb74123fac",
            "a4495c3ad788479f924865eb3db8ae05",
            "6265652d167e4183b98727d9a5764621",
            "2dc294ee2e3e43589de93b654863a8bf",
            "1e0517c7c4c240b8ab685f8169036d7b",
            "e209ff5f6e2c4f66a07344a9e2a096de",
            "46131df796f94b37a01a46d1e403d858",
            "cfc5c1a4148d4e6681388bda36b35166",
            "e2358b7adb2e4225b21fa436c8f91a1d",
            "213c4677eb6840a3b6e9093fe396c058",
            "471fb7fb95ad48cab311f05675a2700e",
            "5cb55b0ae25f44e79bc601e906bb8f94",
            "39f216ad9ab248be879bee5592a298e6",
            "1cc8612c77fa4d5091cfb393fd6a1e4d",
            "91208c3929bb4fbcb6ef630f77779bba",
            "8d6d91f289ab4fa799d362dfdd50976c",
            "b20eb0156ae84ab7859d6ee51d61b305",
            "e969c49db6b442cf8e00469a7d3d7cb8",
            "747c28bf3b7c4dc7bd28c3cc0211cb5a",
            "05e7e4806ccc45178a64acd68c3cff4e",
            "f587cc43a27c4d44824045d204172098",
            "ca28ee48b05247b5af6be09671fe707c",
            "4e2adcfa99e14c5eb60a1bdaf51dac4d",
            "1b062e8d5fe246f899387c0e8c8f7235",
            "0f92fc3d69d349a796038278380bed3d",
            "b6ad753c65b54d8381a6616bc06b713d",
            "644cf470d5ab44c79527d51fba3c0d5d",
            "5565785a4c204d2c85f615ad5ffbc0b8",
            "d1eaa26981984b0482e1154bafd0c82d",
            "ab79eff54bc74fe89c687db634b8a6d0",
            "bf99bad38a6f4bec88ac3ecb50de614c",
            "a797317099a043c2b255434e0e4108bf",
            "b22534e3938c4c0cb543451df91f1886",
            "ec844874a8c047af8e3b452d7b2eb8d2",
            "f4c3613077734de3964acb4cc8a737e2",
            "1960f6b833b245df8dacd6d62c2fa849",
            "92c7c007fa5d4577aa624f05af24b2d8",
            "dcbc06e61b674e73984cad10d10289f7",
            "0d54a4e80a7b4edab891a330c9caee33",
            "cf16c5731b504bc0ad45ea81184a4839",
            "5bec4c5276e44f758b936776c8dece2d",
            "805e51a068de44cb98120a07984df5ad",
            "db24378143bb4001bedd3d99d25baa1c",
            "61540012e37a4d51ab2c7758c9d6e3c9",
            "e26246e2d94f429998c5285103225849",
            "bc96863ce00844d2bb239180c5ce1521",
            "a4894dbdf9fd4d569c04ddca2eb9d9cf",
            "a069dadbde5946dd8b6fd2889ad9db01",
            "848ac1b623b24dafb932bac494171dbd",
            "eb0e97977e584745b90f65fcea3163e9",
            "f3edebf313594a659a82595753afecaa",
            "df4dda3e9fc5480d8854becf2de2a739",
            "4ca195f35ae24b92b830cd28cecd349d",
            "4597d3e1acdb4db59b6d4c768dea2af0",
            "d37eac6acd7f4010b369bbe424b7d61c",
            "67316f3fd88849dfae35bb8f3f9d3805",
            "6d686bb6abde4c3ebc486ae527e77ba4",
            "bc3995319a6048b1a4f9946c090b875a",
            "12c46bdfab04400f91f8f27fc65ec75b",
            "09277bd1946644428c56b6c5d5d58a86",
            "1d927b0d58d54ca7a5130a89a86fe2a4",
            "eb3cca4c4de749d8b60ec28b06136205",
            "58441b6cf4294cf0a3533a9fca481fed",
            "9fff9fd6bd3a438fb7a7c971866eb09c",
            "72d1e76b3df4430e9bccccd09cca07f7",
            "14a0ea518df14537900188750ce23cfa",
            "1c5036de98334fd5b2c520cd992e8915",
            "6f621e6e408c4e52b479e71bc54d3761",
            "e7f5d403136241948fad4c05e433495e"
          ]
        },
        "outputId": "1c630e51-cb18-445b-fb73-5cb609a28d1a"
      },
      "execution_count": 7,
      "outputs": [
        {
          "output_type": "stream",
          "name": "stderr",
          "text": [
            "/usr/local/lib/python3.11/dist-packages/huggingface_hub/utils/_auth.py:94: UserWarning: \n",
            "The secret `HF_TOKEN` does not exist in your Colab secrets.\n",
            "To authenticate with the Hugging Face Hub, create a token in your settings tab (https://huggingface.co/settings/tokens), set it as secret in your Google Colab and restart your session.\n",
            "You will be able to reuse this secret in all of your notebooks.\n",
            "Please note that authentication is recommended but still optional to access public models or datasets.\n",
            "  warnings.warn(\n"
          ]
        },
        {
          "output_type": "display_data",
          "data": {
            "text/plain": [
              "README.md:   0%|          | 0.00/7.81k [00:00<?, ?B/s]"
            ],
            "application/vnd.jupyter.widget-view+json": {
              "version_major": 2,
              "version_minor": 0,
              "model_id": "b89e223c42924d67a3156ca4c1f62686"
            }
          },
          "metadata": {}
        },
        {
          "output_type": "display_data",
          "data": {
            "text/plain": [
              "train-00000-of-00001.parquet:   0%|          | 0.00/21.0M [00:00<?, ?B/s]"
            ],
            "application/vnd.jupyter.widget-view+json": {
              "version_major": 2,
              "version_minor": 0,
              "model_id": "2dc294ee2e3e43589de93b654863a8bf"
            }
          },
          "metadata": {}
        },
        {
          "output_type": "display_data",
          "data": {
            "text/plain": [
              "test-00000-of-00001.parquet:   0%|          | 0.00/20.5M [00:00<?, ?B/s]"
            ],
            "application/vnd.jupyter.widget-view+json": {
              "version_major": 2,
              "version_minor": 0,
              "model_id": "91208c3929bb4fbcb6ef630f77779bba"
            }
          },
          "metadata": {}
        },
        {
          "output_type": "display_data",
          "data": {
            "text/plain": [
              "unsupervised-00000-of-00001.parquet:   0%|          | 0.00/42.0M [00:00<?, ?B/s]"
            ],
            "application/vnd.jupyter.widget-view+json": {
              "version_major": 2,
              "version_minor": 0,
              "model_id": "b6ad753c65b54d8381a6616bc06b713d"
            }
          },
          "metadata": {}
        },
        {
          "output_type": "display_data",
          "data": {
            "text/plain": [
              "Generating train split:   0%|          | 0/25000 [00:00<?, ? examples/s]"
            ],
            "application/vnd.jupyter.widget-view+json": {
              "version_major": 2,
              "version_minor": 0,
              "model_id": "92c7c007fa5d4577aa624f05af24b2d8"
            }
          },
          "metadata": {}
        },
        {
          "output_type": "display_data",
          "data": {
            "text/plain": [
              "Generating test split:   0%|          | 0/25000 [00:00<?, ? examples/s]"
            ],
            "application/vnd.jupyter.widget-view+json": {
              "version_major": 2,
              "version_minor": 0,
              "model_id": "a069dadbde5946dd8b6fd2889ad9db01"
            }
          },
          "metadata": {}
        },
        {
          "output_type": "display_data",
          "data": {
            "text/plain": [
              "Generating unsupervised split:   0%|          | 0/50000 [00:00<?, ? examples/s]"
            ],
            "application/vnd.jupyter.widget-view+json": {
              "version_major": 2,
              "version_minor": 0,
              "model_id": "12c46bdfab04400f91f8f27fc65ec75b"
            }
          },
          "metadata": {}
        }
      ]
    },
    {
      "cell_type": "code",
      "source": [
        "from getpass import getpass\n",
        "import os\n",
        "\n",
        "print('Enter OpenAI API key:')\n",
        "openai_api_key = getpass()\n",
        "\n",
        "os.environ['OPENAI_API_KEY']=openai_api_key\n",
        "client = OpenAI()"
      ],
      "metadata": {
        "id": "xZQdIqijE9U1",
        "colab": {
          "base_uri": "https://localhost:8080/"
        },
        "outputId": "61ad2dd9-a277-46c2-cd6b-95b6656f63d8"
      },
      "execution_count": 8,
      "outputs": [
        {
          "name": "stdout",
          "output_type": "stream",
          "text": [
            "Enter OpenAI API key:\n",
            "··········\n"
          ]
        }
      ]
    },
    {
      "cell_type": "code",
      "source": [
        "OPENAI_API_KEY = openai_api_key"
      ],
      "metadata": {
        "id": "SSu2-9ZKGblj"
      },
      "execution_count": 11,
      "outputs": []
    },
    {
      "cell_type": "code",
      "source": [
        "import openai\n",
        "\n",
        "cache = {}\n",
        "def run_gpt3(prompt, return_first_line = True, instruction_tuned = False):\n",
        "    # Return the response from the cache if we have already run this\n",
        "    cache_key = (prompt, return_first_line, instruction_tuned)\n",
        "    if cache_key in cache:\n",
        "        return cache[cache_key]\n",
        "\n",
        "    response = \"\"\n",
        "\n",
        "    # Select the model\n",
        "    if instruction_tuned:\n",
        "        model = \"gpt-3.5-turbo-instruct\"\n",
        "    else:\n",
        "        # You may also use \"davinci-002\"\n",
        "        model = \"babbage-002\"\n",
        "\n",
        "    # Send the prompt to GPT-3\n",
        "    for i in range(0,60,6):\n",
        "        try:\n",
        "            response = client.completions.create(\n",
        "                model=model,\n",
        "                prompt=prompt,\n",
        "                temperature=0,\n",
        "                max_tokens=100,\n",
        "                top_p=1,\n",
        "                frequency_penalty=0.0,\n",
        "                presence_penalty=0.0,\n",
        "            ).choices[0].text.strip()\n",
        "            break\n",
        "        except openai.RateLimitError as e:\n",
        "            print(e)\n",
        "            sleep(i)\n",
        "\n",
        "        except Exception as e:\n",
        "            print(e)\n",
        "            break\n",
        "\n",
        "    # Parse the response\n",
        "    if return_first_line:\n",
        "        final_response = response.split('\\n')[0]\n",
        "    else:\n",
        "        final_response = response\n",
        "\n",
        "    # Cache and return the response\n",
        "    cache[cache_key] = final_response\n",
        "    return final_response"
      ],
      "metadata": {
        "id": "lNBeJLVcSusU"
      },
      "execution_count": 12,
      "outputs": []
    },
    {
      "cell_type": "markdown",
      "source": [
        "# Section 1: Exploring Prompting (15 points)\n",
        "**Background:** Prompting is a way to guide a language model, which is ultimately just a model that predicts the most likely next sequence of words, to complete some arbitrary task you want it to complete. We'll walk through a few examples and then you'll try creating your own prompts.\n",
        "\n",
        "A language model will \"complete\" (just like autocomplete) your prompt with what words are most likely to come next. We demonstrate this is the case by showing how GPT-3 completes movie quotes, when giving it the beginning of the quote:"
      ],
      "metadata": {
        "id": "PGlvLsC9B-gI"
      }
    },
    {
      "cell_type": "code",
      "source": [
        "print(run_gpt3(\"Life is like a box of chocolates,\"))\n",
        "print(run_gpt3(\"With great power,\"))\n",
        "print(run_gpt3(\"The name's Bond.\"))\n",
        "print(run_gpt3(\"Houston, we\"))\n",
        "print(run_gpt3(\"I've a feeling we're not in\"))"
      ],
      "metadata": {
        "id": "YcILHclcou0L",
        "colab": {
          "base_uri": "https://localhost:8080/"
        },
        "outputId": "6975f39b-744f-4b80-a2fb-bd7d23ea9a0f"
      },
      "execution_count": null,
      "outputs": [
        {
          "output_type": "stream",
          "name": "stdout",
          "text": [
            "you never know what you're gonna get. (laughing)\n",
            "comes great responsibility. The same goes for the power of the internet. The internet is a powerful tool, but it can also be a dangerous tool. The internet is a powerful tool, but it can also be a dangerous tool. The internet is a powerful tool, but it can also be a dangerous tool. The internet is a powerful tool, but it can also be a dangerous tool. The internet is a powerful tool, but it can also be a dangerous tool. The internet is a powerful tool\n",
            "James Bond. James Bond. James Bond. James Bond. James Bond. James Bond. James Bond. James Bond. James Bond. James Bond. James Bond. James Bond. James Bond. James Bond. James Bond. James Bond. James Bond. James Bond. James Bond. James Bond. James Bond. James Bond. James Bond. James Bond. James Bond. James Bond. James Bond. James Bond. James Bond. James Bond. James Bond. James Bond. James Bond. James\n",
            "have a problem.\n",
            "Kansas anymore.\n"
          ]
        }
      ]
    },
    {
      "cell_type": "markdown",
      "source": [
        "Now imagine we give a prompt like this:"
      ],
      "metadata": {
        "id": "RJKLr2kjatM3"
      }
    },
    {
      "cell_type": "code",
      "source": [
        "print(run_gpt3(\"Question: Who was the first president of the United States? Answer:\"))"
      ],
      "metadata": {
        "id": "L-XKt2tpZzi7",
        "colab": {
          "base_uri": "https://localhost:8080/"
        },
        "outputId": "23d686f1-b720-4ff8-b592-e674fc795575"
      },
      "execution_count": null,
      "outputs": [
        {
          "output_type": "stream",
          "name": "stdout",
          "text": [
            "George Washington. The first president of the United States was George Washington. He was the first president of the United States. He was the first president of the United States. He was the first president of the United States. He was the first president of the United States. He was the first president of the United States. He was the first president of the United States. He was the first president of the United States. He was the first president of the United States. He was the first president of\n"
          ]
        }
      ]
    },
    {
      "cell_type": "markdown",
      "source": [
        "By posing a question and writing \"Answer:\" at the end, we make it such that the most likely next sequence of words is the answer to the question! This is the key to large language models being able to perform arbitrary tasks, even though they are only trained to predict the next word.\n",
        "\n",
        "We can parameterize this prompt and make it reusable for different questions:"
      ],
      "metadata": {
        "id": "Q41x7bVXbLY-"
      }
    },
    {
      "cell_type": "code",
      "source": [
        "QA_PROMPT = \"Question: {input} Answer:\"\n",
        "print(run_gpt3(QA_PROMPT.replace(\"{input}\", \"What company did Steve Jobs found?\")))\n",
        "print(run_gpt3(QA_PROMPT.replace(\"{input}\", \"What's the movie with Tom Cruise about fighter jets?\")))\n",
        "print(run_gpt3(QA_PROMPT.replace(\"{input}\", \"Are tomatoes a fruit or a vegetable?\")))"
      ],
      "metadata": {
        "id": "YeHF3-OPZ601",
        "colab": {
          "base_uri": "https://localhost:8080/"
        },
        "outputId": "9ada2ef9-7ee1-4533-de9d-8b73991138b5"
      },
      "execution_count": null,
      "outputs": [
        {
          "output_type": "stream",
          "name": "stdout",
          "text": [
            "Apple Inc. Steve Jobs founded Apple in 1976. He was the CEO of Apple for 12 years. He was the CEO of Apple for 12 years. He was the CEO of Apple for 12 years. He was the CEO of Apple for 12 years. He was the CEO of Apple for 12 years. He was the CEO of Apple for 12 years. He was the CEO of Apple for 12 years. He was the CEO of Apple for 12 years.\n",
            "Top Gun.\n",
            "Tomatoes are a fruit. Tomatoes are a fruit. Tomatoes are a fruit. Tomatoes are a fruit. Tomatoes are a fruit. Tomatoes are a fruit. Tomatoes are a fruit. Tomatoes are a fruit. Tomatoes are a fruit. Tomatoes are a fruit. Tomatoes are a fruit. Tomatoes are a fruit. Tomatoes are a fruit. Tomatoes are a fruit. Tomatoes are a fruit. Tomatoes are a fruit. Tomatoes are a\n"
          ]
        }
      ]
    },
    {
      "cell_type": "markdown",
      "source": [
        "Now that you've seen a few examples it's time for you to come up with a few of your own prompts! Make sure you parameterize them with `{input}` before sending the prompt to the autograder. All your prompts should be reuseable when the autograder does `.replace(\"{input}\", ...)` on them.\n",
        "\n",
        "Note: These models are not easy to control. Therefore, it's okay if your prompt does not always get the answer right or also spews extra text along with the answer (as long as the answer comes first). Test it out a few times, and if it seems like it works, then you can try it with the autograder."
      ],
      "metadata": {
        "id": "cWLiOfB_fB-T"
      }
    },
    {
      "cell_type": "markdown",
      "source": [
        "- **Problem 1.1:** Write a prompt that returns the capital of country."
      ],
      "metadata": {
        "id": "TUnnuRJfbXf5"
      }
    },
    {
      "cell_type": "code",
      "source": [
        "CAPITAL_OF_COUNTRY_PROMPT = \"What is the capital of {input}? Answer:\"\n",
        "print(run_gpt3(CAPITAL_OF_COUNTRY_PROMPT.replace(\"{input}\", \"Japan\")))"
      ],
      "metadata": {
        "colab": {
          "base_uri": "https://localhost:8080/"
        },
        "id": "_6G-Fkvaa_4O",
        "outputId": "6ce31253-aea5-4871-9f12-a76b723e94ca"
      },
      "execution_count": null,
      "outputs": [
        {
          "output_type": "stream",
          "name": "stdout",
          "text": [
            "Tokyo\n"
          ]
        }
      ]
    },
    {
      "cell_type": "code",
      "source": [
        "# TODO\n",
        "CAPITAL_OF_COUNTRY_PROMPT = \"What is the capital of {input}? Answer:\"\n",
        "\n",
        "# PennGrader - DO NOT CHANGE\n",
        "# reload_grader()\n",
        "grader.grade(test_case_id = 'test_capital_of_country', answer = (OPENAI_API_KEY, CAPITAL_OF_COUNTRY_PROMPT))"
      ],
      "metadata": {
        "id": "hVUR92UPbSkn",
        "colab": {
          "base_uri": "https://localhost:8080/"
        },
        "outputId": "fed04929-c616-4918-8b5f-6c28a8172758"
      },
      "execution_count": null,
      "outputs": [
        {
          "output_type": "stream",
          "name": "stdout",
          "text": [
            "Correct! You earned 3/3 points. You are a star!\n",
            "\n",
            "Your submission has been successfully recorded in the gradebook.\n"
          ]
        }
      ]
    },
    {
      "cell_type": "markdown",
      "source": [
        " - **Problem 1.2:** Write a prompt that given a famous movie returns the director."
      ],
      "metadata": {
        "id": "U-GAJhyvbido"
      }
    },
    {
      "cell_type": "code",
      "source": [
        "DIRECTOR_OF_MOVIE_PROMPT = \"Who was the director of {input}? Answer:\"\n",
        "print(run_gpt3(DIRECTOR_OF_MOVIE_PROMPT.replace(\"{input}\", \"The Matrix\")))"
      ],
      "metadata": {
        "colab": {
          "base_uri": "https://localhost:8080/"
        },
        "id": "JaQh7eAFbtoR",
        "outputId": "ad3e316f-e60e-409e-b588-ac7f4aaa763c"
      },
      "execution_count": null,
      "outputs": [
        {
          "output_type": "stream",
          "name": "stdout",
          "text": [
            "The Wachowski Brothers\n"
          ]
        }
      ]
    },
    {
      "cell_type": "code",
      "source": [
        "# TODO\n",
        "DIRECTOR_OF_MOVIE_PROMPT = \"Who was the director of {input}? Answer:\"\n",
        "\n",
        "# PennGrader - DO NOT CHANGE\n",
        "# reload_grader()\n",
        "grader.grade(test_case_id = 'test_director_of_movie', answer = (OPENAI_API_KEY, DIRECTOR_OF_MOVIE_PROMPT))"
      ],
      "metadata": {
        "id": "pTANEQk9bpa_",
        "colab": {
          "base_uri": "https://localhost:8080/"
        },
        "outputId": "bc5c7252-d2ee-4389-fb32-cdc995fe132d"
      },
      "execution_count": null,
      "outputs": [
        {
          "output_type": "stream",
          "name": "stdout",
          "text": [
            "Correct! You earned 3/3 points. You are a star!\n",
            "\n",
            "Your submission has been successfully recorded in the gradebook.\n"
          ]
        }
      ]
    },
    {
      "cell_type": "markdown",
      "source": [
        " - **Problem 1.3:** Write a prompt that given a word, returns a list of synonyms. (Hint: use `return_first_line=False` as an argument when using `run_gpt3`)"
      ],
      "metadata": {
        "id": "cjol744PbwIl"
      }
    },
    {
      "cell_type": "code",
      "source": [
        "SYNONYMS_OF_WORD_PROMPT = \"What is a synonym of {input}? Answer:\"\n",
        "print(run_gpt3(SYNONYMS_OF_WORD_PROMPT.replace(\"{input}\", \"surpise\"), return_first_line=False))"
      ],
      "metadata": {
        "colab": {
          "base_uri": "https://localhost:8080/"
        },
        "id": "Jq12ZpqbcEtf",
        "outputId": "024fc5d6-7848-46c9-8e7a-d008e3ac97b2"
      },
      "execution_count": null,
      "outputs": [
        {
          "output_type": "stream",
          "name": "stdout",
          "text": [
            "surprise\n",
            "\n",
            "What is the synonym of surpise? Answer: surprise\n",
            "\n",
            "What is the opposite of surprise? Answer: calm\n",
            "\n",
            "What is the synonym of surprise? Answer: calm\n",
            "\n",
            "What is the opposite of surprise? Answer: calm\n",
            "\n",
            "What is the difference between surprise and surprise? Answer: surprise is to be surprised, surprise is to be surprised\n",
            "\n",
            "What is the difference between surprise and surprise? Answer: surprise is to be surprised, surprise is to be surprised\n",
            "\n",
            "What is the difference between surprise\n"
          ]
        }
      ]
    },
    {
      "cell_type": "code",
      "source": [
        "# TODO\n",
        "SYNONYMS_OF_WORD_PROMPT = \"What is a synonym of {input}? Answer:\"\n",
        "\n",
        "# PennGrader - DO NOT CHANGE\n",
        "# reload_grader()\n",
        "grader.grade(test_case_id = 'test_synonyms_of_word', answer = (OPENAI_API_KEY, SYNONYMS_OF_WORD_PROMPT))"
      ],
      "metadata": {
        "id": "guWIM6eLb2jA",
        "colab": {
          "base_uri": "https://localhost:8080/"
        },
        "outputId": "4c438f84-c511-479d-c80c-5d217d981240"
      },
      "execution_count": null,
      "outputs": [
        {
          "output_type": "stream",
          "name": "stdout",
          "text": [
            "Correct! You earned 3/3 points. You are a star!\n",
            "\n",
            "Your submission has been successfully recorded in the gradebook.\n"
          ]
        }
      ]
    },
    {
      "cell_type": "markdown",
      "source": [
        " - **Problem 1.4:** Write a prompt that given a food item (\"cookies\"), returns a list of ingredients used to make that food item. (Hint: use `return_first_line=False` as an argument when using `run_gpt3`)"
      ],
      "metadata": {
        "id": "2cuv5HzCbpzW"
      }
    },
    {
      "cell_type": "code",
      "source": [
        "INGREDIENTS_OF_FOOD_PROMPT = \"Give me a list of ingredients for {input}? Answer:\"\n",
        "print(run_gpt3(INGREDIENTS_OF_FOOD_PROMPT.replace(\"{input}\", \"cookies\"), return_first_line=False))"
      ],
      "metadata": {
        "colab": {
          "base_uri": "https://localhost:8080/"
        },
        "id": "jwK0NOLkcfDy",
        "outputId": "277138cc-2b2f-4f4f-85d5-da4148cf207f"
      },
      "execution_count": null,
      "outputs": [
        {
          "output_type": "stream",
          "name": "stdout",
          "text": [
            "1 cup of butter, 1 cup of sugar, 1 cup of flour, 1 egg, 1 teaspoon of vanilla, 1 teaspoon of baking soda, 1 teaspoon of salt, 1 cup of chocolate chips, 1 cup of chopped nuts, 1 cup of raisins, 1 cup of chopped walnuts, 1 cup of chopped pecans, 1 cup of chopped almonds, 1 cup of chopped walnuts, 1 cup of chopped pecans\n"
          ]
        }
      ]
    },
    {
      "cell_type": "code",
      "source": [
        "# TODO\n",
        "INGREDIENTS_OF_FOOD_PROMPT = \"Give me a list of ingredients for {input}? Answer:\"\n",
        "\n",
        "# PennGrader - DO NOT CHANGE\n",
        "# reload_grader()\n",
        "grader.grade(test_case_id = 'test_ingredients_of_food', answer = (OPENAI_API_KEY, INGREDIENTS_OF_FOOD_PROMPT))"
      ],
      "metadata": {
        "id": "eB3WOnVKbv_R",
        "colab": {
          "base_uri": "https://localhost:8080/"
        },
        "outputId": "d913138d-1485-4c04-e553-0006985678c4"
      },
      "execution_count": null,
      "outputs": [
        {
          "output_type": "stream",
          "name": "stdout",
          "text": [
            "Correct! You earned 3/3 points. You are a star!\n",
            "\n",
            "Your submission has been successfully recorded in the gradebook.\n"
          ]
        }
      ]
    },
    {
      "cell_type": "markdown",
      "source": [
        "**Problem 1.5:** Write a prompt that given a famous quote (\"One small step for man, one giant leap for mankind.\", quote characters included), returns the name of the person who said the quote (quotee).\n",
        "\n",
        "*Extra Challenge:* We want you to try to complete this one without question marks (\"?\") or question words (\"Who\", \"What\", etc.). You will only get full points if your prompt does not contain those. Hint: Reading, Section 2, may help you with this if you can't figure it out."
      ],
      "metadata": {
        "id": "droxlfchrFiK"
      }
    },
    {
      "cell_type": "code",
      "source": [
        "QUOTEE_OF_QUOTE_PROMPT = \"{input} is said by: Answer:\"\n",
        "print(run_gpt3(QUOTEE_OF_QUOTE_PROMPT.replace(\"{input}\", \"One small step for man, one giant leap for mankind.\")))\n",
        "print(run_gpt3(QUOTEE_OF_QUOTE_PROMPT.replace(\"{input}\", \"Darkness cannot drive out darkness: only light can do that. Hate cannot drive out hate: only love can do that.\")))"
      ],
      "metadata": {
        "colab": {
          "base_uri": "https://localhost:8080/"
        },
        "id": "sQ9uoBbRcvoY",
        "outputId": "cb2149c7-46bf-4895-ecdf-02e77c2d4678"
      },
      "execution_count": null,
      "outputs": [
        {
          "output_type": "stream",
          "name": "stdout",
          "text": [
            "Neil Armstrong\n",
            "Jesus\n"
          ]
        }
      ]
    },
    {
      "cell_type": "code",
      "source": [
        "# TODO\n",
        "QUOTEE_OF_QUOTE_PROMPT = \"{input} is said by: Answer:\"\n",
        "\n",
        "# PennGrader - DO NOT CHANGE\n",
        "# reload_grader()\n",
        "grader.grade(test_case_id = 'test_quotee_of_quote', answer = (OPENAI_API_KEY, QUOTEE_OF_QUOTE_PROMPT))"
      ],
      "metadata": {
        "id": "TZxbEh14rF3e",
        "colab": {
          "base_uri": "https://localhost:8080/"
        },
        "outputId": "f367a2b4-8afc-4956-efd3-f6c53eff19a7"
      },
      "execution_count": null,
      "outputs": [
        {
          "output_type": "stream",
          "name": "stdout",
          "text": [
            "Correct! You earned 3/3 points. You are a star!\n",
            "\n",
            "Your submission has been successfully recorded in the gradebook.\n"
          ]
        }
      ]
    },
    {
      "cell_type": "markdown",
      "source": [
        "# Section 2: Prompt Engineering (20 points)\n",
        "\n",
        "---\n",
        "\n",
        "\n",
        "\n",
        "The prompts you have used up to this point have been fairly basic and straightforward to create. But what if you have a more difficult task and it seems like your prompt isn't working? *Prompt engineering* is the procecss of iterating on a prompt in clever ways to induce the model to produce what you want. The best way of prompt engineering systematically vs. randomly is by understanding how the underlying model was trained and what data it was trained on to best prompt the model.\n",
        "\n",
        "Imagine we want the model to generate a quote in Donald Trump's style of talking about a certain topic:"
      ],
      "metadata": {
        "id": "jpJIgznD_mw4"
      }
    },
    {
      "cell_type": "code",
      "source": [
        "DONALD_TRUMP_PROMPT = \"Question: What would Donald Trump say about {input}? Answer:\"\n",
        "DONALD_TRUMP_PROMPT_ENGINEERED_1 = 'On the topic of {input}, Donald Trump was quoted as saying \"'\n",
        "DONALD_TRUMP_PROMPT_ENGINEERED_2 = 'On the topic of {input}, Donald Trump expressed optimism saying \"'\n",
        "DONALD_TRUMP_PROMPT_ENGINEERED_3 = 'On the topic of {input}, Donald Trump expressed doubt saying \"'\n",
        "\n",
        "print(run_gpt3(DONALD_TRUMP_PROMPT.replace(\"{input}\", 'the stock market'))) # Doesn't work\n",
        "print(run_gpt3(DONALD_TRUMP_PROMPT_ENGINEERED_1.replace(\"{input}\", 'the stock market'))) # Works!\n",
        "print(run_gpt3(DONALD_TRUMP_PROMPT_ENGINEERED_2.replace(\"{input}\", 'the stock market'))) # Works!\n",
        "print(run_gpt3(DONALD_TRUMP_PROMPT_ENGINEERED_3.replace(\"{input}\", 'the stock market'))) # Works!"
      ],
      "metadata": {
        "id": "AwBHGjCc6fdu",
        "colab": {
          "base_uri": "https://localhost:8080/"
        },
        "outputId": "38a1c0da-4326-4bbb-f354-72d6bbdd1809"
      },
      "execution_count": null,
      "outputs": [
        {
          "output_type": "stream",
          "name": "stdout",
          "text": [
            "He would say it’s a “great time to buy.”\n",
            "I'm not a big fan of the stock market. I think it's rigged. I think it's rigged. I think it's rigged. I think it's rigged. I think it's rigged. I think it's rigged. I think it's rigged. I think it's rigged. I think it's rigged. I think it's rigged. I think it's rigged. I think it's rigged. I think it's rigged. I think it's rigged. I think it's rigged\n",
            "I think the stock market is going to go up a lot\". The Dow Jones Industrial Average rose 0.5 percent to 24,000. The S&P 500 rose 0.5 percent to 2,600. The Nasdaq Composite Index rose 0.5 percent to 7,100.\n",
            "I don't know if it's going to go up or down\". The Dow Jones Industrial Average fell 0.3 percent to 24,000.54, the S&P 500 lost 0.3 percent to 2,600.97 and the Nasdaq Composite dropped 0.4 percent to 7,075.68.\n"
          ]
        }
      ]
    },
    {
      "cell_type": "markdown",
      "source": [
        "The first naive prompt doesn't really work. After prompt engineering, not only do we get a much more realistic generation of his style, but we can also control whether he is talking about the topic positively or negatively.\n",
        "\n",
        "**Please respond to the following questions in your `report.pdf`**\n",
        "\n",
        "* **Problem 2.1:** Why did the `DONALD_TRUMP_PROMPT_ENGINEERED_1` prompt work much better than the `DONALD_TRUMP_PROMPT` prompt?"
      ],
      "metadata": {
        "id": "1PhkpaGlCVPf"
      }
    },
    {
      "cell_type": "markdown",
      "source": [
        "A prompt that is well-engineered can effectively solve difficult NLP tasks that previously were solved by fine-tuning models. In lecture, we showed some examples of these.\n",
        "\n",
        "**Problem 2.2:** Write a prompt that will solve the [sentiment classification task](https://en.wikipedia.org/wiki/Sentiment_analysis), and classify [movie reviews](https://ai.stanford.edu/~amaas/data/sentiment/) as *positive* or *negative*. `IMDB_DATASET_X` and `IMDB_DATASET_Y` contain 200 reviews and sentiment labels (1 = positive, 0 = negative). Get as high of an accuracy as you can on these. Place your `MOVIE_SENTIMENT` prompt and `POSITIVE_VEBALIZERS` and `NEGATIVE_VERBALIZERS` in `report.pdf` for manual grading. Along with your `correct` (out of 200) score.\n",
        "\n",
        "*Warning:* Be careful not to exhaust your free OpenAI credits while testing, you can check [on this page here](https://platform.openai.com/account/usage). To avoid exhausting your credits quickly, test your code on a few examples from the IMDB dataset first, and then scale up to the full 200."
      ],
      "metadata": {
        "id": "aEkQ_gUOTPOT"
      }
    },
    {
      "cell_type": "code",
      "source": [],
      "metadata": {
        "id": "GDYzGXyxM4dU"
      },
      "execution_count": null,
      "outputs": []
    },
    {
      "cell_type": "code",
      "source": [],
      "metadata": {
        "id": "0wcEju3sM4rf"
      },
      "execution_count": null,
      "outputs": []
    },
    {
      "cell_type": "code",
      "source": [
        "MOVIE_SENTIMENT_PROMPT = \"The rating of this movie review: {input} out of 5 is : \"\n",
        "\n",
        "print(run_gpt3(MOVIE_SENTIMENT_PROMPT.replace(\"{input}\", IMDB_DATASET_X[2])))\n",
        "print(run_gpt3(MOVIE_SENTIMENT_PROMPT.replace(\"{input}\", IMDB_DATASET_X[49])))\n",
        "print(run_gpt3(MOVIE_SENTIMENT_PROMPT.replace(\"{input}\", IMDB_DATASET_X[91])))\n",
        "print(run_gpt3(MOVIE_SENTIMENT_PROMPT.replace(\"{input}\", IMDB_DATASET_X[54])))\n",
        "print(run_gpt3(MOVIE_SENTIMENT_PROMPT.replace(\"{input}\", IMDB_DATASET_X[22])))\n",
        "print(IMDB_DATASET_X[9])\n"
      ],
      "metadata": {
        "colab": {
          "base_uri": "https://localhost:8080/"
        },
        "id": "42mGm1OE9CTx",
        "outputId": "e5a05b52-4ba4-4462-f610-460da4b59033"
      },
      "execution_count": null,
      "outputs": [
        {
          "output_type": "stream",
          "name": "stdout",
          "text": [
            "3.5\n",
            "1.00\n",
            "4.5\n",
            "5<BR /><BR /><BR /><BR /><BR /><BR /><BR /><BR /><BR /><BR /><BR /><BR /><BR /><BR /><BR /><BR /><BR /><BR /><BR /><BR /><BR /><BR /><BR /><BR /><BR /><BR /><BR /><BR /><BR /><BR /><BR /><BR /><BR /><\n",
            "1.5\n",
            "Home Room deals with a Columbine-like high-school shooting but rather than hashing over the occurrence itself the film portrays the aftermath and what happened to the survivors, their trauma, guilt and denial.<br /><br />*Spoilers* The shooting itself is treated as a foregone conclusion, with no action footage other than the reaction of an almost teenage SWAT commando after shooting the high school killer. The film has three protagonists; the detective investigating the crime of which no guilty parties are left to convict and two teenage girls surviving the incident, played by a very young Erika Christensen and Busy Philipps.<br /><br />The two girls having nothing in common besides the shooting are put together because of it and the drama ensues.<br /><br />Erika Christensen, though only 24 has been around the block so much that film viewers are pretty much acquainted with her solid and reliable style of acting. Busy Philipps, three years older than Christensen and altogether unknown to me, blew me away with her overwhelming dramatic strength and screen presence. This girl was the part.<br /><br />It's a great movie and it connects to you with its intimate focus on the fragile yet growing relationship between the two traumatized girls. Gus van Sant's Elephant (2003) though good, seems almost superficial and paltry compared to Home Room when it comes to dramatic flair and acting. What I can see this film got very little screen time and exposure - so much more a loss for an equally traumatized America.<br /><br />Ten out of Ten\n"
          ]
        }
      ]
    },
    {
      "cell_type": "code",
      "source": [
        "# TODO\n",
        "MOVIE_SENTIMENT_PROMPT = \"The rating of this movie review: {input} out of 5 is : \"\n",
        "\n",
        "POSITIVE_VERBALIZERS = [\n",
        "    \"good\", \"positive\", \"3.5\", \"4\" \"4.0\", \"4.5\", \"5.0\", \"out\" \"awesome\", \"shock\", \"great\", \"excellent\", \"fantastic\", \"fun\", \"entertaining\", \"wonderful\", \"superb\", \"memorable\"\n",
        "    # TODO - Add other positive verbalizers ...\n",
        "]\n",
        "NEGATIVE_VERBALIZERS = [\n",
        "    \"bad\", \"negative\", \"1\", \"1.0\", \"1.5\", \"2\", \"2.0\", \"2.5\", \"3.0\" \"awful\", \"disappointing\", \"poor\", \"lame\", \"boring\", \"frustrating\", \"slow\", \"cringe\", \"forgettable\", \"messy\", \"unwatchable\"\n",
        "    # TODO - Add other negative verbalizers ...\n",
        "]\n",
        "\n",
        "\n",
        "def map_to_sentiment_label(gpt3_output):\n",
        "    for v in POSITIVE_VERBALIZERS:\n",
        "        if v.lower() in gpt3_output[:20].lower():\n",
        "            return 1\n",
        "    for v in NEGATIVE_VERBALIZERS:\n",
        "        if v.lower() in gpt3_output[:20].lower():\n",
        "            return 0\n",
        "    return None\n",
        "\n",
        "correct = 0\n",
        "for review, label in zip(IMDB_DATASET_X, IMDB_DATASET_Y):\n",
        "    gpt3_output = run_gpt3(MOVIE_SENTIMENT_PROMPT.replace(\"{input}\", review))\n",
        "    prediction = map_to_sentiment_label(gpt3_output)\n",
        "    if prediction == label:\n",
        "        correct += 1\n",
        "    print(f\"Prediction: {prediction}, Label: {label}\")\n",
        "print(f\"Correct: {correct}/200\")"
      ],
      "metadata": {
        "id": "FivGbeAmVOK7",
        "colab": {
          "base_uri": "https://localhost:8080/"
        },
        "outputId": "fbc7d51f-9858-4f1b-b47d-082104380ca0"
      },
      "execution_count": null,
      "outputs": [
        {
          "output_type": "stream",
          "name": "stdout",
          "text": [
            "Prediction: 1, Label: 1\n",
            "Prediction: None, Label: 1\n",
            "Prediction: 1, Label: 0\n",
            "Prediction: 0, Label: 1\n",
            "Prediction: 1, Label: 0\n",
            "Prediction: 1, Label: 1\n",
            "Prediction: 1, Label: 1\n",
            "Prediction: 0, Label: 0\n",
            "Prediction: 0, Label: 0\n",
            "Prediction: 0, Label: 1\n",
            "Prediction: 0, Label: 1\n",
            "Prediction: 0, Label: 0\n",
            "Prediction: 0, Label: 0\n",
            "Prediction: 1, Label: 0\n",
            "Prediction: None, Label: 1\n",
            "Prediction: None, Label: 1\n",
            "Prediction: 0, Label: 0\n",
            "Prediction: 0, Label: 0\n",
            "Prediction: 1, Label: 1\n",
            "Prediction: 1, Label: 1\n",
            "Prediction: 0, Label: 0\n",
            "Prediction: 0, Label: 0\n",
            "Prediction: 0, Label: 0\n",
            "Prediction: None, Label: 1\n",
            "Prediction: 0, Label: 0\n",
            "Prediction: 1, Label: 1\n",
            "Prediction: 0, Label: 0\n",
            "Prediction: None, Label: 1\n",
            "Prediction: None, Label: 1\n",
            "Prediction: 0, Label: 1\n",
            "Prediction: 0, Label: 0\n",
            "Prediction: 1, Label: 0\n",
            "Prediction: 1, Label: 1\n",
            "Prediction: 0, Label: 0\n",
            "Prediction: 0, Label: 0\n",
            "Prediction: 1, Label: 1\n",
            "Prediction: 1, Label: 0\n",
            "Prediction: 0, Label: 0\n",
            "Prediction: 0, Label: 0\n",
            "Prediction: 0, Label: 0\n",
            "Prediction: 0, Label: 0\n",
            "Prediction: 0, Label: 0\n",
            "Prediction: 0, Label: 0\n",
            "Prediction: 0, Label: 0\n",
            "Prediction: 0, Label: 0\n",
            "Prediction: 1, Label: 1\n",
            "Prediction: 1, Label: 1\n",
            "Prediction: 1, Label: 1\n",
            "Prediction: 1, Label: 1\n",
            "Prediction: 0, Label: 0\n",
            "Prediction: None, Label: 1\n",
            "Prediction: 0, Label: 1\n",
            "Prediction: 0, Label: 0\n",
            "Prediction: None, Label: 1\n",
            "Prediction: None, Label: 1\n",
            "Prediction: None, Label: 1\n",
            "Prediction: 0, Label: 0\n",
            "Prediction: 1, Label: 1\n",
            "Prediction: 1, Label: 1\n",
            "Prediction: 1, Label: 1\n",
            "Prediction: 0, Label: 0\n",
            "Prediction: 0, Label: 0\n",
            "Prediction: 0, Label: 0\n",
            "Prediction: 0, Label: 0\n",
            "Prediction: 1, Label: 1\n",
            "Prediction: 0, Label: 0\n",
            "Prediction: 0, Label: 0\n",
            "Prediction: 1, Label: 1\n",
            "Prediction: 1, Label: 1\n",
            "Prediction: 1, Label: 0\n",
            "Prediction: 0, Label: 0\n",
            "Prediction: 0, Label: 0\n",
            "Prediction: 0, Label: 0\n",
            "Prediction: 1, Label: 1\n",
            "Prediction: 0, Label: 0\n",
            "Prediction: 0, Label: 0\n",
            "Prediction: 0, Label: 0\n",
            "Prediction: 1, Label: 1\n",
            "Prediction: 0, Label: 0\n",
            "Prediction: 1, Label: 1\n",
            "Prediction: 0, Label: 0\n",
            "Prediction: 1, Label: 1\n",
            "Prediction: 1, Label: 0\n",
            "Prediction: None, Label: 1\n",
            "Prediction: 1, Label: 1\n",
            "Prediction: 0, Label: 1\n",
            "Prediction: None, Label: 1\n",
            "Prediction: None, Label: 0\n",
            "Prediction: 1, Label: 1\n",
            "Prediction: 1, Label: 1\n",
            "Prediction: 0, Label: 0\n",
            "Prediction: 1, Label: 1\n",
            "Prediction: 0, Label: 0\n",
            "Prediction: 1, Label: 1\n",
            "Prediction: 0, Label: 0\n",
            "Prediction: 0, Label: 0\n",
            "Prediction: 0, Label: 0\n",
            "Prediction: 0, Label: 0\n",
            "Prediction: 1, Label: 1\n",
            "Prediction: 1, Label: 1\n",
            "Prediction: 0, Label: 0\n",
            "Prediction: 0, Label: 0\n",
            "Prediction: 0, Label: 0\n",
            "Prediction: None, Label: 1\n",
            "Prediction: 0, Label: 1\n",
            "Prediction: 1, Label: 0\n",
            "Prediction: 0, Label: 0\n",
            "Prediction: 0, Label: 0\n",
            "Prediction: 0, Label: 0\n",
            "Prediction: 0, Label: 0\n",
            "Prediction: 0, Label: 1\n",
            "Prediction: 1, Label: 1\n",
            "Prediction: 1, Label: 1\n",
            "Prediction: 0, Label: 1\n",
            "Prediction: 0, Label: 0\n",
            "Prediction: 1, Label: 1\n",
            "Prediction: 1, Label: 1\n",
            "Prediction: 0, Label: 0\n",
            "Prediction: None, Label: 1\n",
            "Prediction: 1, Label: 1\n",
            "Prediction: 0, Label: 0\n",
            "Prediction: 0, Label: 0\n",
            "Prediction: 0, Label: 0\n",
            "Prediction: 1, Label: 1\n",
            "Prediction: 1, Label: 1\n",
            "Prediction: 1, Label: 1\n",
            "Prediction: 0, Label: 0\n",
            "Prediction: 1, Label: 1\n",
            "Prediction: 0, Label: 0\n",
            "Prediction: 0, Label: 1\n",
            "Prediction: 0, Label: 0\n",
            "Prediction: 0, Label: 0\n",
            "Prediction: 0, Label: 0\n",
            "Prediction: 1, Label: 1\n",
            "Prediction: 1, Label: 1\n",
            "Prediction: 1, Label: 1\n",
            "Prediction: 0, Label: 0\n",
            "Prediction: 0, Label: 0\n",
            "Prediction: 1, Label: 1\n",
            "Prediction: None, Label: 1\n",
            "Prediction: 0, Label: 0\n",
            "Prediction: 1, Label: 1\n",
            "Prediction: 1, Label: 1\n",
            "Prediction: 0, Label: 0\n",
            "Prediction: None, Label: 1\n",
            "Prediction: 0, Label: 0\n",
            "Prediction: 0, Label: 0\n",
            "Prediction: 0, Label: 0\n",
            "Prediction: None, Label: 1\n",
            "Prediction: 0, Label: 0\n",
            "Prediction: 0, Label: 0\n",
            "Prediction: 0, Label: 0\n",
            "Prediction: 0, Label: 0\n",
            "Prediction: 1, Label: 1\n",
            "Prediction: 0, Label: 0\n",
            "Prediction: 0, Label: 0\n",
            "Prediction: 1, Label: 1\n",
            "Prediction: 1, Label: 1\n",
            "Prediction: 1, Label: 1\n",
            "Prediction: 0, Label: 0\n",
            "Prediction: 0, Label: 0\n",
            "Prediction: 0, Label: 1\n",
            "Prediction: 0, Label: 0\n",
            "Prediction: 0, Label: 0\n",
            "Prediction: 0, Label: 0\n",
            "Prediction: 1, Label: 1\n",
            "Prediction: 1, Label: 1\n",
            "Prediction: 1, Label: 0\n",
            "Prediction: 0, Label: 0\n",
            "Prediction: 0, Label: 0\n",
            "Prediction: None, Label: 1\n",
            "Prediction: 1, Label: 1\n",
            "Prediction: 0, Label: 0\n",
            "Prediction: 0, Label: 0\n",
            "Prediction: 0, Label: 0\n",
            "Prediction: 0, Label: 0\n",
            "Prediction: 1, Label: 1\n",
            "Prediction: None, Label: 1\n",
            "Prediction: 1, Label: 1\n",
            "Prediction: 1, Label: 1\n",
            "Prediction: 0, Label: 1\n",
            "Prediction: 1, Label: 1\n",
            "Prediction: 1, Label: 1\n",
            "Prediction: 0, Label: 0\n",
            "Prediction: 0, Label: 0\n",
            "Prediction: None, Label: 1\n",
            "Prediction: 1, Label: 0\n",
            "Prediction: 0, Label: 0\n",
            "Prediction: 1, Label: 1\n",
            "Prediction: 1, Label: 0\n",
            "Prediction: 1, Label: 1\n",
            "Prediction: 0, Label: 0\n",
            "Prediction: 0, Label: 0\n",
            "Prediction: 1, Label: 1\n",
            "Prediction: 0, Label: 1\n",
            "Prediction: 0, Label: 1\n",
            "Prediction: 0, Label: 0\n",
            "Prediction: 1, Label: 1\n",
            "Prediction: 1, Label: 1\n",
            "Prediction: 1, Label: 1\n",
            "Correct: 154/200\n"
          ]
        }
      ]
    },
    {
      "cell_type": "markdown",
      "source": [
        "# Section 3: Few-Shot Prompting (20 points)\n",
        "\n",
        "The prompts you have seen up until this point are zero-shot prompts, in that we are asking the model to complete a task without any examples. By providing some examples in the prompt, the model becomes significantly more capable. We'll show an example.\n",
        "\n",
        "Consider the task of figuring out a more complex version of a word:"
      ],
      "metadata": {
        "id": "gsi2i4y64kvP"
      }
    },
    {
      "cell_type": "code",
      "source": [
        "ZERO_SHOT_COMPLEX_PROMPT = \"Question: What is a more complex word for {input}? Answer:\"\n",
        "FEW_SHOT_COMPLEX_PROMPT = \"angry : aggrieved\\nsad : depressed\\n{input} :\"\n",
        "\n",
        "print(run_gpt3(ZERO_SHOT_COMPLEX_PROMPT.replace(\"{input}\", 'confused'))) # Doesn't work\n",
        "print(run_gpt3(FEW_SHOT_COMPLEX_PROMPT.replace(\"{input}\", 'confused'))) # Works!"
      ],
      "metadata": {
        "id": "RZs-_4-S_vww",
        "colab": {
          "base_uri": "https://localhost:8080/"
        },
        "outputId": "f716c2ed-fa1a-42c2-954f-ec871fcea241"
      },
      "execution_count": null,
      "outputs": [
        {
          "output_type": "stream",
          "name": "stdout",
          "text": [
            "Confused. Confused is a word that is used to describe a person who is confused. Confused is a word that is used to describe a person who is confused. Confused is a word that is used to describe a person who is confused. Confused is a word that is used to describe a person who is confused. Confused is a word that is used to describe a person who is confused. Confused is a word that is used to describe a person who is confused. Conf\n",
            "bewildered\n"
          ]
        }
      ]
    },
    {
      "cell_type": "markdown",
      "source": [
        "The first zero-shot prompt where we have no example doesn't work at all, where as when we give 2 examples in the few-shot prompt (2-shot prompt), it works.\n",
        "\n",
        "Now that you've seen an example of few-shot prompting, it's your turn to try it.\n",
        "\n",
        "**Problem 3.1:** Write a few-shot prompt that translates a Korean word to an English word."
      ],
      "metadata": {
        "id": "yotgY6JWHCRL"
      }
    },
    {
      "cell_type": "code",
      "source": [
        "# TODO\n",
        "KOREAN_TO_ENGLISH_PROMPT = \"Korean: eon-eo : English: language, Korean: {input} : English: \"\n",
        "\n",
        "# PennGrader - DO NOT CHANGE\n",
        "# reload_grader()\n",
        "grader.grade(test_case_id = 'test_korean_to_english', answer = (OPENAI_API_KEY, KOREAN_TO_ENGLISH_PROMPT))"
      ],
      "metadata": {
        "id": "lEf2PB9WHSus",
        "colab": {
          "base_uri": "https://localhost:8080/"
        },
        "outputId": "e73b12c1-1142-4a69-9b10-ce21d764d2d9"
      },
      "execution_count": null,
      "outputs": [
        {
          "output_type": "stream",
          "name": "stdout",
          "text": [
            "Correct! You earned 5/5 points. You are a star!\n",
            "\n",
            "Your submission has been successfully recorded in the gradebook.\n"
          ]
        }
      ]
    },
    {
      "cell_type": "markdown",
      "source": [
        "**Problem 3.2:** Write a few-shot prompt that converts an input into a [Jeopardy! style answer](https://en.wikipedia.org/wiki/Jeopardy!#:~:text=Rather%20than%20being%20given%20questions,the%20form%20of%20a%20question.) (The Great Lakes -> \"What are the Great Lakes?\" or Taylor Swift -> \"Who is Taylor Swift?\")"
      ],
      "metadata": {
        "id": "afOSMXJ7U-ty"
      }
    },
    {
      "cell_type": "code",
      "source": [
        "# TODO\n",
        "TO_JEOPARDY_ANSWER_PROMPT = (\n",
        "    \"Input: The Great Lakes\\nJeopardy Answer: What are the Great Lakes?\\n\"\n",
        "    \"Input: Kevin\\nJeopardy Answer: Who is Kevin?\\n\"\n",
        "    \"Input: Water\\nJeopardy Answer: What is water?\\n\"\n",
        "    \"Input: {input}\\nJeopardy Answer:\"\n",
        ")\n",
        "\n",
        "\n",
        "# PennGrader - DO NOT CHANGE\n",
        "# reload_grader()\n",
        "grader.grade(test_case_id = 'test_to_jeopardy_answer', answer = (OPENAI_API_KEY, TO_JEOPARDY_ANSWER_PROMPT))"
      ],
      "metadata": {
        "id": "iPxTwMR8V92B",
        "colab": {
          "base_uri": "https://localhost:8080/"
        },
        "outputId": "113acb6a-149c-4a6f-d696-6cc035934d85"
      },
      "execution_count": null,
      "outputs": [
        {
          "output_type": "stream",
          "name": "stdout",
          "text": [
            "Correct! You earned 5/5 points. You are a star!\n",
            "\n",
            "Your submission has been successfully recorded in the gradebook.\n"
          ]
        }
      ]
    },
    {
      "cell_type": "markdown",
      "source": [
        "**Please respond to the following question in your `report.pdf`**\n",
        "\n",
        "**Problem 3.3:** Come up with 3 more arbitrary tasks, where a zero-shot prompt might not suffice, and a few-shot prompt would be required. Provide a short write up describing what your tasks are. Provide examples of a zero-prompt not working for it. Then, show us your few-shot prompt and some results. Be creative and try to pick 3 tasks that are somewhat distinct from each other!"
      ],
      "metadata": {
        "id": "ZykJv03wYrb8"
      }
    },
    {
      "cell_type": "code",
      "source": [
        "#Task 1 - STOCK Ticker to Name converter\n",
        "TICKER_TO_NAME_ZERO_SHOT_PROMPT = \"Ticker: MSFT\\nName: Microsoft?\\n\"\n",
        "print(run_gpt3(TICKER_TO_NAME_ZERO_SHOT_PROMPT.replace(\"{input}\", 'GOOG')))\n",
        "print(run_gpt3(TICKER_TO_NAME_ZERO_SHOT_PROMPT.replace(\"{input}\", 'FB')))\n",
        "print(run_gpt3(TICKER_TO_NAME_ZERO_SHOT_PROMPT.replace(\"{input}\", 'AMZN')))\n",
        "print(run_gpt3(TICKER_TO_NAME_ZERO_SHOT_PROMPT.replace(\"{input}\", 'AA')))"
      ],
      "metadata": {
        "colab": {
          "base_uri": "https://localhost:8080/"
        },
        "id": "ivnJ_OckVkOV",
        "outputId": "60376c55-0453-4dfc-ad2b-faed0a0416bc"
      },
      "execution_count": null,
      "outputs": [
        {
          "output_type": "stream",
          "name": "stdout",
          "text": [
            "Inventors: Bill Gates\n",
            "Inventors: Bill Gates\n",
            "Inventors: Bill Gates\n",
            "Inventors: Bill Gates\n"
          ]
        }
      ]
    },
    {
      "cell_type": "code",
      "source": [
        "#Task 1 - STOCK Ticker to Name converter\n",
        "TICKER_TO_NAME_FEW_SHOT_PROMPT = (\n",
        "    \"Ticker: TSLA\\nName: Tesla?\\n\"\n",
        "    \"Ticker: AAPL\\nName: Apple?\\n\"\n",
        "    \"Ticker: MSFT\\nName: Microsoft?\\n\"\n",
        "    \"Ticker: A\\nName: Agilent Technologies\\n\"\n",
        "    \"Ticker: {input}\\nName:\"\n",
        ")\n",
        "print(run_gpt3(TICKER_TO_NAME_FEW_SHOT_PROMPT.replace(\"{input}\", 'GOOG')))\n",
        "print(run_gpt3(TICKER_TO_NAME_FEW_SHOT_PROMPT.replace(\"{input}\", 'FB')))\n",
        "print(run_gpt3(TICKER_TO_NAME_FEW_SHOT_PROMPT.replace(\"{input}\", 'AMZN')))\n",
        "print(run_gpt3(TICKER_TO_NAME_FEW_SHOT_PROMPT.replace(\"{input}\", 'AA')))"
      ],
      "metadata": {
        "colab": {
          "base_uri": "https://localhost:8080/"
        },
        "id": "gfP7n7vfUWV7",
        "outputId": "85ab3d50-8ef0-464b-aaa0-ee5a5e1db99c"
      },
      "execution_count": null,
      "outputs": [
        {
          "output_type": "stream",
          "name": "stdout",
          "text": [
            "Google\n",
            "Facebook\n",
            "Amazon\n",
            "American Airlines\n"
          ]
        }
      ]
    },
    {
      "cell_type": "code",
      "source": [
        "#Tasl 2 - REG SENT TO PIRATE SENT ZERO SHOT\n",
        "REG_SENT_TO_PIRATE_ZERO_SHOT_PROMPT = (\n",
        "    \"Regular: {input}\\n\"\n",
        "    \"Pirate: Yaarg, I be Kevin\")\n",
        "\n",
        "print(run_gpt3(REG_SENT_TO_PIRATE_ZERO_SHOT_PROMPT.replace(\"{input}\", 'Lets get going')))"
      ],
      "metadata": {
        "colab": {
          "base_uri": "https://localhost:8080/"
        },
        "id": "vJSW1nIXaDQ6",
        "outputId": "45ed3cda-a3b8-4c1b-de3c-745c6c2faa28"
      },
      "execution_count": null,
      "outputs": [
        {
          "output_type": "stream",
          "name": "stdout",
          "text": [
            "by TheRealKevin March 05, 2011\n"
          ]
        }
      ]
    },
    {
      "cell_type": "code",
      "source": [
        "#Task 2 - REG SENT TO PIRATE SENT FEW SHOT\n",
        "REG_SENT_TO_PIRATE_FEW_SHOT_PROMPT = (\n",
        "    \"Regular: Hello, My name is Kevin\\nPirate: Yarrg, Captain Kevin at your service\\n\"\n",
        "    \"Regular: Where is the treasure?\\nPirate: Where be the treasure, matey?\\n\"\n",
        "    \"Regular: I want to sail the seas.\\nPirate: I be wantin’ to sail the seven seas!\\n\"\n",
        "    \"Regular: I’m hungry\\nPirate: Me belly be rumblin’!\\n\"\n",
        "    \"Regular: Let’s get out of here!\\nPirate: Let’s make sail outta this cursed place!\\n\"\n",
        "    \"Regular: {input}\\nPirate:\"\n",
        ")\n",
        "print(run_gpt3(REG_SENT_TO_PIRATE_FEW_SHOT_PROMPT.replace(\"{input}\", 'Lets get going')))\n",
        "print(run_gpt3(REG_SENT_TO_PIRATE_FEW_SHOT_PROMPT.replace(\"{input}\", 'Whos the captain now?')))\n",
        "print(run_gpt3(REG_SENT_TO_PIRATE_FEW_SHOT_PROMPT.replace(\"{input}\", 'Hello')))\n"
      ],
      "metadata": {
        "colab": {
          "base_uri": "https://localhost:8080/"
        },
        "id": "NNXnFDPwWNSh",
        "outputId": "922cc944-1e78-4a68-bd8b-09485988ff8b"
      },
      "execution_count": null,
      "outputs": [
        {
          "output_type": "stream",
          "name": "stdout",
          "text": [
            "Lets get goin’!\n",
            "I be the captain now!\n",
            "Hello, matey!\n"
          ]
        }
      ]
    },
    {
      "cell_type": "code",
      "source": [
        "#task 3 - Artist to Song Zero Shot Prompt\n",
        "ARTIST_TO_SONG_ZERO_SHOT_PROMPT = (\n",
        "    \"Song: {input}\\nArtist: The Weeknd\"\n",
        ")\n",
        "\n",
        "print(run_gpt3(ARTIST_TO_SONG_ZERO_SHOT_PROMPT.replace(\"{input}\", 'Love Story')))\n",
        "print(run_gpt3(ARTIST_TO_SONG_ZERO_SHOT_PROMPT.replace(\"{input}\", 'Shape of You')))\n"
      ],
      "metadata": {
        "colab": {
          "base_uri": "https://localhost:8080/"
        },
        "id": "gwT6Y03vlS6a",
        "outputId": "5b2a6aec-e4b3-4e3b-97c3-bd0aea8bff81"
      },
      "execution_count": null,
      "outputs": [
        {
          "output_type": "stream",
          "name": "stdout",
          "text": [
            "Album: Beauty Behind the Madness\n",
            "Album: Beauty Behind the Madness\n"
          ]
        }
      ]
    },
    {
      "cell_type": "code",
      "source": [
        "#task 3 - Artist to Song Few Shot Prompt\n",
        "ARTIST_TO_SONG_FEW_SHOT_PROMPT = (\n",
        "    \"Song: My Love Mine All Mine\\nArtist: Mitski\\n\"\n",
        "    \"Song: Blinding Lights\\nArtist: The Weeknd\\n\"\n",
        "    \"Song: Talking To The Moon\\nArtist: Bruno Mars\\n\"\n",
        "    \"Song: Rolling in the Deep\\nArtist: Adele\\n\"\n",
        "    \"Song: Here\\nArtist: Alessia Cara\\n\"\n",
        "    \"Song: Blank Space\\nArtist: Taylor Swift\\n\"\n",
        "    \"Song: {input}\\nArtist:\"\n",
        ")\n",
        "\n",
        "print(run_gpt3(ARTIST_TO_SONG_FEW_SHOT_PROMPT.replace(\"{input}\", 'Love Story')))\n",
        "print(run_gpt3(ARTIST_TO_SONG_FEW_SHOT_PROMPT.replace(\"{input}\", 'Just The Way You Are')))\n",
        "print(run_gpt3(ARTIST_TO_SONG_FEW_SHOT_PROMPT.replace(\"{input}\", 'Shape of You')))"
      ],
      "metadata": {
        "colab": {
          "base_uri": "https://localhost:8080/"
        },
        "id": "x9w3NQrTmSoy",
        "outputId": "989ff7e0-d67c-408b-e7fb-d316b75a0b56"
      },
      "execution_count": null,
      "outputs": [
        {
          "output_type": "stream",
          "name": "stdout",
          "text": [
            "Taylor Swift\n",
            "Bruno Mars\n",
            "Ed Sheeran\n"
          ]
        }
      ]
    },
    {
      "cell_type": "markdown",
      "source": [
        "# Section 4: Prompting Instruction-Tuned Models (15 points)\n",
        "\n",
        "Large language models can be *instruction-tuned*, fine-tuned with examples of instructions and responses to those instructions, to make them easier to prompt and friendlier to humans. Instruction-tuned models can more easily be given natural langauge instructions describing a task you want them to complete. This makes it so that they are more performant without requiring as much prompt engineering and makes them more likely to succeed with just zero-shot prompting. The version of GPT-3 we were working with in previous exercises was not instruction-tuned, we now will use instruction-tuned models from here on out:"
      ],
      "metadata": {
        "id": "xfGRGgLCc38j"
      }
    },
    {
      "cell_type": "code",
      "source": [
        "TO_JEOPARDY_INSTRUCTION_PROMPT = \"What would a Jeopardy! contestant say if the answer was \\\"{input}\\\"?\"\n",
        "\n",
        "print(run_gpt3(TO_JEOPARDY_INSTRUCTION_PROMPT.replace(\"{input}\", 'Taylor Swift'))) # Doesn't work on non-instruction tuned model\n",
        "print(run_gpt3(TO_JEOPARDY_INSTRUCTION_PROMPT.replace(\"{input}\", 'Taylor Swift'), instruction_tuned=True)) # Works and is simpler!"
      ],
      "metadata": {
        "id": "HC0Rc41Hdikw",
        "colab": {
          "base_uri": "https://localhost:8080/"
        },
        "outputId": "5ce71c14-15dd-429e-a6fa-370531e756e5"
      },
      "execution_count": null,
      "outputs": [
        {
          "output_type": "stream",
          "name": "stdout",
          "text": [
            "That's the question that's been on the minds of many a Jeopardy! contestant since the show's debut in 1984. The answer is \"Taylor Swift,\" and the contestant who got it right was a 21-year-old from New York named Ryan. Ryan was the first contestant to correctly answer the question, and he was rewarded with $10,000. Ryan's answer was \"Taylor Swift,\" and he was the first contestant to correctly answer the question, and he was rewarded with\n",
            "\"What is the name of the Grammy-winning singer-songwriter known for hits like 'Shake It Off' and 'Blank Space'?\"\n"
          ]
        }
      ]
    },
    {
      "cell_type": "markdown",
      "source": [
        "As you can see, these instruction-tuned models make it much simpler to complete complex tasks since you can \"talk\" to them naturally. We'll now ask you to try.\n",
        "\n",
        "**Problem 4.1:** Write a prompt that returns the Spanish word given an English word (painting -> pintura).\n",
        "\n",
        "*Extra Challenge:* We want you to complete this one such that the model only returns a single Spanish word and nothing else. You will only get points if your model only returns a single Spanish word and nothing else."
      ],
      "metadata": {
        "id": "zl-njdLbg6Hr"
      }
    },
    {
      "cell_type": "code",
      "source": [
        "# TODO\n",
        "ENGLISH_TO_SPANISH_PROMPT = \"What is {input} in Spanish? Answer:\"\n",
        "\n",
        "# PennGrader - DO NOT CHANGE\n",
        "# reload_grader()\n",
        "grader.grade(test_case_id = 'test_english_to_spanish', answer = (OPENAI_API_KEY, ENGLISH_TO_SPANISH_PROMPT))"
      ],
      "metadata": {
        "id": "CoU6zfxps06_",
        "colab": {
          "base_uri": "https://localhost:8080/"
        },
        "outputId": "8d5c8010-f179-44a5-9b90-ab73822d058e"
      },
      "execution_count": null,
      "outputs": [
        {
          "output_type": "stream",
          "name": "stdout",
          "text": [
            "Correct! You earned 5/5 points. You are a star!\n",
            "\n",
            "Your submission has been successfully recorded in the gradebook.\n"
          ]
        }
      ]
    },
    {
      "cell_type": "markdown",
      "source": [
        "**Please respond to the following question in your `report.pdf`**\n",
        "\n",
        "**Problem 4.2:** Come up with 3 more arbitrary tasks, where the non-instruction-tuned model might not suffice, and an instruction-tuned model would be required. Provide a short write up describing what your tasks are. Provide examples of a prompt not working on a non-instruction-tuned model. Then, show us your instruction prompt on an instruction-tuned model and some results. Be creative and try to pick 3 tasks that are somewhat distinct from each other!"
      ],
      "metadata": {
        "id": "SSvhJyZUqNyz"
      }
    },
    {
      "cell_type": "code",
      "source": [
        "# Task 1 - STATE_ABBV_TO_STATE_NAME\n",
        "STATE_ABBV_TO_STATE_NAME= \"Answer in one word. What is the full name for the state {input}?\"\n",
        "print(run_gpt3(STATE_ABBV_TO_STATE_NAME.replace(\"{input}\", 'WY')))\n",
        "print(run_gpt3(STATE_ABBV_TO_STATE_NAME.replace(\"{input}\", 'NY')))\n",
        "#Instruction Tuned\n",
        "print(run_gpt3(STATE_ABBV_TO_STATE_NAME.replace(\"{input}\", 'CA'), instruction_tuned=True))\n",
        "print(run_gpt3(STATE_ABBV_TO_STATE_NAME.replace(\"{input}\", 'NY'), instruction_tuned=True))"
      ],
      "metadata": {
        "colab": {
          "base_uri": "https://localhost:8080/"
        },
        "id": "TQFC77Fm2vMR",
        "outputId": "ee95b864-9237-4f1c-facc-6a5f7a6b49e5"
      },
      "execution_count": null,
      "outputs": [
        {
          "output_type": "stream",
          "name": "stdout",
          "text": [
            "Wyoming is a state in the United States of America. It is located in the western part of the country. It is bordered by the state of Montana to the north, Colorado to the east, Nebraska to the south, and Utah to the west. The state is named after the Wyoming River, which flows through the state. The state is also known as the “Cowboy State” because of its cowboy culture. The state is also known for its beautiful scenery and its rich history. The state is\n",
            "Answer: New York. What is the capital of New York? Answer: Albany. What is the largest city in New York? Answer: New York City. What is the most populous city in New York? Answer: New York City. What is the most populous state in the United States? Answer: New York. What is the most populous state in the United States? Answer: New York. What is the most populous state in the United States? Answer: New York. What is the most\n",
            "California\n",
            "New York\n"
          ]
        }
      ]
    },
    {
      "cell_type": "code",
      "source": [
        "#Task 2 - ARTIST_TO_SONG\n",
        "ARTIST_TO_SONG = \"Give me a motivational song from the artist {input}.\"\n",
        "print(run_gpt3(ARTIST_TO_SONG.replace(\"{input}\", 'Drake')))\n",
        "print(run_gpt3(ARTIST_TO_SONG.replace(\"{input}\", 'Kendrick Lamar')))\n",
        "#instruction tuned\n",
        "print(run_gpt3(ARTIST_TO_SONG.replace(\"{input}\", 'Drake'), instruction_tuned=True))\n",
        "print(run_gpt3(ARTIST_TO_SONG.replace(\"{input}\", 'Kendrick Lamar'), instruction_tuned=True))"
      ],
      "metadata": {
        "colab": {
          "base_uri": "https://localhost:8080/"
        },
        "id": "kruq8Dox4WUl",
        "outputId": "af33b48c-d66e-4e40-bc7e-59808e8b8c0c"
      },
      "execution_count": null,
      "outputs": [
        {
          "output_type": "stream",
          "name": "stdout",
          "text": [
            "I'm gonna need that. I'm gonna need that. I'm gonna need that. I'm gonna need that. I'm gonna need that. I'm gonna need that. I'm gonna need that. I'm gonna need that. I'm gonna need that. I'm gonna need that. I'm gonna need that. I'm gonna need that. I'm gonna need that. I'm gonna need that. I'm gonna need that. I'm gonna need that. I'm gonna need\n",
            "I'm gonna need that. I'm gonna need that. I'm gonna need that. I'm gonna need that. I'm gonna need that. I'm gonna need that. I'm gonna need that. I'm gonna need that. I'm gonna need that. I'm gonna need that. I'm gonna need that. I'm gonna need that. I'm gonna need that. I'm gonna need that. I'm gonna need that. I'm gonna need that. I'm gonna need\n",
            "\"Started From the Bottom\" by Drake\n",
            "\"Alright\" by Kendrick Lamar is a motivational song that encourages listeners to keep pushing through difficult times and to have faith in themselves and their abilities. The lyrics are uplifting and empowering, reminding listeners that they are strong and capable of overcoming any obstacles. The chorus repeats the phrase \"We gon' be alright\" as a mantra to inspire perseverance and resilience. The song also touches on themes of unity and hope, making it a powerful and motivational anthem.\n"
          ]
        }
      ]
    },
    {
      "cell_type": "code",
      "source": [
        "#Task 3 - ENGLISH_NAME_TO_JAPANESE\n",
        "ENGLISH_NAME_TO_JAPANESE = \"What is the name {input} in Japanese characters?\"\n",
        "print(run_gpt3(ENGLISH_NAME_TO_JAPANESE.replace(\"{input}\", 'Jacky')))\n",
        "print(run_gpt3(ENGLISH_NAME_TO_JAPANESE.replace(\"{input}\", 'Anna')))\n",
        "#instruction tuned\n",
        "print(run_gpt3(ENGLISH_NAME_TO_JAPANESE.replace(\"{input}\", 'Jacky'), instruction_tuned=True))\n",
        "print(run_gpt3(ENGLISH_NAME_TO_JAPANESE.replace(\"{input}\", 'Anna'), instruction_tuned=True))"
      ],
      "metadata": {
        "colab": {
          "base_uri": "https://localhost:8080/"
        },
        "id": "2JQmBpd350Sm",
        "outputId": "9b97351e-e7fe-4885-ad5a-dee6dfd6800b"
      },
      "execution_count": null,
      "outputs": [
        {
          "output_type": "stream",
          "name": "stdout",
          "text": [
            "What is the name of the Japanese girl who is the main character in the anime series \"Kimi ni Todoke\"? What is the name of the Japanese girl who is the main character in the anime series \"Kimi ni Todoke\"? What is the name of the Japanese girl who is the main character in the anime series \"Kimi ni Todoke\"? What is the name of the Japanese girl who is the main character in the anime series \"Kimi ni Todoke\"? What is the name\n",
            "What is the name of the Japanese girl in the anime \"Kimi ni Todoke\"? What is the name of the Japanese girl in the anime \"Kimi ni Todoke\"? What is the name of the Japanese girl in the anime \"Kimi ni Todoke\"? What is the name of the Japanese girl in the anime \"Kimi ni Todoke\"? What is the name of the Japanese girl in the anime \"Kimi ni Todoke\"? What is the name of the Japanese girl in the\n",
            "ジャッキー\n",
            "アンナ\n"
          ]
        }
      ]
    },
    {
      "cell_type": "markdown",
      "source": [
        "# Section 5: Chain-of-Thought Reasoning (30 points)\n",
        "\n",
        "One recent method to prompt large language models is Chain-of-Thought Prompting. This is similar to few-shot prompting, except you not only provide a few examples, but you also provide an explanation with a reasoning chain to the model. Providing this reasoning chain as been shown to improve performance on a wide variety of tasks.\n",
        "\n",
        "We demonstrate on a task that consists of 2 arithmetic operations over 3 single digit numbers:"
      ],
      "metadata": {
        "id": "bVbLbnc3rbbx"
      }
    },
    {
      "cell_type": "code",
      "source": [
        "FEW_SHOT_ARITHMETIC_PROMPT = \"2 * 4 + 2?\\n10\\n6 + 7 - 2\\n11\\n{input}?\"\n",
        "COT_ARITHMETIC_PROMPT = \"2 * 4 + 2?\\n2 * 4 = 8. 8 + 2 = 10\\n6 + 7 - 2?\\n6 + 7 = 13. 13 - 2 = 11\\n{input}?\"\n",
        "\n",
        "print(run_gpt3(FEW_SHOT_ARITHMETIC_PROMPT.replace(\"{input}\", '20 + 10 - 5'), instruction_tuned=True)) # Doesn't work without CoT prompting\n",
        "print(run_gpt3(COT_ARITHMETIC_PROMPT.replace(\"{input}\", '20 + 10 - 5'), instruction_tuned=True)) # Works!"
      ],
      "metadata": {
        "id": "R0VXpCRMsqUR",
        "colab": {
          "base_uri": "https://localhost:8080/"
        },
        "outputId": "cbd589b9-618c-4791-f8d9-770f02686737"
      },
      "execution_count": null,
      "outputs": [
        {
          "output_type": "stream",
          "name": "stdout",
          "text": [
            "25\n",
            "20 + 10 = 30. 30 - 5 = 25\n"
          ]
        }
      ]
    },
    {
      "cell_type": "markdown",
      "source": [
        "Next, we create a dataset with 50 examples:"
      ],
      "metadata": {
        "id": "Vwy3ToB2wAG9"
      }
    },
    {
      "cell_type": "code",
      "source": [
        "import random\n",
        "import re\n",
        "\n",
        "def compute(x, operand, y):\n",
        "    if operand == '+':\n",
        "        return x + y\n",
        "    elif operand == '-':\n",
        "        return x - y\n",
        "    elif operand == '*':\n",
        "        return x * y\n",
        "\n",
        "def create_arithmetic_dataset(n_examples, seed = 42):\n",
        "    random.seed(seed)\n",
        "    X = []\n",
        "    y = []\n",
        "    for i in range(n_examples):\n",
        "        num_1 = random.randint(10,200)\n",
        "        operator_1 = random.choice(['+', '-', '*'])\n",
        "        num_2 = random.randint(10,200)\n",
        "        operator_2 = random.choice(['+', '-', '*'])\n",
        "        num_3 = random.randint(10,200)\n",
        "        if operator_2 == '*' and operator_1 != '*':\n",
        "            # Order of operations:\n",
        "            # Do the right-hand side first\n",
        "            intermediate = compute(num_2, operator_2, num_3)\n",
        "            final = compute(num_1, operator_1, intermediate)\n",
        "        else:\n",
        "            intermediate = compute(num_1, operator_1, num_2)\n",
        "            final = compute(intermediate, operator_2, num_3)\n",
        "        X.append(f'{num_1} {operator_1} {num_2} {operator_2} {num_3}')\n",
        "        y.append(final)\n",
        "    return X, y\n",
        "\n",
        "def parse_answer(model_output):\n",
        "    '''Parses the output of the model to get the final answer.'''\n",
        "    try:\n",
        "        # Gets the last number in the string using regex and returns\n",
        "        # that\n",
        "        return int(re.search(r'-?\\d+(?!.*-?\\d+)', model_output)[0])\n",
        "    except TypeError:\n",
        "        return None\n",
        "\n",
        "arithmetic_X, arithmetic_y = create_arithmetic_dataset(50)"
      ],
      "metadata": {
        "id": "uaGLMcb20fjK"
      },
      "execution_count": 16,
      "outputs": []
    },
    {
      "cell_type": "markdown",
      "source": [
        "**Please respond to the following questions in your `report.pdf`**\n",
        "\n",
        "**Problem 5.1:** Your job is to investigate how few-shot Chain-of-Thought prompting performs vs. regular few-shot prompting over the entire arithmetic dataset and grade how many out of 50 are correct. Perform this experiment 6 times each with a different number of regular few-shot examples (1 example, 2 examples, 4 examples, 8 examples, 16 examples, 32 examples) and 6 times again each with a different number of Chain-of-Thought few-shot examples (1 CoT example, 2 CoT examples, 4 CoT examples, 8 CoT examples, 16 CoT examples, 32 CoT examples).\n",
        "\n",
        "Create a table or plot of (N examples) vs. (% questions correct by the model with a few-shot prompt with N examples) vs. (% questions correct by the model with a CoT prompt with N examples). Report this table or plot in `report.pdf` with a short write-up about your observations. Keep the code used to build your table or plot in your notebook for inspection during grading.\n",
        "\n",
        "*Note:* Make sure you use `instruction_tuned = True`.\n",
        "\n",
        "*Hint:* You might find the `parse_answer` function helpful when grading how many of the model's outputs are correct or not.\n",
        "\n",
        "*Warning:* Be careful not to exhaust your free OpenAI credits while testing, you can check [on this page here](https://platform.openai.com/account/usage). To avoid exhausting your credits quickly, test your code on a smaller arithmetic dataset first, and then scale up to the full one to report your results."
      ],
      "metadata": {
        "id": "VHqtOpHp6Vjq"
      }
    },
    {
      "cell_type": "code",
      "source": [
        "print(arithmetic_X[0])\n",
        "print(arithmetic_y[0])\n",
        "print(arithmetic_X[1])"
      ],
      "metadata": {
        "colab": {
          "base_uri": "https://localhost:8080/"
        },
        "id": "7sM-VbLsCD0m",
        "outputId": "4c7e6885-ec22-4c88-d472-50c6f7411002"
      },
      "execution_count": 17,
      "outputs": [
        {
          "output_type": "stream",
          "name": "stdout",
          "text": [
            "173 + 16 * 80\n",
            "1453\n",
            "72 + 45 * 36\n"
          ]
        }
      ]
    },
    {
      "cell_type": "code",
      "source": [
        "def get_few_shot_prompt(X, y, n):\n",
        "    prompt = \"\"\n",
        "    for i in range(n):\n",
        "        prompt += f\"{X[i]} = {y[i]}\\n\"\n",
        "    return prompt"
      ],
      "metadata": {
        "id": "LkZ89RjpyFKx"
      },
      "execution_count": 18,
      "outputs": []
    },
    {
      "cell_type": "code",
      "source": [
        "print(get_few_shot_prompt(arithmetic_X, arithmetic_y, 4))"
      ],
      "metadata": {
        "colab": {
          "base_uri": "https://localhost:8080/"
        },
        "id": "BbrdfO5PyMm-",
        "outputId": "8749e1a6-ac60-4acd-c886-d76634ebe4a0"
      },
      "execution_count": 19,
      "outputs": [
        {
          "output_type": "stream",
          "name": "stdout",
          "text": [
            "173 + 16 * 80 = 1453\n",
            "72 + 45 * 36 = 1692\n",
            "183 * 149 + 161 = 27428\n",
            "118 + 17 + 65 = 200\n",
            "\n"
          ]
        }
      ]
    },
    {
      "cell_type": "code",
      "source": [
        "def get_cot_prompt(X,y, n):\n",
        "    prompt = \"\"\n",
        "    for i in range(n):\n",
        "        operation = X[i]\n",
        "        num_1, operator_1, num_2, operator_2, num_3 = operation.split()\n",
        "        num_1, num_2, num_3 = int(num_1), int(num_2), int(num_3)\n",
        "        if operator_2 == '*' and operator_1 != '*':\n",
        "            intermediate_step = f'{num_2} {operator_2} {num_3}'\n",
        "            intermediate = compute(num_2, operator_2, num_3)\n",
        "            final_step = f'{intermediate} {operator_1} {num_1}'\n",
        "            final = compute(num_1, operator_1, intermediate)\n",
        "        else:\n",
        "            intermediate_step = f'{num_1} {operator_1} {num_2}'\n",
        "            intermediate = compute(num_1, operator_1, num_2)\n",
        "            final_step = f'{intermediate} {operator_2} {num_3}'\n",
        "            final = compute(intermediate, operator_2, num_3)\n",
        "        prompt += f\"{operation} = {intermediate_step} = {intermediate}. {final_step} = {final}\\n\"\n",
        "    return prompt"
      ],
      "metadata": {
        "id": "jkjnspwoyT55"
      },
      "execution_count": 35,
      "outputs": []
    },
    {
      "cell_type": "code",
      "source": [
        "print(get_cot_prompt(arithmetic_X, arithmetic_y, 4))"
      ],
      "metadata": {
        "colab": {
          "base_uri": "https://localhost:8080/"
        },
        "id": "eL0jzJFv0K-p",
        "outputId": "1f1d8d02-007f-430d-88ee-24aa0844f1f2"
      },
      "execution_count": 36,
      "outputs": [
        {
          "output_type": "stream",
          "name": "stdout",
          "text": [
            "173 + 16 * 80 = 16 * 80 = 1280. 1280 + 173 = 1453\n",
            "72 + 45 * 36 = 45 * 36 = 1620. 1620 + 72 = 1692\n",
            "183 * 149 + 161 = 183 * 149 = 27267. 27267 + 161 = 27428\n",
            "118 + 17 + 65 = 118 + 17 = 135. 135 + 65 = 200\n",
            "\n"
          ]
        }
      ]
    },
    {
      "cell_type": "code",
      "source": [
        "# TODO - Solve Problem 5.1 here\n",
        "few_shot_prompt_1 = get_few_shot_prompt(arithmetic_X, arithmetic_y, 1) + \"{input}\"\n",
        "few_shot_prompt_2 = get_few_shot_prompt(arithmetic_X, arithmetic_y, 2) + \"{input}\"\n",
        "few_shot_prompt_4 = get_few_shot_prompt(arithmetic_X, arithmetic_y, 4) + \"{input}\"\n",
        "few_shot_prompt_8 = get_few_shot_prompt(arithmetic_X, arithmetic_y, 8) + \"{input}\"\n",
        "few_shot_prompt_16 = get_few_shot_prompt(arithmetic_X, arithmetic_y, 16) + \"{input}\"\n",
        "few_shot_prompt_32 = get_few_shot_prompt(arithmetic_X, arithmetic_y, 32) + \"{input}\"\n",
        "\n",
        "\n",
        "print(few_shot_prompt_4)\n",
        "\n",
        "cot_prompt_1 = get_cot_prompt(arithmetic_X, arithmetic_y, 1) + \"{input}\"\n",
        "cot_prompt_2 = get_cot_prompt(arithmetic_X, arithmetic_y, 2) + \"{input}\"\n",
        "cot_prompt_4 = get_cot_prompt(arithmetic_X, arithmetic_y, 4) + \"{input}\"\n",
        "cot_prompt_8 = get_cot_prompt(arithmetic_X, arithmetic_y, 8) + \"{input}\"\n",
        "cot_prompt_16 = get_cot_prompt(arithmetic_X, arithmetic_y, 16) + \"{input}\"\n",
        "cot_prompt_32 = get_cot_prompt(arithmetic_X, arithmetic_y, 32) + \"{input}\"\n",
        "\n",
        "\n",
        "print(cot_prompt_4)\n"
      ],
      "metadata": {
        "id": "z34fPG7g7yVM",
        "colab": {
          "base_uri": "https://localhost:8080/"
        },
        "outputId": "ed0ec667-d082-476a-812b-99abb1a5c192"
      },
      "execution_count": 42,
      "outputs": [
        {
          "output_type": "stream",
          "name": "stdout",
          "text": [
            "173 + 16 * 80 = 1453\n",
            "72 + 45 * 36 = 1692\n",
            "183 * 149 + 161 = 27428\n",
            "118 + 17 + 65 = 200\n",
            "{input}\n",
            "173 + 16 * 80 = 16 * 80 = 1280. 1280 + 173 = 1453\n",
            "72 + 45 * 36 = 45 * 36 = 1620. 1620 + 72 = 1692\n",
            "183 * 149 + 161 = 183 * 149 = 27267. 27267 + 161 = 27428\n",
            "118 + 17 + 65 = 118 + 17 = 135. 135 + 65 = 200\n",
            "{input}\n"
          ]
        }
      ]
    },
    {
      "cell_type": "code",
      "source": [
        "def test_prompt(prompt, X, y):\n",
        "    correct = 0\n",
        "    for x, y_true in zip(X, y):\n",
        "        pred = parse_answer(run_gpt3(prompt.replace(\"{input}\", x), instruction_tuned=True))\n",
        "        if pred == y_true:\n",
        "            correct += 1\n",
        "    return correct/len(y)\n"
      ],
      "metadata": {
        "id": "1n_C0H-X2CJl"
      },
      "execution_count": 43,
      "outputs": []
    },
    {
      "cell_type": "code",
      "source": [
        "arithmetic_X, arithmetic_y = create_arithmetic_dataset(50)\n",
        "test_prompt(few_shot_prompt_1, arithmetic_X, arithmetic_y)"
      ],
      "metadata": {
        "colab": {
          "base_uri": "https://localhost:8080/"
        },
        "id": "1Yzgjd9D5Gkc",
        "outputId": "6210d7d2-1d55-41f8-905a-720c23a1fe73"
      },
      "execution_count": 44,
      "outputs": [
        {
          "output_type": "stream",
          "name": "stdout",
          "text": [
            "0.28\n"
          ]
        }
      ]
    },
    {
      "cell_type": "code",
      "source": [
        "few_shot_1 = test_prompt(few_shot_prompt_1, arithmetic_X, arithmetic_y)\n",
        "few_shot_2 = test_prompt(few_shot_prompt_2, arithmetic_X, arithmetic_y)\n",
        "few_shot_4 = test_prompt(few_shot_prompt_4, arithmetic_X, arithmetic_y)\n",
        "few_shot_8 = test_prompt(few_shot_prompt_8, arithmetic_X, arithmetic_y)\n",
        "few_shot_16 = test_prompt(few_shot_prompt_16, arithmetic_X, arithmetic_y)\n",
        "few_shot_32 = test_prompt(few_shot_prompt_32, arithmetic_X, arithmetic_y)"
      ],
      "metadata": {
        "id": "56ForPAU5fb6"
      },
      "execution_count": 45,
      "outputs": []
    },
    {
      "cell_type": "code",
      "source": [
        "cot_1 = test_prompt(cot_prompt_1, arithmetic_X, arithmetic_y)\n",
        "cot_2 = test_prompt(cot_prompt_2, arithmetic_X, arithmetic_y)\n",
        "cot_4 = test_prompt(cot_prompt_4, arithmetic_X, arithmetic_y)\n",
        "cot_8 = test_prompt(cot_prompt_8, arithmetic_X, arithmetic_y)\n",
        "cot_16 = test_prompt(cot_prompt_16, arithmetic_X, arithmetic_y)\n",
        "cot_32 = test_prompt(cot_prompt_32, arithmetic_X, arithmetic_y)"
      ],
      "metadata": {
        "id": "UfixZbc95veQ"
      },
      "execution_count": 48,
      "outputs": []
    },
    {
      "cell_type": "code",
      "source": [
        "print(few_shot_1)\n",
        "print(few_shot_2)\n",
        "print(few_shot_4)\n",
        "print(few_shot_8)\n",
        "print(few_shot_16)\n",
        "print(few_shot_32)"
      ],
      "metadata": {
        "colab": {
          "base_uri": "https://localhost:8080/"
        },
        "id": "XWfIDlYh6AvD",
        "outputId": "13be6630-0d40-45c4-8632-62da02971738"
      },
      "execution_count": 49,
      "outputs": [
        {
          "output_type": "stream",
          "name": "stdout",
          "text": [
            "0.28\n",
            "0.46\n",
            "0.54\n",
            "0.6\n",
            "0.68\n",
            "0.82\n"
          ]
        }
      ]
    },
    {
      "cell_type": "code",
      "source": [
        "print(cot_1)\n",
        "print(cot_2)\n",
        "print(cot_4)\n",
        "print(cot_8)\n",
        "print(cot_16)\n",
        "print(cot_32)"
      ],
      "metadata": {
        "colab": {
          "base_uri": "https://localhost:8080/"
        },
        "id": "eUOBzYOB7nw7",
        "outputId": "532316e0-87ca-43cd-9e88-860b3a3a930b"
      },
      "execution_count": 50,
      "outputs": [
        {
          "output_type": "stream",
          "name": "stdout",
          "text": [
            "0.3\n",
            "0.8\n",
            "0.84\n",
            "0.92\n",
            "0.82\n",
            "0.92\n"
          ]
        }
      ]
    },
    {
      "cell_type": "code",
      "source": [
        "N = [1,2,4,8,16,32]\n",
        "few_shot = [few_shot_1, few_shot_2, few_shot_4, few_shot_8, few_shot_16, few_shot_32]\n",
        "cot = [cot_1, cot_2, cot_4, cot_8, cot_16, cot_32]\n",
        "cot = [x * 100 for x in cot]\n",
        "few_shot = [x * 100 for x in few_shot]\n"
      ],
      "metadata": {
        "id": "ty-wHj1f6nTN"
      },
      "execution_count": 73,
      "outputs": []
    },
    {
      "cell_type": "code",
      "source": [
        "import matplotlib.pyplot as plt\n",
        "import numpy as np\n",
        "\n",
        "plt.figure(figsize=(10, 6))\n",
        "plt.plot(N, few_shot, marker='o', label='Few Shot Prompting')\n",
        "plt.plot(N, cot, marker='o', label='Chain of Thought Prompting')\n",
        "\n",
        "plt.title(\"Accuracy vs. Number of Prompt Examples\")\n",
        "plt.xlabel(\"Number of Examples\")\n",
        "plt.ylabel(\"Accuracy\")\n",
        "plt.legend()\n",
        "\n",
        "plt.xticks(np.arange(0, 32, step=5))\n",
        "plt.ylim(0, 100)\n",
        "plt.show()"
      ],
      "metadata": {
        "colab": {
          "base_uri": "https://localhost:8080/",
          "height": 564
        },
        "id": "1ytAPYM37pUK",
        "outputId": "70a353f6-ee10-400f-e7d9-1967a378ba01"
      },
      "execution_count": 89,
      "outputs": [
        {
          "output_type": "display_data",
          "data": {
            "text/plain": [
              "<Figure size 1000x600 with 1 Axes>"
            ],
            "image/png": "[encoded data removed]"
          },
          "metadata": {}
        }
      ]
    },
    {
      "cell_type": "markdown",
      "source": [
        "# Submissions"
      ],
      "metadata": {
        "id": "2hoP1RcwMqNF"
      }
    },
    {
      "cell_type": "markdown",
      "source": [
        "## Free-response Checklist (check if you missed anything!)\n",
        "We will look for the following free-responses in this notebook:\n",
        "- Section 2: Question responses\n",
        "- Section 3: Question response\n",
        "- Section 4: Question response\n",
        "- Section 5: Table/Plot and short write-up"
      ],
      "metadata": {
        "id": "-DfjnoJXNfCZ"
      }
    },
    {
      "cell_type": "markdown",
      "source": [
        "## GradeScope File Submission\n",
        "Here are the deliverables you need to submit to GradeScope:\n",
        "- Write-up (`report.pdf`):\n",
        "    - Section 2: Question responses\n",
        "    - Section 3: Question response\n",
        "    - Section 4: Question response\n",
        "    - Section 5: Table/Plot and short write-up\n",
        "- Code:\n",
        "    - This notebook and py file: rename to `homework8.ipynb` and `homework8.py`. You can download the notebook and py file by going to the top-left corner of this webpage, `File -> Download -> Download .ipynb/.py`"
      ],
      "metadata": {
        "id": "qx1oLs9-OFjE"
      }
    }
  ]
}