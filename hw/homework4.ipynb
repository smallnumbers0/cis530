{
  "nbformat": 4,
  "nbformat_minor": 0,
  "metadata": {
    "colab": {
      "provenance": []
    },
    "kernelspec": {
      "name": "python3",
      "display_name": "Python 3"
    },
    "language_info": {
      "name": "python"
    }
  },
  "cells": [
    {
      "cell_type": "markdown",
      "source": [
        "# Homework 4: Vector Space Models\n",
        "\n",
        "## Due Date: Jun 12th\n",
        "## Total Points: 76 (+ 15 extra credit)\n",
        "- **Overview**: In this assignment you will implement many of the things you learned in [Chapter 6 of the textbook](https://web.stanford.edu/~jurafsky/slp3/6.pdf). If you haven't read it yet, now would be a good time to do that.  We'll wait.  Done?  Great, let's move on.\n",
        "    \n",
        "    We will provide a corpus of Shakespeare plays, which you will use to create a term-document matrix and a term-context matrix. You'll implement a selection of the weighting methods and similarity metrics defined in the textbook. Ultimately, your goal is to use the resulting vectors to measure how similar Shakespeare plays are to each other, and to find words that are used in a similar fashion. All (or almost all) of the code you write will be direct implementations of concepts and equations described in [Chapter 6, sections 6.3-6.7](https://web.stanford.edu/~jurafsky/slp3/6.pdf).\n",
        "\n",
        "    *All difficulties are easy when they are known.*\n",
        "- **Delieverables:**\n",
        "    - Your implementations for the functions in the skeleton code (this notebook)\n",
        "\n",
        "- **Grading**: We will use the auto-grading system called `PennGrader`. To complete the homework assignment, you should implement anything marked with `#TODO` and run the cell with `#PennGrader` note. **There will be no hidden tests in this assignment.** In other words, you will know your score once you finish all the `#TODO` and run all the `#PennGrader` tests!\n",
        "\n",
        "\n",
        "## Recommended Readings\n",
        "\n",
        "- [Vector Semantics](https://web.stanford.edu/~jurafsky/slp3/6.pdf). Dan Jurafsky and James H. Martin. Speech and Language Processing (3rd edition draft)\n",
        "- [From Frequency to Meaning: Vector Space Models of Semantics](https://www.jair.org/media/2934/live-2934-4846-jair.pdf). Peter D. Turney and Patrick Pantel. Journal of Artificial Intelligence Research 2010\n",
        "- [Paraphrasing for Style](http://www.aclweb.org/anthology/C12-1177) Wei Xu, Alan Ritter, Bill Dolan, Ralph Grisman, and Colin Cherry. Coling 2012\n",
        "- [Evaluation methods for unsupervised word embeddings](http://www.aclweb.org/anthology/D15-1036) Tobias Schnabel, Igor Labutov, David Mimno, Thorsten Joachims. EMNLP 2015\n",
        "- [Community Evaluation and Exchange of Word Vectors at wordvectors.org.](http://www.aclweb.org/anthology/P14-5004) Manaal Faruqui and Chris Dyer. ACL demos 2014\n",
        "\n",
        "## FAQs\n",
        "\n",
        "- When finding the top 10 similar items for a given target element, should I count the target element?  \n",
        "    *No, do not count the target element.*\n",
        "\n",
        "- How can I represent a character as a vector for calculating similarity?  \n",
        "    *One reasonable way would be to do it much in the same way as for plays. You would just need to write code to segment out each character as the given code did for each play.*\n",
        "\n",
        "- What kind of analysis can I perform on the female and male Shakespearean characters for the report?  \n",
        "    *There can be various ways to go about this. You can look at PCA projections of the vectors representing the characters in the plays to see if the men and women cluster in distinct areas that are demarcated. Or you can look at the similarity scores among women, among men and compare it to the similarity scores between men and men to see if it is significantly different. To account for outliers, you can use averages in this case. Feel free to play around with different vector representations and different similarity measures.*\n",
        "\n",
        "- How can I improve the performance and efficiency of my code?  \n",
        "    *Try to use vectorized code wherever possible instead of using loops. You can refer to this resource on [vectorized code](http://www.cs.cornell.edu/courses/cs1112/2015sp/Exams/exam2/vectorizedCode.pdf).*\n",
        "\n",
        "- How many documents should I consider for reporting similarity scores in the writeup?  \n",
        "    *You need not report similarity scores for every pair of documents. A subset of similarity scores should be sufficient. For instance, you can include the top 10 of one or two documents.*\n",
        "\n",
        "- How can I compute the similarity scores on SimLex999 data set, and compute their correlation with human judgments using Kendall's Tau?  \n",
        "    *You can use simlex data to get a ranking list with your model and calculate the number of concordant and discordant pairs. You can refer to this resource on [Kendall’s Tau](https://www.statisticshowto.datasciencecentral.com/kendalls-tau/).*\n",
        "\n",
        "## To get started, **make a copy** of this colab notebook into your google drive!"
      ],
      "metadata": {
        "id": "6U0N4_Mn8Kt2"
      }
    },
    {
      "cell_type": "markdown",
      "source": [
        "**Understanding Vector Space:**\n",
        "\n",
        "A vector space is a fundamental concept in mathematics and computer science that provides a way to represent and manipulate objects that have both magnitude and direction. In the context of Natural Language Processing (NLP), we use vector spaces to represent words, documents, or other entities as points in a high-dimensional space.\n",
        "\n",
        "\n",
        "Vectors:\n",
        "A vector is an object that has both magnitude (length) and direction.\n",
        "In NLP, we often represent words or documents as vectors in a high-dimensional space.\n",
        "\n",
        "Dimensions:\n",
        "The dimensions of a vector space correspond to the features or characteristics that we use to describe the objects.\n",
        "For example, in a term-document matrix, each dimension could represent the frequency of a specific word in a document.\n",
        "\n",
        "Vector Representation:\n",
        "Each word or document can be represented as a point (vector) in this high-dimensional space.\n",
        "The position of the point is determined by the values of its features (e.g., word frequencies).\n",
        "\n",
        "Similarity and Distance:\n",
        "The similarity between vectors can be measured using various metrics, such as cosine similarity.\n",
        "Cosine similarity measures the cosine of the angle between two vectors, providing a way to quantify how similar two words or documents are based on their context or content.\n",
        "\n",
        "Applications:\n",
        "By representing words and documents as vectors, we can perform various analyses, such as finding similar words, clustering documents, or detecting anomalies.\n",
        "This representation helps in understanding relationships and patterns in the data."
      ],
      "metadata": {
        "id": "q4jeHUsS7wHW"
      }
    },
    {
      "cell_type": "markdown",
      "metadata": {
        "id": "IDv9qN5c9357"
      },
      "source": [
        "## Setup 1: PennGrader Setup [4 points]"
      ]
    },
    {
      "cell_type": "code",
      "source": [
        "## DO NOT CHANGE ANYTHING, JUST RUN\n",
        "%%capture\n",
        "!pip install penngrader-client"
      ],
      "metadata": {
        "id": "jpSjR2N19kk4"
      },
      "execution_count": 56,
      "outputs": []
    },
    {
      "cell_type": "code",
      "source": [
        "%%writefile notebook-config.yaml\n",
        "\n",
        "grader_api_url: 'https://23whrwph9h.execute-api.us-east-1.amazonaws.com/default/Grader23'\n",
        "grader_api_key: 'flfkE736fA6Z8GxMDJe2q8Kfk8UDqjsG3GVqOFOa'"
      ],
      "metadata": {
        "id": "FvPA8Z2D9ki_",
        "colab": {
          "base_uri": "https://localhost:8080/"
        },
        "outputId": "6b5f9f18-5f47-4ea2-c49b-a22c3d7b5458"
      },
      "execution_count": 57,
      "outputs": [
        {
          "output_type": "stream",
          "name": "stdout",
          "text": [
            "Overwriting notebook-config.yaml\n"
          ]
        }
      ]
    },
    {
      "cell_type": "code",
      "source": [
        "!cat notebook-config.yaml"
      ],
      "metadata": {
        "id": "xbeXT4Oj9kg_",
        "colab": {
          "base_uri": "https://localhost:8080/"
        },
        "outputId": "67e3acb2-a5eb-4edf-e9ee-82e92e0bdd93"
      },
      "execution_count": 58,
      "outputs": [
        {
          "output_type": "stream",
          "name": "stdout",
          "text": [
            "\n",
            "grader_api_url: 'https://23whrwph9h.execute-api.us-east-1.amazonaws.com/default/Grader23'\n",
            "grader_api_key: 'flfkE736fA6Z8GxMDJe2q8Kfk8UDqjsG3GVqOFOa'\n"
          ]
        }
      ]
    },
    {
      "cell_type": "code",
      "source": [
        "from penngrader.grader import *\n",
        "\n",
        "## TODO - Start\n",
        "STUDENT_ID = 56803282 # YOUR PENN-ID GOES HERE AS AN INTEGER#\n",
        "## TODO - End\n",
        "\n",
        "SECRET = STUDENT_ID\n",
        "grader = PennGrader('notebook-config.yaml', 'CIS5300_OL_23Su_HW4', STUDENT_ID, SECRET)"
      ],
      "metadata": {
        "id": "OceP0Hr-9kfC",
        "colab": {
          "base_uri": "https://localhost:8080/"
        },
        "outputId": "9ec3be6b-c95f-43f9-b78c-c187ed7ae26f"
      },
      "execution_count": 59,
      "outputs": [
        {
          "output_type": "stream",
          "name": "stdout",
          "text": [
            "PennGrader initialized with Student ID: 56803282\n",
            "\n",
            "Make sure this correct or we will not be able to store your grade\n"
          ]
        }
      ]
    },
    {
      "cell_type": "code",
      "source": [
        "# check if the PennGrader is set up correctly\n",
        "# do not chance this cell, see if you get 4/4!\n",
        "name_str = 'Jacky Choi'\n",
        "grader.grade(test_case_id = 'name_test', answer = name_str)"
      ],
      "metadata": {
        "id": "k5lAgKaYa-uN",
        "colab": {
          "base_uri": "https://localhost:8080/"
        },
        "outputId": "bf1d2f84-6834-4565-a8e4-d8153fc00f20"
      },
      "execution_count": 60,
      "outputs": [
        {
          "output_type": "stream",
          "name": "stdout",
          "text": [
            "Correct! You earned 4/4 points. You are a star!\n",
            "\n",
            "Your submission has been successfully recorded in the gradebook.\n"
          ]
        }
      ]
    },
    {
      "cell_type": "markdown",
      "metadata": {
        "id": "wHeB9GLB-PO1"
      },
      "source": [
        "## Setup 2: Dataset / Packages\n",
        "- **Run the following cells without changing anything!**\n",
        "- [Loading dataset from huggingface](https://huggingface.co/docs/datasets/v1.8.0/loading_datasets.html#from-local-files)"
      ]
    },
    {
      "cell_type": "code",
      "execution_count": 61,
      "metadata": {
        "id": "E6qSD12uEx4T"
      },
      "outputs": [],
      "source": [
        "import os\n",
        "import csv\n",
        "import subprocess\n",
        "import re\n",
        "import random\n",
        "import numpy as np\n",
        "from dill.source import getsource"
      ]
    },
    {
      "cell_type": "code",
      "source": [
        "!gdown 1usS5D3heEt6MB60KEXoebuU6QLpwiqhJ # https://drive.google.com/file/d/1usS5D3heEt6MB60KEXoebuU6QLpwiqhJ/view?usp=share_link\n",
        "!gdown 1RI7YQIA0WUcMUZRY9Frh-Vcet-js2Cd3 # https://drive.google.com/file/d/1RI7YQIA0WUcMUZRY9Frh-Vcet-js2Cd3/view?usp=share_link\n",
        "!gdown 1c3wLkuSuKkaFIHOQFBK82awMP5H33uBP # https://drive.google.com/file/d/1c3wLkuSuKkaFIHOQFBK82awMP5H33uBP/view?usp=sharing"
      ],
      "metadata": {
        "id": "iosTnYSebMK5",
        "colab": {
          "base_uri": "https://localhost:8080/"
        },
        "outputId": "c84b5759-e8f2-4a60-9a07-ea16de18964f"
      },
      "execution_count": 62,
      "outputs": [
        {
          "output_type": "stream",
          "name": "stdout",
          "text": [
            "Downloading...\n",
            "From: https://drive.google.com/uc?id=1usS5D3heEt6MB60KEXoebuU6QLpwiqhJ\n",
            "To: /content/play_names.txt\n",
            "100% 550/550 [00:00<00:00, 1.64MB/s]\n",
            "Downloading...\n",
            "From: https://drive.google.com/uc?id=1RI7YQIA0WUcMUZRY9Frh-Vcet-js2Cd3\n",
            "To: /content/vocab.txt\n",
            "100% 184k/184k [00:00<00:00, 106MB/s]\n",
            "Downloading...\n",
            "From: https://drive.google.com/uc?id=1c3wLkuSuKkaFIHOQFBK82awMP5H33uBP\n",
            "To: /content/will_play_text.csv\n",
            "100% 10.3M/10.3M [00:00<00:00, 159MB/s]\n"
          ]
        }
      ]
    },
    {
      "cell_type": "code",
      "source": [
        "######### Helper Functions - DO NOT CHANGE #########\n",
        "def read_in_shakespeare():\n",
        "\t'''Reads in the Shakespeare dataset processesit into a list of tuples.\n",
        "\t\t Also reads in the vocab and play name lists from files.\n",
        "\n",
        "\tEach tuple consists of\n",
        "\ttuple[0]: The name of the play\n",
        "\ttuple[1] A line from the play as a list of tokenized words.\n",
        "\n",
        "\tReturns:\n",
        "\t\ttuples: A list of tuples in the above format.\n",
        "\t\tdocument_names: A list of the plays present in the corpus.\n",
        "\t\tvocab: A list of all tokens in the vocabulary.\n",
        "\t'''\n",
        "\n",
        "\ttuples = []\n",
        "\n",
        "\twith open('will_play_text.csv') as f:\n",
        "\t\tcsv_reader = csv.reader(f, delimiter=';')\n",
        "\t\tfor row in csv_reader:\n",
        "\t\t\tplay_name = row[1]\n",
        "\t\t\tline = row[5]\n",
        "\t\t\tline_tokens = re.sub(r'[^a-zA-Z0-9\\s]', ' ', line).split()\n",
        "\t\t\tline_tokens = [token.lower() for token in line_tokens]\n",
        "\n",
        "\t\t\ttuples.append((play_name, line_tokens))\n",
        "\n",
        "\twith open('vocab.txt') as f:\n",
        "\t\tvocab =  [line.strip() for line in f]\n",
        "\n",
        "\twith open('play_names.txt') as f:\n",
        "\t\tdocument_names =  [line.strip() for line in f]\n",
        "\n",
        "\treturn tuples, document_names, vocab\n",
        "\n",
        "def get_row_vector(matrix, row_id):\n",
        "\treturn matrix[row_id, :]\n",
        "\n",
        "def get_column_vector(matrix, col_id):\n",
        "\treturn matrix[:, col_id]\n",
        "######### Helper Functions - DO NOT CHANGE #########"
      ],
      "metadata": {
        "id": "5pmUQQtagSVo"
      },
      "execution_count": 63,
      "outputs": []
    },
    {
      "cell_type": "markdown",
      "source": [
        "# Section 1: Term-Document Matrix [14 points]\n"
      ],
      "metadata": {
        "id": "_k_329Y6fmJA"
      }
    },
    {
      "cell_type": "markdown",
      "source": [
        "## 1.1 Creating Term-Document Matrix [10 points]"
      ],
      "metadata": {
        "id": "ciobf57D22EC"
      }
    },
    {
      "cell_type": "markdown",
      "source": [
        "You will write code to compile a term-document matrix for Shakespeare's plays, following the description in the textbook.\n",
        "\n",
        "> In a *term-document matrix*, each row represents a word in the vocabulary and each column represents a document from some collection. The figure below shows a small selection from a term-document matrix showing the occurrence of four words in four plays by Shakespeare. Each cell in this matrix represents the number of times a particular word (defined by the row) occurs in a particular document (defined by the column). Thus *clown* appeared 117 times in *Twelfth Night\n",
        "\n",
        "|             | As You Like It |  Twelfth Night  | Julias Caesar | Henry V |\n",
        "| :---------: |:--------------:| :-------------: | :----------:  | :-----: |\n",
        "| **battle**\t| 1 | 1 | 8 | 15 |\n",
        "| **soldier**\t| 2 | 2 | 12 | 36 |\n",
        "| **fool**\t\t| 37 | 58 | 1 | 5 |\n",
        "| **crown**\t\t| 5 | 117 | 0 | 0 |\n",
        "\n",
        "The dimensions of your term-document matrix will be the number of documents $D$ (in this case, the number of Shakespeare's plays that we give you in the corpus by the number of unique word types $\\|V\\|$ in that collection.   The columns represent the documents, and the rows represent the words, and each cell represents the frequency of that word in that document."
      ],
      "metadata": {
        "id": "GJHZV0RWfryu"
      }
    },
    {
      "cell_type": "markdown",
      "source": [
        "- **Problem 1.1: Term Document Matrix** [10 points]\n",
        "\n",
        "    In your code you will write a function to `create_term_document_matrix`.  This will let you be the hit of your next dinner party by being able to answer trivia questions like *how many words did Shakespeare use?*, which may give us a hint to the answer to *How many words did Shakespeare know?*  The table will also tell you how many words Shakespeare used only once.  Did you know that there's a technical term for that?  In corpus linguistics they are called [*hapax legomena*](https://en.wikipedia.org/wiki/Hapax_legomenon), but I prefer the term *singleton*, because I don't like snooty Greek or Latin terms.\n"
      ],
      "metadata": {
        "id": "iAxVo_ADfuUo"
      }
    },
    {
      "cell_type": "code",
      "source": [
        "def create_term_document_matrix(line_tuples, document_names, vocab):\n",
        "\t'''Returns a numpy array containing the term document matrix for the input lines.\n",
        "\n",
        "\tInputs:\n",
        "\t\tline_tuples: A list of tuples, containing the name of the document and\n",
        "\t\ta tokenized line from that document.\n",
        "\t\tdocument_names: A list of the document names\n",
        "\t\tvocab: A list of the tokens in the vocabulary\n",
        "\n",
        "\t# NOTE: THIS DOCSTRING WAS UPDATED ON JAN 24, 12:39 PM.\n",
        "\n",
        "\tLet m = len(vocab) and n = len(document_names).\n",
        "\n",
        "\tReturns:\n",
        "\t\ttd_matrix: A mxn numpy array where the number of rows is the number of words\n",
        "\t\t\t\tand each column corresponds to a document. A_ij contains the\n",
        "\t\t\t\tfrequency with which word i occurs in document j.\n",
        "\t'''\n",
        "\n",
        "\tvocab_to_id = dict(zip(vocab, range(0, len(vocab))))\n",
        "\tdocname_to_id = dict(zip(document_names, range(0, len(document_names))))\n",
        "\n",
        "\t# YOUR CODE HERE\n",
        "\n",
        "\t# The create_term_document_matrix function generates a term-document matrix\n",
        "\t# from a list of tokenized lines and their associated document names.\n",
        "\t# It takes three inputs: line_tuples, a list of tuples containing document names and tokenized lines; document_names,\n",
        "\t# a list of all document names; and vocab, a list of all unique tokens in the vocabulary.\n",
        "\t# You could create a mapping from tokens to their respective indices and from document names to their respective indices.\n",
        "\t# What about the dimensions of the matrix? --> it'd correspond to the number of unique tokens (rows) and the number of documents (columns).\n",
        "\t# You can then populate the matrix by iterating through the tokenized lines and updating the matrix entries to reflect the frequency of each token in each document.\n",
        "\t# The resulting matrix is a NumPy array where each element represents the frequency of a token in a document.\n",
        "\tn = len(document_names)\n",
        "\tm = len(vocab)\n",
        "\ttd_matrix = np.zeros((m, n))\n",
        "\tfor doc_name, line in line_tuples:\n",
        "\t\t\tdoc_id = docname_to_id[doc_name]\n",
        "\t\t\tfor token in line:\n",
        "\t\t\t\t\tif token not in vocab_to_id:\n",
        "\t\t\t\t\t\t\tcontinue\n",
        "\t\t\t\t\ttoken_id = vocab_to_id[token]\n",
        "\t\t\t\t\ttd_matrix[token_id, doc_id] += 1\n",
        "\treturn td_matrix"
      ],
      "metadata": {
        "id": "6WYqK2qpfl2t"
      },
      "execution_count": 64,
      "outputs": []
    },
    {
      "cell_type": "code",
      "source": [
        "tuples, document_names, vocab = read_in_shakespeare()\n",
        "term_doc_matrix = create_term_document_matrix(tuples, document_names, vocab)\n",
        "term_doc_matrix.shape # should be (22602, 36)"
      ],
      "metadata": {
        "id": "NPtc2ZwIfno-",
        "colab": {
          "base_uri": "https://localhost:8080/"
        },
        "outputId": "0deef600-f285-43cb-8cf0-5d7aba578d35"
      },
      "execution_count": 65,
      "outputs": [
        {
          "output_type": "execute_result",
          "data": {
            "text/plain": [
              "(22602, 36)"
            ]
          },
          "metadata": {},
          "execution_count": 65
        }
      ]
    },
    {
      "cell_type": "code",
      "source": [
        "# PennGrader - DO NOT CHANGE\n",
        "grader.grade(test_case_id = 'test_q11_td_matrix', answer = term_doc_matrix[:5000, :35]) # we only check partial data"
      ],
      "metadata": {
        "id": "wbMJDBJvkK5n",
        "colab": {
          "base_uri": "https://localhost:8080/"
        },
        "outputId": "22960a9e-cdd5-4fe1-e163-92a12e9cfa65"
      },
      "execution_count": 66,
      "outputs": [
        {
          "output_type": "stream",
          "name": "stdout",
          "text": [
            "Correct! You earned 10/10 points. You are a star!\n",
            "\n",
            "Your submission has been successfully recorded in the gradebook.\n"
          ]
        }
      ]
    },
    {
      "cell_type": "markdown",
      "source": [
        "## 1.2 Use Term-Document Matrix to Compare Documents [4 points]"
      ],
      "metadata": {
        "id": "E2egq5FR260M"
      }
    },
    {
      "cell_type": "markdown",
      "source": [
        "The term-document matrix will also let us do cool things like figure out which plays are most similar to each other, by comparing the column vectors.  We could even look for outliers to see if some plays are so dissimilar from the rest of the canon that [maybe they weren't authored by Shakespeare after all](https://en.wikipedia.org/wiki/Shakespeare_authorship_question).  \n",
        "\n",
        "Let's begin by considering the column representing each play.  Each column is a $\\|V\\|$-dimensional vector.  Let's use some math to define the similarity of these vectors.   By far the most common similarity metric is the cosine of the angle between the vectors.  The cosine similarity metric is defined in Section 6.3 of the textbook.\n",
        "\n",
        "> The cosine, like most measures for vector similarity used in NLP, is based on the dot product operator from linear algebra, also called the inner product:\n",
        "\n",
        "> dot-product($\\vec{v}, \\vec{w}) = \\vec{v} \\cdot \\vec{w} = \\sum_{i=1}^{N}{v_iw_i} = v_1w_1 +v_2w_2 +...+v_Nw_N$\n",
        "\n",
        "> The dot product acts as a similarity metric because it will tend to be high just when the two vectors have large values in the same dimensions. Alternatively, vectors that have zeros in different dimensions (orthogonal vectors) will have a dot product of 0, representing their strong dissimilarity.\n",
        "\n",
        "> This raw dot-product, however, has a problem as a similarity metric: it favors long vectors. The vector length is defined as\n",
        "\n",
        "> $\\|\\vec{v}\\| = \\sqrt{\\sum_{i=1}^{N}{v_i^2}}$\n",
        "\n",
        "> The dot product is higher if a vector is longer, with higher values in each dimension. More frequent words have longer vectors, since they tend to co-occur with more words and have higher co-occurrence values with each of them. The raw dot product thus will be higher for frequent words. But this is a problem; we would like a similarity metric that tells us how similar two words are regardless of their frequency.\n",
        "\n",
        "> The simplest way to modify the dot product to normalize for the vector length is to divide the dot product by the lengths of each of the two vectors. This normalized dot product turns out to be the same as the cosine of the angle between the two vectors, following from the definition of the dot product between two vectors $\\vec{v}$ and $\\vec{w}$ as:\n",
        "\n",
        "> $\\vec{v} \\cdot \\vec{w} = \\|\\vec{v}\\|\\|\\vec{w}\\| cos \\Theta$\n",
        "\n",
        "> $\\frac{\\vec{v} \\cdot \\vec{w}}{\\|\\vec{v}\\|\\|\\vec{w}\\|} =  cos \\Theta$\n",
        "\n",
        "> The cosine similarity metric between two vectors $\\vec{v}$ and $\\vec{w}$ thus can be computed\n",
        "\n",
        "> $cosine(\\vec{v}, \\vec{w}) = \\frac{\\vec{v} \\cdot \\vec{w}}{\\|\\vec{v}\\| \\|\\vec{w}\\|} = \\frac{\\sum_{i=1}^{N}{v_iw_i}}{\\sqrt{\\sum_{i=1}^{N}{v_i^2}} \\sqrt{\\sum_{i=1}^{N}{w_i^2}}} $\n",
        "\n",
        "The cosine value ranges from 1 for vectors pointing in the same direction, through 0 for vectors that are orthogonal, to -1 for vectors pointing in opposite directions. Since our term-document matrix contains raw frequency counts, it is non-negative, so the cosine for its vectors will range from 0 to 1.  1 means that the vectors are identical, 0 means that they are totally dissimilar.  \n"
      ],
      "metadata": {
        "id": "qBqU1bbe2wal"
      }
    },
    {
      "cell_type": "markdown",
      "source": [
        "- **Problem 1.2: Comparing plays**: Please implement `compute_cosine_similarity`, and for each play in the corpus, score how similar each other play is to it.  Which plays are the closet to each other in vector space (ignoring self similarity)?  Which plays are the most distant from each other? [4 points]\n"
      ],
      "metadata": {
        "id": "guL5_LW2kwqp"
      }
    },
    {
      "cell_type": "code",
      "source": [
        "def compute_cosine_similarity(vector1, vector2):\n",
        "\t'''Computes the cosine similarity of the two input vectors.\n",
        "\n",
        "\tInputs:\n",
        "\t\tvector1: A nx1 numpy array\n",
        "\t\tvector2: A nx1 numpy array\n",
        "\n",
        "\tReturns:\n",
        "\t\tA scalar similarity value.\n",
        "\t'''\n",
        "\n",
        "\t# YOUR CODE HERE\n",
        "\n",
        "\t# In this task, you will implement a function to compute the cosine similarity\n",
        "\t# between the column vectors of the term-document matrix, which represents each play.\n",
        "\t# Cosine similarity measures the angle between two vectors, providing a value between 0 and 1,\n",
        "\t# where 1 indicates identical vectors and 0 indicates orthogonal vectors.\n",
        "\t# By computing these similarities, you can determine which plays are most similar and most dissimilar to each other based on their term frequencies.\n",
        "\t# This analysis can help identify plays with similar language use and potentially uncover outliers in the corpus.\n",
        "\tdot_p = vector1.T @ vector2\n",
        "\tvector1 = np.linalg.norm(vector1)\n",
        "\tvector2 = np.linalg.norm(vector2)\n",
        "\treturn dot_p / (vector1 * vector2)\n",
        "\n",
        "\n",
        "\n"
      ],
      "metadata": {
        "id": "K5jokxy2kwax"
      },
      "execution_count": 67,
      "outputs": []
    },
    {
      "cell_type": "code",
      "source": [
        "# PennGrader - DO NOT CHANGE\n",
        "grader.grade(test_case_id = 'test_q12_cos_sim', answer = getsource(compute_cosine_similarity))"
      ],
      "metadata": {
        "id": "gFBkVrjSkwTl",
        "colab": {
          "base_uri": "https://localhost:8080/"
        },
        "outputId": "cc886589-3385-4de4-ad68-a69c244602c7"
      },
      "execution_count": 68,
      "outputs": [
        {
          "output_type": "stream",
          "name": "stdout",
          "text": [
            "Correct! You earned 4/4 points. You are a star!\n",
            "\n",
            "Your submission has been successfully recorded in the gradebook.\n"
          ]
        }
      ]
    },
    {
      "cell_type": "markdown",
      "source": [
        "# Section 2: Measuring word similarity [10 points]\n",
        "Next, we're going to see how we can represent words as vectors in vector space.  This will give us a way of representing some aspects of the *meaning* of words, by measuring the similarity of their vectors.\n",
        "\n",
        "In our term-document matrix, the rows are word vectors.  Instead of a $\\|V\\|$-dimensional vector, these row vectors only have $D$ dimensions.  Do you think that's enough to represent the meaning of words? *(Spoiler Alert: no!)*\n"
      ],
      "metadata": {
        "id": "FGfGP4cxAFTy"
      }
    },
    {
      "cell_type": "markdown",
      "source": [
        "## 2.1 Term-Context Matrix [10 points]\n",
        "Instead of using a term-document matrix, a more common way of computing word similarity is by constructing a term-context matrix (also called a word-word matrix), where columns are labeled by words rather than documents.  The dimensionality of this kind of a matrix is $\\|V\\|$ by $\\|V\\|$.  Each cell represents how often the word in the row (the target word) co-occurs with the word in the column (the context) in a training corpus.  "
      ],
      "metadata": {
        "id": "opGvdaL7AH4Q"
      }
    },
    {
      "cell_type": "markdown",
      "source": [
        "- **Problem 2:** For this part of the assignment, you should write the `create_term_context_matrix` function.  This function specifies the size word window around the target word that you will use to gather its contexts.  For instance, if you set that variable to be 4, then you will use 4 words to the left of the target word, and 4 words to its right for the context.  In this case, the cell represents the number of times in Shakespeare's plays the column word occurs in +/-4 word window around the row word. [10 points]\n",
        "\n",
        "    You can now re-compute the most similar words for your test words using the row vectors in your term-context matrix instead of your term-document matrix.  What is the dimensionality of your word vectors now?  Do the most similar words make more sense than before?"
      ],
      "metadata": {
        "id": "T7I-gB4iAPds"
      }
    },
    {
      "cell_type": "code",
      "source": [
        "def create_term_context_matrix(line_tuples, vocab, context_window_size=1):\n",
        "\t'''Returns a numpy array containing the term context matrix for the input lines.\n",
        "\n",
        "\tInputs:\n",
        "\t\tline_tuples: A list of tuples, containing the name of the document and\n",
        "\t\ta tokenized line from that document.\n",
        "\t\tvocab: A list of the tokens in the vocabulary\n",
        "\n",
        "\t# NOTE: THIS DOCSTRING WAS UPDATED ON JAN 24, 12:39 PM.\n",
        "\n",
        "\tLet n = len(vocab).\n",
        "\n",
        "\tReturns:\n",
        "\t\ttc_matrix: A nxn numpy array where A_ij contains the frequency with which\n",
        "\t\t\t\tword j was found within context_window_size to the left or right of\n",
        "\t\t\t\tword i in any sentence in the tuples.\n",
        "\t'''\n",
        "\n",
        "\tvocab_to_id = dict(zip(vocab, range(0, len(vocab))))\n",
        "\n",
        "\t# YOUR CODE HERE\n",
        "\n",
        "\t# In this part of the assignment, you will write a function called create_term_context_matrix to construct a term-context matrix,\n",
        "\t# also known as a word-word matrix. Unlike the term-document matrix, where rows represent words and columns represent documents,\n",
        "\t# a term-context matrix represents how often each word (target word) co-occurs with other words (context words) within a specified window in a corpus.\n",
        "\t# This function will help us better understand word similarity based on their context. Specifically, you will:\n",
        "\n",
        "\t# 1. Create a matrix where both rows and columns are labeled by words from the vocabulary.\n",
        "\t# 2. Populate the matrix with the frequency counts of words co-occurring within a given context window around each target word.\n",
        "\t# 3. For example, if the context window size is 4, for each word in a line, you will consider the 4 words to its left and 4 words to its right as its context.\n",
        "\t# The dimensionality of your word vectors will now be the size of your vocabulary, providing a more nuanced representation of word meaning.\n",
        "\tn = len(vocab)\n",
        "\ttc_matrix = np.zeros((n, n))\n",
        "\n",
        "\tfor doc_name, line in line_tuples:\n",
        "\t\t\tfor i in range(len(line)):\n",
        "\t\t\t\t\ttarget_word = line[i] # Get the target word\n",
        "\t\t\t\t\tif target_word not in vocab_to_id:\n",
        "\t\t\t\t\t\t\tcontinue\n",
        "\t\t\t\t\ttarget_id = vocab_to_id[target_word]\n",
        "\t\t\t\t\tstart = max(0, i - context_window_size)\n",
        "\t\t\t\t\tend = min(len(line), i + context_window_size + 1)\n",
        "          #need to skip current target\n",
        "\t\t\t\t\tfor j in range(start, end):\n",
        "\t\t\t\t\t\t\tif j == i:\n",
        "\t\t\t\t\t\t\t\t\tcontinue\n",
        "\n",
        "\t\t\t\t\t\t\tcontext_word = line[j]\n",
        "\t\t\t\t\t\t\tif context_word not in vocab_to_id:\n",
        "\t\t\t\t\t\t\t\t\tcontinue\n",
        "\t\t\t\t\t\t\tcontext_id = vocab_to_id[context_word]\n",
        "\t\t\t\t\t\t\ttc_matrix[target_id, context_id] += 1\n",
        "\treturn tc_matrix"
      ],
      "metadata": {
        "id": "GVHSKUqpAFL4"
      },
      "execution_count": 69,
      "outputs": []
    },
    {
      "cell_type": "code",
      "source": [
        "term_context_matrix = create_term_context_matrix(tuples, vocab, context_window_size = 2)\n",
        "term_context_matrix.shape # should be (22602, 22602)"
      ],
      "metadata": {
        "id": "d9UIxk7avqDr",
        "colab": {
          "base_uri": "https://localhost:8080/"
        },
        "outputId": "ad679d7d-691d-4e18-a5d0-953954a2f061"
      },
      "execution_count": 70,
      "outputs": [
        {
          "output_type": "execute_result",
          "data": {
            "text/plain": [
              "(22602, 22602)"
            ]
          },
          "metadata": {},
          "execution_count": 70
        }
      ]
    },
    {
      "cell_type": "code",
      "source": [
        "# PennGrader - DO NOT CHANGE\n",
        "test_cases = [\n",
        "    [0, 0], # disliken, tribe\n",
        "    [1317, 5124], # the, sword\n",
        "    [15363, 10070], # love, you\n",
        "    [4601, 15242], # good, night\n",
        "    [8961, 6221], # hope, not\n",
        "]\n",
        "\n",
        "test_entries = [term_context_matrix[i, j] for i, j in test_cases]\n",
        "grader.grade(test_case_id = 'test_q2_term_context_matrix', answer = test_entries)"
      ],
      "metadata": {
        "id": "nvpLzpwLAKIg",
        "colab": {
          "base_uri": "https://localhost:8080/"
        },
        "outputId": "69ee7f0c-f039-4f20-b1ea-cef3afa3604f"
      },
      "execution_count": 71,
      "outputs": [
        {
          "output_type": "stream",
          "name": "stdout",
          "text": [
            "Correct! You earned 10/10 points. You are a star!\n",
            "\n",
            "Your submission has been successfully recorded in the gradebook.\n"
          ]
        }
      ]
    },
    {
      "cell_type": "markdown",
      "source": [
        "# Section 3: Weighting terms [28 points]\n",
        "Your term-context matrix contains the raw frequency of the co-occurrence of two words in each cell.  Raw frequency turns out not to be the best way of measuring the association between words.  There are several methods for weighting words so that we get better results.  You should implement two weighting schemes:\n",
        "\n",
        "* Positive pointwise mutual information (PPMI)\n",
        "* Term frequency inverse document frequency (tf-idf)\n",
        "\n",
        "These are defined in Section 6.2 of the textbook.\n",
        "\n",
        "*Warning, calculating PPMI for your whole $\\|V\\|$-by-$\\|V\\|$ matrix might be slow. Our intrepid TA's implementation for PPMI takes about 10 minutes to compute all values. She always writes perfectly optimized code on her first try. You may improve performance by using matrix operations a la MATLAB.*"
      ],
      "metadata": {
        "id": "tJlxuZ9bAKUa"
      }
    },
    {
      "cell_type": "code",
      "source": [
        "# In this part of the assignment, you will implement two weighting schemes—Positive Pointwise Mutual Information (PPMI) and\n",
        "# Term Frequency-Inverse Document Frequency (tf-idf)—to improve the way we measure word associations in a term-context matrix and a term-document matrix, respectively.\n",
        "\n",
        "# Why Weighting Schemes?\n",
        "\n",
        "# Raw Frequency Limitations:\n",
        "# Using raw frequency to measure word associations often leads to suboptimal results. Frequent words tend to have high counts, which can overshadow\n",
        "# less frequent but potentially more meaningful associations.\n",
        "\n",
        "# Positive Pointwise Mutual Information (PPMI):\n",
        "# PPMI is a method that highlights how much more often words co-occur than we would expect by chance. It reduces the influence of\n",
        "# very frequent words by comparing the actual co-occurrence with the expected co-occurrence, thus emphasizing meaningful associations.\n",
        "# In this task, you will compute the PPMI matrix from a given term-context matrix. This involves calculating the pointwise mutual information (PMI)\n",
        "# and then converting it to PPMI by setting negative PMI values to zero.\n",
        "\n",
        "# Term Frequency-Inverse Document Frequency (tf-idf):\n",
        "# tf-idf is a weighting scheme that balances term frequency (how often a word appears in a document) with inverse document frequency\n",
        "# (how common or rare a word is across all documents). This approach helps to highlight words that are important in a document but not too common in the overall corpus.\n",
        "# You will transform the term-document matrix using tf-idf weighting, making it more effective for tasks like document similarity or classification."
      ],
      "metadata": {
        "id": "V6NkjdVr9Tz3"
      },
      "execution_count": 72,
      "outputs": []
    },
    {
      "cell_type": "code",
      "source": [
        "# Expectations\n",
        "\n",
        "# PPMI Matrix:\n",
        "# Implement the create_PPMI_matrix function to convert a term-context matrix into a PPMI matrix.\n",
        "# Use numpy operations to efficiently calculate the probabilities and PMI values, then set negative PMI values to zero to get PPMI.\n",
        "\n",
        "# tf-idf Matrix:\n",
        "# Implement the create_tf_idf_matrix function to transform a term-document matrix using tf-idf weighting.\n",
        "# Calculate the inverse document frequency (idf) for each term and use it to scale the term frequencies.\n",
        "# By applying these weighting schemes, you will improve the quality of the word vectors, making them more suitable for measuring word associations and document similarities."
      ],
      "metadata": {
        "id": "ikgr1h9m9cNo"
      },
      "execution_count": 73,
      "outputs": []
    },
    {
      "cell_type": "markdown",
      "source": [
        "## 3.1 Weighting Schemes [20 points]"
      ],
      "metadata": {
        "id": "f_KRgsiK4J8_"
      }
    },
    {
      "cell_type": "markdown",
      "source": [
        "- **Problem 3.1.1:** Implementing `create_PPMI_matrix` function [10 points]"
      ],
      "metadata": {
        "id": "8BPT2_nKGOBQ"
      }
    },
    {
      "cell_type": "markdown",
      "source": [],
      "metadata": {
        "id": "zkacrnyz9Vhx"
      }
    },
    {
      "cell_type": "markdown",
      "source": [
        "- **Problem 3.1.2:** Implementing `create_tf_idf_matrix` function [10 points]"
      ],
      "metadata": {
        "id": "M7PbTjbeW4On"
      }
    },
    {
      "cell_type": "code",
      "source": [
        "def create_PPMI_matrix(term_context_matrix):\n",
        "\t'''Given a term context matrix, output a PPMI matrix.\n",
        "\n",
        "\tSee section 6.2 in the textbook.\n",
        "\n",
        "\tHint: Use numpy matrix and vector operations to speed up implementation.\n",
        "\t\t\t\tPlease also add a small constant 1e-6 to your term_context_matrix to avoid having 0s\n",
        "\n",
        "\tInput:\n",
        "\t\tterm_context_matrix: A nxn numpy array, where n is\n",
        "\t\t\t\tthe numer of tokens in the vocab.\n",
        "\n",
        "\tReturns: A nxn numpy matrix, where A_ij is equal to the\n",
        "\t\t point-wise mutual information between the ith word\n",
        "\t\t and the jth word in the term_context_matrix.\n",
        "\t'''\n",
        "\tsc = 1e-6\n",
        "\n",
        "\t# YOUR CODE HERE\n",
        "\ttc_matrix = term_context_matrix + sc\n",
        "\ttotal_count = np.sum(tc_matrix)\n",
        "\tP_ij = tc_matrix/total_count\n",
        "\tP_i = np.sum(tc_matrix, axis = 1)/total_count\n",
        "\tP_j = np.sum(tc_matrix, axis = 0)/total_count\n",
        "\tPMI = np.log2(P_ij / np.outer(P_i, P_j))\n",
        "\tPPMI_matrix = np.maximum(PMI, 0)\n",
        "\treturn PPMI_matrix\n",
        "\n",
        "\n",
        "def create_tf_idf_matrix(term_document_matrix):\n",
        "    \"\"\"Given the term document matrix, output a tf-idf weighted version.\n",
        "\n",
        "\tSee section 6.2 in the textbook, but note the log10 info below\n",
        "\n",
        "\tHint: Use numpy matrix and vector operations to speed up implementation.\n",
        "\n",
        "\tWe use Log10 for TF-IDF, but only apply the log10 to idf, not tf.\n",
        "\ttf should be  `tf = term_document_matrix`\n",
        "\n",
        "\tInput:\n",
        "\t\tterm_document_matrix: Numpy array where each column represents a document\n",
        "\t\tand each row, the frequency of a word in that document.\n",
        "\n",
        "\tReturns:\n",
        "\t\tA numpy array with the same dimension as term_document_matrix, where\n",
        "\t\tA_ij is weighted by the inverse document frequency of document h.\n",
        "\t\"\"\"\n",
        "    tf = term_document_matrix\n",
        "\n",
        "    df = np.sum(term_document_matrix > 0, axis=1)\n",
        "\n",
        "    N = term_document_matrix.shape[1]\n",
        "\n",
        "    idf = np.log10((N) / (df))\n",
        "    idf = idf.reshape(-1, 1)\n",
        "    tf_idf = tf * idf\n",
        "\n",
        "    return tf_idf"
      ],
      "metadata": {
        "id": "ar8rVLX_AKEH"
      },
      "execution_count": 74,
      "outputs": []
    },
    {
      "cell_type": "markdown",
      "source": [
        "- Testing `create_tf_idf_matrix`"
      ],
      "metadata": {
        "id": "QpHHVnMO3xEn"
      }
    },
    {
      "cell_type": "code",
      "source": [
        "term_doc_matrix = create_term_document_matrix(tuples, document_names, vocab)\n",
        "tfidf_matrix = create_tf_idf_matrix(term_doc_matrix)\n",
        "tfidf_matrix.shape # should be (22602, 36)"
      ],
      "metadata": {
        "id": "Jo-xoci4EHgA",
        "colab": {
          "base_uri": "https://localhost:8080/"
        },
        "outputId": "7995b5e4-e441-4a32-f0aa-a5d9060f336f"
      },
      "execution_count": 75,
      "outputs": [
        {
          "output_type": "execute_result",
          "data": {
            "text/plain": [
              "(22602, 36)"
            ]
          },
          "metadata": {},
          "execution_count": 75
        }
      ]
    },
    {
      "cell_type": "code",
      "source": [
        "# PennGrader - DO NOT CHANGE\n",
        "grader.grade(test_case_id = 'test_q31_tfidf_matrix', answer = tfidf_matrix[:1001, :31]) # we only check part of the answer so that we won't blow up the RAM"
      ],
      "metadata": {
        "id": "mblDfOuE3ipd",
        "colab": {
          "base_uri": "https://localhost:8080/"
        },
        "outputId": "93c104e3-b419-4287-b341-bf9a2fbb69d3"
      },
      "execution_count": 76,
      "outputs": [
        {
          "output_type": "stream",
          "name": "stdout",
          "text": [
            "Correct! You earned 10/10 points. You are a star!\n",
            "\n",
            "Your submission has been successfully recorded in the gradebook.\n"
          ]
        }
      ]
    },
    {
      "cell_type": "markdown",
      "source": [
        "- Testing `create_PPMI_matrix`"
      ],
      "metadata": {
        "id": "8s-Y8la9306-"
      }
    },
    {
      "cell_type": "code",
      "source": [
        "mini_vocab = ['dagger', 'run', 'the', 'bloody', 'sword'] # we only use part of the vocab so that you won't blow up the RAM\n",
        "term_context_matrix = create_term_context_matrix(tuples, mini_vocab, context_window_size = 2)\n",
        "PPMI_matrix = create_PPMI_matrix(term_context_matrix)\n",
        "PPMI_matrix.shape # should be (5, 5)"
      ],
      "metadata": {
        "id": "aXKz9nUD0Doz",
        "colab": {
          "base_uri": "https://localhost:8080/"
        },
        "outputId": "b7cca3ae-7d4a-411b-9fa7-1e3e4f6e9932"
      },
      "execution_count": 77,
      "outputs": [
        {
          "output_type": "execute_result",
          "data": {
            "text/plain": [
              "(5, 5)"
            ]
          },
          "metadata": {},
          "execution_count": 77
        }
      ]
    },
    {
      "cell_type": "code",
      "source": [
        "# PennGrader - DO NOT CHANGE\n",
        "grader.grade(test_case_id = 'test_q32_ppmi_matrix', answer = PPMI_matrix)"
      ],
      "metadata": {
        "id": "WzRz2vB1EHb9",
        "colab": {
          "base_uri": "https://localhost:8080/"
        },
        "outputId": "626c4450-dfb0-408f-b70d-359373826a17"
      },
      "execution_count": 78,
      "outputs": [
        {
          "output_type": "stream",
          "name": "stdout",
          "text": [
            "Correct! You earned 10/10 points. You are a star!\n",
            "\n",
            "Your submission has been successfully recorded in the gradebook.\n"
          ]
        }
      ]
    },
    {
      "cell_type": "markdown",
      "source": [
        "## 3.2 Other Similarity Measurements [8 points]\n",
        "There are several ways of computing the similarity between two vectors.  In addition to writing a function to compute cosine similarity in Section 1, you should also write functions to `compute_jaccard_similarity` and `compute_dice_similarity`. You can check out the defintion of the [Jaccard measure here](https://en.wikipedia.org/wiki/Jaccard_index#Weighted_Jaccard_similarity_and_distance). And, dice similarity measure is given by (2 * J)/(J + 1) where J is Jaccard index. Please refer to this wikipedia link on [Dice coefficient](https://en.wikipedia.org/wiki/S%C3%B8rensen%E2%80%93Dice_coefficient) for more details.\n"
      ],
      "metadata": {
        "id": "cN-DLSlQ4M-k"
      }
    },
    {
      "cell_type": "markdown",
      "source": [
        "- **Problem 3.2.1:** Implementing `jaccard` similarity [4 points]"
      ],
      "metadata": {
        "id": "jxI1yzNnGiHN"
      }
    },
    {
      "cell_type": "code",
      "source": [
        "def compute_jaccard_similarity(vector1, vector2):\n",
        "\t'''Computes the cosine similarity of the two input vectors.\n",
        "\n",
        "\tInputs:\n",
        "\t\tvector1: A nx1 numpy array\n",
        "\t\tvector2: A nx1 numpy array\n",
        "\n",
        "\tReturns:\n",
        "\t\tA scalar similarity value.\n",
        "\t'''\n",
        "\n",
        "\t# YOUR CODE HERE\n",
        "\tintersection = np.sum(np.minimum(vector1, vector2))\n",
        "\tunion = np.sum(np.maximum(vector1, vector2))\n",
        "\treturn intersection / union"
      ],
      "metadata": {
        "id": "3I_a7oCAEHaR"
      },
      "execution_count": 79,
      "outputs": []
    },
    {
      "cell_type": "code",
      "source": [
        "# PennGrader - DO NOT CHANGE\n",
        "grader.grade(test_case_id = 'test_q33_jaccard_sim', answer = getsource(compute_jaccard_similarity))"
      ],
      "metadata": {
        "id": "JvDi9w7_5Z3-",
        "colab": {
          "base_uri": "https://localhost:8080/"
        },
        "outputId": "5140439e-dd15-4fba-ebbb-34e5c086e260"
      },
      "execution_count": 80,
      "outputs": [
        {
          "output_type": "stream",
          "name": "stdout",
          "text": [
            "Correct! You earned 4/4 points. You are a star!\n",
            "\n",
            "Your submission has been successfully recorded in the gradebook.\n"
          ]
        }
      ]
    },
    {
      "cell_type": "markdown",
      "source": [
        "- **Problem 3.2.2:** Implementing `dice` similarity [4 points]"
      ],
      "metadata": {
        "id": "K-zYBDchXCY1"
      }
    },
    {
      "cell_type": "code",
      "source": [
        "def compute_dice_similarity(vector1, vector2):\n",
        "\t'''Computes the cosine similarity of the two input vectors.\n",
        "\n",
        "\tInputs:\n",
        "\t\tvector1: A nx1 numpy array\n",
        "\t\tvector2: A nx1 numpy array\n",
        "\n",
        "\tReturns:\n",
        "\t\tA scalar similarity value.\n",
        "\t'''\n",
        "\n",
        "\t# YOUR CODE HERE\n",
        "\t#couldnt call helper function..\n",
        "\tintersection = np.sum(np.minimum(vector1, vector2))\n",
        "\tunion = np.sum(np.maximum(vector1, vector2))\n",
        "\n",
        "\tjaccard = intersection / union\n",
        "\n",
        " \t#(2 * J)/(J + 1)\n",
        "\tdice = (2 * jaccard)/(jaccard + 1)\n",
        "\n",
        "\treturn dice\n",
        ""
      ],
      "metadata": {
        "id": "ivM-acyc4zHw"
      },
      "execution_count": 81,
      "outputs": []
    },
    {
      "cell_type": "code",
      "source": [
        "# PennGrader - DO NOT CHANGE\n",
        "grader.grade(test_case_id = 'test_q34_dice_sim', answer = getsource(compute_dice_similarity))"
      ],
      "metadata": {
        "id": "Gu5BetXq4zBT",
        "colab": {
          "base_uri": "https://localhost:8080/"
        },
        "outputId": "1d8247c8-2d20-413e-b260-cc81d70be90a"
      },
      "execution_count": 82,
      "outputs": [
        {
          "output_type": "stream",
          "name": "stdout",
          "text": [
            "Correct! You earned 4/4 points. You are a star!\n",
            "\n",
            "Your submission has been successfully recorded in the gradebook.\n"
          ]
        }
      ]
    },
    {
      "cell_type": "markdown",
      "source": [
        "# Section 4: Ranking [10 points]\n",
        "In this section, you will put everything together and **rank the playes and the words** based on their similarity to others.\n",
        "- **Problem 4.1:** Implement `rank_plays` [5 points]"
      ],
      "metadata": {
        "id": "gQEI9oUSE8M9"
      }
    },
    {
      "cell_type": "code",
      "source": [
        "# In this section, you are required to implement two functions: rank_plays and rank_words.\n",
        "\n",
        "# The rank_plays function should take a list of document names, an index representing the target play,\n",
        "# a term-document matrix, and a similarity function. It will rank all plays in the corpus by their similarity\n",
        "# to the target play using the specified similarity metric and return a list of play names ordered by decreasing similarity.\n",
        "\n",
        "# Similarly, the rank_words function should take a list of vocabulary terms, an index representing the target word, a term-context matrix,\n",
        "# and a similarity function. It will rank all words in the vocabulary by their similarity to the target word using the specified similarity metric\n",
        "# and return a list of words ordered by decreasing similarity.\n",
        "\n",
        "# These functions will help identify the most similar plays and words based on their vector representations."
      ],
      "metadata": {
        "id": "5TrYrcpqAWmN"
      },
      "execution_count": 83,
      "outputs": []
    },
    {
      "cell_type": "markdown",
      "source": [],
      "metadata": {
        "id": "0HLoNEmzvtFc"
      }
    },
    {
      "cell_type": "markdown",
      "source": [],
      "metadata": {
        "id": "W0Drs0dFvtBe"
      }
    },
    {
      "cell_type": "code",
      "source": [
        "def rank_plays(target_play_index, term_document_matrix, similarity_fn):\n",
        "\t''' Ranks the similarity of all of the plays to the target play.\n",
        "\n",
        "\tInputs:\n",
        "\t\ttarget_play_index: The integer index of the play we want to compare all others against.\n",
        "\t\tterm_document_matrix: The term-document matrix as a mxn numpy array.\n",
        "\t\tsimilarity_fn: Function that should be used to compared vectors for two\n",
        "\t\t\tdocuments. Either compute_dice_similarity, compute_jaccard_similarity, or\n",
        "\t\t\tcompute_cosine_similarity.\n",
        "\n",
        "\tReturns:\n",
        "\t\tA length-n list of indices corresponding to play names,\n",
        "\t\tordered by decreasing similarity to the play indexed by target_play_index,\n",
        "\t\tstoring in a numpy array.\n",
        "\t'''\n",
        "\tm, n = term_document_matrix.shape\n",
        "\n",
        "\t# YOUR CODE HERE\n",
        "\ttarget_play_vector = term_document_matrix[:, target_play_index]\n",
        "\tsims_sort = np.argsort([similarity_fn(target_play_vector, term_document_matrix[:, i]) for i in range(n)])[::-1]\n",
        "\n",
        "\treturn sims_sort"
      ],
      "metadata": {
        "id": "ubGEaq7sEHYW"
      },
      "execution_count": 84,
      "outputs": []
    },
    {
      "cell_type": "code",
      "source": [
        "print(rank_plays(0, term_doc_matrix, compute_cosine_similarity))\n",
        "#rank play by name\n",
        "for i in rank_plays(0, term_doc_matrix, compute_cosine_similarity):\n",
        "    print(document_names[i])\n"
      ],
      "metadata": {
        "colab": {
          "base_uri": "https://localhost:8080/"
        },
        "id": "N1n9lhh41ki2",
        "outputId": "45d3de57-1982-41a9-b9ac-4971fca87706"
      },
      "execution_count": 85,
      "outputs": [
        {
          "output_type": "stream",
          "name": "stdout",
          "text": [
            "[ 0 15 16 11 29 24 27  6 33 22 32 26 17 10  7  2 20 14 12  1 13  9 34  4\n",
            " 31 28 30 35 18 25 21  5 19  3  8 23]\n",
            "Henry IV\n",
            "The Tempest\n",
            "Henry VI Part 2\n",
            "King John\n",
            "Merchant of Venice\n",
            "Henry VI Part 1\n",
            "Troilus and Cressida\n",
            "Hamlet\n",
            "King Lear\n",
            "Richard III\n",
            "Cymbeline\n",
            "Henry V\n",
            "As you like it\n",
            "Richard II\n",
            "A Midsummer nights dream\n",
            "Loves Labours Lost\n",
            "Henry VIII\n",
            "A Winters Tale\n",
            "macbeth\n",
            "Alls well that ends well\n",
            "Timon of Athens\n",
            "Romeo and Juliet\n",
            "Pericles\n",
            "Antony and Cleopatra\n",
            "Othello\n",
            "Twelfth Night\n",
            "Henry VI Part 3\n",
            "Titus Andronicus\n",
            "Julius Caesar\n",
            "Much Ado about nothing\n",
            "Measure for measure\n",
            "Coriolanus\n",
            "A Comedy of Errors\n",
            "Taming of the Shrew\n",
            "Merry Wives of Windsor\n",
            "Two Gentlemen of Verona\n"
          ]
        }
      ]
    },
    {
      "cell_type": "code",
      "source": [
        "# DO NOT CHANGE #\n",
        "term_doc_matrix = create_term_document_matrix(tuples, document_names, vocab)\n",
        "tfidf_matrix = create_tf_idf_matrix(term_doc_matrix)"
      ],
      "metadata": {
        "id": "VpOzaoiz7z8k"
      },
      "execution_count": 86,
      "outputs": []
    },
    {
      "cell_type": "code",
      "source": [
        "# Test Case - DO NOT CHANGE #\n",
        "target_play = 'Richard III'\n",
        "play_index = document_names.index(target_play)\n",
        "target_play_ranking = rank_plays(play_index, tfidf_matrix, compute_cosine_similarity)\n",
        "target_play_ranking.shape # should be a list of 36 numbers, representing the sorted similarity compared to the target play, Richard III"
      ],
      "metadata": {
        "id": "_HZqOif86mb5",
        "colab": {
          "base_uri": "https://localhost:8080/"
        },
        "outputId": "a5ba5554-1468-4c51-94da-1a6d8919418e"
      },
      "execution_count": 87,
      "outputs": [
        {
          "output_type": "execute_result",
          "data": {
            "text/plain": [
              "(36,)"
            ]
          },
          "metadata": {},
          "execution_count": 87
        }
      ]
    },
    {
      "cell_type": "code",
      "source": [
        "# PennGrader - DO NOT CHANGE\n",
        "grader.grade(test_case_id = 'test_q41_play_ranking', answer = target_play_ranking)"
      ],
      "metadata": {
        "id": "_lIEo9AX7ws2",
        "colab": {
          "base_uri": "https://localhost:8080/"
        },
        "outputId": "45dd1938-6df0-4102-9f29-6dc66c93ac11"
      },
      "execution_count": 88,
      "outputs": [
        {
          "output_type": "stream",
          "name": "stdout",
          "text": [
            "Correct! You earned 5/5 points. You are a star!\n",
            "\n",
            "Your submission has been successfully recorded in the gradebook.\n"
          ]
        }
      ]
    },
    {
      "cell_type": "markdown",
      "source": [
        "- **Problem 4.2:** Implement `rank_plays` [5 points]"
      ],
      "metadata": {
        "id": "x9LXnQxsXRXY"
      }
    },
    {
      "cell_type": "code",
      "source": [
        "def rank_words(target_word_index, matrix, similarity_fn):\n",
        "\t''' Ranks the similarity of all of the words to the target word.\n",
        "\n",
        "\tInputs:\n",
        "\t\tvocab: List of terms, corresponding to target_word_index rows (i.e. word corresponding\n",
        "\t\t\tto target_word_index[i,:] is given by vocab[i])\n",
        "\t\ttarget_word_index: The index of the word we want to compare all others against.\n",
        "\t\tmatrix: Numpy matrix where the ith row represents a vector embedding of the ith word.\n",
        "\t\tsimilarity_fn: Function that should be used to compared vectors for two word\n",
        "\t\t\tebeddings. Either compute_dice_similarity, compute_jaccard_similarity, or\n",
        "\t\t\tcompute_cosine_similarity.\n",
        "\n",
        "\tReturns:\n",
        "\t\tA length-n list of indices, ordered by decreasing similarity to the\n",
        "\t\ttarget word indexed by word_index, storing in a numpy array.\n",
        "\t'''\n",
        "\n",
        "\t# YOUR CODE HERE\n",
        "\ttarget_word_vector = matrix[:, target_word_index]\n",
        "\tsims_sort = np.argsort([similarity_fn(target_word_vector, matrix[:, i]) for i in range(matrix.shape[1])])[::-1]\n",
        "\treturn sims_sort"
      ],
      "metadata": {
        "id": "7DRRQ5zw6h17"
      },
      "execution_count": 89,
      "outputs": []
    },
    {
      "cell_type": "code",
      "source": [
        "# Test Case - DO NOT CHANGE #\n",
        "N = 6000\n",
        "tmp_vocab = vocab[:N] # we only use part of the vocab so that you won't blow up the RAM\n",
        "term_context_matrix = create_term_context_matrix(tuples, tmp_vocab, context_window_size = 2)\n",
        "tmp_PPMI_matrix = create_PPMI_matrix(term_context_matrix)\n",
        "\n",
        "target_word = 'sword'\n",
        "i = tmp_vocab.index(target_word)\n",
        "\n",
        "target_word_ranking = rank_words(i, tmp_PPMI_matrix, compute_cosine_similarity)"
      ],
      "metadata": {
        "id": "AoLuzUCG741a"
      },
      "execution_count": 90,
      "outputs": []
    },
    {
      "cell_type": "code",
      "source": [
        "# PennGrader - DO NOT CHANGE\n",
        "grader.grade(test_case_id = 'test_q42_word_ranking', answer = target_word_ranking[:5])"
      ],
      "metadata": {
        "id": "CIkdMzFj5sIa",
        "colab": {
          "base_uri": "https://localhost:8080/"
        },
        "outputId": "6063d654-cb5d-48ee-c7bd-d32bd63e9366"
      },
      "execution_count": 91,
      "outputs": [
        {
          "output_type": "stream",
          "name": "stdout",
          "text": [
            "Correct! You earned 5/5 points. You are a star!\n",
            "\n",
            "Your submission has been successfully recorded in the gradebook.\n"
          ]
        }
      ]
    },
    {
      "cell_type": "markdown",
      "source": [
        "# Section 5: Free-response Questions [10 points]\n",
        "\n",
        "In the ranking tasks, play with different vector representations and different similarity functions. **Does one combination appear to work better than another? Do any interesting patterns emerge?**\n",
        "\n",
        "Some patterns you could touch upon (you can pick 1 aspect to answer):\n",
        "* The fourth column of `will_play_text.csv` contains the name of the character who spoke each line. Using the methods described above, **which characters are most similar? Least similar? **\n",
        "* Shakespeare's plays are traditionally classified into [comedies, histories, and tragedies](https://en.wikipedia.org/wiki/Shakespeare%27s_plays). **Can you use these vector representations to cluster the plays?**\n",
        "* Do the vector representations of **[female characters](https://en.wikipedia.org/wiki/Category:Female_Shakespearean_characters)** differ distinguishably from **[male ones](https://en.wikipedia.org/wiki/Category:Male_Shakespearean_characters)**?"
      ],
      "metadata": {
        "id": "YzSMUBU-5say"
      }
    },
    {
      "cell_type": "markdown",
      "source": [
        "I compared the similarity of characters from the 4th column of the csv file and their vocab using cosine similarity, dice and jaccard. I tested one of the characters I knew more about like \"Romeo\". I found out that these similarities are not very accurate. I think the problems with this comparison is that it is comparing the individual words spoken by the characters and not how they are speaking the words which creates a false illusion that the characters are speaking the same way. I don't think Romeo is similar to Ligarius at all and I am suprised Juliet did not make it in top 5 similarities because they share similar personality traits.\n",
        "\n",
        "I tried out other similarty functions like Dice and saw that it gave a more accurate representation showing Juliet is one of the most similar to Romeo. I believe its because Dice is more directly focused on the vocab and maybe Romeo and Juliet use similar words when speaking."
      ],
      "metadata": {
        "id": "91jCmGmgISV9"
      }
    },
    {
      "cell_type": "code",
      "source": [
        "def get_character_names(csv_file):\n",
        "    character_names = set()\n",
        "    with open(csv_file, 'r') as file:\n",
        "        reader = csv.reader(file, delimiter=';')\n",
        "        next(reader)\n",
        "        for row in reader:\n",
        "            character_name = row[4].strip()\n",
        "            character_names.add(character_name.lower())\n",
        "    return list(character_names)"
      ],
      "metadata": {
        "id": "YyyExioU9aOB"
      },
      "execution_count": 92,
      "outputs": []
    },
    {
      "cell_type": "code",
      "source": [
        "def create_cd_matrix(line_tuples, document_names, character_names):\n",
        "    num_characters = len(character_names)\n",
        "    num_documents = len(document_names)\n",
        "    cd = np.zeros((num_characters, num_documents))\n",
        "    character_to_index = {char: i for i, char in enumerate(character_names)}\n",
        "    document_to_index = {doc: i for i, doc in enumerate(document_names)}\n",
        "    for play_name, line_tokens in line_tuples:\n",
        "        if line_tokens:\n",
        "            character_name = line_tokens[0]\n",
        "            if character_name in character_to_index and play_name in document_to_index:\n",
        "                char_index = character_to_index[character_name]\n",
        "                doc_index = document_to_index[play_name]\n",
        "                cd[char_index, doc_index] += 1\n",
        "    return cd"
      ],
      "metadata": {
        "id": "WNv-PMgm9PzB"
      },
      "execution_count": 93,
      "outputs": []
    },
    {
      "cell_type": "code",
      "source": [
        "def create_cc_matrix(line_tuples, character_names, vocab, context_window_size=2):\n",
        "    num_characters = len(character_names)\n",
        "    num_vocab = len(vocab)\n",
        "    cc_matrix = np.zeros((num_characters, num_vocab))\n",
        "\n",
        "    character_to_index = {char: i for i, char in enumerate(character_names)}\n",
        "    vocab_to_index = {word: i for i, word in enumerate(vocab)}\n",
        "\n",
        "    for play_name, line_tokens in line_tuples:\n",
        "        if line_tokens:\n",
        "            character_name = line_tokens[0]\n",
        "\n",
        "            if character_name in character_to_index:\n",
        "                char_index = character_to_index[character_name]\n",
        "                for i in range(len(line_tokens)):\n",
        "                    if line_tokens[i] in vocab_to_index:\n",
        "                        word_index = vocab_to_index[line_tokens[i]]\n",
        "                        cc_matrix[char_index, word_index] += 1\n",
        "\n",
        "    return cc_matrix"
      ],
      "metadata": {
        "id": "EveYtSn49dQk"
      },
      "execution_count": 94,
      "outputs": []
    },
    {
      "cell_type": "code",
      "source": [
        "def similarity_chars(target_character_index, matrix, similarity_fn):\n",
        "    num_characters = matrix.shape[0]\n",
        "    target_character_vector = matrix[target_character_index, :]\n",
        "    similarity_scores = []\n",
        "    for i in range(num_characters):\n",
        "        if i != target_character_index:\n",
        "            similarity_scores.append(similarity_fn(target_character_vector, matrix[i, :]))\n",
        "        else:\n",
        "            similarity_scores.append(0)\n",
        "    sorted_indices = np.argsort(similarity_scores)[::-1]\n",
        "    return sorted_indices"
      ],
      "metadata": {
        "id": "rrH2gDns90cn"
      },
      "execution_count": 95,
      "outputs": []
    },
    {
      "cell_type": "code",
      "source": [
        "character_names = get_character_names('will_play_text.csv')\n",
        "print(character_names)"
      ],
      "metadata": {
        "colab": {
          "base_uri": "https://localhost:8080/"
        },
        "id": "ELKHY-mX-6t-",
        "outputId": "732f0c56-8327-48fa-ac40-65bf2c96eaf2"
      },
      "execution_count": 96,
      "outputs": [
        {
          "output_type": "stream",
          "name": "stdout",
          "text": [
            "['', 'second brother', 'silvia', 'first goth', 'su ffolk', 'gardiner', 'brandon', 'lady', 'surveyor', 'siward', 'romeo', 'tranio', 'john of gaunt', 'soldier', 'clifford', 'prince', 'erpingham', 'lodovico', 'herbert', 'iago', 'second guard', 'mother', 'nurse', 'egeus', 'launce', 'first fisherman', 'timon', 'katharine', 'watchman', 'provost', 'cerimon', 'fourth gentleman', 'first brother', 'gremio', 'calchas', 'longaville', 'first neighbour', 'all lords', 'third stranger', 'menecrates', 'mercutio', 'mayor', 'buckingham', 'othello', 'prince edward', 'first attendant', 'sir hugh evans', 'stephano', 'puck', 'touchstone', 'king lear', 'scroop', 'beatrice', 'dion', 'cupid', 'both citizens', 'luciana', 'ophelia', 'silius', 'second clown', 'cade', 'lord willoughby', 'theseus', 'french soldier', 'lord berkeley', 'oswald', 'alonso', 'queen elinor', 'calpurnia', 'lady macduff', 'mistress overdone', 'rivers', 'painter', 'lady faulconbridge', 'blunt', 'bishop of ely', 'spirit', 'third bandit', 'first murder', 'sir oliver martext', 'phebe', 'virgilia', 'justice', 'tribunes', 'suffolk', 'helicanus', 'friar john', 'chiron', 'keeper', 'first conspirator', 'francisco', 'both tribunes', 'bigot', 'herald', 'father', 'governor', 'flaminius', 'gloucester', 'cleon', 'lavinia', 'nobleman', 'page', 'king john', 'sir nathaniel', 'glansdale', 'dionyza', 'priest', 'first carrier', 'peter', 'third servant', 'miranda', 'fifth citizen', 'troilus', 'arviragus', 'richard', 'pericles', 'edgar', 'john mortimer', 'lord polonius', 'lords', 'french king', 'gentleman', 'cordelia', 'lucio', 'nicholas', 'leonardo', 'hymen', 'philo', 'decius brutus', 'silvius', 'fenton', 'dolabella', 'banditti', 'outlaws', 'second lady', 'duchess of york', 'friar laurence', 'luce', 'dennis', 'deiphobus', 'ghost of vaughan', 'ursula', 'escalus', 'valentine', 'gardener', 'snout', 'hero', 'montjoy', 'poet', 'lafeu', 'plantagenet', 'second citizen', 'thomas mowbray', 'ariel', 'frenchman', 'lady capulet', 'hubert', 'king claudius', 'dorset', 'vaux', 'essex', 'lepidus', 'english herald', 'valeria', 'richmond', 'cambridge', 'host', 'somerset', 'marina', 'doctor', 'sir walter blunt', 'agrippa', 'ventidius', 'shallow', 'first witch', 'son', 'glendower', 'juliet', 'demetrius', 'vernon', 'williams', 'queen elizabeth', 'isabella', 'mortimer', 'sexton', 'prince henry', 'cassius', 'daughter', 'second stranger', 'rugby', 'earl of douglas', 'tailor', 'watch', 'lady  capulet', 'perdita', 'ghost', 'nathaniel', 'philario', 'doctor caius', 'bastard', 'joseph', 'strato', 'cardinal campeius', 'warwick', 'audrey', 'third roman', 'apemantus', 'carrier', 'seleucus', 'arragon', 'first pirate', 'old man', 'merchant', 'balthazar', 'reignier', 'capucius', 'first outlaw', 'snug', 'metellus cimber', 'laertes', 'brutus', 'belarius', 'seventh citizen', 'casca', 'titinius', 'townsman', 'third soldier', 'third guard', 'gower', 'ford', 'first herald', 'poins', 'aegeon', 'dumain', 'of king henry vi', 'pembroke', 'cleomenes', 'servants', 'friar peter', 'fourth lord', 'marcius', 'some others', 'malvolio', 'of syracuse', 'second huntsman', 'second capulet', 'hermione', 'verges', 'octavius caesar', 'first commoner', 'second outlaw', 'third conspirator', 'king lewis xi', 'parolles', 'cinna', 'mistress ford', 'jessica', 'titania', 'michael', 'lion', 'dromio of ephesus', 'lartius', 'flavius', 'gurney', 'blanch', 'diomedes', 'mistress quickly', 'chatillon', 'worcester', 'norfolk', 'horner', 'ostler', 'priam', 'sentinels', 'king henry vi', 'oberon', 'first musician', 'launcelot', 'petruchio', 'peaseblossom', 'first watchman', 'cornelius', 'first player', 'bernardo', 'benvolio', 'alexander', 'fool', 'steward', 'portia', 'first keeper', 'lovel', 'lord marshal', 'second servant', 'second page', 'popilius', 'menas', 'cardinal wolsey', 'salerio', 'charmian', 'horatio', 'caliban', 'all ladies', 'rosencrantz', 'austria', 'burgundy', 'huntsman', 'sir andrew', 'sebastian', 'all servants', 'alice', 'adriana', 'thaliard', 'benedick', 'senator', 'montano', 'hostess', 'time', 'peto', 'elinor', 'second lord', 'ghost of lady anne', 'nestor', 'aemelia', 'antony', 'second murderer', 'fairy', 'prospero', 'servant', 'of buckingham', 'first lady', 'knights', 'third watchman', 'flute', 'pomphey', 'curan', 'iras', 'jupiter', 'menenius', 'reynaldo', 'second conspirator', 'duke of venice', 'caius lucius', 'hermia', 'menelaus', 'duchess', 'pompey', 'gaoler', 'french herald', 'third goth', 'first knight', 'antipholus', 'vaughan', 'cardinal pandulph', 'lawyer', 'prince fortinbras', 'fourth messenger', 'second servingman', 'third citizen', 'first officer', 'balthasar', 'leonine', 'marcus', 'dick', 'first sentinel', 'haberdasher', 'goneril', 'trebonius', 'dercetas', 'charles', 'second messenger', 'philostrate', 'amiens', 'second gentleman', 'voltimand', 'patience', 'thisbe', 'regan', 'first page', 'corin', 'first priest', 'adriano de armado', 'katarina', 'jaques de boys', 'old lady', 'first executioner', 'bolingbroke', 'cinna the poet', 'lucius', 'grey', 'banquo', 'desdemona', 'paulina', 'first traveller', 'rambures', 'surrey', 'bagot', 'anne', 'le beau', 'garter', 'costard', 'lennox', 'first ambassador', 'macduff', 'scrivener', 'abraham', 'coriolanus', 'brabantio', 'duke senior', 'fabian', 'say', 'fourth citizen', 'mutius', 'second neighbour', 'young siward', 'moth', 'bushy', 'orlando', 'aaron', 'christopher', 'crier', 'sixth citizen', 'philotus', 'all', 'hamlet', 'hernia', 'all the goths', 'marshal', 'apothecary', 'both', 'citizens', 'bourbon', 'antiochus', 'caithness', 'cobweb', 'egyptian', 'patroclus', 'second warder', 'first clown', 'cominius', 'ligarius', 'exeter', 'chorus', 'viola', 'mopsa', 'friar thomas', 'curio', 'cloten', 'volsce', 'queen gertrude', 'sergeant', 'iachimo', 'posthumus leonatus', 'martius', 'second watchman', 'mercade', 'ghost of grey', 'lady montague', 'publius', 'angus', 'musician', 'don pedro', 'rosalind', 'ceres', 'lychorida', 'ratcliff', 'mariner', 'katharina', 'first huntsman', 'of ephesus', 'ely', 'claudius', 'proculeius', 'all conspirators', 'thurio', 'old athenian', 'polixenes', 'cranmer', 'pinch', 'albany', 'gargrave', 'bawd', 'phrynia', 'green', 'margaret', 'player queen', 'sir stephen scroop', 'widow', 'eros', 'euphronius', 'kent', 'girl', 'nerissa', 'cassandra', 'myrmidons', 'jaquenetta', 'lord ross', 'constable', 'maria', 'vincentio', 'second captain', 'third apparition', 'simpcox', 'speed', 'donalbain', 'travellers', 'scout', 'stanley', 'courtezan', 'quintus', 'gonzalo', 'cassio', 'iris', 'gregory', 'armado', 'third musician', 'camillo', 'falstaff', 'brakenbury', 'first merchant', 'queen katharine', 'hortensia', 'hotspur', 'lieutenant', 'clitus', 'taurus', 'gentlemen', 'hector', 'mardian', 'guildford', 'fleance', 'capulet', 'titus', 'jaques', 'first apparition', 'alexas', 'juno', 'basset', 'whitmore', 'bianca', 'king henry v', 'second attendant', 'prologue', 'william page', 'a player', 'gratiano', 'mariana', 'iden', 'general', 'fastolfe', 'thyreus', 'third gentleman', 'wife', 'biron', 'northumberland', 'volumnia', 'exton', 'alcibiades', 'king henry iv', 'pandarus', 'eglamour', 'a lord', 'margaret jourdain', 'soothsayer', 'ferdinand', 'york', 'third lord', 'quince', 'players', 'timandra', 'guard', 'macmorris', 'dauphin', 'roman', 'guiderius', 'cornwall', 'attendants', 'gallus', 'alencon', 'tyrian sailor', 'bastard of orleans', 'first secretary', 'paris', 'lord', 'second senator', 'slender', 'lord fitzwater', 'grumio', 'third servingman', 'gobbo', 'domitius enobarbus', 'hippolyta', 'wall', 'sir humphrey', 'rutland', 'second herald', 'king richard iii', 'captain', 'henry percy', 'soldiers', 'archidamus', 'aemilius', 'lucentio', 'volumnius', 'boyet', 'king edward iv', 'second fisherman', 'queen margaret', 'lorenzo', 'cressida', 'some speak', 'hortensio', 'lear', 'first sailor', 'bevis', 'boatswain', 'scarus', 'third murderer', 'trinculo', 'angelo', 'mistress page', 'fourth soldier', 'duke of york', 'helenus', 'servilius', 'seyton', 'canidius', 'first captain', 'biondello', 'second bandit', 'second keeper', 'second merchant', 'sheriff', 'holland', 'cicero', 'simonides', 'all the lords', 'bertram', 'several citizens', 'conrade', 'all the people', 'canterbury', 'first guard', 'hortensius', 'third messenger', 'lewis', 'pyramus', 'sir toby belch', 'abhorson', 'second apparition', 'another', 'lucy', 'griffith', 'agamemnon', 'william', 'knight', 'simple', 'mamillius', 'abergavenny', 'ghost of hastings', 'mecaenas', 'dull', 'henry bolingbroke', 'both murderers', 'duke of surrey', 'fluellen', 'third senator', 'archbishop of york', 'clarence', 'ajax', 'curtis', 'friar francis', 'oxford', 'escanes', 'artemidorus', 'westmoreland', 'bedford', 'autolycus', 'francisca', 'boy', 'thersites', 'octavia', 'lysander', 'barnardine', 'robin', 'aufidius', 'sempronius', 'marullus', 'chancellor', 'second gaoler', 'moonshine', 'borachio', 'young lucius', 'morocco', 'talbot', 'denny', 'starveling', 'earl of salisbury', 'second commoner', 'julia', 'second soldier', 'gadshill', 'pandar', 'senators', 'bassanio', 'caesar', 'third witch', 'margarelon', 'sicinius', 'legate', 'william stafford', 'hume', 'cromwell', 'duke vincentio', 'first servant', 'tyrrel', 'titus andronicus', 'bona', 'menteith', 'baptista', 'danes', 'commons', 'lord mayor', 'salisbury', 'master', 'sands', 'smith', 'lady macbeth', 'marcus andronicus', 'duke solinus', 'player king', 'diana', 'helena', 'scales', 'first tribune', 'first senator', 'vintner', 'lovell', 'sly', 'salarino', 'philemon', 'malcolm', 'marcellus', 'pindarus', 'boult', 'constance', 'anne page', 'beadle', 'mustardseed', 'second carrier', 'holofernes', 'adrian', 'helen', 'leonato', 'salanio', 'messenger', 'bottom', 'groom', 'pisanio', 'nym', 'forester', 'second gentlemen', 'andromache', 'doctor butts', 'lysimachus', 'osric', 'queen isabel', 'saturninus', 'sailor', 'king philip', 'pedant', 'abbot', 'cleopatra', 'third neighbour', 'caphis', 'thaisa', 'orleans', 'dromio of syracuse', 'don john', 'emilia', 'of auvergne', 'chamberlain', 'duke frederick', 'ulysses', 'young clifford', 'arthur', 'leontes', 'guildenstern', 'mariners', 'king', 'second goth', 'thieves', 'king of france', 'lincoln', 'woodvile', 'first soldier', 'montague', 'cardinal', 'ghost of rivers', 'earl of worcester', 'aeneas', 'clerk', 'lucullus', 'cymbeline', 'first citizen', 'elbow', 'imogen', 'catesby', 'duke', 'second witch', 'lady anne', 'bates', 'francis', 'first murderer', 'tubal', 'philip', 'sir michael', 'sicilius leonatus', 'of prince edward', 'children', 'first roman', 'shepherd', 'duke orsino', 'mark antony', 'ross', 'second pirate', 'of winchester', 'young marcius', 'post', 'clown', 'king richard ii', 'first stranger', 'first gaoler', 'all citizens', 'first lord', 'tutor', 'scribe', 'second roman', 'shylock', 'first gentleman', 'jeweller', 'cato', 'edward', 'hecate', 'achilles', 'pistol', 'third knight', 'third fisherman', 'varro', 'lady grey', 'third pirate', 'aedile', 'duke of aumerle', 'rosaline', 'second musician', 'celia', 'shepard', 'claudio', 'attendant', 'olivia', 'first petitioner', 'macbeth', 'of young princes', 'lucilius', 'second sailor', 'first messenger', 'bassianus', 'pursuivant', 'officer', 'antonio', 'octavius', 'court', 'citizen', 'proteus', 'a patrician', 'man', 'second petitioner', 'sampson', 'lord stanley', 'countess', 'lucetta', 'lucianus', 'third outlaw', 'robert', 'tamora', 'panthino', 'dorcas', 'roderigo', 'queen', 'king henry viii', 'dogberry', 'jamy', 'varrius', 'hastings', 'grandpre', 'duncan', 'dardanius', 'melun', 'antigonus', 'froth', 'gentlewoman', 'first servingman', 'derby', 'edmund', 'adam', 'joan la pucelle', 'second knight', 'messala', 'george', 'lancaster', 'john talbot', 'oliver', 'princess', 'first bandit', 'florizel', 'bishop of carlisle', 'bardolph', 'first warder', 'second patrician', 'porter', 'second officer', 'tybalt', 'ghost of clarence', 'lady percy']\n"
          ]
        }
      ]
    },
    {
      "cell_type": "code",
      "source": [
        "cd_matrix = create_cd_matrix(tuples, document_names, character_names)\n",
        "cc_matrix = create_cc_matrix(tuples, character_names, vocab, context_window_size=2)"
      ],
      "metadata": {
        "id": "EZePBOa-AGIS"
      },
      "execution_count": 97,
      "outputs": []
    },
    {
      "cell_type": "code",
      "source": [
        "#cosine\n",
        "name = 'romeo'\n",
        "name = name.lower()\n",
        "target_character_index = character_names.index(name)\n",
        "similar_chars_indices = similarity_chars(target_character_index, cd_matrix, compute_cosine_similarity)\n",
        "print(\"Most similar\\n\")\n",
        "for index in similar_chars_indices[:5]:\n",
        "    print(character_names[index])\n",
        "\n",
        "print(\"\\nLeast similar\\n\")\n",
        "for index in similar_chars_indices[-5:]:\n",
        "    print(character_names[index])"
      ],
      "metadata": {
        "colab": {
          "base_uri": "https://localhost:8080/"
        },
        "id": "jX81o4L99ll8",
        "outputId": "ed7822b4-0e2a-47b7-99ba-a518115fa133"
      },
      "execution_count": 99,
      "outputs": [
        {
          "output_type": "stream",
          "name": "stdout",
          "text": [
            "Most similar\n",
            "\n",
            "lady percy\n",
            "first executioner\n",
            "first ambassador\n",
            "lennox\n",
            "le beau\n",
            "\n",
            "Least similar\n",
            "\n",
            "goneril\n",
            "trebonius\n",
            "charles\n",
            "master\n",
            "rosalind\n"
          ]
        },
        {
          "output_type": "stream",
          "name": "stderr",
          "text": [
            "<ipython-input-67-df4f3884d5d8>:23: RuntimeWarning: invalid value encountered in scalar divide\n",
            "  return dot_p / (vector1 * vector2)\n"
          ]
        }
      ]
    },
    {
      "cell_type": "code",
      "source": [
        "#dice\n",
        "similar_chars_indices = similarity_chars(target_character_index, cd_matrix, compute_dice_similarity)\n",
        "print(\"Most similar\\n\")\n",
        "for index in similar_chars_indices[:5]:\n",
        "    print(character_names[index])\n",
        "\n",
        "print(\"\\nLeast similar\\n\")\n",
        "for index in similar_chars_indices[-6:]:\n",
        "    print(character_names[index])"
      ],
      "metadata": {
        "colab": {
          "base_uri": "https://localhost:8080/"
        },
        "id": "EqNKWqpOI2bD",
        "outputId": "1c9ddf46-caa1-4350-bd4a-9ae0c298e93a"
      },
      "execution_count": 104,
      "outputs": [
        {
          "output_type": "stream",
          "name": "stdout",
          "text": [
            "Most similar\n",
            "\n",
            "tybalt\n",
            "nurse\n",
            "juliet\n",
            "peter\n",
            "mercutio\n",
            "\n",
            "Least similar\n",
            "\n",
            "some speak\n",
            "cressida\n",
            "lorenzo\n",
            "queen margaret\n",
            "second fisherman\n",
            "\n"
          ]
        }
      ]
    },
    {
      "cell_type": "code",
      "source": [
        "#jaccard\n",
        "similar_chars_indices = similarity_chars(target_character_index, cd_matrix, compute_jaccard_similarity)\n",
        "print(\"Most similar\\n\")\n",
        "for index in similar_chars_indices[:5]:\n",
        "    print(character_names[index])\n",
        "\n",
        "print(\"\\nLeast similar\\n\")\n",
        "for index in similar_chars_indices[-6:]:\n",
        "    print(character_names[index])"
      ],
      "metadata": {
        "colab": {
          "base_uri": "https://localhost:8080/"
        },
        "id": "gH4Ln2PKJNso",
        "outputId": "8ac8edd7-fe91-4ad5-87a9-35fdca6d18e3"
      },
      "execution_count": 105,
      "outputs": [
        {
          "output_type": "stream",
          "name": "stdout",
          "text": [
            "Most similar\n",
            "\n",
            "tybalt\n",
            "nurse\n",
            "juliet\n",
            "peter\n",
            "mercutio\n",
            "\n",
            "Least similar\n",
            "\n",
            "some speak\n",
            "cressida\n",
            "lorenzo\n",
            "queen margaret\n",
            "second fisherman\n",
            "\n"
          ]
        }
      ]
    },
    {
      "cell_type": "markdown",
      "source": [
        "# Extra credit [15 points]\n",
        "\n",
        "Quantifying the goodness of one vector space representation over another can be very difficult to do.  It might ultimately require testing how the different vector representations change the performance when used in a downstream task like question answering. A common way of quantifying the goodness of word vectors is to use them to compare the similarity of words with human similarity judgments, and then calculate the correlation of the two rankings.\n",
        "\n",
        "If you would like extra credit on this assignment, you can quantify the goodness of each of the different vector space models that you produced (for instance by varying the size of the context window, picking PPMI or tf-idf, and selecting among cosine, Jaccard, and Dice).  You can calculate their scores on the [SimLex999 data set](https://www.cl.cam.ac.uk/~fh295/simlex.html), and compute their correlation with human judgments using [Kendall's Tau](https://en.wikipedia.org/wiki/Kendall_rank_correlation_coefficient).\n",
        "\n",
        "- **Deliverables**:\n",
        "    - In the following cells, explain what **experiments** you ran, and which **settings** *(i.e. size of the context window, picking PPMI or tf-idf, and selecting among cosine, Jaccard, and Dice)* had the highest correlation with human judgments.\n",
        "\n",
        "- **Hint**:\n",
        "    - For SimLex999 dataset, you only need to use `word1`, `word2`, and `SimLex999` columns, where `SimLex999` column is a **similarity rating by human beings** (ranging from 0 to 10) between `word1` and `word2`.\n",
        "    - For Kendal's Tau, you can use check [this python implementation](https://www.geeksforgeeks.org/python-kendall-rank-correlation-coefficient/#) for reference.\n",
        "\n"
      ],
      "metadata": {
        "id": "pLJCSOm9v7NN"
      }
    },
    {
      "cell_type": "code",
      "source": [
        "# Approach:\n",
        "\n",
        "# 1. Prepare the Data:\n",
        "\n",
        "# Use the SimLex999 dataset, which provides human similarity ratings for word pairs.\n",
        "# Focus on the columns: word1, word2, and SimLex999 (similarity ratings by humans).\n",
        "\n",
        "# 2. Generate Vector Representations:\n",
        "\n",
        "# Create different term-context matrices by varying the size of the context window.\n",
        "# Apply different weighting schemes like PPMI and tf-idf to these matrices.\n",
        "# Compute word vectors using these weighted matrices.\n",
        "\n",
        "# 3. Compute Similarities:\n",
        "\n",
        "# For each pair of words in the SimLex999 dataset, calculate their similarity using different metrics (cosine, Jaccard, and Dice) based on the generated word vectors.\n",
        "\n",
        "# 4. Calculate Correlation:\n",
        "\n",
        "# Compare the computed similarities with human judgments from the SimLex999 dataset.\n",
        "# Calculate the correlation between the model's similarity scores and human judgments using Kendall's Tau.\n",
        "\n",
        "# 5. Report Findings:\n",
        "\n",
        "# Run experiments with different settings and record which configurations (context window size, weighting scheme, and similarity metric) yield\n",
        "# the highest correlation with human judgments."
      ],
      "metadata": {
        "id": "akPyEppVA3-8"
      },
      "execution_count": 106,
      "outputs": []
    },
    {
      "cell_type": "code",
      "source": [],
      "metadata": {
        "id": "6FrinmUx5sDY"
      },
      "execution_count": 106,
      "outputs": []
    },
    {
      "cell_type": "markdown",
      "source": [
        "# Submission\n",
        "### Congratulation on finishing your homework! Here are the deliverables you need to submit to GradeScope\n",
        "- This notebook and py file: rename to `homework4.ipynb` and `homework4.py`. You can download the notebook and py file by going to the top-left corner of this webpage, `File -> Download -> Download .ipynb/.py`"
      ],
      "metadata": {
        "id": "JS-WxZRm5xKr"
      }
    }
  ]
}