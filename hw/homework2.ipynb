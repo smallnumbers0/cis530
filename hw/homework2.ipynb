{
  "cells": [
    {
      "cell_type": "markdown",
      "metadata": {
        "id": "QUzMpi3XpWYg"
      },
      "source": [
        "# Homework 2: Text Classification\n",
        "## Due Date: (TBD)\n",
        "## Total Points: (TBD)\n",
        "- **Overview**: For this assignment, we’ll be building a text classifier. The goal of our text classifer will be to distinguish between words that are simple and words that are complex. Example simple words are `heard`, `sat`, and `town`, and example complex words are `abdicate`, `detained`, and `vintners`. Distinguishing between simple and complex words is the first step in a larger NLP task called text simplification, which aims to replace complex words with simpler synonyms. Text simplification is potentially useful for re-writing texts so that they can be more easily understood by younger readers, people learning English as a second language, or people with learning disabilities.\n",
        "\n",
        "- **Learning goals**:\n",
        "    - Understand an important class of NLP evaluation methods (precision, recall and F1), and implement them yourself.\n",
        "    - Employ common experimental design practices in NLP. Split the annotated data into training/development/test sets, implement simple baselines to determine how difficult the task is, and experiment with a range of features and models.\n",
        "    - Get an introduction to `sklearn`, an excellent machine learning Python package.\n",
        "\n",
        "- **Data**: We will provide you with training and development data that has been manually labeled. We will also give you a test set without labels. You will build a classifier to predict the labels on our test set. You can upload your classifier’s predictions to Gradescope. We will score its predictions and maintain a leaderboard showing whose classifier has the best performance.\n",
        "\n",
        "## Recommended Readings\n",
        "- [Naive Bayes Classification and Sentiment](https://web.stanford.edu/~jurafsky/slp3/4.pdf) Dan Jurafsky and James H. Martin. Speech and Language Processing (3rd edition draft).\n",
        "- [Logistic Regression](https://web.stanford.edu/~jurafsky/slp3/5.pdf) Dan Jurafsky and James H. Martin. Speech and Language Processing (3rd edition draft) .\n",
        "- [Problems in Current Text Simplification Research: New Data Can Help](http://www.cis.upenn.edu/~ccb/publications/new-data-for-text-simplification.pdf) Wei Xu, Chris Callison-Burch, and Courtney Napoles. TACL 2015.\n",
        "- [Comparison of Techniques to Automatically Identify Complex Words](http://aclweb.org/anthology/P/P13/P13-3015.pdf) Matthew Shardlow. ACL 2013.\n",
        "- [SemEval 2016 Task 11: Complex Word Identification](https://www.researchgate.net/profile/Gustavo_Paetzold/publication/305334627_SemEval_2016_Task_11_Complex_Word_Identification/links/57bab70a08ae14f440bd9722/SemEval-2016-Task-11-Complex-Word-Identification.pdf) Gustavo Paetzold and Lucia Specia. ACL 2016."
      ]
    },
    {
      "cell_type": "markdown",
      "metadata": {
        "id": "IDv9qN5c9357"
      },
      "source": [
        "## Setup 1: PennGrader Setup"
      ]
    },
    {
      "cell_type": "code",
      "execution_count": 1,
      "metadata": {
        "id": "uCEi3Stv9lun"
      },
      "outputs": [],
      "source": [
        "## DO NOT CHANGE ANYTHING, JUST RUN\n",
        "%%capture\n",
        "!pip install penngrader-client dill"
      ]
    },
    {
      "cell_type": "code",
      "execution_count": 2,
      "metadata": {
        "colab": {
          "base_uri": "https://localhost:8080/"
        },
        "id": "AsOtK_aN65OD",
        "outputId": "9f587dd9-41cc-42ba-ad3b-2d237741390a"
      },
      "outputs": [
        {
          "output_type": "stream",
          "name": "stdout",
          "text": [
            "Overwriting notebook-config.yaml\n"
          ]
        }
      ],
      "source": [
        "%%writefile notebook-config.yaml\n",
        "\n",
        "grader_api_url: 'https://23whrwph9h.execute-api.us-east-1.amazonaws.com/default/Grader23'\n",
        "grader_api_key: 'flfkE736fA6Z8GxMDJe2q8Kfk8UDqjsG3GVqOFOa'"
      ]
    },
    {
      "cell_type": "code",
      "execution_count": 3,
      "metadata": {
        "colab": {
          "base_uri": "https://localhost:8080/"
        },
        "id": "A54Qn8Fc65rr",
        "outputId": "a47f5eda-922a-4f01-baff-21b497040caf"
      },
      "outputs": [
        {
          "output_type": "stream",
          "name": "stdout",
          "text": [
            "\n",
            "grader_api_url: 'https://23whrwph9h.execute-api.us-east-1.amazonaws.com/default/Grader23'\n",
            "grader_api_key: 'flfkE736fA6Z8GxMDJe2q8Kfk8UDqjsG3GVqOFOa'\n"
          ]
        }
      ],
      "source": [
        "!cat notebook-config.yaml"
      ]
    },
    {
      "cell_type": "code",
      "execution_count": 4,
      "metadata": {
        "colab": {
          "base_uri": "https://localhost:8080/"
        },
        "id": "pqLZxuPW65o0",
        "outputId": "ab663555-ff6f-4f4f-ab14-c46f292bdae1"
      },
      "outputs": [
        {
          "output_type": "stream",
          "name": "stdout",
          "text": [
            "PennGrader initialized with Student ID: 56803282\n",
            "\n",
            "Make sure this correct or we will not be able to store your grade\n"
          ]
        }
      ],
      "source": [
        "from penngrader.grader import *\n",
        "\n",
        "## TODO - Start\n",
        "STUDENT_ID = 56803282 # YOUR PENN-ID GOES HERE AS AN INTEGER#\n",
        "## TODO - End\n",
        "\n",
        "SECRET = STUDENT_ID\n",
        "grader = PennGrader('notebook-config.yaml', 'CIS5300_OL_23Su_HW2', STUDENT_ID, SECRET)"
      ]
    },
    {
      "cell_type": "code",
      "execution_count": 5,
      "metadata": {
        "id": "e8Oo9CBh65mO"
      },
      "outputs": [],
      "source": [
        "def reload_grader():\n",
        "    grader = PennGrader('notebook-config.yaml', 'CIS5300_OL_23Su_HW2', STUDENT_ID, SECRET)\n",
        "    return grader"
      ]
    },
    {
      "cell_type": "code",
      "execution_count": 6,
      "metadata": {
        "colab": {
          "base_uri": "https://localhost:8080/"
        },
        "id": "XiuH5IC47AKJ",
        "outputId": "f8bd4969-a66b-474a-87f4-7af67d595f5d"
      },
      "outputs": [
        {
          "output_type": "stream",
          "name": "stdout",
          "text": [
            "Correct! You earned 4/4 points. You are a star!\n",
            "\n",
            "Your submission has been successfully recorded in the gradebook.\n"
          ]
        }
      ],
      "source": [
        "# check if the PennGrader is set up correctly\n",
        "# do not chance this cell, see if you get 4/4!\n",
        "name_str = 'Jacky Choi'\n",
        "grader.grade(test_case_id = 'name_test', answer = name_str)"
      ]
    },
    {
      "cell_type": "markdown",
      "metadata": {
        "id": "wHeB9GLB-PO1"
      },
      "source": [
        "## Setup 2: Dataset / Packages\n",
        "- **Run the following cells without changing anything!**\n",
        "- [Loading dataset from huggingface](https://huggingface.co/docs/datasets/v1.8.0/loading_datasets.html#from-local-files)"
      ]
    },
    {
      "cell_type": "code",
      "execution_count": 7,
      "metadata": {
        "id": "g2eaUdk__tUv"
      },
      "outputs": [],
      "source": [
        "from collections import defaultdict\n",
        "import gzip\n",
        "\n",
        "from sklearn.linear_model import LogisticRegression\n",
        "from sklearn.naive_bayes import GaussianNB\n",
        "import numpy as np\n",
        "from tqdm import tqdm\n",
        "from dill.source import getsource"
      ]
    },
    {
      "cell_type": "code",
      "execution_count": 8,
      "metadata": {
        "colab": {
          "base_uri": "https://localhost:8080/"
        },
        "id": "rzmRKkBzqFq9",
        "outputId": "0f58f3e7-7f73-4065-e44a-83da410ab05d"
      },
      "outputs": [
        {
          "output_type": "stream",
          "name": "stdout",
          "text": [
            "Downloading...\n",
            "From: https://drive.google.com/uc?id=16KoidumvFEoI9hliqgrPiWhvhFHkqMEJ\n",
            "To: /content/complex_words_test_unlabeled.txt\n",
            "100% 181k/181k [00:00<00:00, 6.23MB/s]\n",
            "Downloading...\n",
            "From: https://drive.google.com/uc?id=17xaJNRt3DY2zhEgBE2zj0JEuMqf8CCdk\n",
            "To: /content/complex_words_training.txt\n",
            "100% 798k/798k [00:00<00:00, 9.95MB/s]\n",
            "Downloading...\n",
            "From: https://drive.google.com/uc?id=1JX-G-olW84eckkGW-1OC-5XeVJ-Yx3RK\n",
            "To: /content/complex_words_development.txt\n",
            "100% 198k/198k [00:00<00:00, 7.56MB/s]\n",
            "Downloading...\n",
            "From: https://drive.google.com/uc?id=1ppyM-7kFyabNG8zOudsTuhWl-2j-zy5Z\n",
            "To: /content/complex_words_test_mini.txt\n",
            "100% 396/396 [00:00<00:00, 1.63MB/s]\n",
            "  % Total    % Received % Xferd  Average Speed   Time    Time     Time  Current\n",
            "                                 Dload  Upload   Total   Spent    Left  Speed\n",
            "100   272  100   272    0     0   1675      0 --:--:-- --:--:-- --:--:--  1679\n",
            "100 42.4M  100 42.4M    0     0  21.6M      0  0:00:01  0:00:01 --:--:-- 41.8M\n"
          ]
        }
      ],
      "source": [
        "#%%capture\n",
        "# data\n",
        "!gdown 16KoidumvFEoI9hliqgrPiWhvhFHkqMEJ # https://drive.google.com/file/d/16KoidumvFEoI9hliqgrPiWhvhFHkqMEJ/view?usp=sharing\n",
        "!gdown 17xaJNRt3DY2zhEgBE2zj0JEuMqf8CCdk # https://drive.google.com/file/d/17xaJNRt3DY2zhEgBE2zj0JEuMqf8CCdk/view?usp=sharing\n",
        "!gdown 1JX-G-olW84eckkGW-1OC-5XeVJ-Yx3RK # https://drive.google.com/file/d/1JX-G-olW84eckkGW-1OC-5XeVJ-Yx3RK/view?usp=sharing\n",
        "!gdown 1ppyM-7kFyabNG8zOudsTuhWl-2j-zy5Z # https://drive.google.com/file/d/1ppyM-7kFyabNG8zOudsTuhWl-2j-zy5Z/view?usp=sharing\n",
        "!curl -L -o ngram_counts.txt.gz http://www.cis.upenn.edu/~cis5300/18sp/data/ngram_counts.txt.gz"
      ]
    },
    {
      "cell_type": "code",
      "execution_count": 9,
      "metadata": {
        "colab": {
          "base_uri": "https://localhost:8080/"
        },
        "id": "rfCcEa82dwjv",
        "outputId": "c7c35dd8-c65b-4a4e-9965-a3659dd9b075"
      },
      "outputs": [
        {
          "output_type": "stream",
          "name": "stdout",
          "text": [
            "Downloading...\n",
            "From (original): https://drive.google.com/uc?id=1rkYaFae_qJk1AlHORDLH3aPH47f9DA8s\n",
            "From (redirected): https://drive.google.com/uc?id=1rkYaFae_qJk1AlHORDLH3aPH47f9DA8s&confirm=t&uuid=82e24338-2b1f-4daf-9b2b-12aeadc1ea2d\n",
            "To: /content/ngram_counts.txt.gz\n",
            "100% 44.5M/44.5M [00:00<00:00, 76.7MB/s]\n"
          ]
        }
      ],
      "source": [
        "!gdown 1rkYaFae_qJk1AlHORDLH3aPH47f9DA8s"
      ]
    },
    {
      "cell_type": "code",
      "execution_count": 9,
      "metadata": {
        "id": "4HBHau8ddz95"
      },
      "outputs": [],
      "source": []
    },
    {
      "cell_type": "code",
      "execution_count": 10,
      "metadata": {
        "id": "7Adfo88__puO"
      },
      "outputs": [],
      "source": [
        "train_file = \"complex_words_training.txt\"\n",
        "dev_file = \"complex_words_development.txt\"\n",
        "test_file = \"complex_words_test_unlabeled.txt\"\n",
        "mini_test_file = 'complex_words_test_mini.txt'"
      ]
    },
    {
      "cell_type": "code",
      "execution_count": 11,
      "metadata": {
        "id": "sBvFx6rmqMU5"
      },
      "outputs": [],
      "source": [
        "########## DO NOT CHANGE ##########\n",
        "## Loads in the words and labels of one of the datasets\n",
        "def load_labeled_file(data_file):\n",
        "    words = []\n",
        "    labels = []\n",
        "    with open(data_file, 'rt', encoding=\"utf8\") as f:\n",
        "        i = 0\n",
        "        for line in f:\n",
        "            if i > 0:\n",
        "                line_split = line[:-1].split(\"\\t\")\n",
        "                words.append(line_split[0].lower())\n",
        "                labels.append(int(line_split[1]))\n",
        "            i += 1\n",
        "    return words, labels\n",
        "\n",
        "def load_unlabeled_file(data_file):\n",
        "    words = []\n",
        "    # labels = []\n",
        "    with open(data_file, 'rt', encoding=\"utf8\") as f:\n",
        "        words = [line.strip() for line in f.readlines() if len(line.strip()) > 0]\n",
        "    return words\n",
        "\n",
        "def load_test_file(data_file):\n",
        "    words = []\n",
        "    with open(data_file, 'rt', encoding=\"utf8\") as f:\n",
        "        next(f) # skip first line (header)\n",
        "        words = [line.strip().split('\\t')[0] for line in f.readlines() if len(line.strip()) > 0]\n",
        "    return words\n",
        "\n",
        "## Loads Google NGram counts\n",
        "def load_ngram_counts(ngram_counts_file = 'ngram_counts.txt.gz'):\n",
        "    counts = defaultdict(int)\n",
        "    with gzip.open(ngram_counts_file, 'rt') as f:\n",
        "        for line in f:\n",
        "            token, count = line.strip().split('\\t')\n",
        "            if token[0].islower():\n",
        "                counts[token] = int(count)\n",
        "    return counts\n",
        "ngram_counts = load_ngram_counts()"
      ]
    },
    {
      "cell_type": "markdown",
      "metadata": {
        "id": "e-cTPv6O5JHn"
      },
      "source": [
        "### About the data\n",
        "- `train_data`, `dev_data`: these are words with labels, provided for you to train and evaluate your models.\n",
        "- `mini_test_words`: this is a subset (50) of the unseen test dataset, we will provide test the **basic functionality** of your models based on the performance on this mini testset (PennGrader tests). **This would only be a basic sanity check of your implementation. The final grade would be based on the PennGrader Grades and manual grading on your implementation**\n",
        "- `test_words`: this is the full, unlabelled test set. You are expected to submit the prediction of these words at the end of the assignment."
      ]
    },
    {
      "cell_type": "code",
      "execution_count": 12,
      "metadata": {
        "colab": {
          "base_uri": "https://localhost:8080/"
        },
        "id": "lM2zO3eB5I3U",
        "outputId": "165465d5-8fe1-4cb0-fa63-e0b72a5c352e"
      },
      "outputs": [
        {
          "output_type": "execute_result",
          "data": {
            "text/plain": [
              "['hammer', 'renewable', 'showings', 'academy', 'continues']"
            ]
          },
          "metadata": {},
          "execution_count": 12
        }
      ],
      "source": [
        "########## DO NOT CHANGE ##########\n",
        "train_data = load_labeled_file(train_file)\n",
        "dev_data = load_labeled_file(dev_file)\n",
        "mini_test_words = load_unlabeled_file(mini_test_file)\n",
        "test_words = load_test_file(test_file)\n",
        "\n",
        "# you can take a look at this mini-dev data by uncommenting this line\n",
        "dev_words, dev_labels = dev_data\n",
        "dev_words[:5] # some examples of this dev dataset"
      ]
    },
    {
      "cell_type": "code",
      "execution_count": 13,
      "metadata": {
        "colab": {
          "base_uri": "https://localhost:8080/"
        },
        "id": "spBhnflE5I0_",
        "outputId": "826b6810-2d3b-489d-8e5b-66ab9f6ce3be"
      },
      "outputs": [
        {
          "output_type": "execute_result",
          "data": {
            "text/plain": [
              "['threads', 'reinforce', 'letters', 'pioneered', 'closer']"
            ]
          },
          "metadata": {},
          "execution_count": 13
        }
      ],
      "source": [
        "mini_test_words[:5]"
      ]
    },
    {
      "cell_type": "code",
      "execution_count": 14,
      "metadata": {
        "colab": {
          "base_uri": "https://localhost:8080/"
        },
        "id": "TaoP0yxeYtTE",
        "outputId": "0363cb89-5ead-4720-ea40-7ea26213b0ce"
      },
      "outputs": [
        {
          "output_type": "execute_result",
          "data": {
            "text/plain": [
              "['string', 'derailed', 'asylum-seekers', 'shaping', 'worked']"
            ]
          },
          "metadata": {},
          "execution_count": 14
        }
      ],
      "source": [
        "train_words, train_labels = train_data\n",
        "train_words[:5]"
      ]
    },
    {
      "cell_type": "markdown",
      "metadata": {
        "id": "QxKLifghqGI1"
      },
      "source": [
        "# Section 1. Implement the Evaluation Metrics\n",
        "- You might find this [Wikipedia Page](https://en.wikipedia.org/wiki/Precision_and_recall) useful.\n",
        "- **Problem 1.1** Predicion, Recall, F1 Score"
      ]
    },
    {
      "cell_type": "code",
      "execution_count": 15,
      "metadata": {
        "id": "XTSjcJi4qL9H"
      },
      "outputs": [],
      "source": [
        "## Input: y_pred, a list of length n with the predicted labels,\n",
        "## y_true, a list of length n with the true labels\n",
        "\n",
        "## Calculates the precision of the predicted labels\n",
        "def get_precision(y_true, y_pred):\n",
        "    ## YOUR CODE HERE...\n",
        "    tp = 0\n",
        "    fp = 0\n",
        "    for i in range(len(y_true)):\n",
        "        if y_pred[i] == 1:\n",
        "            if y_true[i] == 1:\n",
        "                tp += 1\n",
        "            else:\n",
        "                fp += 1\n",
        "    if tp + fp > 0:\n",
        "        precision = tp / (tp + fp)\n",
        "    else:\n",
        "        precision = 0\n",
        "    return precision\n",
        "\n",
        "## Calculates the recall of the predicted labels\n",
        "def get_recall(y_true, y_pred):\n",
        "    ## YOUR CODE HERE...\n",
        "    tp = 0\n",
        "    fn = 0\n",
        "    for i in range(len(y_true)):\n",
        "        if y_true[i] == 1:\n",
        "            if y_pred[i] == 1:\n",
        "                tp += 1\n",
        "            else:\n",
        "                fn += 1\n",
        "    if tp + fn > 0:\n",
        "        recall = tp / (tp + fn)\n",
        "    else:\n",
        "        recall = 0\n",
        "    return recall\n",
        "\n",
        "## Calculates the f-score of the predicted labels\n",
        "def get_fscore(y_true, y_pred):\n",
        "    ## YOUR CODE HERE...\n",
        "    precision = get_precision(y_true, y_pred)\n",
        "    recall = get_recall(y_true, y_pred)\n",
        "    fscore = 2 * precision * recall / (precision + recall) if (precision + recall) > 0 else 0\n",
        "\n",
        "    return fscore"
      ]
    },
    {
      "cell_type": "code",
      "execution_count": 16,
      "metadata": {
        "colab": {
          "base_uri": "https://localhost:8080/"
        },
        "id": "8IxXaxPwbMmQ",
        "outputId": "256b00d7-3aba-4bd0-ff13-eca9e88683a6"
      },
      "outputs": [
        {
          "output_type": "stream",
          "name": "stdout",
          "text": [
            "Correct! You earned 12/12 points. You are a star!\n",
            "\n",
            "Your submission has been successfully recorded in the gradebook.\n"
          ]
        }
      ],
      "source": [
        "# PennGrader - DO NOT CHANGE\n",
        "# grader.grade(test_case_id = 'test_q11_eval_funcs', answer = (get_precision, get_recall, get_fscore))\n",
        "grader.grade(test_case_id = 'test_q11_eval_funcs', answer = [getsource(get_precision), getsource(get_recall), getsource(get_fscore)])"
      ]
    },
    {
      "cell_type": "markdown",
      "metadata": {
        "id": "NPWqpba5qMkS"
      },
      "source": [
        "# Section 2. Baselines"
      ]
    },
    {
      "cell_type": "markdown",
      "metadata": {
        "id": "Ce_lQ23GrM04"
      },
      "source": [
        "## 2.1 Implement a majority class baseline\n",
        "You should start by implementing simple baselines as classifiers. Your first baseline is a **majority class baseline** which is one of the most simple classifier. You should complete the function `all_complex(words)`, which takes in a list of words, and returns out the predictions.\n"
      ]
    },
    {
      "cell_type": "markdown",
      "metadata": {
        "id": "ZSscYsHl9Hrz"
      },
      "source": [
        "- **Problem 2.1:** Implement `all_complex()` that always predicts the majority class of the data (i.e. predicting every word as complex)"
      ]
    },
    {
      "cell_type": "code",
      "execution_count": 17,
      "metadata": {
        "id": "PadhojvR81W2"
      },
      "outputs": [],
      "source": [
        "## Labels every word complex\n",
        "def all_complex(words):\n",
        "    ## YOUR CODE HERE...\n",
        "    y_pred = [1 for word in words]\n",
        "    return y_pred"
      ]
    },
    {
      "cell_type": "markdown",
      "metadata": {
        "id": "QTUh940XEA8W"
      },
      "source": [
        "- **Answer 2.1:** Please report the precision, recall, and f-score on both the training data and the development data.\n",
        "    - Training **[0.432, 1.0, 0.604]**\n",
        "    - Development **[0.418, 1.0, 0.589]**"
      ]
    },
    {
      "cell_type": "code",
      "execution_count": 18,
      "metadata": {
        "colab": {
          "base_uri": "https://localhost:8080/"
        },
        "id": "DLTmB2aw0fgC",
        "outputId": "984fc55f-2d54-4886-f1ec-c75cdf4102ed"
      },
      "outputs": [
        {
          "output_type": "execute_result",
          "data": {
            "text/plain": [
              "0.5895627644569816"
            ]
          },
          "metadata": {},
          "execution_count": 18
        }
      ],
      "source": [
        "dev_words, dev_labels = dev_data\n",
        "y_pred = all_complex(dev_words)\n",
        "precision = get_precision(dev_labels, y_pred)\n",
        "recall = get_recall(dev_labels, y_pred)\n",
        "fscore = get_fscore(dev_labels, y_pred)\n",
        "fscore"
      ]
    },
    {
      "cell_type": "code",
      "execution_count": 19,
      "metadata": {
        "colab": {
          "base_uri": "https://localhost:8080/"
        },
        "id": "CETysFrNZcXI",
        "outputId": "4040d19f-918a-4509-d4d5-bef519f59462"
      },
      "outputs": [
        {
          "output_type": "stream",
          "name": "stdout",
          "text": [
            "0.418\n",
            "1.0\n",
            "0.5895627644569816\n"
          ]
        }
      ],
      "source": [
        "#Development scores for 2.1\n",
        "print(precision)\n",
        "print(recall)\n",
        "print(fscore)"
      ]
    },
    {
      "cell_type": "code",
      "execution_count": 20,
      "metadata": {
        "colab": {
          "base_uri": "https://localhost:8080/"
        },
        "id": "pan6eoQvZdaF",
        "outputId": "8c79e01e-f359-42d5-9841-8b46d835b097"
      },
      "outputs": [
        {
          "output_type": "execute_result",
          "data": {
            "text/plain": [
              "0.604083057058105"
            ]
          },
          "metadata": {},
          "execution_count": 20
        }
      ],
      "source": [
        "train_words, train_labels = train_data\n",
        "y_pred = all_complex(train_words)\n",
        "precision = get_precision(train_labels, y_pred)\n",
        "recall = get_recall(train_labels, y_pred)\n",
        "fscore = get_fscore(train_labels, y_pred)\n",
        "fscore"
      ]
    },
    {
      "cell_type": "code",
      "execution_count": 21,
      "metadata": {
        "colab": {
          "base_uri": "https://localhost:8080/"
        },
        "id": "aWivj8-IZgk4",
        "outputId": "da4cc5e2-9032-4b0c-de1d-5bf2dbd315e8"
      },
      "outputs": [
        {
          "output_type": "stream",
          "name": "stdout",
          "text": [
            "0.43275\n",
            "1.0\n",
            "0.604083057058105\n"
          ]
        }
      ],
      "source": [
        "#Training scores for 2.1\n",
        "print(precision)\n",
        "print(recall)\n",
        "print(fscore)"
      ]
    },
    {
      "cell_type": "code",
      "execution_count": 22,
      "metadata": {
        "colab": {
          "base_uri": "https://localhost:8080/"
        },
        "id": "lL_sMcF0RBfm",
        "outputId": "28ff5183-3db0-4ae7-a5d5-f83c12b67201"
      },
      "outputs": [
        {
          "output_type": "stream",
          "name": "stdout",
          "text": [
            "Correct! You earned 3/3 points. You are a star!\n",
            "\n",
            "Your submission has been successfully recorded in the gradebook.\n"
          ]
        }
      ],
      "source": [
        "# PennGrader - DO NOT CHANGE\n",
        "all_complex_pred = all_complex(mini_test_words)\n",
        "grader.grade(test_case_id = 'test_baseline_q21', answer = all_complex_pred)"
      ]
    },
    {
      "cell_type": "markdown",
      "metadata": {
        "id": "CjVszF6NrOjr"
      },
      "source": [
        "## 2.2 Word length baseline\n",
        "For our next baseline, we will use a slightly complex baseline, the length of each word to predict its complexity.\n",
        "\n",
        "For the word length baseline, you should try setting various thresholds for word length to classify them as simple or otherwise. For example, you might set a threshold of 9, meaning that any words with less than 9 characters will be labeled simple, and any words with 9 characters or more will be labeled complex. Once you find the best threshold using the training data, use this same threshold for the development data as well.\n",
        "\n",
        "You will be filling in the function `word_length_threshold(train_data, dev_data)`. This function takes in both the training and development datasets, finds the best threshold on word length and returns out the predictions on development data for your best threshold.\n",
        "\n",
        "Usually, Precision and Recall are inversely related and while building binary-classification systems we try to find a good balance between them (by maximizing f-score, for example). It is often useful to plot the Precision-Recall curve for various settings of the classifier to gauge its performance and compare it to other classifiers. For example, for this baseline, a Precision-Recall curve can be plotted by plotting the Precision (on the y-axis) and Recall (on the X-axis) for different values of word-length threshold."
      ]
    },
    {
      "cell_type": "markdown",
      "metadata": {
        "id": "AIDngmGzQSOV"
      },
      "source": [
        "- **Problem 2.2:** Implement `word_length_threshold()` that finds the best word length threshold and makes predictions on the development (or testing) data."
      ]
    },
    {
      "cell_type": "code",
      "execution_count": 23,
      "metadata": {
        "id": "ilbOj1BckJ8L"
      },
      "outputs": [],
      "source": [
        "### 2.2: Word length thresholding\n",
        "## Makes feature matrix for word_length_threshold\n",
        "def length_threshold_feature(words, threshold):\n",
        "    # return predictions based on the threshold\n",
        "    y_pred = []\n",
        "    for word in words:\n",
        "        if len(word) >= threshold:\n",
        "            y_pred.append(1)\n",
        "        else:\n",
        "            y_pred.append(0)\n",
        "    return y_pred\n",
        "\n",
        "## Finds the best length threshold by f-score, and uses this threshold to\n",
        "## classify the training and development set\n",
        "def word_length_threshold(train_data, dev_words):\n",
        "    ## YOUR CODE HERE\n",
        "    best_threshold = 7\n",
        "    train_words, train_labels = train_data\n",
        "    dev_pred = length_threshold_feature(dev_words, best_threshold)\n",
        "    train_pred = length_threshold_feature(train_words, best_threshold)\n",
        "    return dev_pred"
      ]
    },
    {
      "cell_type": "code",
      "execution_count": 24,
      "metadata": {
        "id": "6BW9gFyw_YAT"
      },
      "outputs": [],
      "source": [
        "import matplotlib.pyplot as plt"
      ]
    },
    {
      "cell_type": "code",
      "execution_count": 25,
      "metadata": {
        "id": "xdVdgRWmAjMt"
      },
      "outputs": [],
      "source": [
        "precision_scores = []\n",
        "recall_scores = []\n",
        "fscores = []\n",
        "thresholds = range(10)\n",
        "for threshold in thresholds:\n",
        "    y_pred_train = length_threshold_feature(train_words, threshold)\n",
        "    precision_scores.append(get_precision(y_pred_train, train_labels))\n",
        "    recall_scores.append(get_recall(y_pred_train, train_labels))\n",
        "    fscores.append(get_fscore(y_pred_train, train_labels))\n",
        "\n"
      ]
    },
    {
      "cell_type": "code",
      "execution_count": 26,
      "metadata": {
        "colab": {
          "base_uri": "https://localhost:8080/"
        },
        "id": "FZzyXDlzA9zm",
        "outputId": "d1313569-8bba-4893-c81e-ebbcdf06a0fe"
      },
      "outputs": [
        {
          "output_type": "stream",
          "name": "stdout",
          "text": [
            "[1.0, 1.0, 1.0, 1.0, 0.9948006932409013, 0.9676487579433853, 0.925476603119584, 0.8440207972270364, 0.7059503177354131, 0.5418833044482958]\n",
            "[0.43275, 0.43275, 0.43275, 0.43275, 0.44427244582043346, 0.48284808302104354, 0.5379449294828744, 0.6007401315789473, 0.6785119378123264, 0.7456279809220986]\n",
            "[0.604083057058105, 0.604083057058105, 0.604083057058105, 0.604083057058105, 0.6142322097378278, 0.6442307692307692, 0.680399235506477, 0.7018976699495555, 0.6919592298980747, 0.6276346604215458]\n"
          ]
        }
      ],
      "source": [
        "#list of precision, recall, and fscores\n",
        "print(precision_scores)\n",
        "print(recall_scores)\n",
        "print(fscores)"
      ]
    },
    {
      "cell_type": "code",
      "execution_count": 27,
      "metadata": {
        "colab": {
          "base_uri": "https://localhost:8080/",
          "height": 472
        },
        "id": "1ZGOab5u_TWn",
        "outputId": "908e7b4e-99f5-47b8-f784-5c3d75804441"
      },
      "outputs": [
        {
          "output_type": "display_data",
          "data": {
            "text/plain": [
              "<Figure size 640x480 with 1 Axes>"
            ],
            "image/png": "[encoded data removed]"
          },
          "metadata": {}
        }
      ],
      "source": [
        "#plotting best fscore\n",
        "plt.plot(thresholds, fscores, color = 'red')\n",
        "plt.title('Fscores vs Thresholds')\n",
        "plt.xlabel('Word Length Thresholds')\n",
        "plt.ylabel('Fscores')\n",
        "plt.xticks(thresholds)\n",
        "plt.show()"
      ]
    },
    {
      "cell_type": "code",
      "execution_count": 28,
      "metadata": {
        "id": "H-T_naMYwdjD"
      },
      "outputs": [],
      "source": [
        "# best threshold = 7"
      ]
    },
    {
      "cell_type": "markdown",
      "metadata": {
        "id": "x4-j-HuIEnvy"
      },
      "source": [
        "- **Answer 2.2:** Please report the precision, recall, and f-score on both the training data and the development data.\n",
        "    - Range of thresholds **[0-9], 7 best threshold**\n",
        "    - Training **[0.601, 0.844, 0.702]**\n",
        "    - Development **[0.605, 0.866, 0.713]**\n",
        "    - Precision-recall Curve **[Plot below]**\n",
        "        - For plotting, [matplotlib](https://matplotlib.org/) is a useful python library"
      ]
    },
    {
      "cell_type": "code",
      "execution_count": 29,
      "metadata": {
        "colab": {
          "base_uri": "https://localhost:8080/"
        },
        "id": "lHbIK7B4_wat",
        "outputId": "a6138dc0-7753-47ea-c1d0-c78a35acc035"
      },
      "outputs": [
        {
          "output_type": "execute_result",
          "data": {
            "text/plain": [
              "0.7125984251968505"
            ]
          },
          "metadata": {},
          "execution_count": 29
        }
      ],
      "source": [
        "dev_words, dev_labels = dev_data\n",
        "y_pred = word_length_threshold(train_data, dev_words)\n",
        "dprecision = get_precision(dev_labels, y_pred)\n",
        "drecall = get_recall(dev_labels, y_pred)\n",
        "dfscore = get_fscore(dev_labels, y_pred)\n",
        "dfscore"
      ]
    },
    {
      "cell_type": "code",
      "execution_count": 30,
      "metadata": {
        "colab": {
          "base_uri": "https://localhost:8080/"
        },
        "id": "nJ8IYBBCwrot",
        "outputId": "2a3da1ef-7208-4f8f-a4c2-b5397995b69f"
      },
      "outputs": [
        {
          "output_type": "stream",
          "name": "stdout",
          "text": [
            "0.6053511705685619\n",
            "0.8660287081339713\n",
            "0.7125984251968505\n"
          ]
        }
      ],
      "source": [
        "# Development scores for 2.2\n",
        "print(dprecision)\n",
        "print(drecall)\n",
        "print(dfscore)"
      ]
    },
    {
      "cell_type": "code",
      "execution_count": 31,
      "metadata": {
        "colab": {
          "base_uri": "https://localhost:8080/"
        },
        "id": "oDaFRW0AxNO_",
        "outputId": "fc3519ae-0a78-42ff-b221-818a1431d470"
      },
      "outputs": [
        {
          "output_type": "execute_result",
          "data": {
            "text/plain": [
              "0.7018976699495555"
            ]
          },
          "metadata": {},
          "execution_count": 31
        }
      ],
      "source": [
        "train_words, train_labels = train_data\n",
        "y_pred = word_length_threshold(train_data, train_words)\n",
        "tprecision = get_precision(train_labels, y_pred)\n",
        "trecall = get_recall(train_labels, y_pred)\n",
        "tfscore = get_fscore(train_labels, y_pred)\n",
        "tfscore"
      ]
    },
    {
      "cell_type": "code",
      "execution_count": 32,
      "metadata": {
        "colab": {
          "base_uri": "https://localhost:8080/"
        },
        "id": "bcWKkgOZxTjv",
        "outputId": "0a69701a-8767-4fe6-f803-2037b05cf6e7"
      },
      "outputs": [
        {
          "output_type": "stream",
          "name": "stdout",
          "text": [
            "0.6007401315789473\n",
            "0.8440207972270364\n",
            "0.7018976699495555\n"
          ]
        }
      ],
      "source": [
        "#Train scores for 2.2\n",
        "print(tprecision)\n",
        "print(trecall)\n",
        "print(tfscore)"
      ]
    },
    {
      "cell_type": "code",
      "execution_count": 33,
      "metadata": {
        "colab": {
          "base_uri": "https://localhost:8080/",
          "height": 472
        },
        "id": "fTh3189irQYO",
        "outputId": "44ce2921-969d-4780-c5cf-b8790648c77e"
      },
      "outputs": [
        {
          "output_type": "display_data",
          "data": {
            "text/plain": [
              "<Figure size 640x480 with 1 Axes>"
            ],
            "image/png": "[encoded data removed]"
          },
          "metadata": {}
        }
      ],
      "source": [
        "## TODO\n",
        "# precision-recall curve goes here\n",
        "plt.plot(recall_scores, precision_scores, color = 'red')\n",
        "plt.title('Precision vs Recall')\n",
        "plt.xlabel('Recall')\n",
        "plt.ylabel('Precision')\n",
        "plt.show()"
      ]
    },
    {
      "cell_type": "code",
      "execution_count": 34,
      "metadata": {
        "colab": {
          "base_uri": "https://localhost:8080/"
        },
        "id": "MQuSkuYc8TeJ",
        "outputId": "4c56b0f2-f0e5-4225-baf4-28fad34da42d"
      },
      "outputs": [
        {
          "output_type": "stream",
          "name": "stdout",
          "text": [
            "Correct! You earned 3/3 points. You are a star!\n",
            "\n",
            "Your submission has been successfully recorded in the gradebook.\n"
          ]
        }
      ],
      "source": [
        "# PennGrader - DO NOT CHANGE\n",
        "word_length_pred = word_length_threshold(train_data, mini_test_words)\n",
        "grader.grade(test_case_id = 'test_baseline_q22', answer = word_length_pred)"
      ]
    },
    {
      "cell_type": "markdown",
      "metadata": {
        "id": "_6m7o8VwrQ4x"
      },
      "source": [
        "## 2.3 Word frequency baseline\n"
      ]
    },
    {
      "cell_type": "markdown",
      "metadata": {
        "id": "Bm3Lh9kvFaF5"
      },
      "source": [
        "Our final baseline is a classifier similar to the last one, but thresholds on word frequency instead of length. We have provided Google NGram frequencies in the text file ngram_counts.txt, along with the helper function `load_ngram_counts(ngram_counts_file)` to load them into Python as a dictionary.\n",
        "\n",
        "You will be filling in the function `word_frequency_threshold(train_data, dev_data, ngram_counts)`, where `ngram_counts` is the dictionary of word frequencies. This function again finds the best threshold and returns predictions on the development data.\n",
        "\n",
        "Please again report the precision, recall, and f-score on the training and development data individually, along with the range of thresholds you tried, and the best threshold to be graded. Similar to the previous baseline, plot the Precision-Recall curve for range of thresholds you tried. Compared with word length baseline, which classifier looks better on average?\n",
        "\n",
        "**Note: Due to its size, loading the ngram counts into Python takes around 20 seconds, and finding the correct threshold may take a few minutes to run.**"
      ]
    },
    {
      "cell_type": "markdown",
      "metadata": {
        "id": "JnceCMcoQuRg"
      },
      "source": [
        "- **Problem 2.3:** Implement `word_frequency_threshold()` that finds the best word frequency threshold and makes predictions on the development (or testing) data."
      ]
    },
    {
      "cell_type": "code",
      "execution_count": 35,
      "metadata": {
        "id": "_jzfyivd3Qf4"
      },
      "outputs": [],
      "source": [
        "ngram_counts = load_ngram_counts()"
      ]
    },
    {
      "cell_type": "code",
      "execution_count": 36,
      "metadata": {
        "colab": {
          "base_uri": "https://localhost:8080/"
        },
        "collapsed": true,
        "id": "7EFG1v3PNwGl",
        "outputId": "0ee641e4-e2b7-4165-dd72-e7cc9b65e4be"
      },
      "outputs": [
        {
          "output_type": "execute_result",
          "data": {
            "text/plain": [
              "112401521"
            ]
          },
          "metadata": {},
          "execution_count": 36
        }
      ],
      "source": [
        "ngram_counts['b']"
      ]
    },
    {
      "cell_type": "code",
      "execution_count": 37,
      "metadata": {
        "id": "Mnkit06ncN07"
      },
      "outputs": [],
      "source": [
        "## Make feature matrix for word_frequency_threshold\n",
        "def frequency_threshold_feature(words, threshold, ngram_counts):\n",
        "    # return predictions based on the threshold\n",
        "    ## YOUR CODE HERE\n",
        "    # hint: check the content of `ngram_counts` variable\n",
        "    feature = []\n",
        "    for word in words:\n",
        "        if ngram_counts[word] < threshold:\n",
        "            feature.append(1)\n",
        "        else:\n",
        "            feature.append(0)\n",
        "    return feature\n",
        "\n",
        "def word_frequency_threshold(train_data, dev_words, ngram_counts):\n",
        "    twords, tlabels = train_data\n",
        "    train_pred = frequency_threshold_feature(twords, 19840000, ngram_counts)\n",
        "    ## YOUR CODE HERE\n",
        "    dev_pred = frequency_threshold_feature(dev_words, 19840000, ngram_counts)\n",
        "    return dev_pred\n"
      ]
    },
    {
      "cell_type": "markdown",
      "metadata": {
        "id": "Rw-WAjxIFiiI"
      },
      "source": [
        "- **Answer 2.3:** Please report the precision, recall, and f-score on both the training data and the development data.\n",
        "    - Range of thresholds **[1000000 - 100000000]**\n",
        "    - Training **[0.566, 0.816, 0.668]**\n",
        "    - Development **[0.557, 0.845, 0.671]**\n",
        "    - Precision-recall Curve **[Plot below]**\n",
        "        - For plotting, [matplotlib](https://matplotlib.org/) is a useful python library"
      ]
    },
    {
      "cell_type": "code",
      "execution_count": 37,
      "metadata": {
        "id": "CymgEuOy-M3C"
      },
      "outputs": [],
      "source": []
    },
    {
      "cell_type": "code",
      "execution_count": 38,
      "metadata": {
        "id": "HKgSyxdXzsA7"
      },
      "outputs": [],
      "source": [
        "precisions_frequency = []\n",
        "recalls_frequency = []\n",
        "fscores_frequency = []\n",
        "thresholds_frequency = list(range(1000000, 100000000, 10000))\n",
        "for threshold in thresholds_frequency:\n",
        "    y_pred_train = frequency_threshold_feature(train_words, threshold, ngram_counts)\n",
        "    precisions_frequency.append(get_precision(train_labels, y_pred_train))\n",
        "    recalls_frequency.append(get_recall(train_labels, y_pred_train))\n",
        "    fscores_frequency.append(get_fscore(train_labels, y_pred_train))\n",
        "\n",
        "    max_index = fscores_frequency.index(max(fscores_frequency))\n",
        "    best_threshold = thresholds_frequency[max_index]\n"
      ]
    },
    {
      "cell_type": "code",
      "execution_count": 39,
      "metadata": {
        "colab": {
          "base_uri": "https://localhost:8080/"
        },
        "id": "ipZnYzcp5aku",
        "outputId": "c8bcf0ae-bc10-450c-a3f3-65be995c1ca2"
      },
      "outputs": [
        {
          "output_type": "stream",
          "name": "stdout",
          "text": [
            "19840000\n"
          ]
        }
      ],
      "source": [
        "print(best_threshold)"
      ]
    },
    {
      "cell_type": "code",
      "execution_count": 40,
      "metadata": {
        "colab": {
          "base_uri": "https://localhost:8080/",
          "height": 472
        },
        "id": "nDdUKLW25ROe",
        "outputId": "7c91264a-3edd-463b-8e8f-5051058caf92"
      },
      "outputs": [
        {
          "output_type": "display_data",
          "data": {
            "text/plain": [
              "<Figure size 640x480 with 1 Axes>"
            ],
            "image/png": "[encoded data removed]"
          },
          "metadata": {}
        }
      ],
      "source": [
        "plt.plot(thresholds_frequency, fscores_frequency, color = 'red')\n",
        "plt.title('F1 Score vs. Frequency Threshold')\n",
        "plt.xlabel('Word Frequency Threshold')\n",
        "plt.ylabel('F1 Score')\n",
        "plt.show()"
      ]
    },
    {
      "cell_type": "code",
      "execution_count": 41,
      "metadata": {
        "colab": {
          "base_uri": "https://localhost:8080/"
        },
        "id": "T_l32qKBF-Rz",
        "outputId": "4d153516-3004-4211-f731-704074c5ddc7"
      },
      "outputs": [
        {
          "output_type": "stream",
          "name": "stdout",
          "text": [
            "0.5657051282051282\n",
            "0.8157134604274986\n",
            "0.6680861130825645\n"
          ]
        }
      ],
      "source": [
        "train_words, train_labels = train_data\n",
        "y_pred_train = word_frequency_threshold(train_data, train_words, ngram_counts)\n",
        "tprecision = get_precision(train_labels, y_pred_train)\n",
        "trecall = get_recall(train_labels, y_pred_train)\n",
        "tfscore = get_fscore(train_labels, y_pred_train)\n",
        "tfscore\n",
        "\n",
        "print(tprecision)\n",
        "print(trecall)\n",
        "print(tfscore)"
      ]
    },
    {
      "cell_type": "code",
      "execution_count": 42,
      "metadata": {
        "colab": {
          "base_uri": "https://localhost:8080/"
        },
        "id": "USVhRHQO_uEn",
        "outputId": "8d07e976-87bd-4054-bd79-659ff29e1dfd"
      },
      "outputs": [
        {
          "output_type": "stream",
          "name": "stdout",
          "text": [
            "0.556782334384858\n",
            "0.8444976076555024\n",
            "0.6711026615969581\n"
          ]
        }
      ],
      "source": [
        "dev_words, dev_labels = dev_data\n",
        "y_pred_dev = word_frequency_threshold(dev_data, dev_words, ngram_counts)\n",
        "dprecision = get_precision(dev_labels, y_pred_dev)\n",
        "drecall = get_recall(dev_labels, y_pred_dev)\n",
        "dfscore = get_fscore(dev_labels, y_pred_dev)\n",
        "dfscore\n",
        "\n",
        "print(dprecision)\n",
        "print(drecall)\n",
        "print(dfscore)"
      ]
    },
    {
      "cell_type": "code",
      "execution_count": 42,
      "metadata": {
        "id": "dUvJaEsABvQQ"
      },
      "outputs": [],
      "source": []
    },
    {
      "cell_type": "markdown",
      "metadata": {
        "id": "gg5N-LYCsEoy"
      },
      "source": []
    },
    {
      "cell_type": "code",
      "execution_count": 43,
      "metadata": {
        "colab": {
          "base_uri": "https://localhost:8080/",
          "height": 472
        },
        "id": "M4Kn7AwbX6WT",
        "outputId": "a4a4d26c-c8f9-4da9-cbc0-596ccd820379"
      },
      "outputs": [
        {
          "output_type": "display_data",
          "data": {
            "text/plain": [
              "<Figure size 640x480 with 1 Axes>"
            ],
            "image/png": "[encoded data removed]"
          },
          "metadata": {}
        }
      ],
      "source": [
        "## TODO\n",
        "# precision-recall curve goes here\n",
        "plt.plot(recalls_frequency, precisions_frequency, color = 'red')\n",
        "plt.title('Precision vs. Recall')\n",
        "plt.xlabel('Recall')\n",
        "plt.ylabel('Precision')\n",
        "plt.show()"
      ]
    },
    {
      "cell_type": "code",
      "execution_count": 44,
      "metadata": {
        "colab": {
          "base_uri": "https://localhost:8080/"
        },
        "id": "Opp9TploM5N8",
        "outputId": "531ceb40-74a2-4772-c8d3-f3ce327b554a"
      },
      "outputs": [
        {
          "output_type": "stream",
          "name": "stdout",
          "text": [
            "Correct! You earned 3/3 points. You are a star!\n",
            "\n",
            "Your submission has been successfully recorded in the gradebook.\n"
          ]
        }
      ],
      "source": [
        "# PennGrader - DO NOT CHANGE\n",
        "word_freq_pred = word_frequency_threshold(train_data, mini_test_words, ngram_counts)\n",
        "grader.grade(test_case_id = 'test_baseline_q23', answer = word_freq_pred)"
      ]
    },
    {
      "cell_type": "markdown",
      "metadata": {
        "id": "vL8m-NpOqTDG"
      },
      "source": [
        "# Section 3. Classifiers"
      ]
    },
    {
      "cell_type": "markdown",
      "metadata": {
        "id": "QCeaRTgprTWe"
      },
      "source": [
        "## 3.1 Naive Bayes classification\n"
      ]
    },
    {
      "cell_type": "markdown",
      "metadata": {
        "id": "38p7gBNVFvoG"
      },
      "source": [
        "Now, let’s move on to actual machine learning classifiers! For our first classifier, you will use the built-in [Naive Bayes model from sklearn](https://scikit-learn.org/stable/modules/generated/sklearn.naive_bayes.GaussianNB.html), to train a classifier. You should refer to the online sklearn documentation when you are building your classifier.\n",
        "\n",
        "The first thing to note is that sklearn classifiers take in `numpy` arrays, rather than regular lists. You may use the [online numpy documentation](https://numpy.org/doc/stable/). To create a `numpy` list of length 5, you can use the following Python commands:\n",
        "\n",
        "```\n",
        "import numpy as np\n",
        "X = np.array([1,2,3,4,5])\n",
        "```\n",
        "\n",
        "\n",
        "To train a classifier, you need two numpy arrays: `X_train`, an `m` by `n` array, where `m` is the number of words in the dataset, and `n` is the number of features for each word; and `Y`, an array of length `m` for the labels of each of the words.\n",
        "\n",
        "**Before we start training models, we need to convert our texts/words into numpy arrays, i.e. making training/testing feature vectors.**"
      ]
    },
    {
      "cell_type": "markdown",
      "metadata": {
        "id": "nnO1kcuNENCe"
      },
      "source": [
        "- **Problem 3.0**: Implementing `get_training_features()` and `get_test_features()` that convert train/test dataset to numpy arrays"
      ]
    },
    {
      "cell_type": "code",
      "execution_count": 45,
      "metadata": {
        "id": "9ILfZ05JGRtJ"
      },
      "outputs": [],
      "source": [
        "%%capture\n",
        "# run the following cell if you want to use count of syllabus as a feature\n",
        "!pip install syllables\n",
        "import syllables"
      ]
    },
    {
      "cell_type": "code",
      "execution_count": 46,
      "metadata": {
        "id": "YEkrjHTcEUiu"
      },
      "outputs": [],
      "source": [
        "def get_training_features(train_data, ngram_counts):\n",
        "    words, y_true = train_data\n",
        "    features = []\n",
        "    for word in words:\n",
        "        ## YOUR CODE HERE\n",
        "        # 1. word length feature\n",
        "        word_length = len(word)\n",
        "        # 2. unigram frequency feature\n",
        "        unigram_freq = ngram_counts[word]\n",
        "        # 3. (optional) syllables count feature\n",
        "        syllables_count = syllables.estimate(word)\n",
        "        features.append([word_length, unigram_freq, syllables_count])\n",
        "\n",
        "    X = np.asarray(features)\n",
        "    ## YOUR CODE HERE\n",
        "    # TODO: calculate the mean and std of the vectorized data (X)\n",
        "    means = np.mean(X, axis = 0)\n",
        "    stds = np.std(X, axis = 0)\n",
        "\n",
        "    # TODO: calculate the scaled data, with the mean and std you just calculated\n",
        "    X_scaled = (X - means) / stds\n",
        "\n",
        "    Y = np.asarray(y_true)\n",
        "    return X_scaled, Y, means, stds\n",
        "\n",
        "def get_test_features(dev_words, ngram_counts, means, stds):\n",
        "\n",
        "    ## YOUR CODE HERE\n",
        "    # TODO: do the similar thing, except using means and stds as given (from training data)\n",
        "    features = []\n",
        "    for word in dev_words:\n",
        "        word_length = len(word)\n",
        "        unigram_freq = ngram_counts[word]\n",
        "        syllables_count = syllables.estimate(word)\n",
        "        features.append([word_length, unigram_freq, syllables_count])\n",
        "\n",
        "    X = np.asarray(features)\n",
        "    X_scaled = (X - means) / stds\n",
        "\n",
        "    return X_scaled"
      ]
    },
    {
      "cell_type": "code",
      "execution_count": 47,
      "metadata": {
        "colab": {
          "base_uri": "https://localhost:8080/"
        },
        "id": "EX1yJMFvIqo6",
        "outputId": "e882a16b-a7a7-44e5-e6a6-a4eb63132248"
      },
      "outputs": [
        {
          "output_type": "stream",
          "name": "stdout",
          "text": [
            "Correct! You earned 3/3 points. You are a star!\n",
            "\n",
            "Your submission has been successfully recorded in the gradebook.\n"
          ]
        }
      ],
      "source": [
        "# PennGrader - DO NOT CHANGE\n",
        "dev_words, dev_labels = dev_data\n",
        "X_train, Y_train, means, stds = get_training_features(train_data, ngram_counts)\n",
        "X_dev = get_test_features(dev_words, ngram_counts, means, stds)\n",
        "\n",
        "train_feats = (X_train, Y_train, means, stds)\n",
        "test_feats = (X_dev)\n",
        "\n",
        "grader.grade(test_case_id = 'test_q30_test_feature_shapes', answer = (train_feats, test_feats))"
      ]
    },
    {
      "cell_type": "markdown",
      "metadata": {
        "id": "dAd7V6R4GLP-"
      },
      "source": [
        "Once we have these feature arrays, we can fit a Naive Bayes classifier using the following commands:\n",
        "```\n",
        "from sklearn.naive_bayes import GaussianNB\n",
        "clf = GaussianNB()\n",
        "clf.fit(X_train, Y)\n",
        "```\n",
        "Finally, to use your model to predict the labels for a set of words, you only need one numpy array: `X_test`, an `m` by `n` array, where `m` is the number of words in the test set, and `n` is the number of features for each word. Note that the `n` used here is the same as the `n` in `X_train`. Then, we can use our classifier to predict labels using the following command:\n",
        "\n",
        "```\n",
        "Y_pred = clf.predict(X_test)\n",
        "```"
      ]
    },
    {
      "cell_type": "markdown",
      "metadata": {
        "id": "vOFLzpw3ZApH"
      },
      "source": [
        "- **Problem 3.1**: Fill in the function `naive_bayes(train_data, dev_data, ngram_counts)`. This function will train a Naive Bayes classifier on the training data using **word length** and **word frequency** as features, and returns your model’s predictions on the training data and the development data individually.\n",
        "    - **NOTE**: Before training and testing a classifier, it is generally important to normalize your features. This means that you need to find the mean and standard deviation (sd) of a feature. Then, for each row, perform the following transformation: `X_scaled = (X_original - mean)/sd`. **Be sure to always use the means and standard deviations from the training data**.\n",
        "    - **Optional**: You can include more features if you want to, e.g. [the count of syllabus](https://github.com/prosegrinder/python-syllables)\n"
      ]
    },
    {
      "cell_type": "code",
      "execution_count": 48,
      "metadata": {
        "id": "mQcxSw3B4EWx"
      },
      "outputs": [],
      "source": [
        "from sklearn.linear_model import LogisticRegression\n",
        "from sklearn.naive_bayes import GaussianNB"
      ]
    },
    {
      "cell_type": "code",
      "source": [
        "\n"
      ],
      "metadata": {
        "colab": {
          "base_uri": "https://localhost:8080/"
        },
        "collapsed": true,
        "id": "q3rQvb06ZYbj",
        "outputId": "5215ba13-ef7b-4afa-a5df-9b9f61ea579d"
      },
      "execution_count": 49,
      "outputs": [
        {
          "output_type": "execute_result",
          "data": {
            "text/plain": [
              "array([7.43150000e+00, 4.70311212e+07, 2.47150000e+00])"
            ]
          },
          "metadata": {},
          "execution_count": 49
        }
      ]
    },
    {
      "cell_type": "code",
      "execution_count": 50,
      "metadata": {
        "id": "HDy-VjftqUoC"
      },
      "outputs": [],
      "source": [
        "## Trains a Naive Bayes classifier using length and frequency features\n",
        "def naive_bayes(train_data, dev_words, ngram_counts):\n",
        "    # TODO\n",
        "    # 1. Gets the features from the training data, and trains the model\n",
        "    X_train, Y, means, stds = get_training_features(train_data, ngram_counts)\n",
        "    # 2. Train model & inference on dev_words\n",
        "\n",
        "    clf = GaussianNB()\n",
        "    clf.fit(X_train, Y)\n",
        "    ## YOUR CODE HERE\n",
        "    X_dev = get_test_features(dev_words, ngram_counts, means, stds)\n",
        "    train_pred = clf.predict(X_train)\n",
        "    dev_pred = clf.predict(X_dev)\n",
        "\n",
        "    return train_pred, dev_pred"
      ]
    },
    {
      "cell_type": "markdown",
      "metadata": {
        "id": "Ss589ydpGSY1"
      },
      "source": [
        "- **Answer 3.1:** Please report the precision, recall, and f-score on both the training data and the development data.\n",
        "    - Training **[0.507, 0.979, 0.668]**\n",
        "    - Development **[0.482, 0.971, 0.645]**"
      ]
    },
    {
      "cell_type": "code",
      "execution_count": 51,
      "metadata": {
        "colab": {
          "base_uri": "https://localhost:8080/"
        },
        "id": "aC3BVu5o_X5H",
        "outputId": "6cb03e47-daed-45a2-cdc9-78455d82c700"
      },
      "outputs": [
        {
          "output_type": "stream",
          "name": "stdout",
          "text": [
            "0.4821852731591449 0.9712918660287081 0.6444444444444445\n"
          ]
        }
      ],
      "source": [
        "# report train/development metrics!\n",
        "dev_words, dev_labels = dev_data\n",
        "train_pred, dev_pred = naive_bayes(train_data, dev_words, ngram_counts)\n",
        "dev_precision = get_precision(dev_labels, dev_pred)\n",
        "dev_recall = get_recall(dev_labels, dev_pred)\n",
        "dev_f = get_fscore(dev_labels, dev_pred)\n",
        "dev_f\n",
        "\n",
        "print(dev_precision, dev_recall, dev_f)"
      ]
    },
    {
      "cell_type": "code",
      "execution_count": 52,
      "metadata": {
        "colab": {
          "base_uri": "https://localhost:8080/"
        },
        "id": "vGd9WNHXpECv",
        "outputId": "c6a0ab3e-ffdc-4086-d576-6702c54db257"
      },
      "outputs": [
        {
          "output_type": "stream",
          "name": "stdout",
          "text": [
            "0.5070296141190548 0.9792027729636048 0.6681119432400474\n"
          ]
        }
      ],
      "source": [
        "train_words, train_labels = train_data\n",
        "train_pred, dev_pred = naive_bayes(train_data, train_words, ngram_counts)\n",
        "train_precision = get_precision(train_labels, train_pred)\n",
        "train_recall = get_recall(train_labels, train_pred)\n",
        "train_f = get_fscore(train_labels, train_pred)\n",
        "\n",
        "print(train_precision, train_recall, train_f)"
      ]
    },
    {
      "cell_type": "code",
      "execution_count": 53,
      "metadata": {
        "colab": {
          "base_uri": "https://localhost:8080/"
        },
        "id": "dqKUYfbtrVkx",
        "outputId": "d85e8cff-9945-489b-82f6-e061dd7c65e6"
      },
      "outputs": [
        {
          "output_type": "stream",
          "name": "stdout",
          "text": [
            "Correct! You earned 3/3 points. You are a star!\n",
            "\n",
            "Your submission has been successfully recorded in the gradebook.\n"
          ]
        }
      ],
      "source": [
        "# PennGrader - DO NOT CHANGE\n",
        "train_pred, mini_test_pred = naive_bayes(train_data, mini_test_words, ngram_counts)\n",
        "grader.grade(test_case_id = 'test_naive_bayes', answer = mini_test_pred)"
      ]
    },
    {
      "cell_type": "markdown",
      "metadata": {
        "id": "uo8GAjvxrVzw"
      },
      "source": [
        "## 3.2 Logistic Regression\n",
        "Next, you will use sklearn’s built-in Logistic Regression classifier. Again, we will use word length and word frequency as your two features. You should refer to [the online sklearn documentation](https://scikit-learn.org/stable/modules/generated/sklearn.linear_model.LogisticRegression.html) when you are building your classifier. To import and use this model, use the following command:\n",
        "\n",
        "```\n",
        "from sklearn.linear_model import LogisticRegression\n",
        "clf = LogisticRegression()\n",
        "```\n",
        "\n",
        "- **Problem 3.2**: For this problem, you will be filling in the function `logistic_regression(train_data, dev_data, ngram_counts)`. This function will train a `Logistic Regression` classifier on the training data, and returns your model’s predictions on the training data and the development data individually.\n"
      ]
    },
    {
      "cell_type": "code",
      "execution_count": 54,
      "metadata": {
        "id": "SgZMVqUDqrIk"
      },
      "outputs": [],
      "source": [
        "from sklearn.linear_model import LogisticRegression\n",
        "clf = LogisticRegression()"
      ]
    },
    {
      "cell_type": "code",
      "execution_count": 55,
      "metadata": {
        "id": "ggRdb6zYrVgN"
      },
      "outputs": [],
      "source": [
        "## Trains a logistic regression classifier using length and frequency features\n",
        "def logistic_regression(train_data, dev_words, ngram_counts):\n",
        "    ## TODO\n",
        "\n",
        "    X_train, Y_train, means, stds = get_training_features(train_data, ngram_counts)\n",
        "    clf.fit(X_train, Y_train)\n",
        "    X_dev = get_test_features(dev_words, ngram_counts, means, stds)\n",
        "\n",
        "    train_pred = clf.predict(X_train)\n",
        "    dev_pred = clf.predict(X_dev)\n",
        "    return train_pred, dev_pred"
      ]
    },
    {
      "cell_type": "markdown",
      "metadata": {
        "id": "PDH4MMIy_kke"
      },
      "source": [
        "- **Answer 3.2:** Please report the precision, recall, and f-score on both the training data and the development data.\n",
        "    - Training **[0.731, 0.656, 0.691]**\n",
        "    - Development **[0.743, 0.684 0.712]**"
      ]
    },
    {
      "cell_type": "code",
      "execution_count": 56,
      "metadata": {
        "colab": {
          "base_uri": "https://localhost:8080/"
        },
        "id": "emRXThKD_noX",
        "outputId": "87b74ccf-95d1-450c-de39-a9adbdae85b1"
      },
      "outputs": [
        {
          "output_type": "stream",
          "name": "stdout",
          "text": [
            "0.7428571428571429 0.6842105263157895 0.7123287671232877\n"
          ]
        }
      ],
      "source": [
        "dev_words, dev_labels = dev_data\n",
        "train_pred, dev_pred = logistic_regression(train_data, dev_words, ngram_counts)\n",
        "dev_precision = get_precision(dev_labels, dev_pred)\n",
        "dev_recall = get_recall(dev_labels, dev_pred)\n",
        "dev_f = get_fscore(dev_labels, dev_pred)\n",
        "dev_f\n",
        "\n",
        "print(dev_precision, dev_recall, dev_f)\n"
      ]
    },
    {
      "cell_type": "code",
      "execution_count": 57,
      "metadata": {
        "colab": {
          "base_uri": "https://localhost:8080/"
        },
        "id": "Ychi1Ktyq7id",
        "outputId": "6ce69a15-bac0-4722-bb90-dab850f213b0"
      },
      "outputs": [
        {
          "output_type": "stream",
          "name": "stdout",
          "text": [
            "0.7308435286542176 0.6556903523974581 0.6912302070645554\n"
          ]
        }
      ],
      "source": [
        "train_words, train_labels = train_data\n",
        "train_pred, dev_pred = logistic_regression(train_data, train_words, ngram_counts)\n",
        "train_precision = get_precision(train_labels, train_pred)\n",
        "train_recall = get_recall(train_labels, train_pred)\n",
        "train_f = get_fscore(train_labels, train_pred)\n",
        "\n",
        "print(train_precision, train_recall, train_f)"
      ]
    },
    {
      "cell_type": "code",
      "execution_count": 58,
      "metadata": {
        "colab": {
          "base_uri": "https://localhost:8080/"
        },
        "id": "URxmIQiNTBMQ",
        "outputId": "cee1ef43-f49d-4093-d62f-a0406c7ca07f"
      },
      "outputs": [
        {
          "output_type": "stream",
          "name": "stdout",
          "text": [
            "Correct! You earned 3/3 points. You are a star!\n",
            "\n",
            "Your submission has been successfully recorded in the gradebook.\n"
          ]
        }
      ],
      "source": [
        "# PennGrader - DO NOT CHANGE\n",
        "train_pred, mini_test_pred = logistic_regression(train_data, mini_test_words, ngram_counts)\n",
        "grader.grade(test_case_id = 'test_logistic', answer = mini_test_pred)"
      ]
    },
    {
      "cell_type": "markdown",
      "metadata": {
        "id": "qJoKAFpfrYQ7"
      },
      "source": [
        "## 3.3 Comparing Naive Bayes and Logistic Regression\n",
        "- **Answer 3.3**: After implementing Naive Bayes and Logistic Regression classifiers, you will notice that their performance is not identical, even though they are given the same data. **Write a paragraph below that discusses which model performed better on this task and what are the potential reasons.**\n",
        "    - [TODO: discussion of the differences]\n",
        "    - Looking at the scores below, it is clear that the logistic regression model slightly outperforms naive bayes model. While the recall scores might be very high for naive bayes, it is not a strong indicator of performance when considering the f-scores. Some reasons why Naive bays underperformed is because of too many positive predictions leading to lower precision score."
      ]
    },
    {
      "cell_type": "code",
      "execution_count": 59,
      "metadata": {
        "id": "ol8-C21_qUl7"
      },
      "outputs": [],
      "source": [
        "#logistic Rrgression\n",
        "#Training [0.731, 0.656, 0.691]\n",
        "#Development [0.743, 0.684 0.712]\n",
        "\n",
        "#Naive bayes\n",
        "#Training [0.507, 0.979, 0.668]\n",
        "#Development [0.482, 0.971, 0.644]"
      ]
    },
    {
      "cell_type": "markdown",
      "metadata": {
        "id": "BFBpm0kdqU2V"
      },
      "source": [
        "# Section 4. Build your own model\n",
        "Finally, the fun part! In this section, you will build your own classifier for the complex word identification task, and compare your results to that of your classmates. You will also perform an error analysis for your best performing model.\n",
        "\n",
        "You can choose any other types of classifier, and any additional features you can think of!\n",
        "- For classifiers, beyond `Naive Bayes` and `Logistic Regression`, you might consider trying `SVM`, `Decision Trees`, and `Random Forests`, among others.\n",
        "- Additional word features that you might consider include number of syllables, number of `WordNet` synonyms, and number of `WordNet` senses. To use WordNet in Python, refer to [this documentation](http://www.nltk.org/howto/wordnet.html).\n",
        "- You could also include sentence-based complexity features, such as length of the sentence, average word length, and average word frequency.\n",
        "\n",
        "When trying different classifiers, we recommend that you train on training data, and test on the development data, like the previous sections.\n",
        "\n",
        "In the following cell, please include a description of **all of the models** and **features** that you tried. To receive full credit, you MUST try **at least 1 type of classifier** (not including `Naive Bayes` and `Logistic Regression`), and **at least two features** (not including length and frequency).\n",
        "\n",
        "**Note**: You can also tune the parameters of your model, e.g. what type of kernel to use. This is NOT required, as some of you may not be that familiar with this.\n",
        "\n"
      ]
    },
    {
      "cell_type": "markdown",
      "metadata": {
        "id": "O1jCYFXIra-O"
      },
      "source": [
        "## 4.1 Your Own Model\n",
        "\n",
        "An important part of text classification tasks is to determine what your model is getting correct, and what your model is getting wrong. For this problem, you must train your best model on the training data, and report the precision, recall, and f-score on the development data. In order to receive full credit, your model must be able to outperform all of the baselines."
      ]
    },
    {
      "cell_type": "markdown",
      "metadata": {
        "id": "mGQck2ObXjqi"
      },
      "source": [
        "- **Answer 4.1**: Train your best model on the training data, and report the precision, recall, and f-score on the development data"
      ]
    },
    {
      "cell_type": "code",
      "source": [
        "!pip install ipapy #For international phonetic but didnt work out"
      ],
      "metadata": {
        "colab": {
          "base_uri": "https://localhost:8080/"
        },
        "id": "9kG7bG8BovIv",
        "outputId": "7d1d4929-7124-4606-f7b4-6f10a7eb3a13"
      },
      "execution_count": 60,
      "outputs": [
        {
          "output_type": "stream",
          "name": "stdout",
          "text": [
            "Requirement already satisfied: ipapy in /usr/local/lib/python3.11/dist-packages (0.0.9.0)\n"
          ]
        }
      ]
    },
    {
      "cell_type": "code",
      "execution_count": 61,
      "metadata": {
        "colab": {
          "base_uri": "https://localhost:8080/"
        },
        "id": "vuXXPxIUut_B",
        "outputId": "7532a25f-251b-4ade-8334-9428fa2af970"
      },
      "outputs": [
        {
          "output_type": "stream",
          "name": "stderr",
          "text": [
            "[nltk_data] Downloading package wordnet to /root/nltk_data...\n",
            "[nltk_data]   Package wordnet is already up-to-date!\n"
          ]
        }
      ],
      "source": [
        "from nltk.corpus import wordnet\n",
        "import nltk\n",
        "nltk.download('wordnet')\n",
        "import re\n"
      ]
    },
    {
      "cell_type": "code",
      "execution_count": 66,
      "metadata": {
        "id": "_jegC2FnqUj2"
      },
      "outputs": [],
      "source": [
        "def get_own_train_features(train_data, ngram_counts):\n",
        "    words, y_true = train_data\n",
        "    features = []\n",
        "    vowels = 'AEIOUaeiou'\n",
        "    nums = '0123456789'\n",
        "\n",
        "\n",
        "    for word in words:\n",
        "        word_length = len(word)\n",
        "        num_vowels = 0\n",
        "        num_vowel_pairs = 0\n",
        "        nums_th= False\n",
        "\n",
        "        #find if word with a number and ends with \"th\"\n",
        "        if re.match(r'[0-9]th', word):\n",
        "            num_nums_th += 1\n",
        "        num_vowel_trios = 0\n",
        "        for char in word:\n",
        "            if char in vowels:\n",
        "                num_vowels += 1\n",
        "        for i in range(len(word) - 1):\n",
        "            if word[i] in vowels and word[i + 1] in vowels:\n",
        "                num_vowel_pairs += 1\n",
        "        for i in range(len(word) - 2):\n",
        "            if word[i] in vowels and word[i + 1] in vowels and word[i + 2] in vowels:\n",
        "                num_vowel_trios += 1\n",
        "        num_consonants = 0\n",
        "        for char in word:\n",
        "            if char not in vowels:\n",
        "                num_consonants += 1\n",
        "        num_vowel_between = 0;\n",
        "        for i in range(len(word) - 2):\n",
        "            if word[i] in vowels and word[i + 2] in vowels:\n",
        "                num_vowel_between += 1\n",
        "        num_consonants_between = 0;\n",
        "        for i in range(len(word) - 2):\n",
        "            if word[i] not in vowels and word[i + 2] not in vowels:\n",
        "                num_consonants_between += 1\n",
        "        num_double_consonants = 0\n",
        "        for i in range(len(word) - 1):\n",
        "            if word[i] not in vowels and word[i + 1] not in vowels:\n",
        "                num_double_consonants += 1\n",
        "\n",
        "        #words hard to pronounce\n",
        "        has_sc=False;\n",
        "        if re.search(r'sc', word):\n",
        "            has_sc=True;\n",
        "\n",
        "        has_gh=False;\n",
        "        if re.search(r'gh', word):\n",
        "            has_gh=True;\n",
        "        has_th=False;\n",
        "        if re.search(r'th', word):\n",
        "            has_th=True;\n",
        "        has_sh=False;\n",
        "        if re.search(r'sh', word):\n",
        "            has_sh=True;\n",
        "        has_ch=False;\n",
        "        if re.search(r'ch', word):\n",
        "            has_ch=True;\n",
        "\n",
        "        has_ph=False;\n",
        "        if re.search(r'ph', word):\n",
        "            has_ph=True;\n",
        "\n",
        "        has_sth=False;\n",
        "        if re.search(r'sth', word):\n",
        "            has_sth=True;\n",
        "\n",
        "        has_sch=False;\n",
        "        if re.search(r'sch', word):\n",
        "            has_sch=True;\n",
        "\n",
        "        has_dg=False;\n",
        "        if re.search(r'dg', word):\n",
        "            has_dg=True;\n",
        "\n",
        "        # is_noun = False;\n",
        "        # if wordnet.synsets(word, pos=wordnet.NOUN):\n",
        "        #     is_noun = True\n",
        "\n",
        "        # is_verb = False;\n",
        "        # if wordnet.synsets(word, pos=wordnet.VERB):\n",
        "        #     is_verb = True\n",
        "\n",
        "        # is_adj = False;\n",
        "        # if wordnet.synsets(word, pos=wordnet.ADJ):\n",
        "        #     is_adj = True\n",
        "\n",
        "        unigram_freq = ngram_counts[word]\n",
        "        num_syllables = syllables.estimate(word)\n",
        "        num_synonyms = len(set(lemma.name() for syn in wordnet.synsets(word) for lemma in syn.lemmas()))\n",
        "        num_senses = len(wordnet.synsets(word))\n",
        "\n",
        "        features.append([word_length, num_vowels,num_vowel_pairs, num_vowel_between, num_consonants_between, num_double_consonants, has_gh, has_th,has_sch, has_ch, has_ph, has_dg, has_sth, unigram_freq, num_syllables, num_synonyms, num_senses])\n",
        "\n",
        "    X = np.asarray(features)\n",
        "    means = np.mean(X, axis = 0)\n",
        "    stds = np.std(X, axis = 0)\n",
        "    X_scaled = (X - means) / stds\n",
        "    Y = np.asarray(y_true)\n",
        "    return X_scaled, Y, means, stds\n",
        "\n",
        "def get_test_features(dev_words, ngram_counts, means, stds):\n",
        "    vowels = 'AEIOUaeiou'\n",
        "    nums = '0123456789'\n",
        "    features = []\n",
        "    for word in dev_words:\n",
        "        word_length = len(word)\n",
        "        num_vowels = 0\n",
        "        num_vowel_pairs = 0\n",
        "        num_vowel_trios = 0\n",
        "        for char in word:\n",
        "            if char in vowels:\n",
        "                num_vowels += 1\n",
        "        for i in range(len(word) - 1):\n",
        "            if word[i] in vowels and word[i + 1] in vowels:\n",
        "                num_vowel_pairs += 1\n",
        "        for i in range(len(word) - 2):\n",
        "            if word[i] in vowels and word[i + 1] in vowels and word[i + 2] in vowels:\n",
        "                num_vowel_trios += 1\n",
        "        num_consonants = 0\n",
        "        for char in word:\n",
        "            if char not in vowels:\n",
        "                num_consonants += 1\n",
        "        num_vowel_between = 0;\n",
        "        for i in range(len(word) - 2):\n",
        "            if word[i] in vowels and word[i + 2] in vowels:\n",
        "                num_vowel_between += 1\n",
        "        num_consonants_between = 0;\n",
        "        for i in range(len(word) - 2):\n",
        "            if word[i] not in vowels and word[i + 2] not in vowels:\n",
        "                num_consonants_between += 1\n",
        "        num_double_consonants = 0\n",
        "        for i in range(len(word) - 1):\n",
        "            if word[i] not in vowels and word[i + 1] not in vowels:\n",
        "                num_double_consonants += 1\n",
        "\n",
        "        has_sc=False;\n",
        "        if re.search(r'sc', word):\n",
        "            has_sc=True;\n",
        "\n",
        "        has_ch=False;\n",
        "        if re.search(r'ch', word):\n",
        "            has_ch=True;\n",
        "\n",
        "        has_gh=False;\n",
        "        if re.search(r'gh', word):\n",
        "            has_gh=True;\n",
        "\n",
        "        has_th=False;\n",
        "        if re.search(r'th', word):\n",
        "            has_th=True;\n",
        "\n",
        "        has_sh=False;\n",
        "        if re.search(r'sh', word):\n",
        "            has_sh=True;\n",
        "\n",
        "        has_ph=False;\n",
        "        if re.search(r'ph', word):\n",
        "            has_ph=True;\n",
        "\n",
        "        has_sth=False;\n",
        "        if re.search(r'sth', word):\n",
        "            has_sth=True;\n",
        "\n",
        "        has_sch=False;\n",
        "        if re.search(r'sch', word):\n",
        "            has_sch=True;\n",
        "\n",
        "        has_dg=False;\n",
        "        if re.search(r'dg', word):\n",
        "            has_dg=True;\n",
        "\n",
        "        # is_noun = False;\n",
        "        # if wordnet.synsets(word, pos=wordnet.NOUN):\n",
        "        #     is_noun = True\n",
        "\n",
        "        # is_verb = False;\n",
        "        # if wordnet.synsets(word, pos=wordnet.VERB):\n",
        "        #     is_verb = True\n",
        "\n",
        "        # is_adj = False;\n",
        "        # if wordnet.synsets(word, pos=wordnet.ADJ):\n",
        "        #     is_adj = True\n",
        "\n",
        "        unigram_freq = ngram_counts[word]\n",
        "        num_syllables = syllables.estimate(word)\n",
        "        num_synonyms = len(set(lemma.name() for syn in wordnet.synsets(word) for lemma in syn.lemmas()))\n",
        "        num_senses = len(wordnet.synsets(word))\n",
        "\n",
        "        features.append([word_length, num_vowels,num_vowel_pairs, num_vowel_between, num_consonants_between, num_double_consonants,has_sch, has_ch, has_ph, has_gh, has_th, has_dg, has_sth, unigram_freq, num_syllables, num_synonyms, num_senses])\n",
        "    X = np.asarray(features)\n",
        "    X_scaled = (X - means) / stds\n",
        "\n",
        "    return X_scaled"
      ]
    },
    {
      "cell_type": "code",
      "execution_count": 69,
      "metadata": {
        "id": "hh5gLxoSvhfL"
      },
      "outputs": [],
      "source": [
        "#random forest classifier\n",
        "import pandas as pd\n",
        "from sklearn.ensemble import RandomForestClassifier\n",
        "from sklearn.model_selection import GridSearchCV\n",
        "# from sklearn.decomposition import PCA\n",
        "#PCA was not the best choice here.\n",
        "\n",
        "def random_forest(train_data, dev_words, ngram_counts):\n",
        "    X_train, Y_train, means, stds = get_own_train_features(train_data, ngram_counts)\n",
        "    X_dev = get_test_features(dev_words, ngram_counts, means, stds)\n",
        "\n",
        "    # cov_matrix = pd.DataFrame(np.cov(X_train, rowvar=False))\n",
        "    # print(cov_matrix)\n",
        "\n",
        "    # pca = PCA(n_components=0.95)\n",
        "    # X_train_pca = pca.fit_transform(X_train)\n",
        "    # X_dev_pca = pca.transform(X_dev)\n",
        "\n",
        "    clf = RandomForestClassifier(random_state=42, criterion='gini')\n",
        "    param_grid = {\n",
        "        'n_estimators': [75, 100, 125],\n",
        "        'max_depth': [3,6,9],\n",
        "    }\n",
        "\n",
        "    grid_search = GridSearchCV(estimator=clf, param_grid=param_grid, n_jobs=-1, cv=5, verbose= 2)\n",
        "    grid_search.fit(X_train, Y_train)\n",
        "\n",
        "    best_clf = grid_search.best_estimator_\n",
        "\n",
        "    train_pred = best_clf.predict(X_train)\n",
        "    dev_pred = best_clf.predict(X_dev)\n",
        "    return train_pred, dev_pred\n"
      ]
    },
    {
      "cell_type": "code",
      "execution_count": 70,
      "metadata": {
        "colab": {
          "base_uri": "https://localhost:8080/"
        },
        "id": "LI2MZVcev1XD",
        "outputId": "05dde88a-b204-4501-99a4-b84ced1eb50d"
      },
      "outputs": [
        {
          "output_type": "stream",
          "name": "stdout",
          "text": [
            "Fitting 5 folds for each of 9 candidates, totalling 45 fits\n",
            "0.7526427061310782 0.8516746411483254 0.7991021324354658\n",
            "CPU times: user 1.88 s, sys: 104 ms, total: 1.98 s\n",
            "Wall time: 22.2 s\n"
          ]
        }
      ],
      "source": [
        "%%time\n",
        "dev_words, dev_labels = dev_data\n",
        "train_pred, dev_pred = random_forest(train_data, dev_words, ngram_counts)\n",
        "dev_precision = get_precision(dev_labels, dev_pred)\n",
        "dev_recall = get_recall(dev_labels, dev_pred)\n",
        "dev_f = get_fscore(dev_labels, dev_pred)\n",
        "dev_f\n",
        "\n",
        "print(dev_precision, dev_recall, dev_f)"
      ]
    },
    {
      "cell_type": "markdown",
      "source": [
        "**Random Forest Classification scores**\n",
        "\n",
        "\n",
        "*   [precision, recall, fscore]\n",
        "*   [0.7526427061310782, 0.8516746411483254, 0.7991021324354658]\n",
        "\n",
        "\n"
      ],
      "metadata": {
        "id": "MFd6YjcMEfyz"
      }
    },
    {
      "cell_type": "markdown",
      "metadata": {
        "id": "oNCeUFiPrcoO"
      },
      "source": [
        "## 4.2 Analyze your model\n",
        "\n",
        "\n",
        "Describe the model and features you choose, and perform a detailed error analysis of your models. Give several examples of words on which your best model performs well. Also give examples of words which your best model performs poorly on, and identify at least TWO categories of words on which your model is making errors.\n",
        "\n",
        "\n"
      ]
    },
    {
      "cell_type": "markdown",
      "metadata": {
        "id": "HXJgfZDyX3DW"
      },
      "source": [
        "- **Answer 4.2**: Write a detailed description of your model and features used. Also include error analysis of your model."
      ]
    },
    {
      "cell_type": "markdown",
      "source": [
        "The current model I decided to keep is a random forest classifier because of multicolinear features shown by the covariance matrix. I used multiple features to train my model including word length, syllabus, senses, frequency, vowels, synonyms and harder to pronounce words that include silent letterings like [\"ch\", \"th\", \"sh\", \"gh\", \"sth\"].  [\"short\", \"though\", \"tough\", \"math\", \"monarch\", \"isthmus\"], or words with many syllables and vowels like [\"imagination\", \"mississipi\"]. My model performs best on words that are hard to pronounce and may have multiple syllables or longer words that a elementary school student might have trouble with. My model performs the worse on words with definitions, or generally words with multiple meanings like \"bark\" because I did not seperate by sentences, but by individual words instead. It also does not account for words with synonym bugs listed on WordNet. My model is definitely making errors on word senses because I have no context for each word as some words do need context for an accurate meaning, some syllables counts, and most definitely synonyms. These could be reasons why my recall score is a little boosted compared to precision. It took me a while to get from .71 to 79. even though I was hoping for something above .80 for fscore."
      ],
      "metadata": {
        "id": "geSCYkyMV74q"
      }
    },
    {
      "cell_type": "markdown",
      "metadata": {
        "id": "UyVWDdmprepx"
      },
      "source": [
        "## 4.3 Leaderboard\n",
        "Finally, use your classifier to predict labels for the test data, and submit these labels in a text file named `test_labels.txt` (with one label per line) to the leaderboard; be sure NOT to shuffle the order of the test examples. Instructions for how to post to the leaderboard will be posted on Ed soon.\n",
        "**In addition, the top 3 submissions will receive 5 bonus points! A successful submission to the leaderboard will guarantee 2 points!**"
      ]
    },
    {
      "cell_type": "code",
      "execution_count": 71,
      "metadata": {
        "id": "Aqh2598xqPxN",
        "colab": {
          "base_uri": "https://localhost:8080/"
        },
        "outputId": "6a2e2796-c5f6-4a4c-eb31-ed15900c30ca"
      },
      "outputs": [
        {
          "output_type": "stream",
          "name": "stdout",
          "text": [
            "Fitting 5 folds for each of 9 candidates, totalling 45 fits\n"
          ]
        }
      ],
      "source": [
        "train_pred, test_pred = random_forest(train_data, test_words, ngram_counts)\n",
        "with open('test_labels.txt', 'w') as f:\n",
        "    f.write(\"\\n\".join(map(str, test_pred)))"
      ]
    },
    {
      "cell_type": "markdown",
      "metadata": {
        "id": "K5F0dXt8YiGq"
      },
      "source": [
        "- **Answer 4.3**: Upload your `test_labels.txt` to the leaderboard in Gradescope."
      ]
    },
    {
      "cell_type": "markdown",
      "metadata": {
        "id": "fIaGDgYzrhL_"
      },
      "source": [
        "## 4.4. (Optional) Leaderboard using outside data\n",
        "\n",
        "While the training data we have provided is sufficient for completing this assignment, it is not the only data for the task of identifying complex words. As an optional addition to this homework, you may look for and use any additional training data, and submit your predicted labels in a text file named `test_labels.txt` to the leaderboard.\n",
        "\n",
        "As a start, we recommend looking at the [SemEval 2016 dataset](http://alt.qcri.org/semeval2016/task11/), a dataset that was used in a complex words identification competition. In addition, you can try to use data from [Newsela](https://newsela.com/). Newsela’s editors re-write newspaper articles to be appropriate for students at different grade levels. The company has generously shared a dataset with us. The Newsela data **may not** be re-distributed outside of Penn. You can find the data on eniac at `/home1/c/ccb/data/newsela/newsela_article_corpus_with_scripts_2016-01-29.1.zip`.\n",
        "\n",
        "Good luck, and have fun!"
      ]
    },
    {
      "cell_type": "markdown",
      "metadata": {
        "id": "zve_zJnFrkgy"
      },
      "source": [
        "# Submission\n",
        "Here are the deliverables that you will need to submit:\n",
        "- This notebook (rename them to `homework2.ipynb` and `homework2.py`)\n",
        "- Your model’s output for the test set using only the provided training and development data (`test_labels.txt`)\n",
        "- (Optional) your model’s output for the test set, using any data that you want. (`test_labels.txt`)"
      ]
    },
    {
      "cell_type": "code",
      "execution_count": 65,
      "metadata": {
        "id": "07TwqC3NxfIe"
      },
      "outputs": [],
      "source": []
    }
  ],
  "metadata": {
    "colab": {
      "provenance": []
    },
    "kernelspec": {
      "display_name": "Python 3",
      "name": "python3"
    },
    "language_info": {
      "name": "python"
    }
  },
  "nbformat": 4,
  "nbformat_minor": 0
}