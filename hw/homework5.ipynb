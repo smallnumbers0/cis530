{
  "cells": [
    {
      "cell_type": "markdown",
      "metadata": {
        "id": "mb4Yr8KhRhbe"
      },
      "source": [
        "# Homework 5: Advanced Vector Space Models\n",
        "\n",
        "## Due Date: Jun 17\n",
        "## Total Points: 116 points + 8 bonus\n",
        "- **Overview**: In this assignment, we will examine some advanced uses of vector representations of words. We are going to look at three different problems:\n",
        "\n",
        "  - Solving word relation problems like analogies using word embeddings.\n",
        "  - Comparing correlation for human judgments of similarity to the vector similarities\n",
        "  - Discovering the different senses of a ‘polysemous’ word by clustering together its paraphrases.\n",
        "\n",
        "\n",
        "- **Delieverables:** This assignment has several deliverables:\n",
        "  - Code (this notebook) *(Automatic Graded)*\n",
        "    - Part 1: answers to questions\n",
        "    - Part 3: 4 different clustering functions\n",
        "  - Write Up (include in this notebook or a separate **report.pdf**) *(Manually Graded)*\n",
        "    - Part 2: answers to questions\n",
        "    - Part 3: F-scores for clustering algorithms & discussions about your models\n",
        "  - Leaderboard Without K *(Automatic Graded on GradeScope)*\n",
        "    - `test_nok_output_leaderboard.txt` = Task 3.4 output file\n",
        "  - Leaderboard With K *(Automatic Graded on GradeScope)*\n",
        "    - `test_output_leaderboard.txt` = Task 3.2 or 3.3 output file\n",
        "\n",
        "- **Grading**: We will use the auto-grading system called `PennGrader`. To complete the homework assignment, you should implement anything marked with `#TODO` and run the cell with `#PennGrader` note.\n",
        "\n",
        "\n",
        "## Recommended Readings\n",
        "- [Vector Semantics](https://web.stanford.edu/~jurafsky/slp3/6.pdf). Dan Jurafsky and James H. Martin. Speech and Language Processing (3rd edition draft).\n",
        "- [Efficient Estimation of Word Representations in Vector Space](https://arxiv.org/pdf/1301.3781.pdf?). Tomas Mikolov, Kai Chen, Greg Corrado, Jeffrey Dean. ArXiV 2013.\n",
        "- [Linguistic Regularities in Continuous Space Word Representations](https://www.aclweb.org/anthology/N13-1090). Tomas Mikolov, Wen-tau Yih, Geoffrey Zweig. NAACL 2013.\n",
        "- [Discovering Word Senses from Text](https://cs.uwaterloo.ca/~cdimarco/pdf/cs886/Pantel+Lin02.pdf). Patrick Pangel and Dekang Ling. KDD 2002.\n",
        "- [Linguistic Regularities in Sparse and Explicit Word Representations](https://aclanthology.org/W14-1618.pdf). Patrick Pangel and Dekang Ling. CoNLL 2014.\n",
        "- [Clustering Paraphrases by Word Sense](https://www.cis.upenn.edu/~ccb/publications/clustering-paraphrases-by-word-sense.pdf). Anne Cocos and Chris Callison-Burch. NAACL 2016.\n",
        "\n",
        "## To get started, **make a copy** of this colab notebook into your google drive!"
      ]
    },
    {
      "cell_type": "markdown",
      "metadata": {
        "id": "IDv9qN5c9357"
      },
      "source": [
        "## Setup 1: PennGrader Setup [4 points]"
      ]
    },
    {
      "cell_type": "code",
      "execution_count": 1,
      "metadata": {
        "id": "jpSjR2N19kk4"
      },
      "outputs": [],
      "source": [
        "## DO NOT CHANGE ANYTHING, JUST RUN\n",
        "%%capture\n",
        "!pip install penngrader-client"
      ]
    },
    {
      "cell_type": "code",
      "execution_count": 2,
      "metadata": {
        "colab": {
          "base_uri": "https://localhost:8080/"
        },
        "id": "FvPA8Z2D9ki_",
        "outputId": "c7eeee10-cc4c-4b3f-e16f-ed288a36723a"
      },
      "outputs": [
        {
          "output_type": "stream",
          "name": "stdout",
          "text": [
            "Writing notebook-config.yaml\n"
          ]
        }
      ],
      "source": [
        "%%writefile notebook-config.yaml\n",
        "\n",
        "grader_api_url: 'https://23whrwph9h.execute-api.us-east-1.amazonaws.com/default/Grader23'\n",
        "grader_api_key: 'flfkE736fA6Z8GxMDJe2q8Kfk8UDqjsG3GVqOFOa'"
      ]
    },
    {
      "cell_type": "code",
      "execution_count": 3,
      "metadata": {
        "colab": {
          "base_uri": "https://localhost:8080/"
        },
        "id": "xbeXT4Oj9kg_",
        "outputId": "828b6eb4-7945-4df3-bed1-c31e831658a1"
      },
      "outputs": [
        {
          "output_type": "stream",
          "name": "stdout",
          "text": [
            "\n",
            "grader_api_url: 'https://23whrwph9h.execute-api.us-east-1.amazonaws.com/default/Grader23'\n",
            "grader_api_key: 'flfkE736fA6Z8GxMDJe2q8Kfk8UDqjsG3GVqOFOa'\n"
          ]
        }
      ],
      "source": [
        "!cat notebook-config.yaml"
      ]
    },
    {
      "cell_type": "code",
      "execution_count": 4,
      "metadata": {
        "colab": {
          "base_uri": "https://localhost:8080/"
        },
        "id": "OceP0Hr-9kfC",
        "outputId": "e2b35633-f9e5-46c4-c36d-51b211c713ad"
      },
      "outputs": [
        {
          "output_type": "stream",
          "name": "stdout",
          "text": [
            "PennGrader initialized with Student ID: 56803282\n",
            "\n",
            "Make sure this correct or we will not be able to store your grade\n"
          ]
        }
      ],
      "source": [
        "from penngrader.grader import *\n",
        "\n",
        "## TODO - Start\n",
        "STUDENT_ID = 56803282 # YOUR PENN-ID GOES HERE AS AN INTEGER#\n",
        "## TODO - End\n",
        "\n",
        "SECRET = STUDENT_ID\n",
        "grader = PennGrader('notebook-config.yaml', 'CIS5300_OL_23Su_HW5', STUDENT_ID, SECRET)"
      ]
    },
    {
      "cell_type": "code",
      "execution_count": 5,
      "metadata": {
        "colab": {
          "base_uri": "https://localhost:8080/"
        },
        "id": "k5lAgKaYa-uN",
        "outputId": "b9157b6f-0d35-47a3-b9d3-a634d1e99435"
      },
      "outputs": [
        {
          "output_type": "stream",
          "name": "stdout",
          "text": [
            "Correct! You earned 4/4 points. You are a star!\n",
            "\n",
            "Your submission has been successfully recorded in the gradebook.\n"
          ]
        }
      ],
      "source": [
        "# check if the PennGrader is set up correctly\n",
        "# do not chance this cell, see if you get 4/4!\n",
        "name_str = 'Jacky Choi'\n",
        "grader.grade(test_case_id = 'name_test', answer = name_str)"
      ]
    },
    {
      "cell_type": "markdown",
      "metadata": {
        "id": "CHrdyiQdBt2K"
      },
      "source": [
        "## Setup 2: Dataset / Packages\n",
        "- **Run the following cells without changing anything!**"
      ]
    },
    {
      "cell_type": "code",
      "execution_count": 6,
      "metadata": {
        "colab": {
          "base_uri": "https://localhost:8080/"
        },
        "id": "lNBeJLVcSusU",
        "outputId": "b03bc764-1cb7-4569-9cfb-a872cb74bab2"
      },
      "outputs": [
        {
          "output_type": "stream",
          "name": "stdout",
          "text": [
            "Installing Magnitude.... (please wait, can take a while)\n",
            "  % Total    % Received % Xferd  Average Speed   Time    Time     Time  Current\n",
            "                                 Dload  Upload   Total   Spent    Left  Speed\n",
            "100   137  100   137    0     0    560      0 --:--:-- --:--:-- --:--:--   559\n",
            "Done installing Magnitude.\n"
          ]
        }
      ],
      "source": [
        "### This cell might take 3 min to run ###\n",
        "! echo \"Installing Magnitude.... (please wait, can take a while)\"\n",
        "! (curl https://raw.githubusercontent.com/plasticityai/magnitude/master/install-colab.sh | /bin/bash 1>/dev/null 2>/dev/null)\n",
        "! echo \"Done installing Magnitude.\""
      ]
    },
    {
      "cell_type": "code",
      "execution_count": 7,
      "metadata": {
        "colab": {
          "base_uri": "https://localhost:8080/"
        },
        "collapsed": true,
        "id": "nMLKUtdbw-qI",
        "outputId": "06a4e2b6-dac4-4309-eef4-7058953d506c"
      },
      "outputs": [
        {
          "output_type": "stream",
          "name": "stdout",
          "text": [
            "\u001b[33mDEPRECATION: Loading egg at /usr/local/lib/python3.11/dist-packages/annoy-1.17.3-py3.11-linux-x86_64.egg is deprecated. pip 24.3 will enforce this behaviour change. A possible replacement is to use pip for package installation. Discussion can be found at https://github.com/pypa/pip/issues/12330\u001b[0m\u001b[33m\n",
            "\u001b[0m\u001b[33mDEPRECATION: Loading egg at /usr/local/lib/python3.11/dist-packages/pymagnitude-0.1.143-py3.11-linux-x86_64.egg is deprecated. pip 24.3 will enforce this behaviour change. A possible replacement is to use pip for package installation. Discussion can be found at https://github.com/pypa/pip/issues/12330\u001b[0m\u001b[33m\n",
            "\u001b[0m\u001b[33mDEPRECATION: Loading egg at /usr/local/lib/python3.11/dist-packages/nvidia_nvjitlink_cu12-12.4.127-py3.11-linux-x86_64.egg is deprecated. pip 24.3 will enforce this behaviour change. A possible replacement is to use pip for package installation. Discussion can be found at https://github.com/pypa/pip/issues/12330\u001b[0m\u001b[33m\n",
            "\u001b[0m\u001b[33mDEPRECATION: Loading egg at /usr/local/lib/python3.11/dist-packages/nvidia_cusolver_cu12-11.6.1.9-py3.11-linux-x86_64.egg is deprecated. pip 24.3 will enforce this behaviour change. A possible replacement is to use pip for package installation. Discussion can be found at https://github.com/pypa/pip/issues/12330\u001b[0m\u001b[33m\n",
            "\u001b[0m\u001b[33mDEPRECATION: Loading egg at /usr/local/lib/python3.11/dist-packages/fasteners-0.19-py3.11.egg is deprecated. pip 24.3 will enforce this behaviour change. A possible replacement is to use pip for package installation. Discussion can be found at https://github.com/pypa/pip/issues/12330\u001b[0m\u001b[33m\n",
            "\u001b[0m\u001b[33mDEPRECATION: Loading egg at /usr/local/lib/python3.11/dist-packages/xxhash-3.5.0-py3.11-linux-x86_64.egg is deprecated. pip 24.3 will enforce this behaviour change. A possible replacement is to use pip for package installation. Discussion can be found at https://github.com/pypa/pip/issues/12330\u001b[0m\u001b[33m\n",
            "\u001b[0m\u001b[33mDEPRECATION: Loading egg at /usr/local/lib/python3.11/dist-packages/nvidia_cuda_nvrtc_cu12-12.4.127-py3.11-linux-x86_64.egg is deprecated. pip 24.3 will enforce this behaviour change. A possible replacement is to use pip for package installation. Discussion can be found at https://github.com/pypa/pip/issues/12330\u001b[0m\u001b[33m\n",
            "\u001b[0m\u001b[33mDEPRECATION: Loading egg at /usr/local/lib/python3.11/dist-packages/nvidia_cublas_cu12-12.4.5.8-py3.11-linux-x86_64.egg is deprecated. pip 24.3 will enforce this behaviour change. A possible replacement is to use pip for package installation. Discussion can be found at https://github.com/pypa/pip/issues/12330\u001b[0m\u001b[33m\n",
            "\u001b[0m\u001b[33mDEPRECATION: Loading egg at /usr/local/lib/python3.11/dist-packages/nvidia_cudnn_cu12-9.1.0.70-py3.11-linux-x86_64.egg is deprecated. pip 24.3 will enforce this behaviour change. A possible replacement is to use pip for package installation. Discussion can be found at https://github.com/pypa/pip/issues/12330\u001b[0m\u001b[33m\n",
            "\u001b[0m\u001b[33mDEPRECATION: Loading egg at /usr/local/lib/python3.11/dist-packages/nvidia_curand_cu12-10.3.5.147-py3.11-linux-x86_64.egg is deprecated. pip 24.3 will enforce this behaviour change. A possible replacement is to use pip for package installation. Discussion can be found at https://github.com/pypa/pip/issues/12330\u001b[0m\u001b[33m\n",
            "\u001b[0m\u001b[33mDEPRECATION: Loading egg at /usr/local/lib/python3.11/dist-packages/nvidia_cusparse_cu12-12.3.1.170-py3.11-linux-x86_64.egg is deprecated. pip 24.3 will enforce this behaviour change. A possible replacement is to use pip for package installation. Discussion can be found at https://github.com/pypa/pip/issues/12330\u001b[0m\u001b[33m\n",
            "\u001b[0m\u001b[33mDEPRECATION: Loading egg at /usr/local/lib/python3.11/dist-packages/nvidia_cuda_cupti_cu12-12.4.127-py3.11-linux-x86_64.egg is deprecated. pip 24.3 will enforce this behaviour change. A possible replacement is to use pip for package installation. Discussion can be found at https://github.com/pypa/pip/issues/12330\u001b[0m\u001b[33m\n",
            "\u001b[0m\u001b[33mDEPRECATION: Loading egg at /usr/local/lib/python3.11/dist-packages/nvidia_cuda_runtime_cu12-12.4.127-py3.11-linux-x86_64.egg is deprecated. pip 24.3 will enforce this behaviour change. A possible replacement is to use pip for package installation. Discussion can be found at https://github.com/pypa/pip/issues/12330\u001b[0m\u001b[33m\n",
            "\u001b[0m\u001b[33mDEPRECATION: Loading egg at /usr/local/lib/python3.11/dist-packages/lz4-4.4.3-py3.11-linux-x86_64.egg is deprecated. pip 24.3 will enforce this behaviour change. A possible replacement is to use pip for package installation. Discussion can be found at https://github.com/pypa/pip/issues/12330\u001b[0m\u001b[33m\n",
            "\u001b[0m\u001b[33mDEPRECATION: Loading egg at /usr/local/lib/python3.11/dist-packages/nvidia_cufft_cu12-11.2.1.3-py3.11-linux-x86_64.egg is deprecated. pip 24.3 will enforce this behaviour change. A possible replacement is to use pip for package installation. Discussion can be found at https://github.com/pypa/pip/issues/12330\u001b[0m\u001b[33m\n",
            "\u001b[0mRequirement already satisfied: spacy in /usr/local/lib/python3.11/dist-packages (3.7.5)\n",
            "Requirement already satisfied: spacy-legacy<3.1.0,>=3.0.11 in /usr/local/lib/python3.11/dist-packages (from spacy) (3.0.12)\n",
            "Requirement already satisfied: spacy-loggers<2.0.0,>=1.0.0 in /usr/local/lib/python3.11/dist-packages (from spacy) (1.0.5)\n",
            "Requirement already satisfied: murmurhash<1.1.0,>=0.28.0 in /usr/local/lib/python3.11/dist-packages (from spacy) (1.0.12)\n",
            "Requirement already satisfied: cymem<2.1.0,>=2.0.2 in /usr/local/lib/python3.11/dist-packages (from spacy) (2.0.11)\n",
            "Requirement already satisfied: preshed<3.1.0,>=3.0.2 in /usr/local/lib/python3.11/dist-packages (from spacy) (3.0.9)\n",
            "Requirement already satisfied: thinc<8.3.0,>=8.2.2 in /usr/local/lib/python3.11/dist-packages (from spacy) (8.2.5)\n",
            "Requirement already satisfied: wasabi<1.2.0,>=0.9.1 in /usr/local/lib/python3.11/dist-packages (from spacy) (1.1.3)\n",
            "Requirement already satisfied: srsly<3.0.0,>=2.4.3 in /usr/local/lib/python3.11/dist-packages (from spacy) (2.5.1)\n",
            "Requirement already satisfied: catalogue<2.1.0,>=2.0.6 in /usr/local/lib/python3.11/dist-packages (from spacy) (2.0.10)\n",
            "Requirement already satisfied: weasel<0.5.0,>=0.1.0 in /usr/local/lib/python3.11/dist-packages (from spacy) (0.4.1)\n",
            "Requirement already satisfied: typer<1.0.0,>=0.3.0 in /usr/local/lib/python3.11/dist-packages (from spacy) (0.15.1)\n",
            "Requirement already satisfied: tqdm<5.0.0,>=4.38.0 in /usr/local/lib/python3.11/dist-packages (from spacy) (4.67.1)\n",
            "Requirement already satisfied: requests<3.0.0,>=2.13.0 in /usr/local/lib/python3.11/dist-packages (from spacy) (2.32.3)\n",
            "Requirement already satisfied: pydantic!=1.8,!=1.8.1,<3.0.0,>=1.7.4 in /usr/local/lib/python3.11/dist-packages (from spacy) (2.10.6)\n",
            "Requirement already satisfied: jinja2 in /usr/local/lib/python3.11/dist-packages (from spacy) (3.1.5)\n",
            "Requirement already satisfied: setuptools in /usr/local/lib/python3.11/dist-packages (from spacy) (75.1.0)\n",
            "Requirement already satisfied: packaging>=20.0 in /usr/local/lib/python3.11/dist-packages (from spacy) (24.2)\n",
            "Requirement already satisfied: langcodes<4.0.0,>=3.2.0 in /usr/local/lib/python3.11/dist-packages (from spacy) (3.5.0)\n",
            "Requirement already satisfied: numpy>=1.19.0 in /usr/local/lib/python3.11/dist-packages (from spacy) (1.26.4)\n",
            "Requirement already satisfied: language-data>=1.2 in /usr/local/lib/python3.11/dist-packages (from langcodes<4.0.0,>=3.2.0->spacy) (1.3.0)\n",
            "Requirement already satisfied: annotated-types>=0.6.0 in /usr/local/lib/python3.11/dist-packages (from pydantic!=1.8,!=1.8.1,<3.0.0,>=1.7.4->spacy) (0.7.0)\n",
            "Requirement already satisfied: pydantic-core==2.27.2 in /usr/local/lib/python3.11/dist-packages (from pydantic!=1.8,!=1.8.1,<3.0.0,>=1.7.4->spacy) (2.27.2)\n",
            "Requirement already satisfied: typing-extensions>=4.12.2 in /usr/local/lib/python3.11/dist-packages (from pydantic!=1.8,!=1.8.1,<3.0.0,>=1.7.4->spacy) (4.12.2)\n",
            "Requirement already satisfied: charset-normalizer<4,>=2 in /usr/local/lib/python3.11/dist-packages (from requests<3.0.0,>=2.13.0->spacy) (3.4.1)\n",
            "Requirement already satisfied: idna<4,>=2.5 in /usr/local/lib/python3.11/dist-packages (from requests<3.0.0,>=2.13.0->spacy) (3.10)\n",
            "Requirement already satisfied: urllib3<3,>=1.21.1 in /usr/local/lib/python3.11/dist-packages (from requests<3.0.0,>=2.13.0->spacy) (2.3.0)\n",
            "Requirement already satisfied: certifi>=2017.4.17 in /usr/local/lib/python3.11/dist-packages (from requests<3.0.0,>=2.13.0->spacy) (2025.1.31)\n",
            "Requirement already satisfied: blis<0.8.0,>=0.7.8 in /usr/local/lib/python3.11/dist-packages (from thinc<8.3.0,>=8.2.2->spacy) (0.7.11)\n",
            "Requirement already satisfied: confection<1.0.0,>=0.0.1 in /usr/local/lib/python3.11/dist-packages (from thinc<8.3.0,>=8.2.2->spacy) (0.1.5)\n",
            "Requirement already satisfied: click>=8.0.0 in /usr/local/lib/python3.11/dist-packages (from typer<1.0.0,>=0.3.0->spacy) (8.1.8)\n",
            "Requirement already satisfied: shellingham>=1.3.0 in /usr/local/lib/python3.11/dist-packages (from typer<1.0.0,>=0.3.0->spacy) (1.5.4)\n",
            "Requirement already satisfied: rich>=10.11.0 in /usr/local/lib/python3.11/dist-packages (from typer<1.0.0,>=0.3.0->spacy) (13.9.4)\n",
            "Requirement already satisfied: cloudpathlib<1.0.0,>=0.7.0 in /usr/local/lib/python3.11/dist-packages (from weasel<0.5.0,>=0.1.0->spacy) (0.20.0)\n",
            "Requirement already satisfied: smart-open<8.0.0,>=5.2.1 in /usr/local/lib/python3.11/dist-packages (from weasel<0.5.0,>=0.1.0->spacy) (7.1.0)\n",
            "Requirement already satisfied: MarkupSafe>=2.0 in /usr/local/lib/python3.11/dist-packages (from jinja2->spacy) (3.0.2)\n",
            "Requirement already satisfied: marisa-trie>=1.1.0 in /usr/local/lib/python3.11/dist-packages (from language-data>=1.2->langcodes<4.0.0,>=3.2.0->spacy) (1.2.1)\n",
            "Requirement already satisfied: markdown-it-py>=2.2.0 in /usr/local/lib/python3.11/dist-packages (from rich>=10.11.0->typer<1.0.0,>=0.3.0->spacy) (3.0.0)\n",
            "Requirement already satisfied: pygments<3.0.0,>=2.13.0 in /usr/local/lib/python3.11/dist-packages (from rich>=10.11.0->typer<1.0.0,>=0.3.0->spacy) (2.18.0)\n",
            "Requirement already satisfied: wrapt in /usr/local/lib/python3.11/dist-packages (from smart-open<8.0.0,>=5.2.1->weasel<0.5.0,>=0.1.0->spacy) (1.17.2)\n",
            "Requirement already satisfied: mdurl~=0.1 in /usr/local/lib/python3.11/dist-packages (from markdown-it-py>=2.2.0->rich>=10.11.0->typer<1.0.0,>=0.3.0->spacy) (0.1.2)\n",
            "\u001b[33mDEPRECATION: Loading egg at /usr/local/lib/python3.11/dist-packages/annoy-1.17.3-py3.11-linux-x86_64.egg is deprecated. pip 24.3 will enforce this behaviour change. A possible replacement is to use pip for package installation. Discussion can be found at https://github.com/pypa/pip/issues/12330\u001b[0m\u001b[33m\n",
            "\u001b[0m\u001b[33mDEPRECATION: Loading egg at /usr/local/lib/python3.11/dist-packages/pymagnitude-0.1.143-py3.11-linux-x86_64.egg is deprecated. pip 24.3 will enforce this behaviour change. A possible replacement is to use pip for package installation. Discussion can be found at https://github.com/pypa/pip/issues/12330\u001b[0m\u001b[33m\n",
            "\u001b[0m\u001b[33mDEPRECATION: Loading egg at /usr/local/lib/python3.11/dist-packages/nvidia_nvjitlink_cu12-12.4.127-py3.11-linux-x86_64.egg is deprecated. pip 24.3 will enforce this behaviour change. A possible replacement is to use pip for package installation. Discussion can be found at https://github.com/pypa/pip/issues/12330\u001b[0m\u001b[33m\n",
            "\u001b[0m\u001b[33mDEPRECATION: Loading egg at /usr/local/lib/python3.11/dist-packages/nvidia_cusolver_cu12-11.6.1.9-py3.11-linux-x86_64.egg is deprecated. pip 24.3 will enforce this behaviour change. A possible replacement is to use pip for package installation. Discussion can be found at https://github.com/pypa/pip/issues/12330\u001b[0m\u001b[33m\n",
            "\u001b[0m\u001b[33mDEPRECATION: Loading egg at /usr/local/lib/python3.11/dist-packages/fasteners-0.19-py3.11.egg is deprecated. pip 24.3 will enforce this behaviour change. A possible replacement is to use pip for package installation. Discussion can be found at https://github.com/pypa/pip/issues/12330\u001b[0m\u001b[33m\n",
            "\u001b[0m\u001b[33mDEPRECATION: Loading egg at /usr/local/lib/python3.11/dist-packages/xxhash-3.5.0-py3.11-linux-x86_64.egg is deprecated. pip 24.3 will enforce this behaviour change. A possible replacement is to use pip for package installation. Discussion can be found at https://github.com/pypa/pip/issues/12330\u001b[0m\u001b[33m\n",
            "\u001b[0m\u001b[33mDEPRECATION: Loading egg at /usr/local/lib/python3.11/dist-packages/nvidia_cuda_nvrtc_cu12-12.4.127-py3.11-linux-x86_64.egg is deprecated. pip 24.3 will enforce this behaviour change. A possible replacement is to use pip for package installation. Discussion can be found at https://github.com/pypa/pip/issues/12330\u001b[0m\u001b[33m\n",
            "\u001b[0m\u001b[33mDEPRECATION: Loading egg at /usr/local/lib/python3.11/dist-packages/nvidia_cublas_cu12-12.4.5.8-py3.11-linux-x86_64.egg is deprecated. pip 24.3 will enforce this behaviour change. A possible replacement is to use pip for package installation. Discussion can be found at https://github.com/pypa/pip/issues/12330\u001b[0m\u001b[33m\n",
            "\u001b[0m\u001b[33mDEPRECATION: Loading egg at /usr/local/lib/python3.11/dist-packages/nvidia_cudnn_cu12-9.1.0.70-py3.11-linux-x86_64.egg is deprecated. pip 24.3 will enforce this behaviour change. A possible replacement is to use pip for package installation. Discussion can be found at https://github.com/pypa/pip/issues/12330\u001b[0m\u001b[33m\n",
            "\u001b[0m\u001b[33mDEPRECATION: Loading egg at /usr/local/lib/python3.11/dist-packages/nvidia_curand_cu12-10.3.5.147-py3.11-linux-x86_64.egg is deprecated. pip 24.3 will enforce this behaviour change. A possible replacement is to use pip for package installation. Discussion can be found at https://github.com/pypa/pip/issues/12330\u001b[0m\u001b[33m\n",
            "\u001b[0m\u001b[33mDEPRECATION: Loading egg at /usr/local/lib/python3.11/dist-packages/nvidia_cusparse_cu12-12.3.1.170-py3.11-linux-x86_64.egg is deprecated. pip 24.3 will enforce this behaviour change. A possible replacement is to use pip for package installation. Discussion can be found at https://github.com/pypa/pip/issues/12330\u001b[0m\u001b[33m\n",
            "\u001b[0m\u001b[33mDEPRECATION: Loading egg at /usr/local/lib/python3.11/dist-packages/nvidia_cuda_cupti_cu12-12.4.127-py3.11-linux-x86_64.egg is deprecated. pip 24.3 will enforce this behaviour change. A possible replacement is to use pip for package installation. Discussion can be found at https://github.com/pypa/pip/issues/12330\u001b[0m\u001b[33m\n",
            "\u001b[0m\u001b[33mDEPRECATION: Loading egg at /usr/local/lib/python3.11/dist-packages/nvidia_cuda_runtime_cu12-12.4.127-py3.11-linux-x86_64.egg is deprecated. pip 24.3 will enforce this behaviour change. A possible replacement is to use pip for package installation. Discussion can be found at https://github.com/pypa/pip/issues/12330\u001b[0m\u001b[33m\n",
            "\u001b[0m\u001b[33mDEPRECATION: Loading egg at /usr/local/lib/python3.11/dist-packages/lz4-4.4.3-py3.11-linux-x86_64.egg is deprecated. pip 24.3 will enforce this behaviour change. A possible replacement is to use pip for package installation. Discussion can be found at https://github.com/pypa/pip/issues/12330\u001b[0m\u001b[33m\n",
            "\u001b[0m\u001b[33mDEPRECATION: Loading egg at /usr/local/lib/python3.11/dist-packages/nvidia_cufft_cu12-11.2.1.3-py3.11-linux-x86_64.egg is deprecated. pip 24.3 will enforce this behaviour change. A possible replacement is to use pip for package installation. Discussion can be found at https://github.com/pypa/pip/issues/12330\u001b[0m\u001b[33m\n",
            "\u001b[0mCollecting en-core-web-sm==3.7.1\n",
            "  Downloading https://github.com/explosion/spacy-models/releases/download/en_core_web_sm-3.7.1/en_core_web_sm-3.7.1-py3-none-any.whl (12.8 MB)\n",
            "\u001b[2K     \u001b[90m━━━━━━━━━━━━━━━━━━━━━━━━━━━━━━━━━━━━━━━━\u001b[0m \u001b[32m12.8/12.8 MB\u001b[0m \u001b[31m86.7 MB/s\u001b[0m eta \u001b[36m0:00:00\u001b[0m\n",
            "\u001b[?25hRequirement already satisfied: spacy<3.8.0,>=3.7.2 in /usr/local/lib/python3.11/dist-packages (from en-core-web-sm==3.7.1) (3.7.5)\n",
            "Requirement already satisfied: spacy-legacy<3.1.0,>=3.0.11 in /usr/local/lib/python3.11/dist-packages (from spacy<3.8.0,>=3.7.2->en-core-web-sm==3.7.1) (3.0.12)\n",
            "Requirement already satisfied: spacy-loggers<2.0.0,>=1.0.0 in /usr/local/lib/python3.11/dist-packages (from spacy<3.8.0,>=3.7.2->en-core-web-sm==3.7.1) (1.0.5)\n",
            "Requirement already satisfied: murmurhash<1.1.0,>=0.28.0 in /usr/local/lib/python3.11/dist-packages (from spacy<3.8.0,>=3.7.2->en-core-web-sm==3.7.1) (1.0.12)\n",
            "Requirement already satisfied: cymem<2.1.0,>=2.0.2 in /usr/local/lib/python3.11/dist-packages (from spacy<3.8.0,>=3.7.2->en-core-web-sm==3.7.1) (2.0.11)\n",
            "Requirement already satisfied: preshed<3.1.0,>=3.0.2 in /usr/local/lib/python3.11/dist-packages (from spacy<3.8.0,>=3.7.2->en-core-web-sm==3.7.1) (3.0.9)\n",
            "Requirement already satisfied: thinc<8.3.0,>=8.2.2 in /usr/local/lib/python3.11/dist-packages (from spacy<3.8.0,>=3.7.2->en-core-web-sm==3.7.1) (8.2.5)\n",
            "Requirement already satisfied: wasabi<1.2.0,>=0.9.1 in /usr/local/lib/python3.11/dist-packages (from spacy<3.8.0,>=3.7.2->en-core-web-sm==3.7.1) (1.1.3)\n",
            "Requirement already satisfied: srsly<3.0.0,>=2.4.3 in /usr/local/lib/python3.11/dist-packages (from spacy<3.8.0,>=3.7.2->en-core-web-sm==3.7.1) (2.5.1)\n",
            "Requirement already satisfied: catalogue<2.1.0,>=2.0.6 in /usr/local/lib/python3.11/dist-packages (from spacy<3.8.0,>=3.7.2->en-core-web-sm==3.7.1) (2.0.10)\n",
            "Requirement already satisfied: weasel<0.5.0,>=0.1.0 in /usr/local/lib/python3.11/dist-packages (from spacy<3.8.0,>=3.7.2->en-core-web-sm==3.7.1) (0.4.1)\n",
            "Requirement already satisfied: typer<1.0.0,>=0.3.0 in /usr/local/lib/python3.11/dist-packages (from spacy<3.8.0,>=3.7.2->en-core-web-sm==3.7.1) (0.15.1)\n",
            "Requirement already satisfied: tqdm<5.0.0,>=4.38.0 in /usr/local/lib/python3.11/dist-packages (from spacy<3.8.0,>=3.7.2->en-core-web-sm==3.7.1) (4.67.1)\n",
            "Requirement already satisfied: requests<3.0.0,>=2.13.0 in /usr/local/lib/python3.11/dist-packages (from spacy<3.8.0,>=3.7.2->en-core-web-sm==3.7.1) (2.32.3)\n",
            "Requirement already satisfied: pydantic!=1.8,!=1.8.1,<3.0.0,>=1.7.4 in /usr/local/lib/python3.11/dist-packages (from spacy<3.8.0,>=3.7.2->en-core-web-sm==3.7.1) (2.10.6)\n",
            "Requirement already satisfied: jinja2 in /usr/local/lib/python3.11/dist-packages (from spacy<3.8.0,>=3.7.2->en-core-web-sm==3.7.1) (3.1.5)\n",
            "Requirement already satisfied: setuptools in /usr/local/lib/python3.11/dist-packages (from spacy<3.8.0,>=3.7.2->en-core-web-sm==3.7.1) (75.1.0)\n",
            "Requirement already satisfied: packaging>=20.0 in /usr/local/lib/python3.11/dist-packages (from spacy<3.8.0,>=3.7.2->en-core-web-sm==3.7.1) (24.2)\n",
            "Requirement already satisfied: langcodes<4.0.0,>=3.2.0 in /usr/local/lib/python3.11/dist-packages (from spacy<3.8.0,>=3.7.2->en-core-web-sm==3.7.1) (3.5.0)\n",
            "Requirement already satisfied: numpy>=1.19.0 in /usr/local/lib/python3.11/dist-packages (from spacy<3.8.0,>=3.7.2->en-core-web-sm==3.7.1) (1.26.4)\n",
            "Requirement already satisfied: language-data>=1.2 in /usr/local/lib/python3.11/dist-packages (from langcodes<4.0.0,>=3.2.0->spacy<3.8.0,>=3.7.2->en-core-web-sm==3.7.1) (1.3.0)\n",
            "Requirement already satisfied: annotated-types>=0.6.0 in /usr/local/lib/python3.11/dist-packages (from pydantic!=1.8,!=1.8.1,<3.0.0,>=1.7.4->spacy<3.8.0,>=3.7.2->en-core-web-sm==3.7.1) (0.7.0)\n",
            "Requirement already satisfied: pydantic-core==2.27.2 in /usr/local/lib/python3.11/dist-packages (from pydantic!=1.8,!=1.8.1,<3.0.0,>=1.7.4->spacy<3.8.0,>=3.7.2->en-core-web-sm==3.7.1) (2.27.2)\n",
            "Requirement already satisfied: typing-extensions>=4.12.2 in /usr/local/lib/python3.11/dist-packages (from pydantic!=1.8,!=1.8.1,<3.0.0,>=1.7.4->spacy<3.8.0,>=3.7.2->en-core-web-sm==3.7.1) (4.12.2)\n",
            "Requirement already satisfied: charset-normalizer<4,>=2 in /usr/local/lib/python3.11/dist-packages (from requests<3.0.0,>=2.13.0->spacy<3.8.0,>=3.7.2->en-core-web-sm==3.7.1) (3.4.1)\n",
            "Requirement already satisfied: idna<4,>=2.5 in /usr/local/lib/python3.11/dist-packages (from requests<3.0.0,>=2.13.0->spacy<3.8.0,>=3.7.2->en-core-web-sm==3.7.1) (3.10)\n",
            "Requirement already satisfied: urllib3<3,>=1.21.1 in /usr/local/lib/python3.11/dist-packages (from requests<3.0.0,>=2.13.0->spacy<3.8.0,>=3.7.2->en-core-web-sm==3.7.1) (2.3.0)\n",
            "Requirement already satisfied: certifi>=2017.4.17 in /usr/local/lib/python3.11/dist-packages (from requests<3.0.0,>=2.13.0->spacy<3.8.0,>=3.7.2->en-core-web-sm==3.7.1) (2025.1.31)\n",
            "Requirement already satisfied: blis<0.8.0,>=0.7.8 in /usr/local/lib/python3.11/dist-packages (from thinc<8.3.0,>=8.2.2->spacy<3.8.0,>=3.7.2->en-core-web-sm==3.7.1) (0.7.11)\n",
            "Requirement already satisfied: confection<1.0.0,>=0.0.1 in /usr/local/lib/python3.11/dist-packages (from thinc<8.3.0,>=8.2.2->spacy<3.8.0,>=3.7.2->en-core-web-sm==3.7.1) (0.1.5)\n",
            "Requirement already satisfied: click>=8.0.0 in /usr/local/lib/python3.11/dist-packages (from typer<1.0.0,>=0.3.0->spacy<3.8.0,>=3.7.2->en-core-web-sm==3.7.1) (8.1.8)\n",
            "Requirement already satisfied: shellingham>=1.3.0 in /usr/local/lib/python3.11/dist-packages (from typer<1.0.0,>=0.3.0->spacy<3.8.0,>=3.7.2->en-core-web-sm==3.7.1) (1.5.4)\n",
            "Requirement already satisfied: rich>=10.11.0 in /usr/local/lib/python3.11/dist-packages (from typer<1.0.0,>=0.3.0->spacy<3.8.0,>=3.7.2->en-core-web-sm==3.7.1) (13.9.4)\n",
            "Requirement already satisfied: cloudpathlib<1.0.0,>=0.7.0 in /usr/local/lib/python3.11/dist-packages (from weasel<0.5.0,>=0.1.0->spacy<3.8.0,>=3.7.2->en-core-web-sm==3.7.1) (0.20.0)\n",
            "Requirement already satisfied: smart-open<8.0.0,>=5.2.1 in /usr/local/lib/python3.11/dist-packages (from weasel<0.5.0,>=0.1.0->spacy<3.8.0,>=3.7.2->en-core-web-sm==3.7.1) (7.1.0)\n",
            "Requirement already satisfied: MarkupSafe>=2.0 in /usr/local/lib/python3.11/dist-packages (from jinja2->spacy<3.8.0,>=3.7.2->en-core-web-sm==3.7.1) (3.0.2)\n",
            "Requirement already satisfied: marisa-trie>=1.1.0 in /usr/local/lib/python3.11/dist-packages (from language-data>=1.2->langcodes<4.0.0,>=3.2.0->spacy<3.8.0,>=3.7.2->en-core-web-sm==3.7.1) (1.2.1)\n",
            "Requirement already satisfied: markdown-it-py>=2.2.0 in /usr/local/lib/python3.11/dist-packages (from rich>=10.11.0->typer<1.0.0,>=0.3.0->spacy<3.8.0,>=3.7.2->en-core-web-sm==3.7.1) (3.0.0)\n",
            "Requirement already satisfied: pygments<3.0.0,>=2.13.0 in /usr/local/lib/python3.11/dist-packages (from rich>=10.11.0->typer<1.0.0,>=0.3.0->spacy<3.8.0,>=3.7.2->en-core-web-sm==3.7.1) (2.18.0)\n",
            "Requirement already satisfied: wrapt in /usr/local/lib/python3.11/dist-packages (from smart-open<8.0.0,>=5.2.1->weasel<0.5.0,>=0.1.0->spacy<3.8.0,>=3.7.2->en-core-web-sm==3.7.1) (1.17.2)\n",
            "Requirement already satisfied: mdurl~=0.1 in /usr/local/lib/python3.11/dist-packages (from markdown-it-py>=2.2.0->rich>=10.11.0->typer<1.0.0,>=0.3.0->spacy<3.8.0,>=3.7.2->en-core-web-sm==3.7.1) (0.1.2)\n",
            "\u001b[38;5;2m✔ Download and installation successful\u001b[0m\n",
            "You can now load the package via spacy.load('en_core_web_sm')\n",
            "\u001b[38;5;3m⚠ Restart to reload dependencies\u001b[0m\n",
            "If you are in a Jupyter or Colab notebook, you may need to restart Python in\n",
            "order to load all the package's dependencies. You can do this by selecting the\n",
            "'Restart kernel' or 'Restart runtime' option.\n",
            "\u001b[38;5;3m⚠ As of spaCy v3.0, shortcuts like 'en' are deprecated. Please use the\n",
            "full pipeline package name 'en_core_web_sm' instead.\u001b[0m\n",
            "\u001b[33mDEPRECATION: Loading egg at /usr/local/lib/python3.11/dist-packages/annoy-1.17.3-py3.11-linux-x86_64.egg is deprecated. pip 24.3 will enforce this behaviour change. A possible replacement is to use pip for package installation. Discussion can be found at https://github.com/pypa/pip/issues/12330\u001b[0m\u001b[33m\n",
            "\u001b[0m\u001b[33mDEPRECATION: Loading egg at /usr/local/lib/python3.11/dist-packages/pymagnitude-0.1.143-py3.11-linux-x86_64.egg is deprecated. pip 24.3 will enforce this behaviour change. A possible replacement is to use pip for package installation. Discussion can be found at https://github.com/pypa/pip/issues/12330\u001b[0m\u001b[33m\n",
            "\u001b[0m\u001b[33mDEPRECATION: Loading egg at /usr/local/lib/python3.11/dist-packages/nvidia_nvjitlink_cu12-12.4.127-py3.11-linux-x86_64.egg is deprecated. pip 24.3 will enforce this behaviour change. A possible replacement is to use pip for package installation. Discussion can be found at https://github.com/pypa/pip/issues/12330\u001b[0m\u001b[33m\n",
            "\u001b[0m\u001b[33mDEPRECATION: Loading egg at /usr/local/lib/python3.11/dist-packages/nvidia_cusolver_cu12-11.6.1.9-py3.11-linux-x86_64.egg is deprecated. pip 24.3 will enforce this behaviour change. A possible replacement is to use pip for package installation. Discussion can be found at https://github.com/pypa/pip/issues/12330\u001b[0m\u001b[33m\n",
            "\u001b[0m\u001b[33mDEPRECATION: Loading egg at /usr/local/lib/python3.11/dist-packages/fasteners-0.19-py3.11.egg is deprecated. pip 24.3 will enforce this behaviour change. A possible replacement is to use pip for package installation. Discussion can be found at https://github.com/pypa/pip/issues/12330\u001b[0m\u001b[33m\n",
            "\u001b[0m\u001b[33mDEPRECATION: Loading egg at /usr/local/lib/python3.11/dist-packages/xxhash-3.5.0-py3.11-linux-x86_64.egg is deprecated. pip 24.3 will enforce this behaviour change. A possible replacement is to use pip for package installation. Discussion can be found at https://github.com/pypa/pip/issues/12330\u001b[0m\u001b[33m\n",
            "\u001b[0m\u001b[33mDEPRECATION: Loading egg at /usr/local/lib/python3.11/dist-packages/nvidia_cuda_nvrtc_cu12-12.4.127-py3.11-linux-x86_64.egg is deprecated. pip 24.3 will enforce this behaviour change. A possible replacement is to use pip for package installation. Discussion can be found at https://github.com/pypa/pip/issues/12330\u001b[0m\u001b[33m\n",
            "\u001b[0m\u001b[33mDEPRECATION: Loading egg at /usr/local/lib/python3.11/dist-packages/nvidia_cublas_cu12-12.4.5.8-py3.11-linux-x86_64.egg is deprecated. pip 24.3 will enforce this behaviour change. A possible replacement is to use pip for package installation. Discussion can be found at https://github.com/pypa/pip/issues/12330\u001b[0m\u001b[33m\n",
            "\u001b[0m\u001b[33mDEPRECATION: Loading egg at /usr/local/lib/python3.11/dist-packages/nvidia_cudnn_cu12-9.1.0.70-py3.11-linux-x86_64.egg is deprecated. pip 24.3 will enforce this behaviour change. A possible replacement is to use pip for package installation. Discussion can be found at https://github.com/pypa/pip/issues/12330\u001b[0m\u001b[33m\n",
            "\u001b[0m\u001b[33mDEPRECATION: Loading egg at /usr/local/lib/python3.11/dist-packages/nvidia_curand_cu12-10.3.5.147-py3.11-linux-x86_64.egg is deprecated. pip 24.3 will enforce this behaviour change. A possible replacement is to use pip for package installation. Discussion can be found at https://github.com/pypa/pip/issues/12330\u001b[0m\u001b[33m\n",
            "\u001b[0m\u001b[33mDEPRECATION: Loading egg at /usr/local/lib/python3.11/dist-packages/nvidia_cusparse_cu12-12.3.1.170-py3.11-linux-x86_64.egg is deprecated. pip 24.3 will enforce this behaviour change. A possible replacement is to use pip for package installation. Discussion can be found at https://github.com/pypa/pip/issues/12330\u001b[0m\u001b[33m\n",
            "\u001b[0m\u001b[33mDEPRECATION: Loading egg at /usr/local/lib/python3.11/dist-packages/nvidia_cuda_cupti_cu12-12.4.127-py3.11-linux-x86_64.egg is deprecated. pip 24.3 will enforce this behaviour change. A possible replacement is to use pip for package installation. Discussion can be found at https://github.com/pypa/pip/issues/12330\u001b[0m\u001b[33m\n",
            "\u001b[0m\u001b[33mDEPRECATION: Loading egg at /usr/local/lib/python3.11/dist-packages/nvidia_cuda_runtime_cu12-12.4.127-py3.11-linux-x86_64.egg is deprecated. pip 24.3 will enforce this behaviour change. A possible replacement is to use pip for package installation. Discussion can be found at https://github.com/pypa/pip/issues/12330\u001b[0m\u001b[33m\n",
            "\u001b[0m\u001b[33mDEPRECATION: Loading egg at /usr/local/lib/python3.11/dist-packages/lz4-4.4.3-py3.11-linux-x86_64.egg is deprecated. pip 24.3 will enforce this behaviour change. A possible replacement is to use pip for package installation. Discussion can be found at https://github.com/pypa/pip/issues/12330\u001b[0m\u001b[33m\n",
            "\u001b[0m\u001b[33mDEPRECATION: Loading egg at /usr/local/lib/python3.11/dist-packages/nvidia_cufft_cu12-11.2.1.3-py3.11-linux-x86_64.egg is deprecated. pip 24.3 will enforce this behaviour change. A possible replacement is to use pip for package installation. Discussion can be found at https://github.com/pypa/pip/issues/12330\u001b[0m\u001b[33m\n",
            "\u001b[0mCollecting en-core-web-sm==3.7.1\n",
            "  Using cached https://github.com/explosion/spacy-models/releases/download/en_core_web_sm-3.7.1/en_core_web_sm-3.7.1-py3-none-any.whl (12.8 MB)\n",
            "Requirement already satisfied: spacy<3.8.0,>=3.7.2 in /usr/local/lib/python3.11/dist-packages (from en-core-web-sm==3.7.1) (3.7.5)\n",
            "Requirement already satisfied: spacy-legacy<3.1.0,>=3.0.11 in /usr/local/lib/python3.11/dist-packages (from spacy<3.8.0,>=3.7.2->en-core-web-sm==3.7.1) (3.0.12)\n",
            "Requirement already satisfied: spacy-loggers<2.0.0,>=1.0.0 in /usr/local/lib/python3.11/dist-packages (from spacy<3.8.0,>=3.7.2->en-core-web-sm==3.7.1) (1.0.5)\n",
            "Requirement already satisfied: murmurhash<1.1.0,>=0.28.0 in /usr/local/lib/python3.11/dist-packages (from spacy<3.8.0,>=3.7.2->en-core-web-sm==3.7.1) (1.0.12)\n",
            "Requirement already satisfied: cymem<2.1.0,>=2.0.2 in /usr/local/lib/python3.11/dist-packages (from spacy<3.8.0,>=3.7.2->en-core-web-sm==3.7.1) (2.0.11)\n",
            "Requirement already satisfied: preshed<3.1.0,>=3.0.2 in /usr/local/lib/python3.11/dist-packages (from spacy<3.8.0,>=3.7.2->en-core-web-sm==3.7.1) (3.0.9)\n",
            "Requirement already satisfied: thinc<8.3.0,>=8.2.2 in /usr/local/lib/python3.11/dist-packages (from spacy<3.8.0,>=3.7.2->en-core-web-sm==3.7.1) (8.2.5)\n",
            "Requirement already satisfied: wasabi<1.2.0,>=0.9.1 in /usr/local/lib/python3.11/dist-packages (from spacy<3.8.0,>=3.7.2->en-core-web-sm==3.7.1) (1.1.3)\n",
            "Requirement already satisfied: srsly<3.0.0,>=2.4.3 in /usr/local/lib/python3.11/dist-packages (from spacy<3.8.0,>=3.7.2->en-core-web-sm==3.7.1) (2.5.1)\n",
            "Requirement already satisfied: catalogue<2.1.0,>=2.0.6 in /usr/local/lib/python3.11/dist-packages (from spacy<3.8.0,>=3.7.2->en-core-web-sm==3.7.1) (2.0.10)\n",
            "Requirement already satisfied: weasel<0.5.0,>=0.1.0 in /usr/local/lib/python3.11/dist-packages (from spacy<3.8.0,>=3.7.2->en-core-web-sm==3.7.1) (0.4.1)\n",
            "Requirement already satisfied: typer<1.0.0,>=0.3.0 in /usr/local/lib/python3.11/dist-packages (from spacy<3.8.0,>=3.7.2->en-core-web-sm==3.7.1) (0.15.1)\n",
            "Requirement already satisfied: tqdm<5.0.0,>=4.38.0 in /usr/local/lib/python3.11/dist-packages (from spacy<3.8.0,>=3.7.2->en-core-web-sm==3.7.1) (4.67.1)\n",
            "Requirement already satisfied: requests<3.0.0,>=2.13.0 in /usr/local/lib/python3.11/dist-packages (from spacy<3.8.0,>=3.7.2->en-core-web-sm==3.7.1) (2.32.3)\n",
            "Requirement already satisfied: pydantic!=1.8,!=1.8.1,<3.0.0,>=1.7.4 in /usr/local/lib/python3.11/dist-packages (from spacy<3.8.0,>=3.7.2->en-core-web-sm==3.7.1) (2.10.6)\n",
            "Requirement already satisfied: jinja2 in /usr/local/lib/python3.11/dist-packages (from spacy<3.8.0,>=3.7.2->en-core-web-sm==3.7.1) (3.1.5)\n",
            "Requirement already satisfied: setuptools in /usr/local/lib/python3.11/dist-packages (from spacy<3.8.0,>=3.7.2->en-core-web-sm==3.7.1) (75.1.0)\n",
            "Requirement already satisfied: packaging>=20.0 in /usr/local/lib/python3.11/dist-packages (from spacy<3.8.0,>=3.7.2->en-core-web-sm==3.7.1) (24.2)\n",
            "Requirement already satisfied: langcodes<4.0.0,>=3.2.0 in /usr/local/lib/python3.11/dist-packages (from spacy<3.8.0,>=3.7.2->en-core-web-sm==3.7.1) (3.5.0)\n",
            "Requirement already satisfied: numpy>=1.19.0 in /usr/local/lib/python3.11/dist-packages (from spacy<3.8.0,>=3.7.2->en-core-web-sm==3.7.1) (1.26.4)\n",
            "Requirement already satisfied: language-data>=1.2 in /usr/local/lib/python3.11/dist-packages (from langcodes<4.0.0,>=3.2.0->spacy<3.8.0,>=3.7.2->en-core-web-sm==3.7.1) (1.3.0)\n",
            "Requirement already satisfied: annotated-types>=0.6.0 in /usr/local/lib/python3.11/dist-packages (from pydantic!=1.8,!=1.8.1,<3.0.0,>=1.7.4->spacy<3.8.0,>=3.7.2->en-core-web-sm==3.7.1) (0.7.0)\n",
            "Requirement already satisfied: pydantic-core==2.27.2 in /usr/local/lib/python3.11/dist-packages (from pydantic!=1.8,!=1.8.1,<3.0.0,>=1.7.4->spacy<3.8.0,>=3.7.2->en-core-web-sm==3.7.1) (2.27.2)\n",
            "Requirement already satisfied: typing-extensions>=4.12.2 in /usr/local/lib/python3.11/dist-packages (from pydantic!=1.8,!=1.8.1,<3.0.0,>=1.7.4->spacy<3.8.0,>=3.7.2->en-core-web-sm==3.7.1) (4.12.2)\n",
            "Requirement already satisfied: charset-normalizer<4,>=2 in /usr/local/lib/python3.11/dist-packages (from requests<3.0.0,>=2.13.0->spacy<3.8.0,>=3.7.2->en-core-web-sm==3.7.1) (3.4.1)\n",
            "Requirement already satisfied: idna<4,>=2.5 in /usr/local/lib/python3.11/dist-packages (from requests<3.0.0,>=2.13.0->spacy<3.8.0,>=3.7.2->en-core-web-sm==3.7.1) (3.10)\n",
            "Requirement already satisfied: urllib3<3,>=1.21.1 in /usr/local/lib/python3.11/dist-packages (from requests<3.0.0,>=2.13.0->spacy<3.8.0,>=3.7.2->en-core-web-sm==3.7.1) (2.3.0)\n",
            "Requirement already satisfied: certifi>=2017.4.17 in /usr/local/lib/python3.11/dist-packages (from requests<3.0.0,>=2.13.0->spacy<3.8.0,>=3.7.2->en-core-web-sm==3.7.1) (2025.1.31)\n",
            "Requirement already satisfied: blis<0.8.0,>=0.7.8 in /usr/local/lib/python3.11/dist-packages (from thinc<8.3.0,>=8.2.2->spacy<3.8.0,>=3.7.2->en-core-web-sm==3.7.1) (0.7.11)\n",
            "Requirement already satisfied: confection<1.0.0,>=0.0.1 in /usr/local/lib/python3.11/dist-packages (from thinc<8.3.0,>=8.2.2->spacy<3.8.0,>=3.7.2->en-core-web-sm==3.7.1) (0.1.5)\n",
            "Requirement already satisfied: click>=8.0.0 in /usr/local/lib/python3.11/dist-packages (from typer<1.0.0,>=0.3.0->spacy<3.8.0,>=3.7.2->en-core-web-sm==3.7.1) (8.1.8)\n",
            "Requirement already satisfied: shellingham>=1.3.0 in /usr/local/lib/python3.11/dist-packages (from typer<1.0.0,>=0.3.0->spacy<3.8.0,>=3.7.2->en-core-web-sm==3.7.1) (1.5.4)\n",
            "Requirement already satisfied: rich>=10.11.0 in /usr/local/lib/python3.11/dist-packages (from typer<1.0.0,>=0.3.0->spacy<3.8.0,>=3.7.2->en-core-web-sm==3.7.1) (13.9.4)\n",
            "Requirement already satisfied: cloudpathlib<1.0.0,>=0.7.0 in /usr/local/lib/python3.11/dist-packages (from weasel<0.5.0,>=0.1.0->spacy<3.8.0,>=3.7.2->en-core-web-sm==3.7.1) (0.20.0)\n",
            "Requirement already satisfied: smart-open<8.0.0,>=5.2.1 in /usr/local/lib/python3.11/dist-packages (from weasel<0.5.0,>=0.1.0->spacy<3.8.0,>=3.7.2->en-core-web-sm==3.7.1) (7.1.0)\n",
            "Requirement already satisfied: MarkupSafe>=2.0 in /usr/local/lib/python3.11/dist-packages (from jinja2->spacy<3.8.0,>=3.7.2->en-core-web-sm==3.7.1) (3.0.2)\n",
            "Requirement already satisfied: marisa-trie>=1.1.0 in /usr/local/lib/python3.11/dist-packages (from language-data>=1.2->langcodes<4.0.0,>=3.2.0->spacy<3.8.0,>=3.7.2->en-core-web-sm==3.7.1) (1.2.1)\n",
            "Requirement already satisfied: markdown-it-py>=2.2.0 in /usr/local/lib/python3.11/dist-packages (from rich>=10.11.0->typer<1.0.0,>=0.3.0->spacy<3.8.0,>=3.7.2->en-core-web-sm==3.7.1) (3.0.0)\n",
            "Requirement already satisfied: pygments<3.0.0,>=2.13.0 in /usr/local/lib/python3.11/dist-packages (from rich>=10.11.0->typer<1.0.0,>=0.3.0->spacy<3.8.0,>=3.7.2->en-core-web-sm==3.7.1) (2.18.0)\n",
            "Requirement already satisfied: wrapt in /usr/local/lib/python3.11/dist-packages (from smart-open<8.0.0,>=5.2.1->weasel<0.5.0,>=0.1.0->spacy<3.8.0,>=3.7.2->en-core-web-sm==3.7.1) (1.17.2)\n",
            "Requirement already satisfied: mdurl~=0.1 in /usr/local/lib/python3.11/dist-packages (from markdown-it-py>=2.2.0->rich>=10.11.0->typer<1.0.0,>=0.3.0->spacy<3.8.0,>=3.7.2->en-core-web-sm==3.7.1) (0.1.2)\n",
            "\u001b[38;5;2m✔ Download and installation successful\u001b[0m\n",
            "You can now load the package via spacy.load('en_core_web_sm')\n",
            "\u001b[38;5;3m⚠ Restart to reload dependencies\u001b[0m\n",
            "If you are in a Jupyter or Colab notebook, you may need to restart Python in\n",
            "order to load all the package's dependencies. You can do this by selecting the\n",
            "'Restart kernel' or 'Restart runtime' option.\n"
          ]
        }
      ],
      "source": [
        "!pip install spacy\n",
        "!python -m spacy download en_core_web_sm\n",
        "!python -m spacy download en"
      ]
    },
    {
      "cell_type": "code",
      "execution_count": 8,
      "metadata": {
        "colab": {
          "base_uri": "https://localhost:8080/"
        },
        "collapsed": true,
        "id": "LNP6g5CqwGBJ",
        "outputId": "4a0ab59d-d197-4c93-c006-98b59598a8b2"
      },
      "outputs": [
        {
          "output_type": "stream",
          "name": "stdout",
          "text": [
            "\u001b[33mDEPRECATION: Loading egg at /usr/local/lib/python3.11/dist-packages/annoy-1.17.3-py3.11-linux-x86_64.egg is deprecated. pip 24.3 will enforce this behaviour change. A possible replacement is to use pip for package installation. Discussion can be found at https://github.com/pypa/pip/issues/12330\u001b[0m\u001b[33m\n",
            "\u001b[0mFound existing installation: annoy 1.17.3\n",
            "Uninstalling annoy-1.17.3:\n",
            "  Successfully uninstalled annoy-1.17.3\n",
            "\u001b[33mDEPRECATION: Loading egg at /usr/local/lib/python3.11/dist-packages/pymagnitude-0.1.143-py3.11-linux-x86_64.egg is deprecated. pip 24.3 will enforce this behaviour change. A possible replacement is to use pip for package installation. Discussion can be found at https://github.com/pypa/pip/issues/12330\u001b[0m\u001b[33m\n",
            "\u001b[0m\u001b[33mDEPRECATION: Loading egg at /usr/local/lib/python3.11/dist-packages/nvidia_nvjitlink_cu12-12.4.127-py3.11-linux-x86_64.egg is deprecated. pip 24.3 will enforce this behaviour change. A possible replacement is to use pip for package installation. Discussion can be found at https://github.com/pypa/pip/issues/12330\u001b[0m\u001b[33m\n",
            "\u001b[0m\u001b[33mDEPRECATION: Loading egg at /usr/local/lib/python3.11/dist-packages/nvidia_cusolver_cu12-11.6.1.9-py3.11-linux-x86_64.egg is deprecated. pip 24.3 will enforce this behaviour change. A possible replacement is to use pip for package installation. Discussion can be found at https://github.com/pypa/pip/issues/12330\u001b[0m\u001b[33m\n",
            "\u001b[0m\u001b[33mDEPRECATION: Loading egg at /usr/local/lib/python3.11/dist-packages/fasteners-0.19-py3.11.egg is deprecated. pip 24.3 will enforce this behaviour change. A possible replacement is to use pip for package installation. Discussion can be found at https://github.com/pypa/pip/issues/12330\u001b[0m\u001b[33m\n",
            "\u001b[0m\u001b[33mDEPRECATION: Loading egg at /usr/local/lib/python3.11/dist-packages/xxhash-3.5.0-py3.11-linux-x86_64.egg is deprecated. pip 24.3 will enforce this behaviour change. A possible replacement is to use pip for package installation. Discussion can be found at https://github.com/pypa/pip/issues/12330\u001b[0m\u001b[33m\n",
            "\u001b[0m\u001b[33mDEPRECATION: Loading egg at /usr/local/lib/python3.11/dist-packages/nvidia_cuda_nvrtc_cu12-12.4.127-py3.11-linux-x86_64.egg is deprecated. pip 24.3 will enforce this behaviour change. A possible replacement is to use pip for package installation. Discussion can be found at https://github.com/pypa/pip/issues/12330\u001b[0m\u001b[33m\n",
            "\u001b[0m\u001b[33mDEPRECATION: Loading egg at /usr/local/lib/python3.11/dist-packages/nvidia_cublas_cu12-12.4.5.8-py3.11-linux-x86_64.egg is deprecated. pip 24.3 will enforce this behaviour change. A possible replacement is to use pip for package installation. Discussion can be found at https://github.com/pypa/pip/issues/12330\u001b[0m\u001b[33m\n",
            "\u001b[0m\u001b[33mDEPRECATION: Loading egg at /usr/local/lib/python3.11/dist-packages/nvidia_cudnn_cu12-9.1.0.70-py3.11-linux-x86_64.egg is deprecated. pip 24.3 will enforce this behaviour change. A possible replacement is to use pip for package installation. Discussion can be found at https://github.com/pypa/pip/issues/12330\u001b[0m\u001b[33m\n",
            "\u001b[0m\u001b[33mDEPRECATION: Loading egg at /usr/local/lib/python3.11/dist-packages/nvidia_curand_cu12-10.3.5.147-py3.11-linux-x86_64.egg is deprecated. pip 24.3 will enforce this behaviour change. A possible replacement is to use pip for package installation. Discussion can be found at https://github.com/pypa/pip/issues/12330\u001b[0m\u001b[33m\n",
            "\u001b[0m\u001b[33mDEPRECATION: Loading egg at /usr/local/lib/python3.11/dist-packages/nvidia_cusparse_cu12-12.3.1.170-py3.11-linux-x86_64.egg is deprecated. pip 24.3 will enforce this behaviour change. A possible replacement is to use pip for package installation. Discussion can be found at https://github.com/pypa/pip/issues/12330\u001b[0m\u001b[33m\n",
            "\u001b[0m\u001b[33mDEPRECATION: Loading egg at /usr/local/lib/python3.11/dist-packages/nvidia_cuda_cupti_cu12-12.4.127-py3.11-linux-x86_64.egg is deprecated. pip 24.3 will enforce this behaviour change. A possible replacement is to use pip for package installation. Discussion can be found at https://github.com/pypa/pip/issues/12330\u001b[0m\u001b[33m\n",
            "\u001b[0m\u001b[33mDEPRECATION: Loading egg at /usr/local/lib/python3.11/dist-packages/nvidia_cuda_runtime_cu12-12.4.127-py3.11-linux-x86_64.egg is deprecated. pip 24.3 will enforce this behaviour change. A possible replacement is to use pip for package installation. Discussion can be found at https://github.com/pypa/pip/issues/12330\u001b[0m\u001b[33m\n",
            "\u001b[0m\u001b[33mDEPRECATION: Loading egg at /usr/local/lib/python3.11/dist-packages/lz4-4.4.3-py3.11-linux-x86_64.egg is deprecated. pip 24.3 will enforce this behaviour change. A possible replacement is to use pip for package installation. Discussion can be found at https://github.com/pypa/pip/issues/12330\u001b[0m\u001b[33m\n",
            "\u001b[0m\u001b[33mDEPRECATION: Loading egg at /usr/local/lib/python3.11/dist-packages/nvidia_cufft_cu12-11.2.1.3-py3.11-linux-x86_64.egg is deprecated. pip 24.3 will enforce this behaviour change. A possible replacement is to use pip for package installation. Discussion can be found at https://github.com/pypa/pip/issues/12330\u001b[0m\u001b[33m\n",
            "\u001b[0mCollecting annoy\n",
            "  Downloading annoy-1.17.3.tar.gz (647 kB)\n",
            "\u001b[2K     \u001b[90m━━━━━━━━━━━━━━━━━━━━━━━━━━━━━━━━━━━━━━━━\u001b[0m \u001b[32m647.5/647.5 kB\u001b[0m \u001b[31m8.4 MB/s\u001b[0m eta \u001b[36m0:00:00\u001b[0m\n",
            "\u001b[?25h  Preparing metadata (setup.py) ... \u001b[?25l\u001b[?25hdone\n",
            "Building wheels for collected packages: annoy\n",
            "  Building wheel for annoy (setup.py) ... \u001b[?25l\u001b[?25hdone\n",
            "  Created wheel for annoy: filename=annoy-1.17.3-cp311-cp311-linux_x86_64.whl size=553317 sha256=c49946d1eb28932c41e91c043e0f434158cd16d72ea606612793bf1de7bf8162\n",
            "  Stored in directory: /root/.cache/pip/wheels/33/e5/58/0a3e34b92bedf09b4c57e37a63ff395ade6f6c1099ba59877c\n",
            "Successfully built annoy\n",
            "Installing collected packages: annoy\n",
            "Successfully installed annoy-1.17.3\n"
          ]
        }
      ],
      "source": [
        "!pip uninstall -y annoy\n",
        "!pip install annoy"
      ]
    },
    {
      "cell_type": "code",
      "execution_count": 9,
      "metadata": {
        "colab": {
          "base_uri": "https://localhost:8080/"
        },
        "collapsed": true,
        "id": "_E3grhSU2tNc",
        "outputId": "fbc4c30e-3819-41bb-997f-0d657d665f2e"
      },
      "outputs": [
        {
          "output_type": "stream",
          "name": "stdout",
          "text": [
            "\u001b[33mDEPRECATION: Loading egg at /usr/local/lib/python3.11/dist-packages/pymagnitude-0.1.143-py3.11-linux-x86_64.egg is deprecated. pip 24.3 will enforce this behaviour change. A possible replacement is to use pip for package installation. Discussion can be found at https://github.com/pypa/pip/issues/12330\u001b[0m\u001b[33m\n",
            "\u001b[0m\u001b[33mDEPRECATION: Loading egg at /usr/local/lib/python3.11/dist-packages/nvidia_nvjitlink_cu12-12.4.127-py3.11-linux-x86_64.egg is deprecated. pip 24.3 will enforce this behaviour change. A possible replacement is to use pip for package installation. Discussion can be found at https://github.com/pypa/pip/issues/12330\u001b[0m\u001b[33m\n",
            "\u001b[0m\u001b[33mDEPRECATION: Loading egg at /usr/local/lib/python3.11/dist-packages/nvidia_cusolver_cu12-11.6.1.9-py3.11-linux-x86_64.egg is deprecated. pip 24.3 will enforce this behaviour change. A possible replacement is to use pip for package installation. Discussion can be found at https://github.com/pypa/pip/issues/12330\u001b[0m\u001b[33m\n",
            "\u001b[0m\u001b[33mDEPRECATION: Loading egg at /usr/local/lib/python3.11/dist-packages/fasteners-0.19-py3.11.egg is deprecated. pip 24.3 will enforce this behaviour change. A possible replacement is to use pip for package installation. Discussion can be found at https://github.com/pypa/pip/issues/12330\u001b[0m\u001b[33m\n",
            "\u001b[0m\u001b[33mDEPRECATION: Loading egg at /usr/local/lib/python3.11/dist-packages/xxhash-3.5.0-py3.11-linux-x86_64.egg is deprecated. pip 24.3 will enforce this behaviour change. A possible replacement is to use pip for package installation. Discussion can be found at https://github.com/pypa/pip/issues/12330\u001b[0m\u001b[33m\n",
            "\u001b[0m\u001b[33mDEPRECATION: Loading egg at /usr/local/lib/python3.11/dist-packages/nvidia_cuda_nvrtc_cu12-12.4.127-py3.11-linux-x86_64.egg is deprecated. pip 24.3 will enforce this behaviour change. A possible replacement is to use pip for package installation. Discussion can be found at https://github.com/pypa/pip/issues/12330\u001b[0m\u001b[33m\n",
            "\u001b[0m\u001b[33mDEPRECATION: Loading egg at /usr/local/lib/python3.11/dist-packages/nvidia_cublas_cu12-12.4.5.8-py3.11-linux-x86_64.egg is deprecated. pip 24.3 will enforce this behaviour change. A possible replacement is to use pip for package installation. Discussion can be found at https://github.com/pypa/pip/issues/12330\u001b[0m\u001b[33m\n",
            "\u001b[0m\u001b[33mDEPRECATION: Loading egg at /usr/local/lib/python3.11/dist-packages/nvidia_cudnn_cu12-9.1.0.70-py3.11-linux-x86_64.egg is deprecated. pip 24.3 will enforce this behaviour change. A possible replacement is to use pip for package installation. Discussion can be found at https://github.com/pypa/pip/issues/12330\u001b[0m\u001b[33m\n",
            "\u001b[0m\u001b[33mDEPRECATION: Loading egg at /usr/local/lib/python3.11/dist-packages/nvidia_curand_cu12-10.3.5.147-py3.11-linux-x86_64.egg is deprecated. pip 24.3 will enforce this behaviour change. A possible replacement is to use pip for package installation. Discussion can be found at https://github.com/pypa/pip/issues/12330\u001b[0m\u001b[33m\n",
            "\u001b[0m\u001b[33mDEPRECATION: Loading egg at /usr/local/lib/python3.11/dist-packages/nvidia_cusparse_cu12-12.3.1.170-py3.11-linux-x86_64.egg is deprecated. pip 24.3 will enforce this behaviour change. A possible replacement is to use pip for package installation. Discussion can be found at https://github.com/pypa/pip/issues/12330\u001b[0m\u001b[33m\n",
            "\u001b[0m\u001b[33mDEPRECATION: Loading egg at /usr/local/lib/python3.11/dist-packages/nvidia_cuda_cupti_cu12-12.4.127-py3.11-linux-x86_64.egg is deprecated. pip 24.3 will enforce this behaviour change. A possible replacement is to use pip for package installation. Discussion can be found at https://github.com/pypa/pip/issues/12330\u001b[0m\u001b[33m\n",
            "\u001b[0m\u001b[33mDEPRECATION: Loading egg at /usr/local/lib/python3.11/dist-packages/nvidia_cuda_runtime_cu12-12.4.127-py3.11-linux-x86_64.egg is deprecated. pip 24.3 will enforce this behaviour change. A possible replacement is to use pip for package installation. Discussion can be found at https://github.com/pypa/pip/issues/12330\u001b[0m\u001b[33m\n",
            "\u001b[0m\u001b[33mDEPRECATION: Loading egg at /usr/local/lib/python3.11/dist-packages/lz4-4.4.3-py3.11-linux-x86_64.egg is deprecated. pip 24.3 will enforce this behaviour change. A possible replacement is to use pip for package installation. Discussion can be found at https://github.com/pypa/pip/issues/12330\u001b[0m\u001b[33m\n",
            "\u001b[0m\u001b[33mDEPRECATION: Loading egg at /usr/local/lib/python3.11/dist-packages/nvidia_cufft_cu12-11.2.1.3-py3.11-linux-x86_64.egg is deprecated. pip 24.3 will enforce this behaviour change. A possible replacement is to use pip for package installation. Discussion can be found at https://github.com/pypa/pip/issues/12330\u001b[0m\u001b[33m\n",
            "\u001b[0mCollecting lz4==1.0.0\n",
            "  Downloading lz4-1.0.0.tar.gz (114 kB)\n",
            "\u001b[2K     \u001b[90m━━━━━━━━━━━━━━━━━━━━━━━━━━━━━━━━━━━━━━━━\u001b[0m \u001b[32m114.7/114.7 kB\u001b[0m \u001b[31m3.7 MB/s\u001b[0m eta \u001b[36m0:00:00\u001b[0m\n",
            "\u001b[?25h  Preparing metadata (setup.py) ... \u001b[?25l\u001b[?25hdone\n",
            "Collecting deprecation (from lz4==1.0.0)\n",
            "  Downloading deprecation-2.1.0-py2.py3-none-any.whl.metadata (4.6 kB)\n",
            "Requirement already satisfied: packaging in /usr/local/lib/python3.11/dist-packages (from deprecation->lz4==1.0.0) (24.2)\n",
            "Downloading deprecation-2.1.0-py2.py3-none-any.whl (11 kB)\n",
            "Building wheels for collected packages: lz4\n",
            "  Building wheel for lz4 (setup.py) ... \u001b[?25l\u001b[?25hdone\n",
            "  Created wheel for lz4: filename=lz4-1.0.0-cp311-cp311-linux_x86_64.whl size=843196 sha256=2c1b4191a8b5cbe24c41693b597850d3edac9ff1e8173e0ce37c9e36896f7875\n",
            "  Stored in directory: /root/.cache/pip/wheels/b3/90/51/0e5bd244cfa0118f0ccc4fae0b833c4395ac07a6d6e2b61bc4\n",
            "Successfully built lz4\n",
            "Installing collected packages: deprecation, lz4\n",
            "  Attempting uninstall: lz4\n",
            "    Found existing installation: lz4 4.4.3\n",
            "    Uninstalling lz4-4.4.3:\n",
            "      Successfully uninstalled lz4-4.4.3\n",
            "Successfully installed deprecation-2.1.0 lz4-1.0.0\n",
            "\u001b[33mDEPRECATION: Loading egg at /usr/local/lib/python3.11/dist-packages/pymagnitude-0.1.143-py3.11-linux-x86_64.egg is deprecated. pip 24.3 will enforce this behaviour change. A possible replacement is to use pip for package installation. Discussion can be found at https://github.com/pypa/pip/issues/12330\u001b[0m\u001b[33m\n",
            "\u001b[0m\u001b[33mDEPRECATION: Loading egg at /usr/local/lib/python3.11/dist-packages/nvidia_nvjitlink_cu12-12.4.127-py3.11-linux-x86_64.egg is deprecated. pip 24.3 will enforce this behaviour change. A possible replacement is to use pip for package installation. Discussion can be found at https://github.com/pypa/pip/issues/12330\u001b[0m\u001b[33m\n",
            "\u001b[0m\u001b[33mDEPRECATION: Loading egg at /usr/local/lib/python3.11/dist-packages/nvidia_cusolver_cu12-11.6.1.9-py3.11-linux-x86_64.egg is deprecated. pip 24.3 will enforce this behaviour change. A possible replacement is to use pip for package installation. Discussion can be found at https://github.com/pypa/pip/issues/12330\u001b[0m\u001b[33m\n",
            "\u001b[0m\u001b[33mDEPRECATION: Loading egg at /usr/local/lib/python3.11/dist-packages/fasteners-0.19-py3.11.egg is deprecated. pip 24.3 will enforce this behaviour change. A possible replacement is to use pip for package installation. Discussion can be found at https://github.com/pypa/pip/issues/12330\u001b[0m\u001b[33m\n",
            "\u001b[0m\u001b[33mDEPRECATION: Loading egg at /usr/local/lib/python3.11/dist-packages/xxhash-3.5.0-py3.11-linux-x86_64.egg is deprecated. pip 24.3 will enforce this behaviour change. A possible replacement is to use pip for package installation. Discussion can be found at https://github.com/pypa/pip/issues/12330\u001b[0m\u001b[33m\n",
            "\u001b[0m\u001b[33mDEPRECATION: Loading egg at /usr/local/lib/python3.11/dist-packages/nvidia_cuda_nvrtc_cu12-12.4.127-py3.11-linux-x86_64.egg is deprecated. pip 24.3 will enforce this behaviour change. A possible replacement is to use pip for package installation. Discussion can be found at https://github.com/pypa/pip/issues/12330\u001b[0m\u001b[33m\n",
            "\u001b[0m\u001b[33mDEPRECATION: Loading egg at /usr/local/lib/python3.11/dist-packages/nvidia_cublas_cu12-12.4.5.8-py3.11-linux-x86_64.egg is deprecated. pip 24.3 will enforce this behaviour change. A possible replacement is to use pip for package installation. Discussion can be found at https://github.com/pypa/pip/issues/12330\u001b[0m\u001b[33m\n",
            "\u001b[0m\u001b[33mDEPRECATION: Loading egg at /usr/local/lib/python3.11/dist-packages/nvidia_cudnn_cu12-9.1.0.70-py3.11-linux-x86_64.egg is deprecated. pip 24.3 will enforce this behaviour change. A possible replacement is to use pip for package installation. Discussion can be found at https://github.com/pypa/pip/issues/12330\u001b[0m\u001b[33m\n",
            "\u001b[0m\u001b[33mDEPRECATION: Loading egg at /usr/local/lib/python3.11/dist-packages/nvidia_curand_cu12-10.3.5.147-py3.11-linux-x86_64.egg is deprecated. pip 24.3 will enforce this behaviour change. A possible replacement is to use pip for package installation. Discussion can be found at https://github.com/pypa/pip/issues/12330\u001b[0m\u001b[33m\n",
            "\u001b[0m\u001b[33mDEPRECATION: Loading egg at /usr/local/lib/python3.11/dist-packages/nvidia_cusparse_cu12-12.3.1.170-py3.11-linux-x86_64.egg is deprecated. pip 24.3 will enforce this behaviour change. A possible replacement is to use pip for package installation. Discussion can be found at https://github.com/pypa/pip/issues/12330\u001b[0m\u001b[33m\n",
            "\u001b[0m\u001b[33mDEPRECATION: Loading egg at /usr/local/lib/python3.11/dist-packages/nvidia_cuda_cupti_cu12-12.4.127-py3.11-linux-x86_64.egg is deprecated. pip 24.3 will enforce this behaviour change. A possible replacement is to use pip for package installation. Discussion can be found at https://github.com/pypa/pip/issues/12330\u001b[0m\u001b[33m\n",
            "\u001b[0m\u001b[33mDEPRECATION: Loading egg at /usr/local/lib/python3.11/dist-packages/nvidia_cuda_runtime_cu12-12.4.127-py3.11-linux-x86_64.egg is deprecated. pip 24.3 will enforce this behaviour change. A possible replacement is to use pip for package installation. Discussion can be found at https://github.com/pypa/pip/issues/12330\u001b[0m\u001b[33m\n",
            "\u001b[0m\u001b[33mDEPRECATION: Loading egg at /usr/local/lib/python3.11/dist-packages/nvidia_cufft_cu12-11.2.1.3-py3.11-linux-x86_64.egg is deprecated. pip 24.3 will enforce this behaviour change. A possible replacement is to use pip for package installation. Discussion can be found at https://github.com/pypa/pip/issues/12330\u001b[0m\u001b[33m\n",
            "\u001b[0mCollecting xxhash==1.0.1\n",
            "  Downloading xxhash-1.0.1.zip (28 kB)\n",
            "  Preparing metadata (setup.py) ... \u001b[?25l\u001b[?25hdone\n",
            "Building wheels for collected packages: xxhash\n",
            "  Building wheel for xxhash (setup.py) ... \u001b[?25l\u001b[?25hdone\n",
            "  Created wheel for xxhash: filename=xxhash-1.0.1-cp311-cp311-linux_x86_64.whl size=38730 sha256=c7bf6de6cba9221f57a3f8cbe8b5556030df8487792666fe7f942825b85c29d8\n",
            "  Stored in directory: /root/.cache/pip/wheels/00/6c/0b/3d87fd78c31893e3f7e85187f2163309f8030d0cf130d3b82b\n",
            "Successfully built xxhash\n",
            "Installing collected packages: xxhash\n",
            "  Attempting uninstall: xxhash\n",
            "    Found existing installation: xxhash 3.5.0\n",
            "    Uninstalling xxhash-3.5.0:\n",
            "      Successfully uninstalled xxhash-3.5.0\n",
            "Successfully installed xxhash-1.0.1\n",
            "\u001b[33mDEPRECATION: Loading egg at /usr/local/lib/python3.11/dist-packages/pymagnitude-0.1.143-py3.11-linux-x86_64.egg is deprecated. pip 24.3 will enforce this behaviour change. A possible replacement is to use pip for package installation. Discussion can be found at https://github.com/pypa/pip/issues/12330\u001b[0m\u001b[33m\n",
            "\u001b[0m\u001b[33mDEPRECATION: Loading egg at /usr/local/lib/python3.11/dist-packages/nvidia_nvjitlink_cu12-12.4.127-py3.11-linux-x86_64.egg is deprecated. pip 24.3 will enforce this behaviour change. A possible replacement is to use pip for package installation. Discussion can be found at https://github.com/pypa/pip/issues/12330\u001b[0m\u001b[33m\n",
            "\u001b[0m\u001b[33mDEPRECATION: Loading egg at /usr/local/lib/python3.11/dist-packages/nvidia_cusolver_cu12-11.6.1.9-py3.11-linux-x86_64.egg is deprecated. pip 24.3 will enforce this behaviour change. A possible replacement is to use pip for package installation. Discussion can be found at https://github.com/pypa/pip/issues/12330\u001b[0m\u001b[33m\n",
            "\u001b[0m\u001b[33mDEPRECATION: Loading egg at /usr/local/lib/python3.11/dist-packages/fasteners-0.19-py3.11.egg is deprecated. pip 24.3 will enforce this behaviour change. A possible replacement is to use pip for package installation. Discussion can be found at https://github.com/pypa/pip/issues/12330\u001b[0m\u001b[33m\n",
            "\u001b[0m\u001b[33mDEPRECATION: Loading egg at /usr/local/lib/python3.11/dist-packages/nvidia_cuda_nvrtc_cu12-12.4.127-py3.11-linux-x86_64.egg is deprecated. pip 24.3 will enforce this behaviour change. A possible replacement is to use pip for package installation. Discussion can be found at https://github.com/pypa/pip/issues/12330\u001b[0m\u001b[33m\n",
            "\u001b[0m\u001b[33mDEPRECATION: Loading egg at /usr/local/lib/python3.11/dist-packages/nvidia_cublas_cu12-12.4.5.8-py3.11-linux-x86_64.egg is deprecated. pip 24.3 will enforce this behaviour change. A possible replacement is to use pip for package installation. Discussion can be found at https://github.com/pypa/pip/issues/12330\u001b[0m\u001b[33m\n",
            "\u001b[0m\u001b[33mDEPRECATION: Loading egg at /usr/local/lib/python3.11/dist-packages/nvidia_cudnn_cu12-9.1.0.70-py3.11-linux-x86_64.egg is deprecated. pip 24.3 will enforce this behaviour change. A possible replacement is to use pip for package installation. Discussion can be found at https://github.com/pypa/pip/issues/12330\u001b[0m\u001b[33m\n",
            "\u001b[0m\u001b[33mDEPRECATION: Loading egg at /usr/local/lib/python3.11/dist-packages/nvidia_curand_cu12-10.3.5.147-py3.11-linux-x86_64.egg is deprecated. pip 24.3 will enforce this behaviour change. A possible replacement is to use pip for package installation. Discussion can be found at https://github.com/pypa/pip/issues/12330\u001b[0m\u001b[33m\n",
            "\u001b[0m\u001b[33mDEPRECATION: Loading egg at /usr/local/lib/python3.11/dist-packages/nvidia_cusparse_cu12-12.3.1.170-py3.11-linux-x86_64.egg is deprecated. pip 24.3 will enforce this behaviour change. A possible replacement is to use pip for package installation. Discussion can be found at https://github.com/pypa/pip/issues/12330\u001b[0m\u001b[33m\n",
            "\u001b[0m\u001b[33mDEPRECATION: Loading egg at /usr/local/lib/python3.11/dist-packages/nvidia_cuda_cupti_cu12-12.4.127-py3.11-linux-x86_64.egg is deprecated. pip 24.3 will enforce this behaviour change. A possible replacement is to use pip for package installation. Discussion can be found at https://github.com/pypa/pip/issues/12330\u001b[0m\u001b[33m\n",
            "\u001b[0m\u001b[33mDEPRECATION: Loading egg at /usr/local/lib/python3.11/dist-packages/nvidia_cuda_runtime_cu12-12.4.127-py3.11-linux-x86_64.egg is deprecated. pip 24.3 will enforce this behaviour change. A possible replacement is to use pip for package installation. Discussion can be found at https://github.com/pypa/pip/issues/12330\u001b[0m\u001b[33m\n",
            "\u001b[0m\u001b[33mDEPRECATION: Loading egg at /usr/local/lib/python3.11/dist-packages/nvidia_cufft_cu12-11.2.1.3-py3.11-linux-x86_64.egg is deprecated. pip 24.3 will enforce this behaviour change. A possible replacement is to use pip for package installation. Discussion can be found at https://github.com/pypa/pip/issues/12330\u001b[0m\u001b[33m\n",
            "\u001b[0mCollecting fasteners==0.14.1\n",
            "  Downloading fasteners-0.14.1-py2.py3-none-any.whl.metadata (2.4 kB)\n",
            "Requirement already satisfied: six in /usr/local/lib/python3.11/dist-packages (from fasteners==0.14.1) (1.17.0)\n",
            "Collecting monotonic>=0.1 (from fasteners==0.14.1)\n",
            "  Downloading monotonic-1.6-py2.py3-none-any.whl.metadata (1.5 kB)\n",
            "Downloading fasteners-0.14.1-py2.py3-none-any.whl (20 kB)\n",
            "Downloading monotonic-1.6-py2.py3-none-any.whl (8.2 kB)\n",
            "Installing collected packages: monotonic, fasteners\n",
            "  Attempting uninstall: fasteners\n",
            "    Found existing installation: fasteners 0.19\n",
            "    Uninstalling fasteners-0.19:\n",
            "      Successfully uninstalled fasteners-0.19\n",
            "Successfully installed fasteners-0.14.1 monotonic-1.6\n"
          ]
        }
      ],
      "source": [
        "!pip install -U lz4==1.0.0\n",
        "!pip install -U xxhash==1.0.1\n",
        "!pip install -U fasteners==0.14.1"
      ]
    },
    {
      "cell_type": "code",
      "execution_count": 10,
      "metadata": {
        "id": "Gn7PUzzIPP3X"
      },
      "outputs": [],
      "source": [
        "import spacy"
      ]
    },
    {
      "cell_type": "code",
      "execution_count": 11,
      "metadata": {
        "colab": {
          "base_uri": "https://localhost:8080/"
        },
        "id": "NzS2Sg3HPjyk",
        "outputId": "9d8915bc-00fd-4f17-a05c-3a1b542083f4"
      },
      "outputs": [
        {
          "output_type": "stream",
          "name": "stdout",
          "text": [
            "Python 3.11.11\n"
          ]
        }
      ],
      "source": [
        "# Check your python version\n",
        "!python --version"
      ]
    },
    {
      "cell_type": "markdown",
      "metadata": {
        "id": "ZP9pZS2OPhQ6"
      },
      "source": [
        "If your python version is >= 3.9, run the code cell below before importing from pymaginitude:"
      ]
    },
    {
      "cell_type": "code",
      "execution_count": 12,
      "metadata": {
        "id": "HAdpIjBxQItc"
      },
      "outputs": [],
      "source": [
        "spacy.load('en_core_web_sm')\n",
        "import collections\n",
        "collections.Sequence = collections.abc.Sequence\n",
        "collections.Mapping = collections.abc.Mapping\n",
        "collections.MutableMapping = collections.abc.MutableMapping\n",
        "collections.Iterable = collections.abc.Iterable\n",
        "collections.MutableSet = collections.abc.MutableSet\n",
        "collections.Callable = collections.abc.Callable"
      ]
    },
    {
      "cell_type": "code",
      "execution_count": 14,
      "metadata": {
        "id": "AVMUXMsTVt4l"
      },
      "outputs": [],
      "source": [
        "from pymagnitude import * # if you encounter an error for this line, try re-running it - I know it's silly but it might work"
      ]
    },
    {
      "cell_type": "code",
      "execution_count": 15,
      "metadata": {
        "id": "7BtMn0op0ehZ",
        "colab": {
          "base_uri": "https://localhost:8080/"
        },
        "outputId": "987fdbb6-9b66-4bad-f970-44d91a244fa6"
      },
      "outputs": [
        {
          "output_type": "stream",
          "name": "stdout",
          "text": [
            "--2025-02-25 20:35:00--  http://magnitude.plasticity.ai/word2vec/light/GoogleNews-vectors-negative300.magnitude\n",
            "Resolving magnitude.plasticity.ai (magnitude.plasticity.ai)... 52.217.123.101, 52.217.118.253, 54.231.224.189, ...\n",
            "Connecting to magnitude.plasticity.ai (magnitude.plasticity.ai)|52.217.123.101|:80... connected.\n",
            "HTTP request sent, awaiting response... 403 Forbidden\n",
            "2025-02-25 20:35:00 ERROR 403: Forbidden.\n",
            "\n"
          ]
        }
      ],
      "source": [
        "# this might take ~2min to run\n",
        "!wget http://magnitude.plasticity.ai/word2vec/light/GoogleNews-vectors-negative300.magnitude"
      ]
    },
    {
      "cell_type": "code",
      "execution_count": 16,
      "metadata": {
        "id": "LzimHy7h2tEe",
        "colab": {
          "base_uri": "https://localhost:8080/"
        },
        "outputId": "cddb223d-f923-40e9-f4f3-85d54a079291"
      },
      "outputs": [
        {
          "output_type": "stream",
          "name": "stdout",
          "text": [
            "Downloading...\n",
            "From (original): https://drive.google.com/uc?id=115ryZ01s_guR1ySc7YLD2kbAm6UpL7VP\n",
            "From (redirected): https://drive.google.com/uc?id=115ryZ01s_guR1ySc7YLD2kbAm6UpL7VP&confirm=t&uuid=306d391b-8294-4f05-91a2-ccb318bd4850\n",
            "To: /content/GoogleNews-vectors-negative300.magnitude\n",
            "100% 4.21G/4.21G [00:48<00:00, 87.7MB/s]\n"
          ]
        }
      ],
      "source": [
        "# if the above wget command gives you an error, then uncomment the line below and run this cell\n",
        "!gdown 115ryZ01s_guR1ySc7YLD2kbAm6UpL7VP"
      ]
    },
    {
      "cell_type": "code",
      "source": [
        "# #mount google drive\n",
        "# from google.colab import drive\n",
        "# drive.mount('/content/drive')\n"
      ],
      "metadata": {
        "id": "Q_Srmp_lCp_A"
      },
      "execution_count": 17,
      "outputs": []
    },
    {
      "cell_type": "code",
      "execution_count": 18,
      "metadata": {
        "id": "aiDQlu759Zee"
      },
      "outputs": [],
      "source": [
        "from itertools import combinations\n",
        "from prettytable import PrettyTable\n",
        "from sklearn.cluster import KMeans\n",
        "import random\n",
        "import pandas as pd\n",
        "import numpy as np\n",
        "import scipy.stats as stats"
      ]
    },
    {
      "cell_type": "code",
      "execution_count": 19,
      "metadata": {
        "id": "GapecdgJoQhO",
        "colab": {
          "base_uri": "https://localhost:8080/"
        },
        "outputId": "1c26bdf7-fbaf-44d8-bb85-f17fe0610684"
      },
      "outputs": [
        {
          "output_type": "stream",
          "name": "stdout",
          "text": [
            "Downloading...\n",
            "From: https://drive.google.com/uc?id=17a4uC7eNrYdtVlW60wshjyDLcFxTtq0y\n",
            "To: /content/SimLex-999.txt\n",
            "100% 43.0k/43.0k [00:00<00:00, 80.9MB/s]\n",
            "Downloading...\n",
            "From: https://drive.google.com/uc?id=1h2DHMuubO7OEVxmGQGbvb2Ovj_A6hakC\n",
            "To: /content/dev_input.txt\n",
            "100% 17.4k/17.4k [00:00<00:00, 44.0MB/s]\n",
            "Downloading...\n",
            "From: https://drive.google.com/uc?id=1I83_VA_i_UB-9cf9GcEe5oGPoc8-ZmLh\n",
            "To: /content/dev_output.txt\n",
            "100% 23.1k/23.1k [00:00<00:00, 54.6MB/s]\n",
            "Downloading...\n",
            "From: https://drive.google.com/uc?id=1CjK3eYkacyxo3gdLbf9IGdk1DFEfAYvM\n",
            "To: /content/test_input.txt\n",
            "100% 3.81k/3.81k [00:00<00:00, 16.9MB/s]\n",
            "Downloading...\n",
            "From: https://drive.google.com/uc?id=1sZuq8a2zHJfe6bLjrK3wD2jrZWkQ0-6S\n",
            "To: /content/test_nok_input.txt\n",
            "100% 4.55k/4.55k [00:00<00:00, 15.7MB/s]\n",
            "Downloading...\n",
            "From: https://drive.google.com/uc?id=1gK13ZVDMA5XYi8sZY8G1gOIZMdxGTuay\n",
            "To: /content/coocvec-500mostfreq-window-3.filter.magnitude\n",
            "100% 3.50M/3.50M [00:00<00:00, 171MB/s]\n"
          ]
        }
      ],
      "source": [
        "# !gdown 1luyNlDu0GdH_B3D6rjYLKIGGfz_S3yU5 # GoogleNews-vectors-negative300.filter.magnitude\n",
        "!gdown 17a4uC7eNrYdtVlW60wshjyDLcFxTtq0y # SimLex-999.txt\n",
        "!gdown 1h2DHMuubO7OEVxmGQGbvb2Ovj_A6hakC # dev_input.txt\n",
        "!gdown 1I83_VA_i_UB-9cf9GcEe5oGPoc8-ZmLh # dev_output.txt\n",
        "!gdown 1CjK3eYkacyxo3gdLbf9IGdk1DFEfAYvM # test_input.txt\n",
        "!gdown 1sZuq8a2zHJfe6bLjrK3wD2jrZWkQ0-6S # test_nok_input.txt\n",
        "!gdown 1gK13ZVDMA5XYi8sZY8G1gOIZMdxGTuay # coocvec-500mostfreq-window-3.filter.magnitude"
      ]
    },
    {
      "cell_type": "markdown",
      "metadata": {
        "id": "PGlvLsC9B-gI"
      },
      "source": [
        "# Section 1: Exploring Analogies and Other Word Pair Relationships [4 points]\n",
        "**Background:** Word2vec is a very cool word embedding method that was developed by [Thomas Mikolov et al](https://aclanthology.org/N13-1090/). One of the noteworthy things about the method is that it can be used to solve word analogy problems like:\n",
        "\n",
        "***man is to king as woman is to [blank]***\n",
        "\n",
        "The way that it they take the vectors representing king, man and woman and perform some vector arithmetic to produce a vector that is close to the expected answer:\n",
        "\n",
        "***king − man + woman ≈ queen***\n",
        "\n",
        "We can find the nearest vector in the vocabulary by looking for argmax *cos(x, king − man + woman)*. Omar Levy has an explanation of the method in this [Quora post](https://www.quora.com/unanswered/How-does-Mikolovs-word-analogy-for-word-embedding-work-How-can-I-code-such-a-function) and in the [paper](https://aclanthology.org/W14-1618/).\n",
        "\n",
        "In addition to solving this sort of analogy problem, the same sort of vector arithmetic was used with word2vec embeddings to find relationships between pairs of words like the following:\n",
        "\n",
        "<img src='https://drive.google.com/uc?id=1_ewkcJ6EQMuIK0SrgBulzK7LFi8kD9nD'>\n",
        "\n",
        "In the first part of the assigment, you will play around with the [Magnitude](https://github.com/plasticityai/magnitude) library. You will use Magnitude to load a vector model trained using word2vec, and use it to manipulate and analyze the vectors. In order to proceed further, you need to use the Medium Google-word2vec embedding model trained on Google News by using file `GoogleNews-vectors-negative300.magnitude`. Once the file is downloaded use the following Python commands:"
      ]
    },
    {
      "cell_type": "code",
      "execution_count": 20,
      "metadata": {
        "id": "YcILHclcou0L"
      },
      "outputs": [],
      "source": [
        "# file_path = \"/content/GoogleNews-vectors-negative300.filter.magnitude\"\n",
        "file_path = \"/content/GoogleNews-vectors-negative300.magnitude\"\n",
        "vectors = Magnitude(file_path)"
      ]
    },
    {
      "cell_type": "markdown",
      "metadata": {
        "id": "RJKLr2kjatM3"
      },
      "source": [
        "Now you can use vectors to perform queries. For instance, you can query the distance of cat and dog in the following way:"
      ]
    },
    {
      "cell_type": "code",
      "execution_count": 21,
      "metadata": {
        "id": "L-XKt2tpZzi7",
        "colab": {
          "base_uri": "https://localhost:8080/"
        },
        "outputId": "79fecf40-f7d4-4149-b9ce-5da2f071c342"
      },
      "outputs": [
        {
          "output_type": "stream",
          "name": "stdout",
          "text": [
            "0.69145405\n"
          ]
        }
      ],
      "source": [
        "print(vectors.distance(\"cat\", \"dog\")) # should be ~0.69"
      ]
    },
    {
      "cell_type": "markdown",
      "metadata": {
        "id": "Q41x7bVXbLY-"
      },
      "source": [
        "The questions below are designed to familiarize you with the Magnitude word2vec package and get you thinking about what type of semantic information word embeddings can encode. We recommend reading using the [library section](https://github.com/plasticityai/magnitude#using-the-library) to reply to the following set of questions:"
      ]
    },
    {
      "cell_type": "markdown",
      "metadata": {
        "id": "TUnnuRJfbXf5"
      },
      "source": [
        "- **Problem 1.1:** What is the dimensionality of these word embeddings? Provide an integer answer. [1 point]"
      ]
    },
    {
      "cell_type": "code",
      "execution_count": 22,
      "metadata": {
        "id": "d7qnNOEPEtfx",
        "colab": {
          "base_uri": "https://localhost:8080/"
        },
        "outputId": "51efa8d9-6cb5-4069-b5ce-419784aecc31"
      },
      "outputs": [
        {
          "output_type": "execute_result",
          "data": {
            "text/plain": [
              "300"
            ]
          },
          "metadata": {},
          "execution_count": 22
        }
      ],
      "source": [
        "#find dimensionality\n",
        "vectors.dim"
      ]
    },
    {
      "cell_type": "code",
      "execution_count": 23,
      "metadata": {
        "id": "hVUR92UPbSkn",
        "colab": {
          "base_uri": "https://localhost:8080/"
        },
        "outputId": "23f9e1bf-07c3-417d-ef25-f59b3682822c"
      },
      "outputs": [
        {
          "output_type": "stream",
          "name": "stdout",
          "text": [
            "Correct! You earned 1/1 points. You are a star!\n",
            "\n",
            "Your submission has been successfully recorded in the gradebook.\n"
          ]
        }
      ],
      "source": [
        "# TODO\n",
        "dimensionality = 300\n",
        "\n",
        "# PennGrader - DO NOT CHANGE\n",
        "grader.grade(test_case_id = 'test_q11_dim', answer = dimensionality) # we only check partial data"
      ]
    },
    {
      "cell_type": "markdown",
      "metadata": {
        "id": "U-GAJhyvbido"
      },
      "source": [
        " - **Problem 1.2:** What are the top-5 most similar words to `picnic` (not including `picnic` itself)? (Hint: try using `vectors.most_similar`) Please return these as a list of strings named `mostsim`. [1 point]"
      ]
    },
    {
      "cell_type": "code",
      "execution_count": 24,
      "metadata": {
        "id": "ZIiW59W-EvjQ",
        "colab": {
          "base_uri": "https://localhost:8080/"
        },
        "outputId": "4ffae238-6051-40d8-c253-3c0a334ada07"
      },
      "outputs": [
        {
          "output_type": "execute_result",
          "data": {
            "text/plain": [
              "[('picnics', 0.7400875),\n",
              " ('picnic_lunch', 0.7213739),\n",
              " ('Picnic', 0.700534),\n",
              " ('potluck_picnic', 0.6683274),\n",
              " ('picnic_supper', 0.65189123),\n",
              " ('picnicking', 0.63550216),\n",
              " ('cookout', 0.63243484),\n",
              " ('Hiking_biking_camping', 0.6256069),\n",
              " ('barbeque', 0.62256277),\n",
              " ('barbecue', 0.61957586)]"
            ]
          },
          "metadata": {},
          "execution_count": 24
        }
      ],
      "source": [
        "### The first time you run \"vectors.most_similar\" it will take about 5~10 mins to run\n",
        "sim = vectors.most_similar('picnic')\n",
        "sim"
      ]
    },
    {
      "cell_type": "code",
      "execution_count": 25,
      "metadata": {
        "id": "pTANEQk9bpa_",
        "colab": {
          "base_uri": "https://localhost:8080/"
        },
        "outputId": "751fc679-3864-4642-d7a0-75ed28305407"
      },
      "outputs": [
        {
          "output_type": "stream",
          "name": "stdout",
          "text": [
            "Correct! You earned 1/1 points. You are a star!\n",
            "\n",
            "Your submission has been successfully recorded in the gradebook.\n"
          ]
        }
      ],
      "source": [
        "# TODO\n",
        "mostsim = [i[0] for i in sorted(sim, key=lambda x: x[1], reverse=True)[:5]]\n",
        "\n",
        "# PennGrader - DO NOT CHANGE\n",
        "# reload_grader()\n",
        "grader.grade(test_case_id = 'test_q12_picnic', answer = mostsim) # we only check partial data"
      ]
    },
    {
      "cell_type": "markdown",
      "metadata": {
        "id": "2cuv5HzCbpzW"
      },
      "source": [
        " - **Problem 1.3:** According to the word embeddings, which of these words is not like the others? `['tissue', 'papyrus', 'manila', 'newsprint', 'parchment', 'gazette']` [1 point]"
      ]
    },
    {
      "cell_type": "code",
      "execution_count": 26,
      "metadata": {
        "id": "I7cAS-RsEwYt",
        "colab": {
          "base_uri": "https://localhost:8080/",
          "height": 35
        },
        "outputId": "7c489b8f-e97c-4c75-f9c1-cc6faea73b64"
      },
      "outputs": [
        {
          "output_type": "execute_result",
          "data": {
            "text/plain": [
              "'tissue'"
            ],
            "application/vnd.google.colaboratory.intrinsic+json": {
              "type": "string"
            }
          },
          "metadata": {},
          "execution_count": 26
        }
      ],
      "source": [
        "diff = vectors.doesnt_match(['tissue', 'papyrus', 'manila', 'newsprint', 'parchment', 'gazette'])\n",
        "diff"
      ]
    },
    {
      "cell_type": "code",
      "execution_count": 27,
      "metadata": {
        "id": "eB3WOnVKbv_R",
        "colab": {
          "base_uri": "https://localhost:8080/"
        },
        "outputId": "e718b7c2-ea84-467f-b06a-455f42e83b75"
      },
      "outputs": [
        {
          "output_type": "stream",
          "name": "stdout",
          "text": [
            "Correct! You earned 1/1 points. You are a star!\n",
            "\n",
            "Your submission has been successfully recorded in the gradebook.\n"
          ]
        }
      ],
      "source": [
        "# TODO\n",
        "doesnt_match = \"tissue\"\n",
        "\n",
        "# PennGrader - DO NOT CHANGE\n",
        "# reload_grader()\n",
        "grader.grade(test_case_id = 'test_q13_does_not_match', answer = doesnt_match) # we only check partial data"
      ]
    },
    {
      "cell_type": "markdown",
      "metadata": {
        "id": "cjol744PbwIl"
      },
      "source": [
        " -  **Problem 1.4:** Solve the following analogy: `leg` is to `jump` as X is to `throw` [1 point]"
      ]
    },
    {
      "cell_type": "code",
      "execution_count": 30,
      "metadata": {
        "id": "bbpDYTjgExZe",
        "colab": {
          "base_uri": "https://localhost:8080/"
        },
        "outputId": "4ec32aa6-bbdd-4351-ce86-a2d80fde4718"
      },
      "outputs": [
        {
          "output_type": "execute_result",
          "data": {
            "text/plain": [
              "[('forearm', 0.876599),\n",
              " ('metacarpal_bone', 0.8747273),\n",
              " ('elbow', 0.86924946),\n",
              " ('metacarpal_bones', 0.86801016),\n",
              " ('knuckle', 0.8675384),\n",
              " ('shoulder', 0.86726993),\n",
              " ('shin', 0.8642468),\n",
              " ('nonthrowing_shoulder', 0.86377436),\n",
              " ('dislocating_finger', 0.857464),\n",
              " ('pinkie', 0.851935)]"
            ]
          },
          "metadata": {},
          "execution_count": 30
        }
      ],
      "source": [
        "#X = throw, leg = jump\n",
        "X = vectors.most_similar_cosmul(positive=['leg', 'throw'], negative=['jump'])\n",
        "X"
      ]
    },
    {
      "cell_type": "code",
      "execution_count": 31,
      "metadata": {
        "id": "guWIM6eLb2jA",
        "colab": {
          "base_uri": "https://localhost:8080/"
        },
        "outputId": "78be350e-7e48-40b3-e134-f1f35e41dd63"
      },
      "outputs": [
        {
          "output_type": "stream",
          "name": "stdout",
          "text": [
            "Correct! You earned 1/1 points. You are a star!\n",
            "\n",
            "Your submission has been successfully recorded in the gradebook.\n"
          ]
        }
      ],
      "source": [
        "# TODO\n",
        "analogy = \"forearm\"\n",
        "\n",
        "# PennGrader - DO NOT CHANGE\n",
        "# reload_grader()\n",
        "grader.grade(test_case_id = 'test_q14_analogy', answer = analogy)"
      ]
    },
    {
      "cell_type": "markdown",
      "metadata": {
        "id": "xfGRGgLCc38j"
      },
      "source": [
        "# Section 2: SimLex-999 Dataset Revisited [10 points + 5 Bonus]\n",
        "Let us revisit [SimLex-999](https://fh295.github.io/simlex.html) dataset from Extra Credit in HW4. We will use `SimLex-999.txt`.\n",
        "\n",
        "We provided you a script below that:\n",
        "\n",
        "1. Takes `word1`, `word2`, and `SimLex` columns from the `SimLex-999.txt` dataset,\n",
        "2. Computes the similarity between `word1` and `word2` using `GoogleNews-vectors-negative300.magnitude` from Part 1\n",
        "3. Displays correlation for human judgments of similarity to the vector similarities using [Kendall’s Tau](https://en.wikipedia.org/wiki/Kendall_rank_correlation_coefficient)."
      ]
    },
    {
      "cell_type": "code",
      "execution_count": 32,
      "metadata": {
        "id": "HC0Rc41Hdikw",
        "colab": {
          "base_uri": "https://localhost:8080/"
        },
        "outputId": "dce5cce4-b13f-4b6c-d541-15f0756d69de"
      },
      "outputs": [
        {
          "output_type": "stream",
          "name": "stdout",
          "text": [
            "old,new,1.58,0.2228\n",
            "smart,intelligent,9.2,0.6495\n",
            "hard,difficult,8.77,0.6026\n",
            "happy,cheerful,9.55,0.3838\n",
            "hard,easy,0.95,0.4710\n",
            "\n",
            "Correlation = 0.30913428432001067, P Value = 2.6592796177776212e-48\n"
          ]
        }
      ],
      "source": [
        "# Reference Code - DO NOT CHANGE\n",
        "vectors = Magnitude(\"/content/GoogleNews-vectors-negative300.magnitude\")\n",
        "df = pd.read_csv('/content/SimLex-999.txt', sep='\\t')[['word1', 'word2', 'SimLex999']]\n",
        "human_scores = []\n",
        "vector_scores = []\n",
        "\n",
        "counter = 0\n",
        "for word1, word2, score in df.values.tolist():\n",
        "    human_scores.append(score)\n",
        "    similarity_score = vectors.similarity(word1, word2)\n",
        "    vector_scores.append(similarity_score)\n",
        "    if counter < 5: # only print the first five\n",
        "        print(f'{word1},{word2},{score},{similarity_score:.4f}')\n",
        "        counter += 1\n",
        "\n",
        "print()\n",
        "correlation, p_value = stats.kendalltau(human_scores, vector_scores)\n",
        "print(f'Correlation = {correlation}, P Value = {p_value}')"
      ]
    },
    {
      "cell_type": "markdown",
      "metadata": {
        "id": "CJ2LrGtYc9AJ"
      },
      "source": [
        "In this part of the assignment we would like for you to explore how the Kendall’s Tau correlation changes based on the similarity. You may use the script we provided or create your own script.\n",
        "\n",
        "**Please respond to the following questions in your report\n",
        "\n",
        "Note: **5 Extra points** will be awarded for creativity and a more thorough qualitative analysis.)"
      ]
    },
    {
      "cell_type": "markdown",
      "metadata": {
        "id": "fwDFA5rffQ5E"
      },
      "source": [
        " - **Answer 2.1:** What is the least similar 2 pairs of words based on human judgement scores and vector similarity? Do the pairs match? [3 points]"
      ]
    },
    {
      "cell_type": "code",
      "execution_count": 33,
      "metadata": {
        "id": "CfNxt37ZMVF5"
      },
      "outputs": [],
      "source": [
        "human_scores_words = []\n",
        "vector_scores_words = []\n",
        "for word1, word2, score in df.values.tolist():\n",
        "    human_scores_words.append((score, word1, word2))\n",
        "    similarity_score = vectors.similarity(word1, word2)\n",
        "    vector_scores_words.append((similarity_score, word1, word2))\n",
        "#use kendall Taus correlation\n",
        "\n"
      ]
    },
    {
      "cell_type": "markdown",
      "metadata": {
        "id": "UXA1QqjME53h"
      },
      "source": [
        "**TODO**: [Least similar pairs]"
      ]
    },
    {
      "cell_type": "code",
      "execution_count": 34,
      "metadata": {
        "id": "2TuNcVOuE6D3",
        "colab": {
          "base_uri": "https://localhost:8080/"
        },
        "outputId": "158c55ff-3810-4b7f-d707-df8ec314eafe"
      },
      "outputs": [
        {
          "output_type": "stream",
          "name": "stdout",
          "text": [
            "(0.23, 'new', 'ancient')\n",
            "(-0.041323334, 'house', 'key')\n"
          ]
        }
      ],
      "source": [
        "human_scores_words = sorted(human_scores_words)\n",
        "print(human_scores_words[0])\n",
        "vector_scores_words = sorted(vector_scores_words)\n",
        "print(vector_scores_words[0])\n",
        "#does not match"
      ]
    },
    {
      "cell_type": "markdown",
      "metadata": {
        "id": "QlymLVazfVJH"
      },
      "source": [
        " - **Answer 2.2:** What is the most similar 2 pairs of words based on human judgement scores and vector similarity? Do the pairs match? [3 points]"
      ]
    },
    {
      "cell_type": "markdown",
      "metadata": {
        "id": "eEjH6A1dE-ng"
      },
      "source": [
        "**TODO**: [Most similar pairs]"
      ]
    },
    {
      "cell_type": "code",
      "execution_count": 35,
      "metadata": {
        "id": "MKwpBnM6E-vi",
        "colab": {
          "base_uri": "https://localhost:8080/"
        },
        "outputId": "fc314aa3-4303-424d-89b1-314ed737812a"
      },
      "outputs": [
        {
          "output_type": "stream",
          "name": "stdout",
          "text": [
            "(9.8, 'vanish', 'disappear')\n",
            "(0.9674536, 'south', 'north')\n"
          ]
        }
      ],
      "source": [
        "print(human_scores_words[-1])\n",
        "print(vector_scores_words[-1])\n",
        "#does not match"
      ]
    },
    {
      "cell_type": "markdown",
      "metadata": {
        "id": "3irwnpa9fcLM"
      },
      "source": [
        "- **Answer 2.3:** Provide correlation scores and p values for the following models:\n",
        "   - (Stanford - GloVe Wikipedia 2014 + Gigaword 5 6B Medium 50D) `glove.6B.50d.magnitude`\n",
        "   - (Stanford - GloVe Wikipedia 2014 + Gigaword 5 6B Medium 100D)`glove.6B.100d.magnitude`\n",
        "   - (Stanford - GloVe Wikipedia 2014 + Gigaword 5 6B Medium 200D) `glove.6B.200d.magnitude`\n",
        "   - (Stanford - GloVe Wikipedia 2014 + Gigaword 5 6B Medium 300D) `glove.6B.300d.magnitude`\n",
        "   - (Stanford - GloVe Common Crawl Medium 300D) `love.840B.300d.magnitude`\n",
        "\n",
        "  **How do those correlation value compare to each other?** [4 points]"
      ]
    },
    {
      "cell_type": "markdown",
      "metadata": {
        "id": "H9smACWQFC7A"
      },
      "source": [
        "**TODO**: [Discussion]"
      ]
    },
    {
      "cell_type": "code",
      "execution_count": 36,
      "metadata": {
        "id": "V0ABIVIXs09b"
      },
      "outputs": [],
      "source": [
        "%%capture\n",
        "!wget http://magnitude.plasticity.ai/glove/medium/glove.6B.50d.magnitude\n",
        "!wget http://magnitude.plasticity.ai/glove/medium/glove.6B.100d.magnitude\n",
        "!wget http://magnitude.plasticity.ai/glove/medium/glove.6B.200d.magnitude\n",
        "!wget http://magnitude.plasticity.ai/glove/medium/glove.6B.300d.magnitude\n",
        "!wget http://magnitude.plasticity.ai/glove/medium/glove.840B.300d.magnitude"
      ]
    },
    {
      "cell_type": "code",
      "execution_count": 37,
      "metadata": {
        "id": "9l4NugVudP45"
      },
      "outputs": [],
      "source": [
        "# if the above links do not work, please uncomment the below lines and run them"
      ]
    },
    {
      "cell_type": "code",
      "execution_count": 38,
      "metadata": {
        "id": "v_0w8DO5dYRK",
        "colab": {
          "base_uri": "https://localhost:8080/"
        },
        "outputId": "7a63f21d-9749-4367-aad9-861d1171d702"
      },
      "outputs": [
        {
          "output_type": "stream",
          "name": "stdout",
          "text": [
            "Downloading...\n",
            "From (original): https://drive.google.com/uc?id=1r0ebRDG-_4ALl3PJ7Vko0DkLcMdLPIoL\n",
            "From (redirected): https://drive.google.com/uc?id=1r0ebRDG-_4ALl3PJ7Vko0DkLcMdLPIoL&confirm=t&uuid=3b15d1fe-4f92-4832-a9e9-9057e660d065\n",
            "To: /content/glove.6B.50d.magnitude\n",
            "100% 211M/211M [00:02<00:00, 90.7MB/s]\n",
            "Downloading...\n",
            "From (original): https://drive.google.com/uc?id=1TQ5W7mma_fYKqVL-Dm7_ogwIftyJpXAT\n",
            "From (redirected): https://drive.google.com/uc?id=1TQ5W7mma_fYKqVL-Dm7_ogwIftyJpXAT&confirm=t&uuid=da420c22-c9c4-4db8-81a7-c3245380abcd\n",
            "To: /content/glove.6B.100d.magnitude\n",
            "100% 302M/302M [00:02<00:00, 140MB/s]\n",
            "Downloading...\n",
            "From (original): https://drive.google.com/uc?id=1LiKprfuwD434FGC-bf8OARMIKCtNIL4Z\n",
            "From (redirected): https://drive.google.com/uc?id=1LiKprfuwD434FGC-bf8OARMIKCtNIL4Z&confirm=t&uuid=b2139b7b-d237-475b-b37a-ba32ae6edc29\n",
            "To: /content/glove.6B.200d.magnitude\n",
            "100% 507M/507M [00:03<00:00, 161MB/s]\n",
            "Downloading...\n",
            "From (original): https://drive.google.com/uc?id=1_p-9y15JvbobeJ37L5v4kXnWMXsfHsD4\n",
            "From (redirected): https://drive.google.com/uc?id=1_p-9y15JvbobeJ37L5v4kXnWMXsfHsD4&confirm=t&uuid=6ef2797f-33f5-45ec-b96f-a2eb9dd12c26\n",
            "To: /content/glove.6B.300d.magnitude\n",
            "100% 667M/667M [00:05<00:00, 130MB/s]\n",
            "Downloading...\n",
            "From (original): https://drive.google.com/uc?id=1zs0Z-m7YbbVbKvqkq-HEIxNYp3e75-7e\n",
            "From (redirected): https://drive.google.com/uc?id=1zs0Z-m7YbbVbKvqkq-HEIxNYp3e75-7e&confirm=t&uuid=580333af-6460-433d-8577-32412d4ae30a\n",
            "To: /content/glove.840B.300d.magnitude\n",
            "100% 3.65G/3.65G [00:38<00:00, 94.1MB/s]\n"
          ]
        }
      ],
      "source": [
        "!gdown 1r0ebRDG-_4ALl3PJ7Vko0DkLcMdLPIoL # glove.6B.50d.magnitude\n",
        "!gdown 1TQ5W7mma_fYKqVL-Dm7_ogwIftyJpXAT # glove.6B.100d.magnitude\n",
        "!gdown 1LiKprfuwD434FGC-bf8OARMIKCtNIL4Z # glove.6B.200d.magnitude\n",
        "!gdown 1_p-9y15JvbobeJ37L5v4kXnWMXsfHsD4 # glove.6B.300d.magnitude\n",
        "!gdown 1zs0Z-m7YbbVbKvqkq-HEIxNYp3e75-7e # glove.840B.300d.magnitude"
      ]
    },
    {
      "cell_type": "code",
      "execution_count": 39,
      "metadata": {
        "id": "ocOrOTPGdc_2",
        "colab": {
          "base_uri": "https://localhost:8080/"
        },
        "outputId": "4d6b65ba-838e-4dd2-c34e-1af275d3f535"
      },
      "outputs": [
        {
          "output_type": "stream",
          "name": "stdout",
          "text": [
            "Correlation = 0.18100126067449063, P Value = 1.2242211264976856e-17\n"
          ]
        }
      ],
      "source": [
        "model = \"glove.6B.50d.magnitude\"\n",
        "vectors = Magnitude(model)\n",
        "human_scores = []\n",
        "vector_scores = []\n",
        "\n",
        "for word1, word2, score in df.values.tolist():\n",
        "    human_scores.append(score)\n",
        "    similarity_score = vectors.similarity(word1, word2)\n",
        "    vector_scores.append(similarity_score)\n",
        "\n",
        "correlation, p_value = stats.kendalltau(human_scores, vector_scores)\n",
        "print(f'Correlation = {correlation}, P Value = {p_value}')"
      ]
    },
    {
      "cell_type": "code",
      "execution_count": 40,
      "metadata": {
        "id": "hVfFpp44zECt",
        "colab": {
          "base_uri": "https://localhost:8080/"
        },
        "outputId": "a10866cd-6c2d-4855-82c4-c7e9f7578385"
      },
      "outputs": [
        {
          "output_type": "stream",
          "name": "stdout",
          "text": [
            "Correlation = 0.18100126067449063, P Value = 1.2242211264976856e-17\n",
            "Correlation = 0.20506409092608713, P Value = 3.41228663395174e-22\n",
            "Correlation = 0.23670323199262908, P Value = 4.9936324557833286e-29\n",
            "Correlation = 0.25894302181101986, P Value = 2.080389068003349e-34\n",
            "Correlation = 0.2860664813618063, P Value = 1.293335613361039e-41\n"
          ]
        }
      ],
      "source": [
        "## YOUR CODE HERE ##\n",
        "# you can re-use the code from the Reference Code\n",
        "models = ['glove.6B.50d.magnitude', 'glove.6B.100d.magnitude', 'glove.6B.200d.magnitude', 'glove.6B.300d.magnitude', 'glove.840B.300d.magnitude']\n",
        "for model in models:\n",
        "    vectors = Magnitude(model)\n",
        "    human_scores = []\n",
        "    vector_scores = []\n",
        "\n",
        "    for word1, word2, score in df.values.tolist():\n",
        "        human_scores.append(score)\n",
        "        similarity_score = vectors.similarity(word1, word2)\n",
        "        vector_scores.append(similarity_score)\n",
        "\n",
        "    correlation, p_value = stats.kendalltau(human_scores, vector_scores)\n",
        "    print(f'Correlation = {correlation}, P Value = {p_value}')\n"
      ]
    },
    {
      "cell_type": "code",
      "execution_count": 41,
      "metadata": {
        "id": "CoU6zfxps06_",
        "colab": {
          "base_uri": "https://localhost:8080/",
          "height": 53
        },
        "outputId": "760d6e8d-f487-4e21-eaaf-81c325775428"
      },
      "outputs": [
        {
          "output_type": "execute_result",
          "data": {
            "text/plain": [
              "'How do those correlation value compare to each other? [4 points]\\nFrom the correlation values, it seems like the higher the dimension, the better the correlation is with human judgement values. \\n'"
            ],
            "application/vnd.google.colaboratory.intrinsic+json": {
              "type": "string"
            }
          },
          "metadata": {},
          "execution_count": 41
        }
      ],
      "source": [
        "'''How do those correlation value compare to each other? [4 points]\n",
        "From the correlation values, it seems like the higher the dimension, the better the correlation is with human judgement values.\n",
        "'''"
      ]
    },
    {
      "cell_type": "markdown",
      "metadata": {
        "id": "chcQNwdxfye3"
      },
      "source": [
        "# Section 3: Creating Word Sense Clusters [96 points]\n",
        "**Background:** Many Natural Language Processing (NLP) tasks require knowing the sense of polysemous words, which are words with multiple meanings. For example, the word bug can mean:\n",
        "\n",
        "1. A creepy crawly thing\n",
        "2. An error in your computer code\n",
        "3. A virus or bacteria that makes you sick\n",
        "4. A listening device planted by the FBI\n",
        "\n",
        "In past research my PhD students and I have looked into automatically deriving the different meaning of polysemous words like bug by clustering their paraphrases. We have developed a resource called [the paraphrase database (PPDB)](http://paraphrase.org/) that contains of paraphrases for tens of millions words and phrases. For the target word bug, we have an unordered list of paraphrases including: insect, glitch, beetle, error, microbe, wire, cockroach, malfunction, microphone, mosquito, virus, tracker, pest, informer, snitch, parasite, bacterium, fault, mistake, failure and many others. We used automatic clustering group those into sets like:\n",
        "\n",
        "<img src='https://drive.google.com/uc?id=1-YbbvZ0qwRKPiHZ1ZWOm62dfCkfu4tLJ'>\n",
        "\n",
        "The clusters in the image above approximate the different word senses of bug, where the 4 circles are the 4 senses of bug. The input to this problem is all the paraphrases in a single list, and the task is to separate them correctly. As humans, this is pretty intuitive, but computers are not that smart. You will explore the main idea underlying our word sense clustering method: which measure the similarity between each pair of paraphrases for a target word and then group together the paraphrases that are most similar to each other. This affinity matrix gives an example of one of the methods for measuring similarity that we tried in our [paper](https://www.cis.upenn.edu/~ccb/publications/clustering-paraphrases-by-word-sense.pdf):\n",
        "\n",
        "<img src='https://drive.google.com/uc?id=1v1dBzwoSM3S3Y1wDUwqcVBEZ7GxxKKJ4'>\n",
        "\n",
        "Here the darkness values give an indication of how similar paraphrases are to each other. For instance in this example similarity between *insect* and *pest* is greater than the similarity between insect and error. You can read more about this task in [these](https://www.cis.upenn.edu/~ccb/publications/clustering-paraphrases-by-word-sense.pdf) [papers](https://cs.uwaterloo.ca/~cdimarco/pdf/cs886/Pantel+Lin02.pdf).\n",
        "\n",
        "In this assignment, we will use vector representations in order to measure their similarities of pairs of paraphrases. You will play with different vector space representations of words to create clusters of word senses. We expect that you have read Jurafsky and Martin [Chapter 6](https://web.stanford.edu/~jurafsky/slp3/6.pdf). Word vectors, also known as word embeddings, can be thought of simply as points in some high-dimensional space. Remember in geometry class when you learned about the Euclidean plane, and 2-dimensional points in that plane? It’s not hard to understand distance between those points – you can even measure it with a ruler. Then you learned about 3-dimensional points, and how to calculate the distance between these. These 3-dimensional points can be thought of as positions in physical space.\n",
        "\n",
        "Now, do your best to stop thinking about physical space, and generalize this idea in your mind: you can calculate a distance between 2-dimensional and 3-dimensional points, now imagine a point with `N` dimensions. The dimensions don’t necessarily have meaning in the same way as the X,Y, and Z dimensions in physical space, but we can calculate distances all the same.\n",
        "\n",
        "This is how we will use word vectors in this assignment: as points in some high-dimensional space, where distances between points are meaningful. The interpretation of distance between word vectors depends entirely on how they were made, but for our purposes, we will consider distance to measure semantic similarity. Word vectors that are close together should have meanings that are similar.\n",
        "\n",
        "With this framework, we can see how to solve our paraphrase clustering problem."
      ]
    },
    {
      "cell_type": "markdown",
      "metadata": {
        "id": "8Qkv_eW5luSc"
      },
      "source": [
        "**The Data:**\n",
        "The input data to be used for this assignment consists of sets of paraphrases corresponding to one of polysemous target words, e.g.\n",
        "\n",
        "Target\t  | Paraphrase set\n",
        "----------|------------------\n",
        "note.v    | comment mark tell observe state notice say remark mention\n",
        "hot.a     | raging spicy blistering red-hot live\n",
        "\n",
        "(Here the `.v` following the target `note` indicates the part of speech)\n",
        "\n",
        "Your objective is to automatically cluster each paraphrase set such that each cluster contains words pertaining to a single sense, or meaning, of the target word. Note that a single word from the paraphrase set might belong to one or more clusters.\n",
        "\n",
        "**Development Data:** The development data consists of two files:\n",
        "\n",
        "1. words file (input)\n",
        "2. clusters file (output)\n",
        "\n",
        "The words file `dev_input.txt` is formatted such that each line contains one target, its paraphrase set, and the number of ground truth clusters `k`, separated by a `::` symbol. You can use `k` as input to your clustering algorithm.\n",
        "\n",
        "`target.pos :: k :: paraphrase1 paraphrase2 paraphrase3 ...`\n",
        "\n",
        "The clusters file `dev_output.txt` contains the ground truth clusters for each target word’s paraphrase set, split over k lines:\n",
        "\n",
        "```\n",
        "target.pos :: 1 :: paraphrase2 paraphrase6\n",
        "target.pos :: 2 :: paraphrase3 paraphrase4 paraphrase5\n",
        "    .\n",
        "    .\n",
        "    .\n",
        "target.pos :: k :: paraphrase1 paraphrase9\n",
        "```\n",
        "\n",
        "**Test data:** For testing Tasks 3.1 – 3.3, you will receive only words file `test_input.txt` containing the test target words, number of ground truth clusters and their paraphrase sets. For testing Task 3.4, you will receive only words file `test_nok_input.txt` containing the test target words and their paraphrases sets. Neither order of senses, nor order of words in a cluster matter.\n",
        "\n",
        "**Evaluation:** There are many possible ways to evaluate clustering solutions. For this homework we will rely on the paired F-score, which you can read more about in [this paper](https://www.cs.york.ac.uk/semeval2010_WSI/paper/semevaltask14.pdf).\n",
        "\n",
        "The general idea behind paired F-score is to treat clustering prediction like a classification problem; given a target word and its paraphrase set, we call a *positive instance* any pair of paraphrases that appear together in a ground-truth cluster. Once we predict a clustering solution for the paraphrase set, we similarly generate the set of word pairs such that both words in the pair appear in the same predicted cluster. We can then evaluate our set of predicted pairs against the ground truth pairs using precision, recall, and F-score.\n",
        "\n",
        "V-Measure is another metric that is used to evaluate clustering solutions, however we will not be using it in this Assignment."
      ]
    },
    {
      "cell_type": "markdown",
      "metadata": {
        "id": "Q3io9PlcoYqb"
      },
      "source": [
        "**Tasks:**\n",
        "Your task is to fill in 4 functions: `cluster_random`, `cluster_with_sparse_representation`, `cluster_with_dense_representation`, `cluster_with_no_k`.\n",
        "\n",
        "We provided 5 utility functions for you to use:\n",
        "\n",
        "1. `load_input_file(file_path)` that converts the input data (the words file) into 2 dictionaries. The first dictionary is a mapping between a target word and a list of paraphrases. The second dictionary is a mapping between a target word and a number of clusters for a given target word.\n",
        "\n",
        "2. `load_output_file(file_path)` that converts the output data (the clusters file) into a dictionary, where a key is a target word and a value is it’s list of list of paraphrases. Each list of paraphrases is a cluster. Remember that Neither order of senses, nor order of words in a cluster matter.\n",
        "\n",
        "3. `get_paired_f_score(gold_clustering, predicted_clustering)` that calculates paired F-score given a gold and predicted clustering for a target word.\n",
        "\n",
        "4. `evaluate_clusterings(gold_clusterings, predicted_clusterings)` that calculates paired F-score for all target words present in the data and prints the final F-Score weighted by the number of senses that a target word has.\n",
        "\n",
        "5. `write_to_output_file(file_path, clusterings)` that writes the result of the clustering for each target word into the output file (clusters file)\n",
        "Full points will be awarded for each of the tasks if your implementation gets above a certain threshold on the test dataset. Please submit to autograder to see thresholds. Note that thresholds are based on the scores from the previous year and might be lowered depending on the average performance."
      ]
    },
    {
      "cell_type": "code",
      "execution_count": 42,
      "metadata": {
        "id": "VACDGSp3VQ1f"
      },
      "outputs": [],
      "source": [
        "# Helper functions, DO NOT MODIFY\n",
        "def load_input_file(file_path):\n",
        "    \"\"\"\n",
        "    Loads the input file to two dictionaries\n",
        "    :param file_path: path to an input file\n",
        "    :return: 2 dictionaries:\n",
        "    1. Dictionary, where key is a target word and value is a list of paraphrases\n",
        "    2. Dictionary, where key is a target word and value is a number of clusters\n",
        "    \"\"\"\n",
        "    word_to_paraphrases_dict = {}\n",
        "    word_to_k_dict = {}\n",
        "\n",
        "    with open(file_path, 'r') as fin:\n",
        "        for line in fin:\n",
        "            target_word, k, paraphrases = line.split(' :: ')\n",
        "            word_to_k_dict[target_word] = int(k)\n",
        "            word_to_paraphrases_dict[target_word] = paraphrases.split()\n",
        "\n",
        "    return word_to_paraphrases_dict, word_to_k_dict\n",
        "\n",
        "    #Example for word note, one dictionary value is list of paraphrase [currency, comment, mark, tell], 2nd dictionary has k value of 4 as value\n",
        "    #{'note': [currency, comment]}, {'note': 5}\n",
        "\n",
        "def load_output_file(file_path):\n",
        "    \"\"\"\n",
        "    :param file_path: path to an output file\n",
        "    :return: A dictionary, where key is a target word and value is a list of list of paraphrases\n",
        "    \"\"\"\n",
        "    clusterings = {}\n",
        "\n",
        "    with open(file_path, 'r') as fin:\n",
        "        for line in fin:\n",
        "            target_word, _, paraphrases_in_cluster = line.strip().split(' :: ')\n",
        "            paraphrases_list = paraphrases_in_cluster.strip().split()\n",
        "            if target_word not in clusterings:\n",
        "                clusterings[target_word] = []\n",
        "            clusterings[target_word].append(paraphrases_list)\n",
        "\n",
        "    return clusterings\n",
        "\n",
        "        #{ #key is target word\n",
        "    #    'note': [['comment', 'remark'], ['mark', 'observe', 'state'], ['tell', 'say', 'mention']] each list is predicted cluster\n",
        "    #}\n",
        "\n",
        "\n",
        "def get_paired_f_score(gold_clustering, predicted_clustering):\n",
        "    \"\"\"\n",
        "    :param gold_clustering: gold list of list of paraphrases\n",
        "    :param predicted_clustering: predicted list of list of paraphrases\n",
        "    :return: Paired F-Score\n",
        "    \"\"\"\n",
        "    gold_pairs = set()\n",
        "    for gold_cluster in gold_clustering:\n",
        "        for pair in combinations(gold_cluster, 2):\n",
        "            gold_pairs.add(tuple(sorted(pair)))\n",
        "\n",
        "    predicted_pairs = set()\n",
        "    for predicted_cluster in predicted_clustering:\n",
        "        for pair in combinations(predicted_cluster, 2):\n",
        "            predicted_pairs.add(tuple(sorted(pair)))\n",
        "\n",
        "    overlapping_pairs = gold_pairs & predicted_pairs\n",
        "\n",
        "    precision = 1. if len(predicted_pairs) == 0 else float(len(overlapping_pairs)) / len(predicted_pairs)\n",
        "    recall = 1. if len(gold_pairs) == 0 else float(len(overlapping_pairs)) / len(gold_pairs)\n",
        "    paired_f_score = 0. if precision + recall == 0 else 2 * precision * recall / (precision + recall)\n",
        "\n",
        "    return paired_f_score\n",
        "\n",
        "\n",
        "    #example call below\n",
        "    #gold_clustering = [['comment', 'remark'], ['mark', 'observe', 'state'], ['tell', 'say', 'mention']]\n",
        "    #predicted_clustering = [['comment', 'remark', 'mark'], ['observe', 'state'], ['tell', 'say', 'mention']]\n",
        "    #f_score = get_paired_f_score(gold_clustering, predicted_clustering)\n",
        "    #print(f_score)  # Output: 0.6\n",
        "\n",
        "def evaluate_clusterings(gold_clusterings, predicted_clusterings):\n",
        "    \"\"\"\n",
        "    Displays evaluation scores between gold and predicted clusterings\n",
        "    :param gold_clusterings: dictionary where key is a target word and value is a list of list of paraphrases\n",
        "    :param predicted_clusterings: dictionary where key is a target word and value is a list of list of paraphrases\n",
        "    :return: N/A\n",
        "    \"\"\"\n",
        "    target_words = set(gold_clusterings.keys()) & set(predicted_clusterings.keys())\n",
        "\n",
        "    if len(target_words) == 0:\n",
        "        print('No overlapping target words in ground-truth and predicted files')\n",
        "        return None\n",
        "\n",
        "    paired_f_scores = np.zeros((len(target_words)))\n",
        "    ks = np.zeros((len(target_words)))\n",
        "\n",
        "    table = PrettyTable(['Target', 'k', 'Paired F-Score'])\n",
        "    for i, target_word in enumerate(target_words):\n",
        "        paired_f_score = get_paired_f_score(gold_clusterings[target_word], predicted_clusterings[target_word])\n",
        "        k = len(gold_clusterings[target_word])\n",
        "        paired_f_scores[i] = paired_f_score\n",
        "        ks[i] = k\n",
        "        table.add_row([target_word, k, f'{paired_f_score:0.4f}'])\n",
        "\n",
        "    average_f_score = np.average(paired_f_scores, weights=ks)\n",
        "    print(table)\n",
        "    print(f'=> Average Paired F-Score:  {average_f_score:.4f}')\n",
        "\n",
        "    #example call below -> averages paired f score also weighted by no of senses that a target word has\n",
        "    #gold_clusterings = {'note.v': [['comment', 'remark'], ['mark', 'observe', 'state'], ['tell', 'say', 'mention']]}\n",
        "    #predicted_clusterings = {'note.v': [['comment', 'remark', 'mark'], ['observe', 'state'], ['tell', 'say', 'mention']]}\n",
        "    #evaluate_clusterings(gold_clusterings, predicted_clusterings)\n",
        "\n",
        "def write_to_output_file(file_path, clusterings):\n",
        "    \"\"\"\n",
        "    Writes the result of clusterings into an output file\n",
        "    :param file_path: path to an output file\n",
        "    :param clusterings:  A dictionary, where key is a target word and value is a list of list of paraphrases\n",
        "    :return: N/A\n",
        "    \"\"\"\n",
        "    with open(file_path, 'w') as fout:\n",
        "        for target_word, clustering in clusterings.items():\n",
        "            for i, cluster in enumerate(clustering):\n",
        "                fout.write(f'{target_word} :: {i + 1} :: {\" \".join(cluster)}\\n')\n",
        "        fout.close()"
      ]
    },
    {
      "cell_type": "markdown",
      "metadata": {
        "id": "n4sau65Vo47N"
      },
      "source": [
        "## 3.1. Cluster Randomly [11 points]\n",
        "Write a function `cluster_random(word_to_paraphrases_dict, word_to_k_dict)` that accepts 2 dictionaries:\n",
        "\n",
        "1. word_to_paraphrases_dict = a mapping between a target word and a list of paraphrases\n",
        "\n",
        "2. word_to_k_dict = a mapping between a target word and a number of clusters for a given target\n",
        "\n",
        "The function outputs a dictionary, where the key is a target word and a value is a list of list of paraphrases, where a list of paraphrases represents a distinct sense of a target word.\n",
        "\n",
        "For this task put paraphrases into distinct senses at random. That is, assign to pick a random word for each cluster, as opposed to picking a random cluster for each word. This will ensure that all clusters have at lease one word in them. We recommend using random packages. Please use 123 as a random seed. Your output should look similar to this on the development dataset:\n",
        "\n",
        "```\n",
        "word_to_paraphrases_dict, word_to_k_dict = load_input_file('dev_input.txt')\n",
        "gold_clusterings = load_output_file('dev_output.txt')\n",
        "predicted_clusterings = cluster_random(word_to_paraphrases_dict, word_to_k_dict)\n",
        "evaluate_clusterings(gold_clusterings, predicted_clusterings)\n",
        "```\n",
        "```\n",
        "+----------------+----+----------------+\n",
        "|     Target     | k  | Paired F-Score |\n",
        "+----------------+----+----------------+\n",
        "|    paper.n     | 7  |     0.2978     |\n",
        "|     play.v     | 34 |     0.0896     |\n",
        "|     miss.v     | 8  |     0.2376     |\n",
        "|   produce.v    | 7  |     0.2335     |\n",
        "|    party.n     | 5  |     0.2480     |\n",
        "|     note.v     | 3  |     0.6667     |\n",
        "|     bank.n     | 9  |     0.1515     |\n",
        "    .\n",
        "    .\n",
        "    .\n",
        "|     eat.v      | 6  |     0.2908     |\n",
        "|    climb.v     | 6  |     0.2427     |\n",
        "|    degree.n    | 7  |     0.2891     |\n",
        "|   interest.n   | 5  |     0.2093     |\n",
        "+----------------+----+----------------+\n",
        "=> Average Paired F-Score:  0.2318\n",
        "```"
      ]
    },
    {
      "cell_type": "markdown",
      "metadata": {
        "id": "N4XX7i3VLqnO"
      },
      "source": [
        "- **Problem 3.1:** Implement `cluster_random` function. **The augograder for 3.2, 3.3, 3.4 will grade your implementation based on the test-set `f_score` achieved by the clustering.**  [10 points]\n"
      ]
    },
    {
      "cell_type": "markdown",
      "metadata": {
        "id": "c4LIRiNryqY-"
      },
      "source": [
        "# Recitation\n",
        "\n",
        "\n",
        "        word_to_paraphrases_dict = {\n",
        "        'note.v': ['comment', 'mark', 'tell', 'observe', 'state', 'notice', 'say', 'remark', 'mention'],\n",
        "        'hot.a': ['raging', 'spicy', 'blistering', 'red-hot', 'live']\n",
        "                                    }\n",
        "\n",
        "          word_to_k_dict = {\n",
        "          'note.v': 3,\n",
        "          'hot.a': 2\n",
        "                           }\n",
        "\n",
        "        Expected output :\n",
        "        {\n",
        "            'note.v': [['remark', 'mention'], ['comment', 'state', 'tell', 'mark'], ['observe', 'say', 'notice']],\n",
        "            'hot.a': [['blistering', 'red-hot'], ['live', 'spicy', 'raging']]\n",
        "        }\n",
        "\n",
        "      shuffled = ['tell', 'remark', 'say', 'comment', 'mention', 'observe', 'state', 'mark', 'notice'] ->order reshuffled\n"
      ]
    },
    {
      "cell_type": "code",
      "execution_count": 43,
      "metadata": {
        "id": "uS5VCGYhrJu3"
      },
      "outputs": [],
      "source": [
        "random.seed(123)"
      ]
    },
    {
      "cell_type": "code",
      "execution_count": 44,
      "metadata": {
        "id": "O4q_QnuaXZp-"
      },
      "outputs": [],
      "source": [
        "def cluster_random(word_to_paraphrases_dict, word_to_k_dict):\n",
        "    \"\"\"\n",
        "    Clusters paraphrases randomly\n",
        "    :param word_to_paraphrases_dict: dictionary, where key is a target word and value is a list of paraphrases\n",
        "    :param word_to_k_dict: dictionary, where key is a target word and value is a number of clusters\n",
        "    :return: dictionary, where key is a target word and value is a list of list of paraphrases,\n",
        "    where each list corresponds to a cluster\n",
        "    \"\"\"\n",
        "    clusterings = {}\n",
        "\n",
        "    for target_word in word_to_paraphrases_dict.keys():\n",
        "        paraphrase_list = word_to_paraphrases_dict[target_word]\n",
        "        k = word_to_k_dict[target_word]\n",
        "        # TODO: Implement\n",
        "        clusters = []\n",
        "        for i in range(k):\n",
        "            clusters.append([])\n",
        "\n",
        "        # Put paraphrases into clusters\n",
        "        for i in range(len(paraphrase_list)):\n",
        "            cluster_number = i % k\n",
        "            clusters[cluster_number].append(paraphrase_list[i])\n",
        "\n",
        "        # Store the clusters for this word in our results\n",
        "        clusterings[target_word] = clusters\n",
        "\n",
        "    return clusterings"
      ]
    },
    {
      "cell_type": "markdown",
      "metadata": {
        "id": "QD3t0b5nkdVr"
      },
      "source": [
        "- **Answer 3.1:** Run clustering on `dev` data, report the `f_scores` from the `dev` data [1 point]"
      ]
    },
    {
      "cell_type": "markdown",
      "metadata": {
        "id": "_L7TdWwc_yb_"
      },
      "source": [
        "**TODO**: [Report f_scores from the dev data]"
      ]
    },
    {
      "cell_type": "code",
      "execution_count": 45,
      "metadata": {
        "id": "WAqsnipaCAwE",
        "colab": {
          "base_uri": "https://localhost:8080/"
        },
        "outputId": "d9a63c27-e3af-4b00-f235-403c4eccbe0b"
      },
      "outputs": [
        {
          "output_type": "stream",
          "name": "stdout",
          "text": [
            "+----------------+----+----------------+\n",
            "|     Target     | k  | Paired F-Score |\n",
            "+----------------+----+----------------+\n",
            "|   suspend.v    | 6  |     0.0870     |\n",
            "|     miss.v     | 8  |     0.0845     |\n",
            "|    degree.n    | 7  |     0.1714     |\n",
            "|    simple.a    | 5  |     0.1000     |\n",
            "|     use.v      | 6  |     0.2270     |\n",
            "|     plan.n     | 3  |     0.3977     |\n",
            "| performance.n  | 5  |     0.2277     |\n",
            "|    begin.v     | 8  |     0.1282     |\n",
            "|     eat.v      | 6  |     0.2096     |\n",
            "|  atmosphere.n  | 6  |     0.2265     |\n",
            "|   interest.n   | 5  |     0.1852     |\n",
            "|     rule.v     | 7  |     0.0905     |\n",
            "|    climb.v     | 6  |     0.1350     |\n",
            "| organization.n | 7  |     0.1734     |\n",
            "|    source.n    | 9  |     0.1260     |\n",
            "|    treat.v     | 8  |     0.1610     |\n",
            "|    expect.v    | 6  |     0.1920     |\n",
            "|  different.a   | 1  |     1.0000     |\n",
            "|   produce.v    | 7  |     0.1835     |\n",
            "|     play.v     | 34 |     0.0418     |\n",
            "|     win.v      | 4  |     0.2756     |\n",
            "|     hear.v     | 5  |     0.1651     |\n",
            "|   judgment.n   | 7  |     0.1360     |\n",
            "|    party.n     | 5  |     0.1733     |\n",
            "|   shelter.n    | 5  |     0.2500     |\n",
            "|     bank.n     | 9  |     0.0741     |\n",
            "|   express.v    | 7  |     0.2035     |\n",
            "|     mean.v     | 6  |     0.1688     |\n",
            "|   receive.v    | 13 |     0.1677     |\n",
            "|   operate.v    | 7  |     0.1876     |\n",
            "|    paper.n     | 7  |     0.1911     |\n",
            "|    watch.v     | 5  |     0.2449     |\n",
            "|    image.n     | 9  |     0.1309     |\n",
            "|  difference.n  | 5  |     0.2234     |\n",
            "|     talk.v     | 6  |     0.2410     |\n",
            "|    write.v     | 9  |     0.1260     |\n",
            "|     note.v     | 3  |     0.3684     |\n",
            "|    smell.v     | 4  |     0.2571     |\n",
            "|   provide.v    | 7  |     0.2225     |\n",
            "|     wash.v     | 13 |     0.0755     |\n",
            "+----------------+----+----------------+\n",
            "=> Average Paired F-Score:  0.1566\n"
          ]
        }
      ],
      "source": [
        "### Reference Code ###\n",
        "###### You can use the following code to test your clustering on dev data ######\n",
        "word_to_paraphrases_dict_dev, word_to_k_dict_dev = load_input_file('dev_input.txt')\n",
        "predicted_clusterings_random_dev = cluster_random(word_to_paraphrases_dict_dev, word_to_k_dict_dev)\n",
        "gold_clusterings_dev = load_output_file('dev_output.txt')\n",
        "f_score = evaluate_clusterings(gold_clusterings_dev, predicted_clusterings_random_dev)\n",
        "f_score"
      ]
    },
    {
      "cell_type": "markdown",
      "metadata": {
        "id": "DIrLRhCCANCd"
      },
      "source": [
        "Run the following command to generate the output file for the predicted clusterings for the test dataset."
      ]
    },
    {
      "cell_type": "code",
      "execution_count": 46,
      "metadata": {
        "id": "wvWFRKjVpjsV"
      },
      "outputs": [],
      "source": [
        "word_to_paraphrases_dict, word_to_k_dict = load_input_file('test_input.txt')\n",
        "predicted_clusterings_random = cluster_random(word_to_paraphrases_dict, word_to_k_dict)\n",
        "write_to_output_file('test_output_random.txt', predicted_clusterings_random)"
      ]
    },
    {
      "cell_type": "code",
      "execution_count": 47,
      "metadata": {
        "id": "LdCjRoPu8VrA",
        "colab": {
          "base_uri": "https://localhost:8080/"
        },
        "outputId": "b28dea8d-ad8f-4119-bf78-16621010b243"
      },
      "outputs": [
        {
          "output_type": "stream",
          "name": "stdout",
          "text": [
            "Correct! You earned 10/10 points. You are a star!\n",
            "\n",
            "Your submission has been successfully recorded in the gradebook.\n"
          ]
        }
      ],
      "source": [
        "# PennGrader - DO NOT CHANGE\n",
        "# reload_grader()\n",
        "grader.grade(test_case_id = 'test_q3_clusters_random', answer = (predicted_clusterings_random, 'random'))"
      ]
    },
    {
      "cell_type": "markdown",
      "metadata": {
        "id": "eXbO7_Rapj8M"
      },
      "source": [
        "## 3.2 Cluster with Sparse Representations [26 points]\n",
        "\n",
        "Write a function `cluster_with_sparse_representation(word_to_paraphrases_dict, word_to_k_dict)`. The input and output remains the same as in Task 1, however the clustering of paraphrases will no longer be random and is based on sparse vector representation.\n",
        "\n",
        "We will feature-based (not dense) vector space representation. In this type of VSM, each dimension of the vector space corresponds to a specific feature, such as a context word (see, for example, the term-context matrix described in [Chapter 6.1.2 of Jurafsky & Martin](https://web.stanford.edu/~jurafsky/slp3/6.pdf)). You will calculate cooccurrence vectors on the Reuters RCV1 corpus. It can take a long time to build cooccurrence vectors, so we have pre-built set called `coocvec-500mostfreq-window-3.filter.magnitude`. To save on space, these include only the words used in the given files. This representation of words uses a term-context matrix `M` of size `|V| x D`, where `|V|` is the size of the vocabulary and D=500. Each feature corresponds to one of the top 500 most-frequent words in the corpus. The value of matrix entry `M[i][j]` gives the number of times the context word represented by column `j` appeared within W=3 words to the left or right of the word represented by row `i` in the corpus.\n",
        "\n",
        "Use one of the clustering algorithms, for instance K-means clustering in `cluster_with_sparse_representation(word_to_paraphrases_dict, word_to_k_dict)`. Here is an example of the K-means clustering code:"
      ]
    },
    {
      "cell_type": "markdown",
      "metadata": {
        "id": "5Rx6g29gxlrE"
      },
      "source": [
        "# Recitation\n",
        "This function is tasked with clustering paraphrases based on sparse vector representations.\n",
        "We use concept of cooccurence matrix and sparse vector representations\n",
        "\n",
        "1. Cooccurrence Vectors: Cooccurrence vectors represent how often each word in the vocabulary co-occurs with every other word in a given context window.\n",
        "Suppose we have the following sentences in our corpus:\n",
        "\n",
        "* \"I like eating apples.\"\n",
        "* \"Apples are delicious.\"\n",
        "* \"She bought some apples from the market.\"\n",
        "* \"The teacher gave us apples as a snack.\"\n",
        "\n",
        "Our vocabulary consists of the following words: \"I\", \"like\", \"eating\", \"apples\", \"are\", \"delicious\", \"she\", \"bought\", \"some\", \"from\", \"the\", \"market\", \"teacher\", \"gave\", \"us\", \"as\", \"a\", \"snack\".\n",
        "\n",
        "The cooccurrence matrix would look something like this (simplified):\n",
        "\n",
        "|        | I | like | eating | apples | are | delicious | she | bought | some | from | the | market | teacher | gave | us | as | a | snack |\n",
        "|--------|---|------|--------|--------|-----|-----------|-----|--------|------|------|-----|--------|---------|------|----|----|---|-------|\n",
        "| I      | 0 | 1    | 0      | 0      | 0   | 0         | 0   | 0      | 0    | 0    | 0   | 0      | 0       | 0    | 0  | 0  | 0 | 0     |\n",
        "| like   | 1 | 0    | 1      | 0      | 0   | 0         | 0   | 0      | 0    | 0    | 0   | 0      | 0       | 0    | 0  | 0  | 0 | 0     |\n",
        "| eating | 0 | 1    | 0      | 1      | 0   | 0         | 0   | 0      | 0    | 0    | 0   | 0      | 0       | 0    | 0  | 0  | 0 | 0     |\n",
        "| apples | 0 | 0    | 1      | 0      | 1   | 1         | 1   | 1      | 1    | 1    | 1   | 1      | 0       | 0    | 0  | 0  | 0 | 0     |\n",
        "\n",
        "\n",
        "The value at position (i, j) in the matrix represents the number of times word i co-occurs with word j within the context window.\n",
        "\n",
        "This is an example of sparse vector representation because most of the matrix above is sparse. We are using sparse vector representation from Magnitude:\n",
        "\n",
        "**coocvec-500mostfreq-window-3.filter.magnitude**: Derived from a co-occurrence matrix based on a corpus like Reuters RCV1.Each dimension represents the count of the word's co-occurrence with one of the top 500 most frequent context words within a window of 3 words.\n"
      ]
    },
    {
      "cell_type": "markdown",
      "metadata": {
        "id": "gYTPLYmliqed"
      },
      "source": [
        "\n",
        "\n",
        "```\n",
        "from sklearn.cluster import KMeans\n",
        "kmeans = KMeans(n_clusters=k).fit(X)\n",
        "print(kmeans.labels_)\n",
        "```\n",
        "\n"
      ]
    },
    {
      "cell_type": "markdown",
      "metadata": {
        "id": "d8NhxobeLVJy"
      },
      "source": [
        "- **Problem 3.2:** Implement `cluster_with_sparse_representation` function [20 points]"
      ]
    },
    {
      "cell_type": "code",
      "execution_count": 48,
      "metadata": {
        "id": "32YASRIJZ4p0"
      },
      "outputs": [],
      "source": [
        "def cluster_with_sparse_representation(word_to_paraphrases_dict, word_to_k_dict):\n",
        "    \"\"\"\n",
        "    Clusters paraphrases using sparse vector representation\n",
        "    :param word_to_paraphrases_dict: dictionary, where key is a target word and value is a list of paraphrases\n",
        "    :param word_to_k_dict: dictionary, where key is a target word and value is a number of clusters\n",
        "    :return: dictionary, where key is a target word and value is a list of list of paraphrases,\n",
        "    where each list corresponds to a cluster\n",
        "    \"\"\"\n",
        "\n",
        "    vectors = Magnitude(\"coocvec-500mostfreq-window-3.filter.magnitude\")\n",
        "    clusterings = {}\n",
        "\n",
        "    for target_word in word_to_paraphrases_dict.keys():\n",
        "        paraphrase_list = word_to_paraphrases_dict[target_word]\n",
        "        k = word_to_k_dict[target_word]\n",
        "\n",
        "        paraphrase_vectors = []\n",
        "        clusters =[]\n",
        "\n",
        "        # When you query a word that is not in vectors, you will have this error. Please use np.random.rand(vectors.dim) to fill in, if the paraphrase is not in vectors\n",
        "\n",
        "        for paraphrase in paraphrase_list:\n",
        "            try:\n",
        "                vector = vectors.query(paraphrase)\n",
        "                paraphrase_vectors.append(vector)\n",
        "            except:\n",
        "                random_vector = np.random.rand(vectors.dim)\n",
        "                paraphrase_vectors.append(random_vector)\n",
        "\n",
        "        # Convert to numpy array for clustering\n",
        "        paraphrase_vectors = np.array(paraphrase_vectors)\n",
        "\n",
        "        #kmeans = KMeans(n_clusters=k).fit(X)\n",
        "        kmeans = KMeans(n_clusters=k, random_state=123)\n",
        "        cluster_labels = kmeans.fit_predict(paraphrase_vectors)\n",
        "\n",
        "        # Group paraphrases by cluster\n",
        "        # clusters = [[] for _ in range(k)]\n",
        "        for i in range(k):\n",
        "            clusters.append([])\n",
        "\n",
        "\n",
        "        # Now we use paraphrase_list instead of valid_paraphrases since we keep all words\n",
        "        for paraphrase, label in zip(paraphrase_list, cluster_labels):\n",
        "            clusters[label].append(paraphrase)\n",
        "            clusterings[target_word] = clusters\n",
        "\n",
        "\n",
        "    return clusterings"
      ]
    },
    {
      "cell_type": "markdown",
      "metadata": {
        "id": "XqnAm7ohxuzD"
      },
      "source": [
        "# Recitation\n",
        "Example:\n",
        "\n",
        "        word_to_paraphrases_dict = {\n",
        "        'note.v': ['comment', 'mark', 'tell', 'observe', 'state', 'notice', 'say', 'remark', 'mention'],\n",
        "        'hot.a': ['raging', 'spicy', 'blistering', 'red-hot', 'live']\n",
        "                                    }\n",
        "\n",
        "          word_to_k_dict = {\n",
        "          'note.v': 3,\n",
        "          'hot.a': 2\n",
        "                           }\n",
        "        Expected output :\n",
        "        {\n",
        "            'note.v': [['remark', 'mention'], ['comment', 'state', 'tell', 'mark'], ['observe', 'say', 'notice']],\n",
        "            'hot.a': [['blistering', 'red-hot'], ['live', 'spicy', 'raging']]\n",
        "        }\n",
        "          x (matrix of features):         Represent each word in 500 dimensions\n",
        "          Word      dim1 dim2 dim3....dim500\n",
        "          comment   ........................\n",
        "          mark      ........................\n",
        "          .\n",
        "          .\n",
        "          .\n",
        "          mention   ,,,,,,,,,,,,,,,,,,,,,,,,\n",
        "          if dimensions of the word not present in magnitude, randomly draw a vector from magnitude\n",
        "        \n",
        "        Once you have your X, run k means on that.\n",
        "        #Kmeans must have assigned a cluster no to each of the 3 paraphrase\n",
        "            #comment 0\n",
        "            #tell 1\n",
        "            #state 1\n",
        "            #say 0\n",
        "\n",
        "        Based on above (paraphrase,cluster no) pair, make your list of lists and hence your output dictionary\n",
        "        "
      ]
    },
    {
      "cell_type": "markdown",
      "metadata": {
        "id": "6q1d4gGaL3jD"
      },
      "source": [
        "**Answer 3.2.1:** Run clustering on `dev` data, report the `f_scores` from the `dev` data [1 point]"
      ]
    },
    {
      "cell_type": "markdown",
      "metadata": {
        "id": "TqZdlNrXAyUe"
      },
      "source": [
        "**TODO**: [Report f_scores from the dev data]"
      ]
    },
    {
      "cell_type": "code",
      "execution_count": 49,
      "metadata": {
        "id": "fI6ViokIL4Pu",
        "colab": {
          "base_uri": "https://localhost:8080/"
        },
        "outputId": "c812a923-880e-4016-a598-5bc631d3f273"
      },
      "outputs": [
        {
          "output_type": "stream",
          "name": "stdout",
          "text": [
            "+----------------+----+----------------+\n",
            "|     Target     | k  | Paired F-Score |\n",
            "+----------------+----+----------------+\n",
            "|   suspend.v    | 6  |     0.2432     |\n",
            "|     miss.v     | 8  |     0.1463     |\n",
            "|    degree.n    | 7  |     0.4100     |\n",
            "|    simple.a    | 5  |     0.2564     |\n",
            "|     use.v      | 6  |     0.5697     |\n",
            "|     plan.n     | 3  |     0.5032     |\n",
            "| performance.n  | 5  |     0.4421     |\n",
            "|    begin.v     | 8  |     0.2747     |\n",
            "|     eat.v      | 6  |     0.4052     |\n",
            "|  atmosphere.n  | 6  |     0.4174     |\n",
            "|   interest.n   | 5  |     0.2960     |\n",
            "|     rule.v     | 7  |     0.2613     |\n",
            "|    climb.v     | 6  |     0.2414     |\n",
            "| organization.n | 7  |     0.4063     |\n",
            "|    source.n    | 9  |     0.2741     |\n",
            "|    treat.v     | 8  |     0.3008     |\n",
            "|    expect.v    | 6  |     0.2830     |\n",
            "|  different.a   | 1  |     1.0000     |\n",
            "|   produce.v    | 7  |     0.4310     |\n",
            "|     play.v     | 34 |     0.1144     |\n",
            "|     win.v      | 4  |     0.4573     |\n",
            "|     hear.v     | 5  |     0.4246     |\n",
            "|   judgment.n   | 7  |     0.3016     |\n",
            "|    party.n     | 5  |     0.3283     |\n",
            "|   shelter.n    | 5  |     0.3942     |\n",
            "|     bank.n     | 9  |     0.3038     |\n",
            "|   express.v    | 7  |     0.3852     |\n",
            "|     mean.v     | 6  |     0.2366     |\n",
            "|   receive.v    | 13 |     0.1963     |\n",
            "|   operate.v    | 7  |     0.2794     |\n",
            "|    paper.n     | 7  |     0.3687     |\n",
            "|    watch.v     | 5  |     0.3824     |\n",
            "|    image.n     | 9  |     0.2678     |\n",
            "|  difference.n  | 5  |     0.4777     |\n",
            "|     talk.v     | 6  |     0.4758     |\n",
            "|    write.v     | 9  |     0.3212     |\n",
            "|     note.v     | 3  |     0.4390     |\n",
            "|    smell.v     | 4  |     0.3182     |\n",
            "|   provide.v    | 7  |     0.5642     |\n",
            "|     wash.v     | 13 |     0.1509     |\n",
            "+----------------+----+----------------+\n",
            "=> Average Paired F-Score:  0.3067\n"
          ]
        }
      ],
      "source": [
        "# YOUR CODE HERE (you can re-use reference code from 3.1)\n",
        "word_to_paraphrases_dict_dev, word_to_k_dict_dev = load_input_file('dev_input.txt')\n",
        "predicted_clusterings_random_dev = cluster_with_sparse_representation(word_to_paraphrases_dict_dev, word_to_k_dict_dev)\n",
        "gold_clusterings_dev = load_output_file('dev_output.txt')\n",
        "f_score = evaluate_clusterings(gold_clusterings_dev, predicted_clusterings_random_dev)\n",
        "f_score"
      ]
    },
    {
      "cell_type": "markdown",
      "metadata": {
        "id": "kitStHe3AuPL"
      },
      "source": [
        "Run the following command to generate the output file for the predicted clusterings for the test dataset."
      ]
    },
    {
      "cell_type": "code",
      "execution_count": 50,
      "metadata": {
        "id": "wUWjirVALhAp"
      },
      "outputs": [],
      "source": [
        "word_to_paraphrases_dict, word_to_k_dict = load_input_file('test_input.txt')\n",
        "predicted_clusterings_sparse = cluster_with_sparse_representation(word_to_paraphrases_dict, word_to_k_dict)\n",
        "write_to_output_file('test_output_sparse.txt', predicted_clusterings_sparse)"
      ]
    },
    {
      "cell_type": "code",
      "execution_count": 51,
      "metadata": {
        "id": "_J_OYL3YAfsK",
        "colab": {
          "base_uri": "https://localhost:8080/"
        },
        "outputId": "64e9e0b2-5dc9-482f-a3f5-6f6db3fe70db"
      },
      "outputs": [
        {
          "output_type": "stream",
          "name": "stdout",
          "text": [
            "Correct! You earned 20/20 points. You are a star!\n",
            "\n",
            "Your submission has been successfully recorded in the gradebook.\n"
          ]
        }
      ],
      "source": [
        "# PennGrader - DO NOT CHANGE\n",
        "# reload_grader()\n",
        "grader.grade(test_case_id = 'test_q3_clusters_sparse', answer = (predicted_clusterings_sparse, 'sparse'))"
      ]
    },
    {
      "cell_type": "markdown",
      "metadata": {
        "id": "ku8Ymx_djo0x"
      },
      "source": [
        "**Answer 3.2.2:** Provide a brief description of your method in the report, making sure to describe the vector space model you chose, the clustering algorithm you used, and the results of any preliminary experiments you might have run on the dev set.  [5 points]"
      ]
    },
    {
      "cell_type": "markdown",
      "metadata": {
        "id": "41LGnqdmLiVM"
      },
      "source": [
        "Suggestions to improve the performance of your model:\n",
        "\n",
        " - ~~What if you reduce or increase `D` in the baseline implementation?  **-> Increase or decrease Dimensions from 500, use such vector representation**~~\n",
        "\n",
        " - ~~Does it help to change the window `W` used to extract contexts? **-> The file coocvec-500mostfreq-window-3.filter.magnitude contains vectors that were generated with a window size W=3.This means that when the co-occurrence matrix was built, the context for each word was determined by considering up to 3 words to the left and 3 words to the right.Try changing that. use such vector representation**~~\n",
        "\n",
        " - Play around with the feature weighting – instead of raw counts, would it help to use PPMI? -**> Convert your co-occurrence matrix to a PPMI matrix and use these weighted vectors for clustering.**\n",
        "\n",
        " - Try a different clustering algorithm that’s included with the [scikit-learn clustering package](http://scikit-learn.org/stable/modules/clustering.html), or implement your own. **-> Agglomerative Clustering, DBSCAN**\n",
        "\n",
        " - What if you include additional types of features, like paraphrases in the [Paraphrase Database](http://www.paraphrase.org/) or the part-of-speech of context words? **-> Enrich your vectors with additional features and observe the impact on clustering performance.**\n",
        "\n",
        "The only feature types that are off-limits are WordNet features.\n",
        "\n",
        "Provide a brief description of your method in the Report, making sure to describe the vector space model you chose, the clustering algorithm you used, and the results of any preliminary experiments you might have run on the dev set."
      ]
    },
    {
      "cell_type": "code",
      "execution_count": 52,
      "metadata": {
        "id": "Gt7WP9HCUuTN"
      },
      "outputs": [],
      "source": [
        "#This cluster uses Agglomerative Clustering\n",
        "from sklearn.cluster import AgglomerativeClustering\n",
        "def cluster_with_sparse_representation_AC(word_to_paraphrases_dict, word_to_k_dict):\n",
        "\n",
        "    vectors = Magnitude(\"coocvec-500mostfreq-window-3.filter.magnitude\")\n",
        "    clusterings = {}\n",
        "\n",
        "    for target_word in word_to_paraphrases_dict.keys():\n",
        "        paraphrase_list = word_to_paraphrases_dict[target_word]\n",
        "        k = word_to_k_dict[target_word]\n",
        "\n",
        "        paraphrase_vectors = []\n",
        "        clusters = []\n",
        "\n",
        "        # When you query a word that is not in vectors, you will have this error. Please use np.random.rand(vectors.dim) to fill in, if the paraphrase is not in vectors\n",
        "        for paraphrase in paraphrase_list:\n",
        "            try:\n",
        "\n",
        "                vector = vectors.query(paraphrase)\n",
        "                paraphrase_vectors.append(vector)\n",
        "            except:\n",
        "\n",
        "                random_vector = np.random.rand(vectors.dim)\n",
        "                paraphrase_vectors.append(random_vector)\n",
        "\n",
        "        paraphrase_vectors = np.array(paraphrase_vectors)\n",
        "\n",
        "        if len(paraphrase_list) > 0:\n",
        "            # Perform agglomerative clustering\n",
        "            AC = AgglomerativeClustering(\n",
        "                n_clusters =k,\n",
        "                metric='euclidean',\n",
        "                linkage='single'\n",
        "            )\n",
        "            cluster_labels = AC.fit_predict(paraphrase_vectors)\n",
        "\n",
        "            for i in range(k):\n",
        "                clusters.append([])\n",
        "\n",
        "            for paraphrase, label in zip(paraphrase_list, cluster_labels):\n",
        "                clusters[label].append(paraphrase)\n",
        "\n",
        "            clusterings[target_word] = clusters\n",
        "        else:\n",
        "            clusters = []\n",
        "            for i in range(k):\n",
        "                clusters.append([])\n",
        "            clusterings[target_word] = clusters\n",
        "\n",
        "    return clusterings"
      ]
    },
    {
      "cell_type": "code",
      "execution_count": 53,
      "metadata": {
        "id": "vGVHHkY5Uwif",
        "colab": {
          "base_uri": "https://localhost:8080/"
        },
        "outputId": "43aa244d-2d8b-42b4-bc13-0cb00e8e5bc0"
      },
      "outputs": [
        {
          "output_type": "stream",
          "name": "stdout",
          "text": [
            "+----------------+----+----------------+\n",
            "|     Target     | k  | Paired F-Score |\n",
            "+----------------+----+----------------+\n",
            "|   suspend.v    | 6  |     0.2830     |\n",
            "|     miss.v     | 8  |     0.2098     |\n",
            "|    degree.n    | 7  |     0.4085     |\n",
            "|    simple.a    | 5  |     0.2564     |\n",
            "|     use.v      | 6  |     0.6499     |\n",
            "|     plan.n     | 3  |     0.6118     |\n",
            "| performance.n  | 5  |     0.4454     |\n",
            "|    begin.v     | 8  |     0.3431     |\n",
            "|     eat.v      | 6  |     0.4069     |\n",
            "|  atmosphere.n  | 6  |     0.4201     |\n",
            "|   interest.n   | 5  |     0.2960     |\n",
            "|     rule.v     | 7  |     0.2911     |\n",
            "|    climb.v     | 6  |     0.3275     |\n",
            "| organization.n | 7  |     0.4051     |\n",
            "|    source.n    | 9  |     0.2759     |\n",
            "|    treat.v     | 8  |     0.3255     |\n",
            "|    expect.v    | 6  |     0.4205     |\n",
            "|  different.a   | 1  |     1.0000     |\n",
            "|   produce.v    | 7  |     0.4314     |\n",
            "|     play.v     | 34 |     0.1783     |\n",
            "|     win.v      | 4  |     0.4892     |\n",
            "|     hear.v     | 5  |     0.3234     |\n",
            "|   judgment.n   | 7  |     0.3053     |\n",
            "|    party.n     | 5  |     0.3284     |\n",
            "|   shelter.n    | 5  |     0.3960     |\n",
            "|     bank.n     | 9  |     0.2429     |\n",
            "|   express.v    | 7  |     0.3846     |\n",
            "|     mean.v     | 6  |     0.4361     |\n",
            "|   receive.v    | 13 |     0.2289     |\n",
            "|   operate.v    | 7  |     0.2792     |\n",
            "|    paper.n     | 7  |     0.4803     |\n",
            "|    watch.v     | 5  |     0.4400     |\n",
            "|    image.n     | 9  |     0.2694     |\n",
            "|  difference.n  | 5  |     0.4817     |\n",
            "|     talk.v     | 6  |     0.4976     |\n",
            "|    write.v     | 9  |     0.3231     |\n",
            "|     note.v     | 3  |     0.6400     |\n",
            "|    smell.v     | 4  |     0.5000     |\n",
            "|   provide.v    | 7  |     0.5827     |\n",
            "|     wash.v     | 13 |     0.1543     |\n",
            "+----------------+----+----------------+\n",
            "=> Average Paired F-Score:  0.3400\n"
          ]
        }
      ],
      "source": [
        "word_to_paraphrases_dict_dev, word_to_k_dict_dev = load_input_file('dev_input.txt')\n",
        "predicted_clusterings_random_dev = cluster_with_sparse_representation_AC(word_to_paraphrases_dict_dev, word_to_k_dict_dev)\n",
        "gold_clusterings_dev = load_output_file('dev_output.txt')\n",
        "f_score = evaluate_clusterings(gold_clusterings_dev, predicted_clusterings_random_dev)\n",
        "f_score"
      ]
    },
    {
      "cell_type": "markdown",
      "metadata": {
        "id": "btx89xeVA3lC"
      },
      "source": [
        "**TODO**: Description of your mothod\n",
        "\n",
        "This method uses Agglomerative Clustering along with sparse vector representation. Sme params I used are euclidian distance and single linkage to minimize distances between clusters. At first I used cosine metric but it did not give an great f-score compared to euclidean."
      ]
    },
    {
      "cell_type": "markdown",
      "metadata": {
        "id": "r1gDMVIeL7Bs"
      },
      "source": [
        "## 3.3 Cluster with Dense Representations [28 points]\n",
        "\n",
        "Write a function `cluster_with_dense_representation(word_to_paraphrases_dict, word_to_k_dict)`. The input and output remains the same as in Task 1 and 2, however the clustering of paraphrases is based on dense vector representation.\n",
        "\n",
        "We would like to see if dense word embeddings are better for clustering the words in our test set. Run the word clustering task again, but this time use a dense word representation.\n",
        "\n",
        "For this task, we have also included a file called `GoogleNews-vectors-negative300.filter.magnitude`, which is filtered to contain only the words in the dev/test splits.\n",
        "\n",
        "As before, use the provided word vectors to represent words and perform one of the clusterings. Here are some suggestions to improve the performance of your model:\n",
        "\n",
        " - Try downloading a different dense vector space model from the web, like [Paragram](http://www.cs.cmu.edu/~jwieting/) or [fastText](https://fasttext.cc/docs/en/english-vectors.html).\n",
        " - Train your own word vectors, either on the provided corpus or something you find online. You can try the skip-gram, CBOW models, or [GLOVE](https://nlp.stanford.edu/projects/glove/). Try experimenting with the dimensionality.\n",
        " - [Retrofitting](https://www.cs.cmu.edu/~hovy/papers/15HLT-retrofitting-word-vectors.pdf) is a simple way to add additional semantic knowledge to pre-trained vectors. The retrofitting code is available here. Experiment with different lexicons, or even try [counter-fitting](http://www.aclweb.org/anthology/N16-1018)."
      ]
    },
    {
      "cell_type": "markdown",
      "metadata": {
        "id": "AFuNXJyQMD5B"
      },
      "source": [
        "- **Problem 3.3:** Implement `cluster_with_dense_representation` function [20 points]"
      ]
    },
    {
      "cell_type": "markdown",
      "metadata": {
        "id": "yB8Jro8ex5sp"
      },
      "source": [
        "# Recitation\n",
        "**GoogleNews-vectors-negative300.magnitude:**\n",
        "\n",
        "\n",
        "\n",
        "*   Dense vector representation.\n",
        "*   Trained on a large corpus of Google News articles.\n",
        "*   300 dimensions\n",
        "\n",
        "300 dimensions\n"
      ]
    },
    {
      "cell_type": "code",
      "execution_count": 54,
      "metadata": {
        "id": "gK2D-aKsaOVp"
      },
      "outputs": [],
      "source": [
        "def cluster_with_dense_representation(word_to_paraphrases_dict, word_to_k_dict):\n",
        "    \"\"\"\n",
        "    Clusters paraphrases using dense vector representation\n",
        "    :param word_to_paraphrases_dict: dictionary, where key is a target word and value is a list of paraphrases\n",
        "    :param word_to_k_dict: dictionary, where key is a target word and value is a number of clusters\n",
        "    :return: dictionary, where key is a target word and value is a list of list of paraphrases,\n",
        "    where each list corresponds to a cluster\n",
        "    \"\"\"\n",
        "\n",
        "    vectors = Magnitude(\"GoogleNews-vectors-negative300.magnitude\")\n",
        "    clusterings = {}\n",
        "\n",
        "    for target_word in word_to_paraphrases_dict.keys():\n",
        "        paraphrase_list = word_to_paraphrases_dict[target_word]\n",
        "        k = word_to_k_dict[target_word]\n",
        "\n",
        "        paraphrase_vectors = []\n",
        "\n",
        "        for paraphrase in paraphrase_list:\n",
        "            try:\n",
        "                vector = vectors.query(paraphrase)\n",
        "                paraphrase_vectors.append(vector)\n",
        "            except:\n",
        "                random_vector = np.random.rand(vectors.dim)\n",
        "                paraphrase_vectors.append(random_vector)\n",
        "        paraphrase_vectors = np.array(paraphrase_vectors)\n",
        "\n",
        "        if len(paraphrase_list) > 0:\n",
        "\n",
        "            # ac = AgglomerativeClustering(\n",
        "            #     n_clusters=k,\n",
        "            #     metric='cosine',     # Using cosine distance for word vectors\n",
        "            #     linkage='single'     # Using single linkage\n",
        "            # )\n",
        "            # cluster_labels = ac.fit_predict(paraphrase_vectors)\n",
        "            kmeans = KMeans(\n",
        "                n_clusters=k,\n",
        "                random_state=123,\n",
        "                n_init=20\n",
        "            )\n",
        "            cluster_labels = kmeans.fit_predict(paraphrase_vectors)\n",
        "\n",
        "            clusters = []\n",
        "            for i in range(k):\n",
        "                clusters.append([])\n",
        "\n",
        "            for paraphrase, label in zip(paraphrase_list, cluster_labels):\n",
        "                clusters[label].append(paraphrase)\n",
        "\n",
        "            clusterings[target_word] = clusters\n",
        "        else:\n",
        "            clusters = []\n",
        "            for i in range(k):\n",
        "                clusters.append([])\n",
        "            clusterings[target_word] = clusters\n",
        "\n",
        "    return clusterings"
      ]
    },
    {
      "cell_type": "markdown",
      "metadata": {
        "id": "rtfulbcTBM7k"
      },
      "source": [
        "**Answer 3.3.1:** Run clustering on `dev` data, report the `f_scores` from the `dev` data [1 point]"
      ]
    },
    {
      "cell_type": "markdown",
      "metadata": {
        "id": "I7HJWGCLMAC9"
      },
      "source": [
        "**TODO**: [Report f_scores from the dev data]"
      ]
    },
    {
      "cell_type": "code",
      "execution_count": 55,
      "metadata": {
        "id": "-JBHo0u5MAC9",
        "colab": {
          "base_uri": "https://localhost:8080/"
        },
        "outputId": "cd067610-4588-46fc-8757-7e2adf2513b0"
      },
      "outputs": [
        {
          "output_type": "stream",
          "name": "stdout",
          "text": [
            "+----------------+----+----------------+\n",
            "|     Target     | k  | Paired F-Score |\n",
            "+----------------+----+----------------+\n",
            "|   suspend.v    | 6  |     0.5965     |\n",
            "|     miss.v     | 8  |     0.2400     |\n",
            "|    degree.n    | 7  |     0.4280     |\n",
            "|    simple.a    | 5  |     0.2857     |\n",
            "|     use.v      | 6  |     0.3472     |\n",
            "|     plan.n     | 3  |     0.6387     |\n",
            "| performance.n  | 5  |     0.4427     |\n",
            "|    begin.v     | 8  |     0.4607     |\n",
            "|     eat.v      | 6  |     0.4213     |\n",
            "|  atmosphere.n  | 6  |     0.3402     |\n",
            "|   interest.n   | 5  |     0.5318     |\n",
            "|     rule.v     | 7  |     0.2619     |\n",
            "|    climb.v     | 6  |     0.2667     |\n",
            "| organization.n | 7  |     0.3614     |\n",
            "|    source.n    | 9  |     0.2974     |\n",
            "|    treat.v     | 8  |     0.3181     |\n",
            "|    expect.v    | 6  |     0.4312     |\n",
            "|  different.a   | 1  |     1.0000     |\n",
            "|   produce.v    | 7  |     0.4450     |\n",
            "|     play.v     | 34 |     0.1490     |\n",
            "|     win.v      | 4  |     0.3904     |\n",
            "|     hear.v     | 5  |     0.3259     |\n",
            "|   judgment.n   | 7  |     0.2498     |\n",
            "|    party.n     | 5  |     0.3490     |\n",
            "|   shelter.n    | 5  |     0.4574     |\n",
            "|     bank.n     | 9  |     0.4179     |\n",
            "|   express.v    | 7  |     0.4058     |\n",
            "|     mean.v     | 6  |     0.3381     |\n",
            "|   receive.v    | 13 |     0.1965     |\n",
            "|   operate.v    | 7  |     0.2833     |\n",
            "|    paper.n     | 7  |     0.4416     |\n",
            "|    watch.v     | 5  |     0.4324     |\n",
            "|    image.n     | 9  |     0.3082     |\n",
            "|  difference.n  | 5  |     0.4776     |\n",
            "|     talk.v     | 6  |     0.6114     |\n",
            "|    write.v     | 9  |     0.3171     |\n",
            "|     note.v     | 3  |     0.5714     |\n",
            "|    smell.v     | 4  |     0.3696     |\n",
            "|   provide.v    | 7  |     0.6243     |\n",
            "|     wash.v     | 13 |     0.2369     |\n",
            "+----------------+----+----------------+\n",
            "=> Average Paired F-Score:  0.3487\n"
          ]
        }
      ],
      "source": [
        "# YOUR CODE HERE (you can re-use reference code from 3.1)\n",
        "word_to_paraphrases_dict_dev, word_to_k_dict_dev = load_input_file('dev_input.txt')\n",
        "predicted_clusterings_random_dev = cluster_with_dense_representation(word_to_paraphrases_dict_dev, word_to_k_dict_dev)\n",
        "gold_clusterings_dev = load_output_file('dev_output.txt')\n",
        "f_score = evaluate_clusterings(gold_clusterings_dev, predicted_clusterings_random_dev)\n",
        "f_score"
      ]
    },
    {
      "cell_type": "code",
      "execution_count": 55,
      "metadata": {
        "id": "bD-amBKwL_4g"
      },
      "outputs": [],
      "source": []
    },
    {
      "cell_type": "markdown",
      "metadata": {
        "id": "-q_THdDDaOep"
      },
      "source": [
        "As before, run the following command to generate the output file for the predicted clusterings for the test dataset."
      ]
    },
    {
      "cell_type": "code",
      "execution_count": 56,
      "metadata": {
        "id": "DOErpQxTMiiJ"
      },
      "outputs": [],
      "source": [
        "word_to_paraphrases_dict, word_to_k_dict = load_input_file('test_input.txt')\n",
        "predicted_clusterings_dense = cluster_with_dense_representation(word_to_paraphrases_dict, word_to_k_dict)\n",
        "write_to_output_file('test_output_dense.txt', predicted_clusterings_dense)"
      ]
    },
    {
      "cell_type": "code",
      "execution_count": 57,
      "metadata": {
        "id": "hMigGstY8npi",
        "colab": {
          "base_uri": "https://localhost:8080/"
        },
        "outputId": "15208229-0687-4706-a4a3-db5de68a50e7"
      },
      "outputs": [
        {
          "output_type": "stream",
          "name": "stdout",
          "text": [
            "Correct! You earned 20/20 points. You are a star!\n",
            "\n",
            "Your submission has been successfully recorded in the gradebook.\n"
          ]
        }
      ],
      "source": [
        "# PennGrader - DO NOT CHANGE\n",
        "# reload_grader()\n",
        "grader.grade(test_case_id = 'test_q3_clusters_dense', answer = (predicted_clusterings_dense, 'dense'))"
      ]
    },
    {
      "cell_type": "markdown",
      "metadata": {
        "id": "a_vDHhZHBjN_"
      },
      "source": [
        "**Answer 3.3.2:** Provide a brief description of your method in the report that includes the vectors you used, and any experimental results you have from running your model on the dev set.  [5 points]"
      ]
    },
    {
      "cell_type": "markdown",
      "metadata": {
        "id": "fGUaOkJfB4As"
      },
      "source": [
        "**TODO**: [Describe your method]"
      ]
    },
    {
      "cell_type": "markdown",
      "metadata": {
        "id": "7vHlYWaxMkUC"
      },
      "source": [
        "**Answer 3.3.3:** In addition, for Task 3.2 and 3.3, do an analysis of different errors made by each system – i.e. look at instances that the word-context matrix representation gets wrong and dense gets right, and vice versa, and see if there are any interesting patterns. There is no right answer for this. [2 points]"
      ]
    },
    {
      "cell_type": "markdown",
      "metadata": {
        "id": "jOjWndvWyQVy"
      },
      "source": [
        "# Recitation\n",
        "To compare, make a dataframe\n",
        "**Target word | F score_ sparse | F score_dense | Diff sparse - dense | Diff dense - sparse**\n",
        "\n",
        "Now sort based on diff_sparse and diff_dense to identify words where one works better than other"
      ]
    },
    {
      "cell_type": "markdown",
      "metadata": {
        "id": "3cIodXdnB6P7"
      },
      "source": [
        "**TODO**: [Error analysis]"
      ]
    },
    {
      "cell_type": "markdown",
      "metadata": {
        "id": "T6ELKOARMnBH"
      },
      "source": [
        "## 3.4 Cluster without K [31 points]\n",
        "\n",
        "So far we made the clustering problem deliberately easier by providing you with `k`, the number of clusters, as an input. But in most clustering situations the best `k` is not given. To take this assignment one step further, see if you can come up with a way to automatically choose `k`.\n",
        "\n",
        "Write a function `cluster_with_no_k(word_to_paraphrases_dict)` that accepts only the first dictionary as an input and produces clusterings for given target words.\n",
        "\n",
        "We have provided an additional test set `test_nok_input.txt`, where the `k` field has been zeroed out. See if you can come up with a method that clusters words by sense, and chooses the best `k` on its own. You can start by assigning `k=5` for all target words as a baseline model.\n",
        "\n",
        "You might want to try and use the development data to analyze how got is your model in determining `k`.\n",
        "\n",
        "One of the ways to approach this challenge is to try and select best `k` for a target word and a list of paraphrases is to use try out a range of `k`'s and judge the performance of the clusterings based on some metric, for instance a [silhouette score](https://scikit-learn.org/stable/modules/generated/sklearn.metrics.silhouette_score.html).\n",
        "\n",
        "Be sure to describe your method in the Report."
      ]
    },
    {
      "cell_type": "markdown",
      "metadata": {
        "id": "qHwYHJlPMQJb"
      },
      "source": [
        "- **Problem 3.4:** Implement `cluster_with_no_k` function [25 points]\n"
      ]
    },
    {
      "cell_type": "markdown",
      "metadata": {
        "id": "-4G-4nBVyJdy"
      },
      "source": [
        "# Recitation\n",
        "**Till now we had been giving K and you used that in K means to split your paraphrase list into list of lists (clusters). Now in this section we dont give you K. For this, Keep logic similar where you were preparing matrix of features. Next step : Try K means using diff number of clusters. Calculate silhouette score for each number and finally chose the optimal no of clusters for that target word**"
      ]
    },
    {
      "cell_type": "code",
      "execution_count": 58,
      "metadata": {
        "id": "naUpFNx49AN8"
      },
      "outputs": [],
      "source": [
        "from sklearn.metrics import silhouette_score # Hint: this could be useful if you want to use silhouette_score as distance metric"
      ]
    },
    {
      "cell_type": "code",
      "execution_count": 69,
      "metadata": {
        "id": "BWeQwrJmakL2"
      },
      "outputs": [],
      "source": [
        "def cluster_with_no_k(word_to_paraphrases_dict):\n",
        "    \"\"\"\n",
        "    Clusters paraphrases using any vector representation\n",
        "    :param word_to_paraphrases_dict: dictionary, where key is a target word and value is a list of paraphrases\n",
        "    :return: dictionary, where key is a target word and value is a list of list of paraphrases,\n",
        "    where each list corresponds to a cluster\n",
        "    \"\"\"\n",
        "    from sklearn.cluster import KMeans\n",
        "    from sklearn.metrics import silhouette_score\n",
        "    import numpy as np\n",
        "\n",
        "    vectors = Magnitude(\"GoogleNews-vectors-negative300.magnitude\")\n",
        "    clusterings = {}\n",
        "\n",
        "    for target_word in word_to_paraphrases_dict.keys():\n",
        "        paraphrase_list = word_to_paraphrases_dict[target_word]\n",
        "        paraphrase_vectors = []\n",
        "        valid_paraphrases = []\n",
        "\n",
        "        for paraphrase in paraphrase_list:\n",
        "            try:\n",
        "                vector = vectors.query(paraphrase)\n",
        "                paraphrase_vectors.append(vector)\n",
        "                valid_paraphrases.append(paraphrase)\n",
        "            except:\n",
        "                random_vector = np.random.rand(vectors.dim)\n",
        "                paraphrase_vectors.append(random_vector)\n",
        "                valid_paraphrases.append(paraphrase)\n",
        "\n",
        "        paraphrase_vectors = np.array(paraphrase_vectors)\n",
        "\n",
        "        if len(valid_paraphrases) > 0:\n",
        "            n_samples = len(valid_paraphrases)\n",
        "            max_k = min(10, n_samples - 1)\n",
        "\n",
        "            if n_samples < 2:\n",
        "                optimal_k = 1\n",
        "            else:\n",
        "                min_k = 2\n",
        "                max_k_for_silhouette = min(max_k, n_samples - 1)\n",
        "\n",
        "                if max_k_for_silhouette < min_k:\n",
        "                    optimal_k = 1\n",
        "                else:\n",
        "                    silhouette_scores = []\n",
        "                    k_values = range(min_k, max_k_for_silhouette + 1)\n",
        "                    #debug this later\n",
        "                    for k in k_values:\n",
        "                        try:\n",
        "                            kmeans = KMeans(n_clusters=k, random_state=123, n_init=15)\n",
        "                            cluster_labels = kmeans.fit_predict(paraphrase_vectors)\n",
        "                            score = silhouette_score(paraphrase_vectors, cluster_labels)\n",
        "                            silhouette_scores.append(score)\n",
        "                            # print(f\"For k={k}, silhouette score: {score}\")\n",
        "\n",
        "                        except:\n",
        "                            silhouette_scores.append(-1)\n",
        "\n",
        "\n",
        "                    if len(silhouette_scores) > 0 and max(silhouette_scores) > 0:\n",
        "                        optimal_k = k_values[np.argmax(silhouette_scores)]\n",
        "                    else:\n",
        "                        optimal_k = min(5, max(1, n_samples // 2))\n",
        "\n",
        "            kmeans = KMeans(n_clusters=optimal_k, random_state=42, n_init=10)\n",
        "            cluster_labels = kmeans.fit_predict(paraphrase_vectors)\n",
        "\n",
        "            clusters = []\n",
        "            for i in range(optimal_k):\n",
        "                clusters.append([])\n",
        "\n",
        "            for paraphrase, label in zip(valid_paraphrases, cluster_labels):\n",
        "                clusters[label].append(paraphrase)\n",
        "\n",
        "            clusters = [cluster for cluster in clusters if len(cluster) > 0]\n",
        "            clusterings[target_word] = clusters\n",
        "        else:\n",
        "            clusterings[target_word] = [[]]\n",
        "\n",
        "    return clusterings"
      ]
    },
    {
      "cell_type": "markdown",
      "metadata": {
        "id": "SSquG6HBCNXW"
      },
      "source": [
        "**Answer 3.4.1:** Run clustering on `dev` data, report the `f_scores` from the `dev` data [1 point]"
      ]
    },
    {
      "cell_type": "markdown",
      "metadata": {
        "id": "ilQ8iSrECYZN"
      },
      "source": [
        "**TODO:** [Report f_score on dev data]"
      ]
    },
    {
      "cell_type": "code",
      "execution_count": 69,
      "metadata": {
        "id": "Mm-yLsf5ddcO"
      },
      "outputs": [],
      "source": []
    },
    {
      "cell_type": "code",
      "execution_count": 70,
      "metadata": {
        "id": "vlLfP-jQCZMW",
        "colab": {
          "base_uri": "https://localhost:8080/"
        },
        "outputId": "5f0ebff5-1a1f-4116-d6fe-9f2a5f050b08"
      },
      "outputs": [
        {
          "output_type": "stream",
          "name": "stdout",
          "text": [
            "+----------------+----+----------------+\n",
            "|     Target     | k  | Paired F-Score |\n",
            "+----------------+----+----------------+\n",
            "|   suspend.v    | 6  |     0.4878     |\n",
            "|     miss.v     | 8  |     0.3058     |\n",
            "|    degree.n    | 7  |     0.4276     |\n",
            "|    simple.a    | 5  |     0.3902     |\n",
            "|     use.v      | 6  |     0.6243     |\n",
            "|     plan.n     | 3  |     0.6376     |\n",
            "| performance.n  | 5  |     0.4498     |\n",
            "|    begin.v     | 8  |     0.3382     |\n",
            "|     eat.v      | 6  |     0.4283     |\n",
            "|  atmosphere.n  | 6  |     0.3773     |\n",
            "|   interest.n   | 5  |     0.3277     |\n",
            "|     rule.v     | 7  |     0.3129     |\n",
            "|    climb.v     | 6  |     0.2192     |\n",
            "| organization.n | 7  |     0.3703     |\n",
            "|    source.n    | 9  |     0.2863     |\n",
            "|    treat.v     | 8  |     0.3502     |\n",
            "|    expect.v    | 6  |     0.4854     |\n",
            "|  different.a   | 1  |     1.0000     |\n",
            "|   produce.v    | 7  |     0.4494     |\n",
            "|     play.v     | 34 |     0.1760     |\n",
            "|     win.v      | 4  |     0.5445     |\n",
            "|     hear.v     | 5  |     0.3544     |\n",
            "|   judgment.n   | 7  |     0.2625     |\n",
            "|    party.n     | 5  |     0.3487     |\n",
            "|   shelter.n    | 5  |     0.4565     |\n",
            "|     bank.n     | 9  |     0.4545     |\n",
            "|   express.v    | 7  |     0.4084     |\n",
            "|     mean.v     | 6  |     0.3955     |\n",
            "|   receive.v    | 13 |     0.2347     |\n",
            "|   operate.v    | 7  |     0.3060     |\n",
            "|    paper.n     | 7  |     0.5586     |\n",
            "|    watch.v     | 5  |     0.4567     |\n",
            "|    image.n     | 9  |     0.3080     |\n",
            "|  difference.n  | 5  |     0.4774     |\n",
            "|     talk.v     | 6  |     0.6143     |\n",
            "|    write.v     | 9  |     0.3208     |\n",
            "|     note.v     | 3  |     0.2941     |\n",
            "|    smell.v     | 4  |     0.5045     |\n",
            "|   provide.v    | 7  |     0.6361     |\n",
            "|     wash.v     | 13 |     0.2349     |\n",
            "+----------------+----+----------------+\n",
            "=> Average Paired F-Score:  0.3657\n"
          ]
        }
      ],
      "source": [
        "# YOUR CODE HERE (you can re-use reference code from 3.1)\n",
        "word_to_paraphrases_dict_dev, word_to_k_dict_dev = load_input_file('dev_input.txt')\n",
        "predicted_clusterings_random_dev = cluster_with_no_k(word_to_paraphrases_dict_dev)\n",
        "gold_clusterings_dev = load_output_file('dev_output.txt')\n",
        "f_score = evaluate_clusterings(gold_clusterings_dev, predicted_clusterings_random_dev)\n",
        "f_score"
      ]
    },
    {
      "cell_type": "markdown",
      "metadata": {
        "id": "bJq0-6pnakUR"
      },
      "source": [
        "As before, run the following command to generate the output file for the predicted clusterings for the test dataset."
      ]
    },
    {
      "cell_type": "code",
      "execution_count": 71,
      "metadata": {
        "id": "riIjx9FaNEwy"
      },
      "outputs": [],
      "source": [
        "word_to_paraphrases_dict, _ = load_input_file('/content/test_nok_input.txt')\n",
        "predicted_clusterings_nok = cluster_with_no_k(word_to_paraphrases_dict)\n",
        "write_to_output_file('test_output_nok.txt', predicted_clusterings_nok)"
      ]
    },
    {
      "cell_type": "code",
      "execution_count": 72,
      "metadata": {
        "id": "7eugg3gH842c",
        "colab": {
          "base_uri": "https://localhost:8080/"
        },
        "outputId": "f61c4515-8d8d-430d-90c2-9059e06b7ff7"
      },
      "outputs": [
        {
          "output_type": "stream",
          "name": "stdout",
          "text": [
            "Correct! You earned 25/25 points. You are a star!\n",
            "\n",
            "Your submission has been successfully recorded in the gradebook.\n"
          ]
        }
      ],
      "source": [
        "# PennGrader - DO NOT CHANGE\n",
        "# reload_grader()\n",
        "grader.grade(test_case_id = 'test_q3_clusters_no_k', answer = (predicted_clusterings_nok, 'no k'))"
      ]
    },
    {
      "cell_type": "markdown",
      "metadata": {
        "id": "LYj7zEKwDiF6"
      },
      "source": [
        "**Answer 3.4.2:** Provide a brief description of your method in the report that includes the vectors you used, and any experimental results you have from running your model on the dev set.  [5 points]"
      ]
    },
    {
      "cell_type": "markdown",
      "metadata": {
        "id": "rCcwLkzeyDNf"
      },
      "source": []
    },
    {
      "cell_type": "markdown",
      "metadata": {
        "id": "HUkMZBtZDnyE"
      },
      "source": [
        "**TODO**: [Describe your method]"
      ]
    },
    {
      "cell_type": "markdown",
      "metadata": {
        "id": "2hoP1RcwMqNF"
      },
      "source": [
        "# Submissions"
      ]
    },
    {
      "cell_type": "markdown",
      "metadata": {
        "id": "fu2saUjcHWPZ"
      },
      "source": [
        "\n",
        "## Leaderboards [2 points + 3 bonus]\n",
        "In order to stir up some friendly competition, we would also like you to submit the clustering from your best model to a leaderboard. There will be 2 leaderboards to submit to:\n",
        "- **Clusters with no K**: Copy the output file from your best model **(has to come from `3.4`)** to a file called `test_nok_output_leaderboard.txt` and include it with your submission in `HW5: Leaderboard Without K` following the format of the clusters file. [1 point]\n",
        "\n",
        "- **Clusters with K**: Copy the output file from your best model **(has to come from `3.2 or 3.3`)** to a file called `test_output_leaderboard.txt` and include it with your submission in `HW5: Leaderboard With K` following the format of the clusters file. [1 point]\n",
        "\n",
        "The first 10 places in either of the two leaderboards get 3 extra points."
      ]
    },
    {
      "cell_type": "markdown",
      "metadata": {
        "id": "-DfjnoJXNfCZ"
      },
      "source": [
        "## Free-response Checklist (check if you missed anything!)\n",
        "We will look for the following free-responses in this notebook:\n",
        "- Section 2: Question responses and analysis of correlations\n",
        "- Section 3: For each clustering algorithm, you would need to report the `f_score` from the `dev` set and description of your methods."
      ]
    },
    {
      "cell_type": "markdown",
      "metadata": {
        "id": "qx1oLs9-OFjE"
      },
      "source": [
        "## GradeScope File Submission\n",
        "Here are the deliverables you need to submit to GradeScope:\n",
        "- Write-up:\n",
        "    - Part 2: answers to questions\n",
        "    - Part 3: F-scores for clustering algorithms & discussions about your models\n",
        "- Code:\n",
        "    - This notebook and py file: rename to `homework5.ipynb` and `homework5.py`. You can download the notebook and py file by going to the top-left corner of this webpage, `File -> Download -> Download .ipynb/.py`\n",
        "- Leaderboard Results:\n",
        "  - Leaderboard Without K: `test_nok_output_leaderboard.txt` (Task 3.4 output file)\n",
        "  - Leaderboard With K: `test_output_leaderboard.txt` (Task 3.2 or 3.3 output file)"
      ]
    },
    {
      "cell_type": "code",
      "execution_count": 67,
      "metadata": {
        "id": "ZncpABPjA29w"
      },
      "outputs": [],
      "source": [
        "word_to_paraphrases_dict, _ = load_input_file('/content/test_nok_input.txt')\n",
        "predicted_clusterings_nok = cluster_with_no_k(word_to_paraphrases_dict)\n",
        "write_to_output_file('test_nok_output_leaderboard.txt', predicted_clusterings_nok)"
      ]
    },
    {
      "cell_type": "code",
      "source": [
        "word_to_paraphrases_dict, word_to_k_dict = load_input_file('test_input.txt')\n",
        "predicted_clusterings_dense = cluster_with_dense_representation(word_to_paraphrases_dict, word_to_k_dict)\n",
        "write_to_output_file('test_output_leaderboard.txt', predicted_clusterings_dense)"
      ],
      "metadata": {
        "id": "HwtCKRAhCp0L"
      },
      "execution_count": 68,
      "outputs": []
    },
    {
      "cell_type": "code",
      "source": [],
      "metadata": {
        "id": "0aH5VNOiC4Jb"
      },
      "execution_count": null,
      "outputs": []
    }
  ],
  "metadata": {
    "colab": {
      "provenance": []
    },
    "kernelspec": {
      "display_name": "Python 3",
      "name": "python3"
    },
    "language_info": {
      "name": "python"
    }
  },
  "nbformat": 4,
  "nbformat_minor": 0
}